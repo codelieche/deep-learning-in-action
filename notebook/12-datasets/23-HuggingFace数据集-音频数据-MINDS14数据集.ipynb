{
 "cells": [
  {
   "cell_type": "markdown",
   "id": "b06edf17-ab74-47ae-9ee6-591e4251bf1c",
   "metadata": {},
   "source": [
    "## MINDS14数据集\n",
    "- https://huggingface.co/datasets/PolyAI/minds14"
   ]
  },
  {
   "cell_type": "markdown",
   "id": "8ad13101-ec22-4c02-9fbf-658aeb623f19",
   "metadata": {},
   "source": [
    "### 1. 下载数据集"
   ]
  },
  {
   "cell_type": "code",
   "execution_count": 1,
   "id": "8c1b24e5-0b43-4dd0-87f7-60ff59709939",
   "metadata": {},
   "outputs": [],
   "source": [
    "from datasets import load_dataset, Audio"
   ]
  },
  {
   "cell_type": "code",
   "execution_count": 2,
   "id": "fc4e61c9-0ec9-44e7-9725-d0364bf75f18",
   "metadata": {},
   "outputs": [],
   "source": [
    "# ds = load_dataset(\"PolyAI/minds14\", name=\"en-AU\", split=\"train\", trust_remote_code=True)\n",
    "ds = load_dataset(\"PolyAI/minds14\", name=\"en-AU\", trust_remote_code=True)"
   ]
  },
  {
   "cell_type": "code",
   "execution_count": 3,
   "id": "142911e1-e7a4-491a-a94e-bd9386bb597c",
   "metadata": {},
   "outputs": [
    {
     "data": {
      "text/plain": [
       "DatasetDict({\n",
       "    train: Dataset({\n",
       "        features: ['path', 'audio', 'transcription', 'english_transcription', 'intent_class', 'lang_id'],\n",
       "        num_rows: 654\n",
       "    })\n",
       "})"
      ]
     },
     "execution_count": 3,
     "metadata": {},
     "output_type": "execute_result"
    }
   ],
   "source": [
    "ds"
   ]
  },
  {
   "cell_type": "markdown",
   "id": "8f29e5f3-5dab-4063-a82e-ec124d08ddbc",
   "metadata": {},
   "source": [
    "发现这个数据集，就一个`train`，那其实可以有这行命令加载数据集。\n",
    "\n",
    "```python\n",
    "ds = load_dataset(\"PolyAI/minds14\", name=\"en-AU\", split=\"train\", trust_remote_code=True)\n",
    "```"
   ]
  },
  {
   "cell_type": "code",
   "execution_count": 4,
   "id": "55c3d6b2-2b03-49a7-b69e-4f2f078b94f6",
   "metadata": {},
   "outputs": [],
   "source": [
    "ds_train = ds[\"train\"]"
   ]
  },
  {
   "cell_type": "code",
   "execution_count": 5,
   "id": "11161384-a140-4fd2-83fc-da68ca526cee",
   "metadata": {},
   "outputs": [
    {
     "data": {
      "text/plain": [
       "Dataset({\n",
       "    features: ['path', 'audio', 'transcription', 'english_transcription', 'intent_class', 'lang_id'],\n",
       "    num_rows: 654\n",
       "})"
      ]
     },
     "execution_count": 5,
     "metadata": {},
     "output_type": "execute_result"
    }
   ],
   "source": [
    "ds_train"
   ]
  },
  {
   "cell_type": "markdown",
   "id": "3abf2230-59af-4c93-a598-8b62ba5fc568",
   "metadata": {},
   "source": [
    "> 该数据集包含654个音频文件，`audio`列则包含了原始的音频文件，每个都有对应的转录文字和其英语翻译，以及询问人目的的标签`intent_class`。"
   ]
  },
  {
   "cell_type": "markdown",
   "id": "4c76db97-4a35-4009-a500-a9ab5e0ab6d8",
   "metadata": {},
   "source": [
    "### 2. 查看数据集字段"
   ]
  },
  {
   "cell_type": "code",
   "execution_count": 6,
   "id": "3e372736-d51c-4b68-adcb-97745e6f7cd8",
   "metadata": {},
   "outputs": [
    {
     "data": {
      "text/plain": [
       "{'path': Value(dtype='string', id=None),\n",
       " 'audio': Audio(sampling_rate=8000, mono=True, decode=True, id=None),\n",
       " 'transcription': Value(dtype='string', id=None),\n",
       " 'english_transcription': Value(dtype='string', id=None),\n",
       " 'intent_class': ClassLabel(names=['abroad', 'address', 'app_error', 'atm_limit', 'balance', 'business_loan', 'card_issues', 'cash_deposit', 'direct_debit', 'freeze', 'high_value_payment', 'joint_account', 'latest_transactions', 'pay_bill'], id=None),\n",
       " 'lang_id': ClassLabel(names=['cs-CZ', 'de-DE', 'en-AU', 'en-GB', 'en-US', 'es-ES', 'fr-FR', 'it-IT', 'ko-KR', 'nl-NL', 'pl-PL', 'pt-PT', 'ru-RU', 'zh-CN'], id=None)}"
      ]
     },
     "execution_count": 6,
     "metadata": {},
     "output_type": "execute_result"
    }
   ],
   "source": [
    "ds_train.features"
   ]
  },
  {
   "cell_type": "code",
   "execution_count": 7,
   "id": "2e6f9d6a-de58-47ab-a8d3-fc2447b8ebe1",
   "metadata": {},
   "outputs": [
    {
     "data": {
      "text/plain": [
       "{'path': '/Users/alex.zhou/.cache/huggingface/datasets/downloads/extracted/3add4619499d88fceaa892890675f9167cef4df8c5ba7b59926c152405349aad/en-AU~PAY_BILL/response_4.wav',\n",
       " 'audio': {'path': '/Users/alex.zhou/.cache/huggingface/datasets/downloads/extracted/3add4619499d88fceaa892890675f9167cef4df8c5ba7b59926c152405349aad/en-AU~PAY_BILL/response_4.wav',\n",
       "  'array': array([ 0.        ,  0.00024414, -0.00024414, ..., -0.00024414,\n",
       "          0.00024414,  0.0012207 ]),\n",
       "  'sampling_rate': 8000},\n",
       " 'transcription': 'I would like to pay my electricity bill using my card can you please assist',\n",
       " 'english_transcription': 'I would like to pay my electricity bill using my card can you please assist',\n",
       " 'intent_class': 13,\n",
       " 'lang_id': 2}"
      ]
     },
     "execution_count": 7,
     "metadata": {},
     "output_type": "execute_result"
    }
   ],
   "source": [
    "ds_train[0]"
   ]
  },
  {
   "cell_type": "markdown",
   "id": "550b9ea6-4469-4aa3-af69-1d238f91fe57",
   "metadata": {},
   "source": [
    "字段说明：\n",
    "- `path`: 音频文件的路径\n",
    "- `audio`: 原始的音频文件\n",
    "- `array`: 解码后的音频文件，以一维`NumPy`数组表示\n",
    "- `english_transcription`: 英语的翻译文本\n",
    "- `sampling_rate`: 音频文件的采样率（`ds[0]`该样本是8000赫兹）\n",
    "- `intent_class`: 分类的类别。使用`ds.features[\"intent_class\"].into2str`可转换为文字"
   ]
  },
  {
   "cell_type": "code",
   "execution_count": 8,
   "id": "0d4ad041-40aa-431a-8c4c-d5ee26585d43",
   "metadata": {},
   "outputs": [
    {
     "data": {
      "text/plain": [
       "'pay_bill'"
      ]
     },
     "execution_count": 8,
     "metadata": {},
     "output_type": "execute_result"
    }
   ],
   "source": [
    "ds_train.features[\"intent_class\"].int2str(ds_train[0][\"intent_class\"])"
   ]
  },
  {
   "cell_type": "code",
   "execution_count": 9,
   "id": "30b0e362-0e6e-4762-99dc-f56fa7cbde8a",
   "metadata": {},
   "outputs": [],
   "source": [
    "def int2label(intent_class):\n",
    "    return ds_train.features[\"intent_class\"].int2str(intent_class)"
   ]
  },
  {
   "cell_type": "code",
   "execution_count": 10,
   "id": "c86de977-8f66-4b16-84ae-29f1944a0004",
   "metadata": {},
   "outputs": [
    {
     "data": {
      "text/plain": [
       "'pay_bill'"
      ]
     },
     "execution_count": 10,
     "metadata": {},
     "output_type": "execute_result"
    }
   ],
   "source": [
    "# 测试int2label函数\n",
    "int2label(ds_train[0][\"intent_class\"])"
   ]
  },
  {
   "cell_type": "code",
   "execution_count": 11,
   "id": "7504407c-bc88-4665-9803-0fbeebd49f2e",
   "metadata": {},
   "outputs": [
    {
     "data": {
      "text/plain": [
       "'I would like to pay my electricity bill using my card can you please assist'"
      ]
     },
     "execution_count": 11,
     "metadata": {},
     "output_type": "execute_result"
    }
   ],
   "source": [
    "ds_train[0][\"english_transcription\"]"
   ]
  },
  {
   "cell_type": "markdown",
   "id": "6426243e-6bdd-453b-bfcd-06243b022892",
   "metadata": {},
   "source": [
    "**对音频重采样：** 将样本重采样到1600赫兹。"
   ]
  },
  {
   "cell_type": "code",
   "execution_count": 12,
   "id": "2ca1d686-041e-4a1a-9927-5e18bbdd15bb",
   "metadata": {},
   "outputs": [],
   "source": [
    "ds_train = ds_train.cast_column(\"audio\", Audio(sampling_rate=16_000))"
   ]
  },
  {
   "cell_type": "code",
   "execution_count": 13,
   "id": "178df8a5-4739-40a8-9fb9-8b40957802b8",
   "metadata": {},
   "outputs": [
    {
     "data": {
      "text/plain": [
       "{'path': '/Users/alex.zhou/.cache/huggingface/datasets/downloads/extracted/3add4619499d88fceaa892890675f9167cef4df8c5ba7b59926c152405349aad/en-AU~PAY_BILL/response_4.wav',\n",
       " 'audio': {'path': '/Users/alex.zhou/.cache/huggingface/datasets/downloads/extracted/3add4619499d88fceaa892890675f9167cef4df8c5ba7b59926c152405349aad/en-AU~PAY_BILL/response_4.wav',\n",
       "  'array': array([2.36116466e-05, 1.92324675e-04, 2.19285779e-04, ...,\n",
       "         9.40909609e-04, 1.16613088e-03, 7.20880926e-04]),\n",
       "  'sampling_rate': 16000},\n",
       " 'transcription': 'I would like to pay my electricity bill using my card can you please assist',\n",
       " 'english_transcription': 'I would like to pay my electricity bill using my card can you please assist',\n",
       " 'intent_class': 13,\n",
       " 'lang_id': 2}"
      ]
     },
     "execution_count": 13,
     "metadata": {},
     "output_type": "execute_result"
    }
   ],
   "source": [
    "ds_train[0]"
   ]
  },
  {
   "cell_type": "markdown",
   "id": "f467d6d8-2c23-4223-9d06-1b2ebfa5fdae",
   "metadata": {},
   "source": [
    "### 3. Gradio查看数据集样本"
   ]
  },
  {
   "cell_type": "code",
   "execution_count": 14,
   "id": "9fc7f02a-8a69-440c-8129-272f41adea28",
   "metadata": {},
   "outputs": [],
   "source": [
    "import gradio as gr\n",
    "\n",
    "def get_audio(idx):\n",
    "    # 获取数据\n",
    "    if idx > len(ds_train) - 1:\n",
    "        # 超出数据的长度就随机获取一条\n",
    "        item = ds_train.shuffle()[0]\n",
    "    else:\n",
    "        item = ds_train[idx]\n",
    "\n",
    "    # 获取数据的audio\n",
    "    audio = item[\"audio\"]\n",
    "\n",
    "    # 返回数据\n",
    "    audio_info = (\n",
    "        audio[\"sampling_rate\"],\n",
    "        audio[\"array\"], \n",
    "    )\n",
    "    \n",
    "    # 返回数据：第一个数据是audio的采样率和解码后的音频数组\n",
    "    return audio_info, item[\"english_transcription\"], int2label(item[\"intent_class\"])"
   ]
  },
  {
   "cell_type": "code",
   "execution_count": 15,
   "id": "c3c37fb3-510a-4551-b748-11c4325c6fc2",
   "metadata": {},
   "outputs": [
    {
     "name": "stdout",
     "output_type": "stream",
     "text": [
      "Running on local URL:  http://127.0.0.1:7860\n",
      "\n",
      "To create a public link, set `share=True` in `launch()`.\n"
     ]
    },
    {
     "data": {
      "text/html": [
       "<div><iframe src=\"http://127.0.0.1:7860/\" width=\"100%\" height=\"500\" allow=\"autoplay; camera; microphone; clipboard-read; clipboard-write;\" frameborder=\"0\" allowfullscreen></iframe></div>"
      ],
      "text/plain": [
       "<IPython.core.display.HTML object>"
      ]
     },
     "metadata": {},
     "output_type": "display_data"
    },
    {
     "data": {
      "text/plain": []
     },
     "execution_count": 15,
     "metadata": {},
     "output_type": "execute_result"
    },
    {
     "name": "stderr",
     "output_type": "stream",
     "text": [
      "/Users/alex.zhou/.pyenv/versions/3.11.5/envs/env_pytorch_action/lib/python3.11/site-packages/gradio/processing_utils.py:582: UserWarning: Trying to convert audio automatically from float64 to 16-bit int format.\n",
      "  warnings.warn(warning.format(data.dtype))\n"
     ]
    }
   ],
   "source": [
    "# 显示界面\n",
    "with gr.Blocks() as demo:\n",
    "    index_input = gr.Number(label=\"Index\", value=0, minimum=0, maximum=len(ds_train) - 1)\n",
    "    btn = gr.Button(value=\"显示音频\")\n",
    "    \n",
    "    audio_output = gr.Audio(label=\"Audio\")\n",
    "    audio_text = gr.Label(label=\"Text\")\n",
    "    audio_label = gr.Label(label=\"Label\")\n",
    "\n",
    "    # 添加处理函数\n",
    "    btn.click(get_audio, inputs=index_input, outputs=[audio_output, audio_text, audio_label])\n",
    "\n",
    "# 启动应用\n",
    "demo.launch()"
   ]
  },
  {
   "cell_type": "code",
   "execution_count": 16,
   "id": "e014e30e-1332-4ed7-9bc7-8589dc442eaf",
   "metadata": {},
   "outputs": [],
   "source": [
    "# gr.close_all()"
   ]
  },
  {
   "cell_type": "code",
   "execution_count": null,
   "id": "6135f68d-f03b-48f7-a8e3-0cecf68778da",
   "metadata": {},
   "outputs": [],
   "source": []
  }
 ],
 "metadata": {
  "kernelspec": {
   "display_name": "Python 3 (ipykernel)",
   "language": "python",
   "name": "python3"
  },
  "language_info": {
   "codemirror_mode": {
    "name": "ipython",
    "version": 3
   },
   "file_extension": ".py",
   "mimetype": "text/x-python",
   "name": "python",
   "nbconvert_exporter": "python",
   "pygments_lexer": "ipython3",
   "version": "3.11.5"
  }
 },
 "nbformat": 4,
 "nbformat_minor": 5
}
