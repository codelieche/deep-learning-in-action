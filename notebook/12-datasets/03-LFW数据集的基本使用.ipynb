{
 "cells": [
  {
   "cell_type": "markdown",
   "id": "d6faac0c-c2f9-4aba-8aad-1a32d4a19095",
   "metadata": {},
   "source": [
    "## 3. LFW数据集的基本使用"
   ]
  },
  {
   "cell_type": "markdown",
   "id": "96db3d3f-fde9-436a-8196-9059eb17dd8b",
   "metadata": {},
   "source": [
    "### 3.1 下载数据集\n",
    "自行去以下网站下载：\n",
    "\n",
    "- https://vis-www.cs.umass.edu/lfw/\n",
    "- https://www.kaggle.com/datasets\n",
    "\n",
    "下载后解压到:`../../data/LFW`中。"
   ]
  },
  {
   "cell_type": "code",
   "execution_count": 1,
   "id": "ec6b797a-bb8e-4b9c-91fc-def99003dc5d",
   "metadata": {},
   "outputs": [
    {
     "name": "stdout",
     "output_type": "stream",
     "text": [
      "\u001b[1m\u001b[36mlfw-deepfunneled\u001b[m\u001b[m          matchpairsDevTrain.csv    people.csv\n",
      "lfw_allnames.csv          mismatchpairsDevTest.csv  peopleDevTest.csv\n",
      "lfw_readme.csv            mismatchpairsDevTrain.csv peopleDevTrain.csv\n",
      "matchpairsDevTest.csv     pairs.csv\n"
     ]
    }
   ],
   "source": [
    "!ls ../../data/LFW"
   ]
  },
  {
   "cell_type": "code",
   "execution_count": 2,
   "id": "343d7b35-5614-45d3-bd5e-db9ef08f1d11",
   "metadata": {},
   "outputs": [
    {
     "name": "stdout",
     "output_type": "stream",
     "text": [
      "    5749\n"
     ]
    }
   ],
   "source": [
    "!ls ../../data/LFW/lfw-deepfunneled/lfw-deepfunneled/ | wc -l"
   ]
  },
  {
   "cell_type": "code",
   "execution_count": null,
   "id": "7a75ac31-6718-4f31-8546-8daab1a6382c",
   "metadata": {},
   "outputs": [],
   "source": []
  }
 ],
 "metadata": {
  "kernelspec": {
   "display_name": "Python 3 (ipykernel)",
   "language": "python",
   "name": "python3"
  },
  "language_info": {
   "codemirror_mode": {
    "name": "ipython",
    "version": 3
   },
   "file_extension": ".py",
   "mimetype": "text/x-python",
   "name": "python",
   "nbconvert_exporter": "python",
   "pygments_lexer": "ipython3",
   "version": "3.11.5"
  }
 },
 "nbformat": 4,
 "nbformat_minor": 5
}
