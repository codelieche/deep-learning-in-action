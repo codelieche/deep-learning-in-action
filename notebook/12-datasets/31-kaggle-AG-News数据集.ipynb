{
 "cells": [
  {
   "cell_type": "markdown",
   "id": "eea6eb7a-13ce-4d0d-8a32-140d3a2de2a2",
   "metadata": {},
   "source": [
    "## AG News Classification Dataset\n",
    "- https://www.kaggle.com/datasets/amananandrai/ag-news-classification-dataset"
   ]
  },
  {
   "cell_type": "markdown",
   "id": "0d603d4c-8dd6-46d1-a6f5-491ff2aef2f3",
   "metadata": {},
   "source": [
    "AG新闻分类数据集。是一个100多万篇新闻文章的合集，新闻源来源超过2k个。可在`Kaggle`上获取。   \n",
    "AG数据集，是一个已经标注好的数据集，每一篇新闻文章都有标题和描述，且标注成了四类。    \n",
    "1. 世界\n",
    "2. 体育\n",
    "3. 商业\n",
    "4. 科学/技术\n",
    "\n",
    "   AG数据集每个类别都包含3万个训练样本和1.9k个测试样本，整个数据集共有12w个训练样本和7.6k个测试样本。\n"
   ]
  },
  {
   "cell_type": "markdown",
   "id": "670e4bcf-fbdc-48f1-a28e-89b24ddf01f4",
   "metadata": {},
   "source": [
    "### 1. 下载好数据集\n",
    "\n",
    "在执行下面的练习之前，我们先把`AG News Dataset`数据集下载到`../../data/kaggle/AG-News-Classfication-Dataset`中。"
   ]
  },
  {
   "cell_type": "code",
   "execution_count": 1,
   "id": "70ce3aed-d99e-43fa-903c-1e002ff39e8b",
   "metadata": {},
   "outputs": [],
   "source": [
    "AG_DATASET_PWD = \"../../data/kaggle/AG-News-Classfication-Dataset\""
   ]
  },
  {
   "cell_type": "code",
   "execution_count": 2,
   "id": "9e5eef01-956d-4390-8021-b269f56eb64b",
   "metadata": {},
   "outputs": [
    {
     "name": "stdout",
     "output_type": "stream",
     "text": [
      "test.csv       train.csv      train_data.csv\n"
     ]
    }
   ],
   "source": [
    "! ls {AG_DATASET_PWD}"
   ]
  },
  {
   "cell_type": "code",
   "execution_count": 3,
   "id": "69173fa6-0449-42fd-838e-c50c3dc0d9df",
   "metadata": {},
   "outputs": [
    {
     "name": "stdout",
     "output_type": "stream",
     "text": [
      "  120001\n"
     ]
    }
   ],
   "source": [
    "# 查看训练集行数\n",
    "!cat {AG_DATASET_PWD}/train.csv |wc -l"
   ]
  },
  {
   "cell_type": "code",
   "execution_count": 4,
   "id": "d39ddf99-c7f2-4002-9227-33e91ad10b87",
   "metadata": {},
   "outputs": [
    {
     "name": "stdout",
     "output_type": "stream",
     "text": [
      "    7601\n"
     ]
    }
   ],
   "source": [
    "# 查看测试数据集行数\n",
    "# 查看训练集行数\n",
    "!cat {AG_DATASET_PWD}/test.csv |wc -l"
   ]
  },
  {
   "cell_type": "markdown",
   "id": "fb8e1c78-8e63-4d80-b2ae-b8accc4ebf74",
   "metadata": {},
   "source": [
    "### 2. 使用pandas加载数据"
   ]
  },
  {
   "cell_type": "code",
   "execution_count": 5,
   "id": "8db6c2ef-c289-4124-ba33-d388e51dafe2",
   "metadata": {},
   "outputs": [],
   "source": [
    "import pandas as pd"
   ]
  },
  {
   "cell_type": "markdown",
   "id": "230a3740-bc3d-4919-8ba7-0db1541bdc73",
   "metadata": {},
   "source": [
    "#### 2.1 加载训练数据"
   ]
  },
  {
   "cell_type": "code",
   "execution_count": 6,
   "id": "a948afbe-2645-42e8-9a1f-78f8c1a61d11",
   "metadata": {},
   "outputs": [],
   "source": [
    "data = pd.read_csv(\"{}/train.csv\".format(AG_DATASET_PWD))"
   ]
  },
  {
   "cell_type": "code",
   "execution_count": 7,
   "id": "afd30ec9-27dd-480f-8852-74c8f25257f8",
   "metadata": {},
   "outputs": [
    {
     "data": {
      "text/html": [
       "<div>\n",
       "<style scoped>\n",
       "    .dataframe tbody tr th:only-of-type {\n",
       "        vertical-align: middle;\n",
       "    }\n",
       "\n",
       "    .dataframe tbody tr th {\n",
       "        vertical-align: top;\n",
       "    }\n",
       "\n",
       "    .dataframe thead th {\n",
       "        text-align: right;\n",
       "    }\n",
       "</style>\n",
       "<table border=\"1\" class=\"dataframe\">\n",
       "  <thead>\n",
       "    <tr style=\"text-align: right;\">\n",
       "      <th></th>\n",
       "      <th>Class Index</th>\n",
       "      <th>Title</th>\n",
       "      <th>Description</th>\n",
       "    </tr>\n",
       "  </thead>\n",
       "  <tbody>\n",
       "    <tr>\n",
       "      <th>0</th>\n",
       "      <td>3</td>\n",
       "      <td>Wall St. Bears Claw Back Into the Black (Reuters)</td>\n",
       "      <td>Reuters - Short-sellers, Wall Street's dwindli...</td>\n",
       "    </tr>\n",
       "    <tr>\n",
       "      <th>1</th>\n",
       "      <td>3</td>\n",
       "      <td>Carlyle Looks Toward Commercial Aerospace (Reu...</td>\n",
       "      <td>Reuters - Private investment firm Carlyle Grou...</td>\n",
       "    </tr>\n",
       "    <tr>\n",
       "      <th>2</th>\n",
       "      <td>3</td>\n",
       "      <td>Oil and Economy Cloud Stocks' Outlook (Reuters)</td>\n",
       "      <td>Reuters - Soaring crude prices plus worries\\ab...</td>\n",
       "    </tr>\n",
       "    <tr>\n",
       "      <th>3</th>\n",
       "      <td>3</td>\n",
       "      <td>Iraq Halts Oil Exports from Main Southern Pipe...</td>\n",
       "      <td>Reuters - Authorities have halted oil export\\f...</td>\n",
       "    </tr>\n",
       "    <tr>\n",
       "      <th>4</th>\n",
       "      <td>3</td>\n",
       "      <td>Oil prices soar to all-time record, posing new...</td>\n",
       "      <td>AFP - Tearaway world oil prices, toppling reco...</td>\n",
       "    </tr>\n",
       "    <tr>\n",
       "      <th>...</th>\n",
       "      <td>...</td>\n",
       "      <td>...</td>\n",
       "      <td>...</td>\n",
       "    </tr>\n",
       "    <tr>\n",
       "      <th>119995</th>\n",
       "      <td>1</td>\n",
       "      <td>Pakistan's Musharraf Says Won't Quit as Army C...</td>\n",
       "      <td>KARACHI (Reuters) - Pakistani President Perve...</td>\n",
       "    </tr>\n",
       "    <tr>\n",
       "      <th>119996</th>\n",
       "      <td>2</td>\n",
       "      <td>Renteria signing a top-shelf deal</td>\n",
       "      <td>Red Sox general manager Theo Epstein acknowled...</td>\n",
       "    </tr>\n",
       "    <tr>\n",
       "      <th>119997</th>\n",
       "      <td>2</td>\n",
       "      <td>Saban not going to Dolphins yet</td>\n",
       "      <td>The Miami Dolphins will put their courtship of...</td>\n",
       "    </tr>\n",
       "    <tr>\n",
       "      <th>119998</th>\n",
       "      <td>2</td>\n",
       "      <td>Today's NFL games</td>\n",
       "      <td>PITTSBURGH at NY GIANTS Time: 1:30 p.m. Line: ...</td>\n",
       "    </tr>\n",
       "    <tr>\n",
       "      <th>119999</th>\n",
       "      <td>2</td>\n",
       "      <td>Nets get Carter from Raptors</td>\n",
       "      <td>INDIANAPOLIS -- All-Star Vince Carter was trad...</td>\n",
       "    </tr>\n",
       "  </tbody>\n",
       "</table>\n",
       "<p>120000 rows × 3 columns</p>\n",
       "</div>"
      ],
      "text/plain": [
       "        Class Index                                              Title  \\\n",
       "0                 3  Wall St. Bears Claw Back Into the Black (Reuters)   \n",
       "1                 3  Carlyle Looks Toward Commercial Aerospace (Reu...   \n",
       "2                 3    Oil and Economy Cloud Stocks' Outlook (Reuters)   \n",
       "3                 3  Iraq Halts Oil Exports from Main Southern Pipe...   \n",
       "4                 3  Oil prices soar to all-time record, posing new...   \n",
       "...             ...                                                ...   \n",
       "119995            1  Pakistan's Musharraf Says Won't Quit as Army C...   \n",
       "119996            2                  Renteria signing a top-shelf deal   \n",
       "119997            2                    Saban not going to Dolphins yet   \n",
       "119998            2                                  Today's NFL games   \n",
       "119999            2                       Nets get Carter from Raptors   \n",
       "\n",
       "                                              Description  \n",
       "0       Reuters - Short-sellers, Wall Street's dwindli...  \n",
       "1       Reuters - Private investment firm Carlyle Grou...  \n",
       "2       Reuters - Soaring crude prices plus worries\\ab...  \n",
       "3       Reuters - Authorities have halted oil export\\f...  \n",
       "4       AFP - Tearaway world oil prices, toppling reco...  \n",
       "...                                                   ...  \n",
       "119995   KARACHI (Reuters) - Pakistani President Perve...  \n",
       "119996  Red Sox general manager Theo Epstein acknowled...  \n",
       "119997  The Miami Dolphins will put their courtship of...  \n",
       "119998  PITTSBURGH at NY GIANTS Time: 1:30 p.m. Line: ...  \n",
       "119999  INDIANAPOLIS -- All-Star Vince Carter was trad...  \n",
       "\n",
       "[120000 rows x 3 columns]"
      ]
     },
     "execution_count": 7,
     "metadata": {},
     "output_type": "execute_result"
    }
   ],
   "source": [
    "data"
   ]
  },
  {
   "cell_type": "code",
   "execution_count": 8,
   "id": "d19afbfd-0bf5-4e3b-9352-49bfadd003fe",
   "metadata": {},
   "outputs": [
    {
     "data": {
      "text/plain": [
       "pandas.core.frame.DataFrame"
      ]
     },
     "execution_count": 8,
     "metadata": {},
     "output_type": "execute_result"
    }
   ],
   "source": [
    "type(data)"
   ]
  },
  {
   "cell_type": "code",
   "execution_count": 9,
   "id": "6477ff7b-32da-4baf-9727-5dbc3bc0c49b",
   "metadata": {},
   "outputs": [
    {
     "data": {
      "text/plain": [
       "(120000, 3)"
      ]
     },
     "execution_count": 9,
     "metadata": {},
     "output_type": "execute_result"
    }
   ],
   "source": [
    "# 查看data的形状\n",
    "data.shape"
   ]
  },
  {
   "cell_type": "markdown",
   "id": "813af0f6-ec18-4065-ae81-59fd2130cbb4",
   "metadata": {},
   "source": [
    "#### 2.2 添加标签列"
   ]
  },
  {
   "cell_type": "code",
   "execution_count": 10,
   "id": "0555b3a0-9437-47dd-8ba0-098da239b345",
   "metadata": {},
   "outputs": [
    {
     "data": {
      "text/plain": [
       "Index(['Class Index', 'Title', 'Description'], dtype='object')"
      ]
     },
     "execution_count": 10,
     "metadata": {},
     "output_type": "execute_result"
    }
   ],
   "source": [
    "# 查看数据的列\n",
    "data.columns"
   ]
  },
  {
   "cell_type": "code",
   "execution_count": 11,
   "id": "e83574ca-683a-4f51-a56c-8ed3dee6ac1c",
   "metadata": {},
   "outputs": [
    {
     "data": {
      "text/plain": [
       "Index(['Class_Index', 'Title', 'Description'], dtype='object')"
      ]
     },
     "execution_count": 11,
     "metadata": {},
     "output_type": "execute_result"
    }
   ],
   "source": [
    "# 替换一下空格: 如果是用_下划线，那么列可以使用.column_name来获取数据，如果是-那只能用data[\"column-name\"]\n",
    "data.columns = data.columns.str.replace(\" \", \"_\")\n",
    "data.columns"
   ]
  },
  {
   "cell_type": "code",
   "execution_count": 12,
   "id": "190aa4d9-ff67-479a-b96e-7061c0602267",
   "metadata": {},
   "outputs": [
    {
     "data": {
      "text/plain": [
       "Index(['class_index', 'title', 'description'], dtype='object')"
      ]
     },
     "execution_count": 12,
     "metadata": {},
     "output_type": "execute_result"
    }
   ],
   "source": [
    "# 把列的名字全部改为小写\n",
    "data.columns = data.columns.str.lower()\n",
    "data.columns"
   ]
  },
  {
   "cell_type": "code",
   "execution_count": 13,
   "id": "7dfb77f8-1eaf-401c-b5a8-90e5873ef202",
   "metadata": {},
   "outputs": [],
   "source": [
    "# 添加一个标签列\n",
    "data['class_name'] = data[\"class_index\"].map({\n",
    "    1: \"世界\",\n",
    "    2: \"运动\",\n",
    "    3: \"商业\",\n",
    "    4: \"科学-技术\"\n",
    "})"
   ]
  },
  {
   "cell_type": "code",
   "execution_count": 14,
   "id": "ec5f0d6e-c00b-4f95-b92f-9f2b55b922a2",
   "metadata": {},
   "outputs": [
    {
     "data": {
      "text/html": [
       "<div>\n",
       "<style scoped>\n",
       "    .dataframe tbody tr th:only-of-type {\n",
       "        vertical-align: middle;\n",
       "    }\n",
       "\n",
       "    .dataframe tbody tr th {\n",
       "        vertical-align: top;\n",
       "    }\n",
       "\n",
       "    .dataframe thead th {\n",
       "        text-align: right;\n",
       "    }\n",
       "</style>\n",
       "<table border=\"1\" class=\"dataframe\">\n",
       "  <thead>\n",
       "    <tr style=\"text-align: right;\">\n",
       "      <th></th>\n",
       "      <th>class_index</th>\n",
       "      <th>title</th>\n",
       "      <th>description</th>\n",
       "      <th>class_name</th>\n",
       "    </tr>\n",
       "  </thead>\n",
       "  <tbody>\n",
       "    <tr>\n",
       "      <th>0</th>\n",
       "      <td>3</td>\n",
       "      <td>Wall St. Bears Claw Back Into the Black (Reuters)</td>\n",
       "      <td>Reuters - Short-sellers, Wall Street's dwindli...</td>\n",
       "      <td>商业</td>\n",
       "    </tr>\n",
       "    <tr>\n",
       "      <th>1</th>\n",
       "      <td>3</td>\n",
       "      <td>Carlyle Looks Toward Commercial Aerospace (Reu...</td>\n",
       "      <td>Reuters - Private investment firm Carlyle Grou...</td>\n",
       "      <td>商业</td>\n",
       "    </tr>\n",
       "    <tr>\n",
       "      <th>2</th>\n",
       "      <td>3</td>\n",
       "      <td>Oil and Economy Cloud Stocks' Outlook (Reuters)</td>\n",
       "      <td>Reuters - Soaring crude prices plus worries\\ab...</td>\n",
       "      <td>商业</td>\n",
       "    </tr>\n",
       "    <tr>\n",
       "      <th>3</th>\n",
       "      <td>3</td>\n",
       "      <td>Iraq Halts Oil Exports from Main Southern Pipe...</td>\n",
       "      <td>Reuters - Authorities have halted oil export\\f...</td>\n",
       "      <td>商业</td>\n",
       "    </tr>\n",
       "    <tr>\n",
       "      <th>4</th>\n",
       "      <td>3</td>\n",
       "      <td>Oil prices soar to all-time record, posing new...</td>\n",
       "      <td>AFP - Tearaway world oil prices, toppling reco...</td>\n",
       "      <td>商业</td>\n",
       "    </tr>\n",
       "  </tbody>\n",
       "</table>\n",
       "</div>"
      ],
      "text/plain": [
       "   class_index                                              title  \\\n",
       "0            3  Wall St. Bears Claw Back Into the Black (Reuters)   \n",
       "1            3  Carlyle Looks Toward Commercial Aerospace (Reu...   \n",
       "2            3    Oil and Economy Cloud Stocks' Outlook (Reuters)   \n",
       "3            3  Iraq Halts Oil Exports from Main Southern Pipe...   \n",
       "4            3  Oil prices soar to all-time record, posing new...   \n",
       "\n",
       "                                         description class_name  \n",
       "0  Reuters - Short-sellers, Wall Street's dwindli...         商业  \n",
       "1  Reuters - Private investment firm Carlyle Grou...         商业  \n",
       "2  Reuters - Soaring crude prices plus worries\\ab...         商业  \n",
       "3  Reuters - Authorities have halted oil export\\f...         商业  \n",
       "4  AFP - Tearaway world oil prices, toppling reco...         商业  "
      ]
     },
     "execution_count": 14,
     "metadata": {},
     "output_type": "execute_result"
    }
   ],
   "source": [
    "# 再次查看数据的头部\n",
    "data.head()"
   ]
  },
  {
   "cell_type": "code",
   "execution_count": 15,
   "id": "4da0511d-641a-4406-bf61-c3a5f127ef32",
   "metadata": {},
   "outputs": [
    {
     "data": {
      "text/plain": [
       "Index(['class_index', 'title', 'description', 'class_name'], dtype='object')"
      ]
     },
     "execution_count": 15,
     "metadata": {},
     "output_type": "execute_result"
    }
   ],
   "source": [
    "# 查看数据的列\n",
    "data.columns"
   ]
  },
  {
   "cell_type": "code",
   "execution_count": 16,
   "id": "b6ceb9da-68b0-4ba6-868f-08842b59b963",
   "metadata": {},
   "outputs": [
    {
     "data": {
      "text/plain": [
       "class_index\n",
       "3    30000\n",
       "4    30000\n",
       "2    30000\n",
       "1    30000\n",
       "Name: count, dtype: int64"
      ]
     },
     "execution_count": 16,
     "metadata": {},
     "output_type": "execute_result"
    }
   ],
   "source": [
    "# 查看每个类中的样本数\n",
    "data[\"class_index\"].value_counts()"
   ]
  },
  {
   "cell_type": "code",
   "execution_count": 17,
   "id": "25a3fc20-8704-4e31-985c-d7aa30d0c29d",
   "metadata": {},
   "outputs": [
    {
     "data": {
      "text/plain": [
       "class_name\n",
       "商业       30000\n",
       "科学-技术    30000\n",
       "运动       30000\n",
       "世界       30000\n",
       "Name: count, dtype: int64"
      ]
     },
     "execution_count": 17,
     "metadata": {},
     "output_type": "execute_result"
    }
   ],
   "source": [
    "# 直接用.columan_name\n",
    "data.class_name.value_counts()"
   ]
  },
  {
   "cell_type": "markdown",
   "id": "cc4298b7-51f5-46df-b3cf-0f083a2a3ce8",
   "metadata": {},
   "source": [
    "### 3. 探索数据集"
   ]
  },
  {
   "cell_type": "markdown",
   "id": "97e526be-48e9-45d3-bd4d-59c7e76f17de",
   "metadata": {},
   "source": [
    "#### 3.1 查看前面N条数据"
   ]
  },
  {
   "cell_type": "code",
   "execution_count": 18,
   "id": "0a6819bf-3233-4999-bee8-c5bd0bfb5c0d",
   "metadata": {},
   "outputs": [
    {
     "data": {
      "text/html": [
       "<div>\n",
       "<style scoped>\n",
       "    .dataframe tbody tr th:only-of-type {\n",
       "        vertical-align: middle;\n",
       "    }\n",
       "\n",
       "    .dataframe tbody tr th {\n",
       "        vertical-align: top;\n",
       "    }\n",
       "\n",
       "    .dataframe thead th {\n",
       "        text-align: right;\n",
       "    }\n",
       "</style>\n",
       "<table border=\"1\" class=\"dataframe\">\n",
       "  <thead>\n",
       "    <tr style=\"text-align: right;\">\n",
       "      <th></th>\n",
       "      <th>class_index</th>\n",
       "      <th>title</th>\n",
       "      <th>description</th>\n",
       "      <th>class_name</th>\n",
       "    </tr>\n",
       "  </thead>\n",
       "  <tbody>\n",
       "    <tr>\n",
       "      <th>0</th>\n",
       "      <td>3</td>\n",
       "      <td>Wall St. Bears Claw Back Into the Black (Reuters)</td>\n",
       "      <td>Reuters - Short-sellers, Wall Street's dwindli...</td>\n",
       "      <td>商业</td>\n",
       "    </tr>\n",
       "    <tr>\n",
       "      <th>1</th>\n",
       "      <td>3</td>\n",
       "      <td>Carlyle Looks Toward Commercial Aerospace (Reu...</td>\n",
       "      <td>Reuters - Private investment firm Carlyle Grou...</td>\n",
       "      <td>商业</td>\n",
       "    </tr>\n",
       "    <tr>\n",
       "      <th>2</th>\n",
       "      <td>3</td>\n",
       "      <td>Oil and Economy Cloud Stocks' Outlook (Reuters)</td>\n",
       "      <td>Reuters - Soaring crude prices plus worries\\ab...</td>\n",
       "      <td>商业</td>\n",
       "    </tr>\n",
       "    <tr>\n",
       "      <th>3</th>\n",
       "      <td>3</td>\n",
       "      <td>Iraq Halts Oil Exports from Main Southern Pipe...</td>\n",
       "      <td>Reuters - Authorities have halted oil export\\f...</td>\n",
       "      <td>商业</td>\n",
       "    </tr>\n",
       "    <tr>\n",
       "      <th>4</th>\n",
       "      <td>3</td>\n",
       "      <td>Oil prices soar to all-time record, posing new...</td>\n",
       "      <td>AFP - Tearaway world oil prices, toppling reco...</td>\n",
       "      <td>商业</td>\n",
       "    </tr>\n",
       "  </tbody>\n",
       "</table>\n",
       "</div>"
      ],
      "text/plain": [
       "   class_index                                              title  \\\n",
       "0            3  Wall St. Bears Claw Back Into the Black (Reuters)   \n",
       "1            3  Carlyle Looks Toward Commercial Aerospace (Reu...   \n",
       "2            3    Oil and Economy Cloud Stocks' Outlook (Reuters)   \n",
       "3            3  Iraq Halts Oil Exports from Main Southern Pipe...   \n",
       "4            3  Oil prices soar to all-time record, posing new...   \n",
       "\n",
       "                                         description class_name  \n",
       "0  Reuters - Short-sellers, Wall Street's dwindli...         商业  \n",
       "1  Reuters - Private investment firm Carlyle Grou...         商业  \n",
       "2  Reuters - Soaring crude prices plus worries\\ab...         商业  \n",
       "3  Reuters - Authorities have halted oil export\\f...         商业  \n",
       "4  AFP - Tearaway world oil prices, toppling reco...         商业  "
      ]
     },
     "execution_count": 18,
     "metadata": {},
     "output_type": "execute_result"
    }
   ],
   "source": [
    "data.head()"
   ]
  },
  {
   "cell_type": "code",
   "execution_count": 19,
   "id": "e41b9616-04cf-4382-abff-902979513aa7",
   "metadata": {},
   "outputs": [
    {
     "data": {
      "text/plain": [
       "'Wall St. Bears Claw Back Into the Black (Reuters)'"
      ]
     },
     "execution_count": 19,
     "metadata": {},
     "output_type": "execute_result"
    }
   ],
   "source": [
    "# .loc是一个基于标签的索引器，允许你基于行的标签和列的标签来访问数据。\n",
    "data.loc[0, \"title\"]"
   ]
  },
  {
   "cell_type": "code",
   "execution_count": 20,
   "id": "047d509c-db46-4db2-9de7-b51d4c794be8",
   "metadata": {},
   "outputs": [
    {
     "data": {
      "text/html": [
       "<div>\n",
       "<style scoped>\n",
       "    .dataframe tbody tr th:only-of-type {\n",
       "        vertical-align: middle;\n",
       "    }\n",
       "\n",
       "    .dataframe tbody tr th {\n",
       "        vertical-align: top;\n",
       "    }\n",
       "\n",
       "    .dataframe thead th {\n",
       "        text-align: right;\n",
       "    }\n",
       "</style>\n",
       "<table border=\"1\" class=\"dataframe\">\n",
       "  <thead>\n",
       "    <tr style=\"text-align: right;\">\n",
       "      <th></th>\n",
       "      <th>class_name</th>\n",
       "      <th>title</th>\n",
       "    </tr>\n",
       "  </thead>\n",
       "  <tbody>\n",
       "    <tr>\n",
       "      <th>0</th>\n",
       "      <td>商业</td>\n",
       "      <td>Wall St. Bears Claw Back Into the Black (Reuters)</td>\n",
       "    </tr>\n",
       "    <tr>\n",
       "      <th>2</th>\n",
       "      <td>商业</td>\n",
       "      <td>Oil and Economy Cloud Stocks' Outlook (Reuters)</td>\n",
       "    </tr>\n",
       "  </tbody>\n",
       "</table>\n",
       "</div>"
      ],
      "text/plain": [
       "  class_name                                              title\n",
       "0         商业  Wall St. Bears Claw Back Into the Black (Reuters)\n",
       "2         商业    Oil and Economy Cloud Stocks' Outlook (Reuters)"
      ]
     },
     "execution_count": 20,
     "metadata": {},
     "output_type": "execute_result"
    }
   ],
   "source": [
    "# loc里面行和列也可以使用数组\n",
    "data.loc[[0,2], [\"class_name\", \"title\"]]"
   ]
  },
  {
   "cell_type": "code",
   "execution_count": 21,
   "id": "5e558b35-5f37-40fb-8e83-3cd7081e53e7",
   "metadata": {},
   "outputs": [
    {
     "name": "stdout",
     "output_type": "stream",
     "text": [
      "文章：   8(商业):  Safety Net (Forbes.com)\n",
      "文章：   9(商业):  Wall St. Bears Claw Back Into the Black\n",
      "文章：  10(商业):  Oil and Economy Cloud Stocks' Outlook\n",
      "文章：  11(商业):  No Need for OPEC to Pump More-Iran Gov\n",
      "文章：  12(商业):  Non-OPEC Nations Should Up Output-Purnomo\n"
     ]
    }
   ],
   "source": [
    "# 打印出前面5条的标题\n",
    "for i in range(8,13):\n",
    "    print(\"文章：{:4}({}):  {}\".format(i, data.loc[i, \"class_name\"], data.loc[i, \"title\"]))"
   ]
  },
  {
   "cell_type": "code",
   "execution_count": 22,
   "id": "4554531a-9ba7-45d1-86fa-3db2baa2363a",
   "metadata": {},
   "outputs": [
    {
     "data": {
      "text/plain": [
       "\"Reuters - Short-sellers, Wall Street's dwindling\\\\band of ultra-cynics, are seeing green again.\""
      ]
     },
     "execution_count": 22,
     "metadata": {},
     "output_type": "execute_result"
    }
   ],
   "source": [
    "# 查看第一行的文章描述\n",
    "data.loc[0, \"description\"]"
   ]
  },
  {
   "cell_type": "markdown",
   "id": "d74c620a-ab24-412c-a2f9-2c8e59744787",
   "metadata": {},
   "source": [
    "#### 3.2 替换数据中的特殊字符"
   ]
  },
  {
   "cell_type": "code",
   "execution_count": 23,
   "id": "6b6db0ce-ec76-4b94-b267-81ea597b7488",
   "metadata": {},
   "outputs": [],
   "source": [
    "data[[\"title\", \"description\"]] = data[[\"title\", \"description\"]].map(lambda x: x.replace(\"\\\\\", \" \"))"
   ]
  },
  {
   "cell_type": "code",
   "execution_count": 24,
   "id": "b1d7b272-2c46-49e9-98b2-951b6aa9b66f",
   "metadata": {},
   "outputs": [
    {
     "data": {
      "text/plain": [
       "\"Reuters - Short-sellers, Wall Street's dwindling band of ultra-cynics, are seeing green again.\""
      ]
     },
     "execution_count": 24,
     "metadata": {},
     "output_type": "execute_result"
    }
   ],
   "source": [
    "# 再次查看第一行的描述\n",
    "data.loc[0, \"description\"]"
   ]
  },
  {
   "cell_type": "code",
   "execution_count": 25,
   "id": "6b13b5cc-8826-4f75-b762-e36cdb5b9aa5",
   "metadata": {},
   "outputs": [
    {
     "data": {
      "text/plain": [
       "'SPACE.com - A piloted rocket ship race to claim a  #36;10 million Ansari X Prize purse for privately financed flight to the edge of space is heating up.'"
      ]
     },
     "execution_count": 25,
     "metadata": {},
     "output_type": "execute_result"
    }
   ],
   "source": [
    "# 再次查看第127行的描述\n",
    "data.loc[126, \"description\"]\n",
    "# data[\"description\"][data[\"description\"].map(lambda x: x.find(\"#36\") > 0)]"
   ]
  },
  {
   "cell_type": "code",
   "execution_count": 26,
   "id": "bb2fb328-00fb-404b-b80c-07dbcf7c6514",
   "metadata": {},
   "outputs": [],
   "source": [
    "# 继续替换\n",
    "columns_fields = [\"title\", \"description\"]\n",
    "data[columns_fields] = data[columns_fields].map(lambda x: x.replace(\"  \", \" \"))\n",
    "data[columns_fields] = data[columns_fields].map(lambda x: x.replace(\"#36\", \"$\"))\n",
    "data[columns_fields] = data[columns_fields].map(lambda x: x.strip())"
   ]
  },
  {
   "cell_type": "code",
   "execution_count": 27,
   "id": "20f64540-36f9-47ca-9aff-6a680c1a3dad",
   "metadata": {},
   "outputs": [
    {
     "data": {
      "text/plain": [
       "'SPACE.com - A piloted rocket ship race to claim a $;10 million Ansari X Prize purse for privately financed flight to the edge of space is heating up.'"
      ]
     },
     "execution_count": 27,
     "metadata": {},
     "output_type": "execute_result"
    }
   ],
   "source": [
    "data.loc[126, \"description\"]"
   ]
  },
  {
   "cell_type": "code",
   "execution_count": 28,
   "id": "4f5e3808-d603-4484-bdea-f1062330ca78",
   "metadata": {},
   "outputs": [],
   "source": [
    "# 保存到新的文件\n",
    "data.to_csv(\"{}/train_data.csv\".format(AG_DATASET_PWD), index=False)"
   ]
  },
  {
   "cell_type": "code",
   "execution_count": 29,
   "id": "55737340-ccff-4b0d-b5cc-427efddbba1d",
   "metadata": {},
   "outputs": [
    {
     "name": "stdout",
     "output_type": "stream",
     "text": [
      "test.csv       train.csv      train_data.csv\n"
     ]
    }
   ],
   "source": [
    "!ls {AG_DATASET_PWD}"
   ]
  },
  {
   "cell_type": "markdown",
   "id": "a86a61aa-0bce-420e-8a41-7ddc7cfd72d6",
   "metadata": {},
   "source": [
    "现在我们就可以用`train_data.csv`去练习NLP的小任务了。"
   ]
  },
  {
   "cell_type": "code",
   "execution_count": null,
   "id": "c86bf4bb-1037-4f19-9e6d-c22fcb27097d",
   "metadata": {},
   "outputs": [],
   "source": []
  }
 ],
 "metadata": {
  "kernelspec": {
   "display_name": "Python 3 (ipykernel)",
   "language": "python",
   "name": "python3"
  },
  "language_info": {
   "codemirror_mode": {
    "name": "ipython",
    "version": 3
   },
   "file_extension": ".py",
   "mimetype": "text/x-python",
   "name": "python",
   "nbconvert_exporter": "python",
   "pygments_lexer": "ipython3",
   "version": "3.11.5"
  }
 },
 "nbformat": 4,
 "nbformat_minor": 5
}
