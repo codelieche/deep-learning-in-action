{
 "cells": [
  {
   "cell_type": "markdown",
   "id": "483f136a-bb3c-4130-a1e5-e1ba34beecc2",
   "metadata": {},
   "source": [
    "## 02. torchvison.datasets基本使用"
   ]
  },
  {
   "cell_type": "code",
   "execution_count": 1,
   "id": "df3493f4-ac88-47f0-acb2-12a45191f7ea",
   "metadata": {},
   "outputs": [],
   "source": [
    "import os\n",
    "import torch\n",
    "from torchvision import datasets"
   ]
  },
  {
   "cell_type": "code",
   "execution_count": 2,
   "id": "d965c5ba-5aad-4245-aec8-46274e86c553",
   "metadata": {},
   "outputs": [],
   "source": [
    "data_dir = \"../../data/\""
   ]
  },
  {
   "cell_type": "code",
   "execution_count": 3,
   "id": "9711dd91-cced-4f9e-af99-2d193e022f4e",
   "metadata": {},
   "outputs": [
    {
     "name": "stdout",
     "output_type": "stream",
     "text": [
      "\u001b[1m\u001b[36mLFW\u001b[m\u001b[m         \u001b[1m\u001b[36mcards\u001b[m\u001b[m       \u001b[1m\u001b[36mtorchvision\u001b[m\u001b[m\n"
     ]
    }
   ],
   "source": [
    "! ls ../../data"
   ]
  },
  {
   "cell_type": "markdown",
   "id": "7825cd20-d2f3-45c1-b156-f9e1224d6ed7",
   "metadata": {},
   "source": [
    "### 2.1 下载MNIST"
   ]
  },
  {
   "cell_type": "code",
   "execution_count": 4,
   "id": "a364fffe-d5e0-4d7f-9662-cd0c01305fa4",
   "metadata": {},
   "outputs": [],
   "source": [
    "# 先设置好保存的目录\n",
    "torchvision_image_path = os.path.join(data_dir, \"torchvision/\")"
   ]
  },
  {
   "cell_type": "code",
   "execution_count": 5,
   "id": "a91a51a2-cb1d-441b-9680-274ec79b4006",
   "metadata": {},
   "outputs": [
    {
     "data": {
      "text/plain": [
       "Dataset MNIST\n",
       "    Number of datapoints: 60000\n",
       "    Root location: ../../data/torchvision/\n",
       "    Split: Train"
      ]
     },
     "execution_count": 5,
     "metadata": {},
     "output_type": "execute_result"
    }
   ],
   "source": [
    "# 开始下载\n",
    "datasets.MNIST(torchvision_image_path, train=True, download=True)"
   ]
  },
  {
   "cell_type": "code",
   "execution_count": 6,
   "id": "0765a594-67b3-429d-a348-7394085a6c81",
   "metadata": {},
   "outputs": [
    {
     "data": {
      "text/plain": [
       "Dataset MNIST\n",
       "    Number of datapoints: 10000\n",
       "    Root location: ../../data/torchvision/\n",
       "    Split: Test"
      ]
     },
     "execution_count": 6,
     "metadata": {},
     "output_type": "execute_result"
    }
   ],
   "source": [
    "# 获取测试数据\n",
    "datasets.MNIST(torchvision_image_path, train=False, download=True)"
   ]
  },
  {
   "cell_type": "code",
   "execution_count": 7,
   "id": "e89d1fc2-271e-4593-987b-6752c3d997cf",
   "metadata": {},
   "outputs": [
    {
     "name": "stdout",
     "output_type": "stream",
     "text": [
      "t10k-images-idx3-ubyte     train-images-idx3-ubyte\n",
      "t10k-images-idx3-ubyte.gz  train-images-idx3-ubyte.gz\n",
      "t10k-labels-idx1-ubyte     train-labels-idx1-ubyte\n",
      "t10k-labels-idx1-ubyte.gz  train-labels-idx1-ubyte.gz\n"
     ]
    }
   ],
   "source": [
    "! ls ../../data/torchvision/MNIST/raw"
   ]
  },
  {
   "cell_type": "markdown",
   "id": "d7e7994a-c6ee-4217-b9be-8ac3f1fa54d1",
   "metadata": {},
   "source": [
    "### 2.2 下载CIFAR10"
   ]
  },
  {
   "cell_type": "code",
   "execution_count": 8,
   "id": "d37fb675-aa05-450c-9107-437213017891",
   "metadata": {},
   "outputs": [
    {
     "data": {
      "text/plain": [
       "'../../data/torchvision/'"
      ]
     },
     "execution_count": 8,
     "metadata": {},
     "output_type": "execute_result"
    }
   ],
   "source": [
    "torchvision_image_path "
   ]
  },
  {
   "cell_type": "code",
   "execution_count": 9,
   "id": "83da83bd-cacb-4b1d-95d6-8f3f82ad0b4a",
   "metadata": {},
   "outputs": [
    {
     "name": "stdout",
     "output_type": "stream",
     "text": [
      "Files already downloaded and verified\n"
     ]
    },
    {
     "data": {
      "text/plain": [
       "Dataset CIFAR10\n",
       "    Number of datapoints: 50000\n",
       "    Root location: ../../data/torchvision/\n",
       "    Split: Train"
      ]
     },
     "execution_count": 9,
     "metadata": {},
     "output_type": "execute_result"
    }
   ],
   "source": [
    "# 开始下载\n",
    "datasets.CIFAR10(torchvision_image_path, train=True, download=True)"
   ]
  },
  {
   "cell_type": "code",
   "execution_count": 10,
   "id": "548dd24c-e422-4f7e-a5c9-cec69d5b6e27",
   "metadata": {},
   "outputs": [
    {
     "name": "stdout",
     "output_type": "stream",
     "text": [
      "Files already downloaded and verified\n"
     ]
    },
    {
     "data": {
      "text/plain": [
       "Dataset CIFAR10\n",
       "    Number of datapoints: 10000\n",
       "    Root location: ../../data/torchvision/\n",
       "    Split: Test"
      ]
     },
     "execution_count": 10,
     "metadata": {},
     "output_type": "execute_result"
    }
   ],
   "source": [
    "# 获取测试数据\n",
    "datasets.CIFAR10(torchvision_image_path, train=False, download=True)"
   ]
  },
  {
   "cell_type": "code",
   "execution_count": 11,
   "id": "cb0fc642-c23f-4d69-aa4d-08561c124755",
   "metadata": {},
   "outputs": [
    {
     "name": "stdout",
     "output_type": "stream",
     "text": [
      "\u001b[1m\u001b[36mMNIST\u001b[m\u001b[m               \u001b[1m\u001b[36mcifar-10-batches-py\u001b[m\u001b[m\n"
     ]
    }
   ],
   "source": [
    "!ls ../../data/torchvision"
   ]
  },
  {
   "cell_type": "code",
   "execution_count": 12,
   "id": "09e1c9d3-095d-4268-8124-7ef54516811d",
   "metadata": {},
   "outputs": [
    {
     "name": "stdout",
     "output_type": "stream",
     "text": [
      "batches.meta data_batch_2 data_batch_4 readme.html\n",
      "data_batch_1 data_batch_3 data_batch_5 test_batch\n"
     ]
    }
   ],
   "source": [
    "!ls ../../data/torchvision/cifar-10-batches-py"
   ]
  },
  {
   "cell_type": "code",
   "execution_count": null,
   "id": "1e5b4cf7-84a1-479e-bdee-5b3e28ee46d0",
   "metadata": {},
   "outputs": [],
   "source": []
  }
 ],
 "metadata": {
  "kernelspec": {
   "display_name": "Python 3 (ipykernel)",
   "language": "python",
   "name": "python3"
  },
  "language_info": {
   "codemirror_mode": {
    "name": "ipython",
    "version": 3
   },
   "file_extension": ".py",
   "mimetype": "text/x-python",
   "name": "python",
   "nbconvert_exporter": "python",
   "pygments_lexer": "ipython3",
   "version": "3.11.5"
  }
 },
 "nbformat": 4,
 "nbformat_minor": 5
}
