{
 "cells": [
  {
   "cell_type": "markdown",
   "id": "e567a3bc-2af1-495d-b5e0-5cd85154b426",
   "metadata": {},
   "source": [
    "## 2. 把datasets中的图片保存为文件"
   ]
  },
  {
   "cell_type": "code",
   "execution_count": 1,
   "id": "292adf58-5c25-44a8-8137-e9ce5fe92161",
   "metadata": {},
   "outputs": [
    {
     "name": "stdout",
     "output_type": "stream",
     "text": [
      "\n"
     ]
    }
   ],
   "source": [
    "%matplotlib inline\n",
    "import torch\n",
    "import numpy as np\n",
    "import matplotlib.pyplot as plt\n",
    "\n",
    "torch.set_printoptions(edgeitems=2)\n",
    "torch.manual_seed(123456)\n",
    "\n",
    "print(\"\")"
   ]
  },
  {
   "cell_type": "markdown",
   "id": "b48f0512-7544-40d2-98b6-682bb23c5900",
   "metadata": {},
   "source": [
    "### 2.1 MNIST图像"
   ]
  },
  {
   "cell_type": "markdown",
   "id": "c0b77909-e8be-4215-8b05-a6056ef709b2",
   "metadata": {},
   "source": [
    "#### 1. 加载MNIST数据"
   ]
  },
  {
   "cell_type": "code",
   "execution_count": 2,
   "id": "b7ebb49e-b47e-495f-bce1-b5fa38650acd",
   "metadata": {},
   "outputs": [],
   "source": [
    "from torchvision import datasets\n",
    "\n",
    "data_root_dir = \"../../data/torchvision/\""
   ]
  },
  {
   "cell_type": "code",
   "execution_count": 3,
   "id": "6696ab7f-8162-4035-b1fa-7e69603d7b30",
   "metadata": {},
   "outputs": [
    {
     "name": "stdout",
     "output_type": "stream",
     "text": [
      "\u001b[1m\u001b[36mMNIST\u001b[m\u001b[m\n"
     ]
    }
   ],
   "source": [
    "# 看下目录中是否已经下载过MNIST图片\n",
    "! ls ../../data/torchvision | grep MNIST"
   ]
  },
  {
   "cell_type": "code",
   "execution_count": 4,
   "id": "a9c2838a-ee24-4c8d-a851-5072e6bb0bad",
   "metadata": {},
   "outputs": [],
   "source": [
    "mnist_dataset = datasets.MNIST(data_root_dir, train=True, download=True)"
   ]
  },
  {
   "cell_type": "code",
   "execution_count": 5,
   "id": "5123eb2b-de5d-437d-955d-619a9df442db",
   "metadata": {},
   "outputs": [
    {
     "data": {
      "text/plain": [
       "Dataset MNIST\n",
       "    Number of datapoints: 60000\n",
       "    Root location: ../../data/torchvision/\n",
       "    Split: Train"
      ]
     },
     "execution_count": 5,
     "metadata": {},
     "output_type": "execute_result"
    }
   ],
   "source": [
    "mnist_dataset"
   ]
  },
  {
   "cell_type": "code",
   "execution_count": 6,
   "id": "3951f84a-fe52-47b5-8379-b3c2185309df",
   "metadata": {},
   "outputs": [
    {
     "data": {
      "text/plain": [
       "(<PIL.Image.Image image mode=L size=28x28>, 5)"
      ]
     },
     "execution_count": 6,
     "metadata": {},
     "output_type": "execute_result"
    }
   ],
   "source": [
    "mnist_dataset[0]"
   ]
  },
  {
   "cell_type": "code",
   "execution_count": 7,
   "id": "07bec64f-2c7f-4719-bf6f-4c274736c4f9",
   "metadata": {},
   "outputs": [
    {
     "data": {
      "text/plain": [
       "(PIL.Image.Image, int)"
      ]
     },
     "execution_count": 7,
     "metadata": {},
     "output_type": "execute_result"
    }
   ],
   "source": [
    "type(mnist_dataset[0][0]), type(mnist_dataset[0][1])"
   ]
  },
  {
   "cell_type": "markdown",
   "id": "08c1c10c-d3c6-4703-aa4a-1f1ca0a42f0f",
   "metadata": {},
   "source": [
    "#### 2. 保存前面100张图片到文件系统中\n",
    "在git仓库中的.gitignore中的，会忽略掉这些文件。"
   ]
  },
  {
   "cell_type": "code",
   "execution_count": 8,
   "id": "a52573d2-8d64-4def-83ca-0ba36948f3a4",
   "metadata": {},
   "outputs": [],
   "source": [
    "import os\n",
    "\n",
    "# 写一个脚本把MINST中的图片数据保存到文件中\n",
    "TARGET_IMAGE_DIR = \"../../data/images/MNIST\""
   ]
  },
  {
   "cell_type": "code",
   "execution_count": 9,
   "id": "2b0d413f-ea89-4da7-810b-8e7319d71223",
   "metadata": {},
   "outputs": [
    {
     "name": "stdout",
     "output_type": "stream",
     "text": [
      "../../data/images/MNIST/5\n"
     ]
    }
   ],
   "source": [
    "image_dir_path = os.path.join(TARGET_IMAGE_DIR, \"5\")\n",
    "print(image_dir_path)"
   ]
  },
  {
   "cell_type": "code",
   "execution_count": 10,
   "id": "234cdbaa-ff4d-4d70-96b5-4a9d96b9f27f",
   "metadata": {},
   "outputs": [
    {
     "data": {
      "text/plain": [
       "True"
      ]
     },
     "execution_count": 10,
     "metadata": {},
     "output_type": "execute_result"
    }
   ],
   "source": [
    "# 判断目录是否存在\n",
    "os.path.exists(image_dir_path)"
   ]
  },
  {
   "cell_type": "code",
   "execution_count": 11,
   "id": "d4aa4dad-4af9-4a5d-8ca6-deb85f647381",
   "metadata": {},
   "outputs": [],
   "source": [
    "os.makedirs(image_dir_path, exist_ok=True)"
   ]
  },
  {
   "cell_type": "code",
   "execution_count": 12,
   "id": "fcc79c66-8942-422f-86aa-ec94c2fa621d",
   "metadata": {},
   "outputs": [
    {
     "name": "stdout",
     "output_type": "stream",
     "text": [
      "\u001b[1m\u001b[36m0\u001b[m\u001b[m \u001b[1m\u001b[36m1\u001b[m\u001b[m \u001b[1m\u001b[36m2\u001b[m\u001b[m \u001b[1m\u001b[36m3\u001b[m\u001b[m \u001b[1m\u001b[36m4\u001b[m\u001b[m \u001b[1m\u001b[36m5\u001b[m\u001b[m \u001b[1m\u001b[36m6\u001b[m\u001b[m \u001b[1m\u001b[36m7\u001b[m\u001b[m \u001b[1m\u001b[36m8\u001b[m\u001b[m \u001b[1m\u001b[36m9\u001b[m\u001b[m\n"
     ]
    }
   ],
   "source": [
    "!ls ../../data/images/MNIST"
   ]
  },
  {
   "cell_type": "code",
   "execution_count": 13,
   "id": "1ae8139f-53ec-4460-9504-c4199a82eaf4",
   "metadata": {},
   "outputs": [],
   "source": [
    "## 创建一个保存文件的函数\n",
    "def save_mnist_images(mnist, count, root_dir=\"../../data/images/MNIST\"):\n",
    "    # 遍历count次\n",
    "    for index in range(count):\n",
    "        img, label = mnist[index]\n",
    "        # print(img, label)\n",
    "        # 确保图片目录存在\n",
    "        image_dir = os.path.join(root_dir, str(label))\n",
    "        # 当目录不存在，创建\n",
    "        if not os.path.exists(image_dir):\n",
    "            # 创建图片目录\n",
    "            os.makedirs(image_dir, exist_ok=True)\n",
    "            \n",
    "        # 图片路径\n",
    "        image_name = \"{}_{}.png\".format(label, index)\n",
    "        image_path = os.path.join(image_dir, image_name)\n",
    "        \n",
    "        # 判断文件是否存在，不存在才保存\n",
    "        if not os.path.exists(image_path):\n",
    "            img.save(image_path)\n",
    "    print(\"Done\")"
   ]
  },
  {
   "cell_type": "code",
   "execution_count": 14,
   "id": "227a54a4-b018-4197-bed8-5a9a348e5126",
   "metadata": {},
   "outputs": [
    {
     "name": "stdout",
     "output_type": "stream",
     "text": [
      "Done\n"
     ]
    }
   ],
   "source": [
    "# 保存100张图片文件\n",
    "save_mnist_images(mnist_dataset, 100)"
   ]
  },
  {
   "cell_type": "markdown",
   "id": "a25e8cf9-e835-4c93-93fd-aa299fc81268",
   "metadata": {},
   "source": [
    "### 2.2 CIFAR10图片\n",
    "> 参考上面MNIST图片，我们直接写一个函数，保存图片"
   ]
  },
  {
   "cell_type": "code",
   "execution_count": 15,
   "id": "5dc058b0-6821-4aff-ba06-0eed485a6809",
   "metadata": {},
   "outputs": [],
   "source": [
    "CIFAR10_IMAGE_DIR = \"../../data/torchvision/\""
   ]
  },
  {
   "cell_type": "code",
   "execution_count": 16,
   "id": "7853d3ad-263e-4a05-aaa2-7c72a87939f4",
   "metadata": {},
   "outputs": [],
   "source": [
    "# CIFAR10图片表情对应的英文名\n",
    "cifar_label_names = [\n",
    "    'airplane','automobile','bird','cat','deer',\n",
    "    'dog','frog','horse','ship','truck'\n",
    "]"
   ]
  },
  {
   "cell_type": "code",
   "execution_count": 17,
   "id": "4a57c49a-0a95-4ef2-9843-b690ced22154",
   "metadata": {},
   "outputs": [],
   "source": [
    "def save_cifar_images(dataset, count, root_dir=\"../../data/images/CIFAR10\", labels=None):\n",
    "    \n",
    "    # 遍历count次\n",
    "    for index in range(count):\n",
    "        img, label = dataset[index]\n",
    "        # 把label替换为英文名\n",
    "        if labels:\n",
    "            label = labels[label]\n",
    "            \n",
    "        # print(img, label)\n",
    "        # 确保图片目录存在\n",
    "        image_dir = os.path.join(root_dir, str(label))\n",
    "        # 当目录不存在，创建\n",
    "        if not os.path.exists(image_dir):\n",
    "            # 创建图片目录\n",
    "            os.makedirs(image_dir, exist_ok=True)\n",
    "            \n",
    "        # 图片路径\n",
    "        image_name = \"{}_{}.png\".format(label, index)\n",
    "        image_path = os.path.join(image_dir, image_name)\n",
    "        \n",
    "        # 判断文件是否存在，不存在才保存\n",
    "        if not os.path.exists(image_path):\n",
    "            img.save(image_path)\n",
    "    print(\"Done\")"
   ]
  },
  {
   "cell_type": "code",
   "execution_count": 18,
   "id": "d28d74fe-5bd8-4f6f-90f8-1fe08ad1bc0d",
   "metadata": {},
   "outputs": [
    {
     "name": "stdout",
     "output_type": "stream",
     "text": [
      "Files already downloaded and verified\n"
     ]
    },
    {
     "data": {
      "text/plain": [
       "Dataset CIFAR10\n",
       "    Number of datapoints: 50000\n",
       "    Root location: ../../data/torchvision/\n",
       "    Split: Train"
      ]
     },
     "execution_count": 18,
     "metadata": {},
     "output_type": "execute_result"
    }
   ],
   "source": [
    "# 加载CIFAR10训练数据\n",
    "cifar10_dataset = datasets.CIFAR10(CIFAR10_IMAGE_DIR, train=True, download=True)\n",
    "cifar10_dataset"
   ]
  },
  {
   "cell_type": "code",
   "execution_count": 19,
   "id": "ba338e4b-76dd-4264-b03d-36e706f67505",
   "metadata": {},
   "outputs": [
    {
     "name": "stdout",
     "output_type": "stream",
     "text": [
      "Done\n"
     ]
    }
   ],
   "source": [
    "# 保存100张图片\n",
    "save_cifar_images(cifar10_dataset, 100, labels=cifar_label_names)"
   ]
  },
  {
   "cell_type": "code",
   "execution_count": null,
   "id": "076e52ff-4854-4bf2-8f77-8bc0eb9f54d4",
   "metadata": {},
   "outputs": [],
   "source": []
  }
 ],
 "metadata": {
  "kernelspec": {
   "display_name": "Python 3 (ipykernel)",
   "language": "python",
   "name": "python3"
  },
  "language_info": {
   "codemirror_mode": {
    "name": "ipython",
    "version": 3
   },
   "file_extension": ".py",
   "mimetype": "text/x-python",
   "name": "python",
   "nbconvert_exporter": "python",
   "pygments_lexer": "ipython3",
   "version": "3.11.5"
  }
 },
 "nbformat": 4,
 "nbformat_minor": 5
}
