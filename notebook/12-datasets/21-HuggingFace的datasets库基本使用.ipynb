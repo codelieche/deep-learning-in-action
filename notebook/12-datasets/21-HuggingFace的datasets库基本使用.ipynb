{
 "cells": [
  {
   "cell_type": "markdown",
   "id": "e67e869c-882d-4521-b6f7-425a8ff02400",
   "metadata": {},
   "source": [
    "## Hugging Face Datasets\n",
    "\n",
    "> Hugging Face生态系统中的三个核心库：`Transformers`、`Datasets`和`Tokenizers`。\n",
    "\n",
    "\n",
    "安装相关库：\n",
    "```bash\n",
    "pip install transformers datasets\n",
    "```"
   ]
  },
  {
   "cell_type": "code",
   "execution_count": 1,
   "id": "e9e7eeb8-7af3-40dd-a738-7e9c1b753cc0",
   "metadata": {},
   "outputs": [],
   "source": [
    "%matplotlib inline\n",
    "import matplotlib.pyplot as plt"
   ]
  },
  {
   "cell_type": "markdown",
   "id": "cd65b4c2-5948-463c-9859-e494c4c61460",
   "metadata": {},
   "source": [
    "### 1. 列出数据集"
   ]
  },
  {
   "cell_type": "code",
   "execution_count": 2,
   "id": "5b836bde-a8f9-41ac-84c1-af39864a004b",
   "metadata": {},
   "outputs": [],
   "source": [
    "import datasets\n",
    "import huggingface_hub"
   ]
  },
  {
   "cell_type": "code",
   "execution_count": 3,
   "id": "59562f39-bc4e-4287-9dec-bae9386fd554",
   "metadata": {},
   "outputs": [],
   "source": [
    "# 列出Hugging Face中的数据集\n",
    "# datasets.list_datasets()\n",
    "\n",
    "all_datasets = huggingface_hub.list_datasets(search=\"wikipedia\")"
   ]
  },
  {
   "cell_type": "code",
   "execution_count": 4,
   "id": "be661a96-5fab-492d-87c0-bd20e92d81f3",
   "metadata": {},
   "outputs": [
    {
     "data": {
      "text/plain": [
       "<generator object HfApi.list_datasets at 0x12f71c1f0>"
      ]
     },
     "execution_count": 4,
     "metadata": {},
     "output_type": "execute_result"
    }
   ],
   "source": [
    "all_datasets"
   ]
  },
  {
   "cell_type": "code",
   "execution_count": 5,
   "id": "24689646-27bd-4626-a2ca-3cfba29cae5c",
   "metadata": {},
   "outputs": [
    {
     "name": "stdout",
     "output_type": "stream",
     "text": [
      "总共搜索到862个数据集\n"
     ]
    }
   ],
   "source": [
    "count = 0\n",
    "for item in all_datasets:\n",
    "    count += 1\n",
    "print(\"总共搜索到{}个数据集\".format(count))"
   ]
  },
  {
   "cell_type": "code",
   "execution_count": 6,
   "id": "711333dc-09ca-4171-8c45-a1defa793c85",
   "metadata": {},
   "outputs": [
    {
     "data": {
      "text/plain": [
       "huggingface_hub.hf_api.DatasetInfo"
      ]
     },
     "execution_count": 6,
     "metadata": {},
     "output_type": "execute_result"
    }
   ],
   "source": [
    "type(item)"
   ]
  },
  {
   "cell_type": "markdown",
   "id": "1c9cb157-6f95-42d2-b783-5cffed5e8aeb",
   "metadata": {},
   "source": [
    "### 2. 加载HuggingFace中的数据：load_dataset\n",
    "- 我们使用这个数据作为load测试：https://huggingface.co/datasets/dair-ai/emotion"
   ]
  },
  {
   "cell_type": "code",
   "execution_count": 7,
   "id": "c3a6fd88-dce2-4313-af3f-b384ab44fb41",
   "metadata": {},
   "outputs": [],
   "source": [
    "dataset = datasets.load_dataset(\"dair-ai/emotion\", trust_remote_code=False)"
   ]
  },
  {
   "cell_type": "markdown",
   "id": "2ca27f5d-b8ca-4671-84a0-5f797beec4f0",
   "metadata": {},
   "source": [
    "不传递`trust_remote_code`会出一个警告，警告是因为：   \n",
    "> 这个数据集包含了一些自定义代码，这些代码需要在加载数据集时执行以确保数据集的正确加载。"
   ]
  },
  {
   "cell_type": "code",
   "execution_count": 8,
   "id": "9c454828-5a13-4401-bc75-0cb0b84b8266",
   "metadata": {},
   "outputs": [
    {
     "data": {
      "text/plain": [
       "DatasetDict({\n",
       "    train: Dataset({\n",
       "        features: ['text', 'label'],\n",
       "        num_rows: 16000\n",
       "    })\n",
       "    validation: Dataset({\n",
       "        features: ['text', 'label'],\n",
       "        num_rows: 2000\n",
       "    })\n",
       "    test: Dataset({\n",
       "        features: ['text', 'label'],\n",
       "        num_rows: 2000\n",
       "    })\n",
       "})"
      ]
     },
     "execution_count": 8,
     "metadata": {},
     "output_type": "execute_result"
    }
   ],
   "source": [
    "# 查看这个数据对象：类似Python字典，每个键对应不同的数据集分割。\n",
    "dataset"
   ]
  },
  {
   "cell_type": "code",
   "execution_count": 9,
   "id": "df3f23c5-71fa-46b0-93f9-04ed273abda6",
   "metadata": {},
   "outputs": [
    {
     "data": {
      "text/plain": [
       "dict_keys(['train', 'validation', 'test'])"
      ]
     },
     "execution_count": 9,
     "metadata": {},
     "output_type": "execute_result"
    }
   ],
   "source": [
    "# 查看其有的key\n",
    "dataset.keys()"
   ]
  },
  {
   "cell_type": "code",
   "execution_count": 10,
   "id": "df126828-592d-427f-8726-2112f802ba65",
   "metadata": {},
   "outputs": [
    {
     "data": {
      "text/plain": [
       "Dataset({\n",
       "    features: ['text', 'label'],\n",
       "    num_rows: 16000\n",
       "})"
      ]
     },
     "execution_count": 10,
     "metadata": {},
     "output_type": "execute_result"
    }
   ],
   "source": [
    "# 我们访问一下训练的数据集\n",
    "ds_train = dataset[\"train\"]\n",
    "ds_train"
   ]
  },
  {
   "cell_type": "code",
   "execution_count": 11,
   "id": "99abbf17-faba-4a46-9957-539a5eb548c1",
   "metadata": {},
   "outputs": [
    {
     "data": {
      "text/plain": [
       "datasets.arrow_dataset.Dataset"
      ]
     },
     "execution_count": 11,
     "metadata": {},
     "output_type": "execute_result"
    }
   ],
   "source": [
    "type(ds_train)"
   ]
  },
  {
   "cell_type": "code",
   "execution_count": 12,
   "id": "82ca811f-dd6a-4404-beef-d4cda41814e5",
   "metadata": {},
   "outputs": [
    {
     "data": {
      "text/plain": [
       "16000"
      ]
     },
     "execution_count": 12,
     "metadata": {},
     "output_type": "execute_result"
    }
   ],
   "source": [
    "# 查看训练数据的长度\n",
    "len(ds_train)"
   ]
  },
  {
   "cell_type": "code",
   "execution_count": 13,
   "id": "43123287-d51d-4c04-a2fb-f7c633980f59",
   "metadata": {},
   "outputs": [
    {
     "data": {
      "text/plain": [
       "{'text': ['i feel like this was such a rude comment and im glad that t',\n",
       "  'i know a lot but i feel so stupid because i can not portray it'],\n",
       " 'label': [3, 0]}"
      ]
     },
     "execution_count": 13,
     "metadata": {},
     "output_type": "execute_result"
    }
   ],
   "source": [
    "# 访问其中的数据\n",
    "ds_train[-2:]"
   ]
  },
  {
   "cell_type": "code",
   "execution_count": 14,
   "id": "decd46cb-b3cb-4724-b1f5-a4d5f5d554fe",
   "metadata": {},
   "outputs": [
    {
     "name": "stdout",
     "output_type": "stream",
     "text": [
      "<class 'dict'>\n",
      "{'text': 'i know a lot but i feel so stupid because i can not portray it', 'label': 0}\n"
     ]
    }
   ],
   "source": [
    "print(type(ds_train[-1]))\n",
    "print(ds_train[-1])"
   ]
  },
  {
   "cell_type": "code",
   "execution_count": 15,
   "id": "19cf816d-3fe9-4096-a62e-4cf5140dcade",
   "metadata": {},
   "outputs": [
    {
     "data": {
      "text/plain": [
       "{'text': Value(dtype='string', id=None),\n",
       " 'label': ClassLabel(names=['sadness', 'joy', 'love', 'anger', 'fear', 'surprise'], id=None)}"
      ]
     },
     "execution_count": 15,
     "metadata": {},
     "output_type": "execute_result"
    }
   ],
   "source": [
    "# 查看Dataset对象的features属性，可以看到labels数字对应的是什么label\n",
    "ds_train.features"
   ]
  },
  {
   "cell_type": "markdown",
   "id": "46781688-7d02-4aa3-a305-a941c3a74b77",
   "metadata": {},
   "source": [
    "### 3. Datasets数据转为pandas.DataFrame"
   ]
  },
  {
   "cell_type": "code",
   "execution_count": 16,
   "id": "1d8f1082-3d34-4330-81ac-ffcd13b70668",
   "metadata": {},
   "outputs": [],
   "source": [
    "# set_format的type类型有：[None, 'numpy', 'torch', 'tensorflow', 'pandas', 'arrow', 'jax']\n",
    "dataset.set_format(\"pandas\")"
   ]
  },
  {
   "cell_type": "code",
   "execution_count": 17,
   "id": "1b5927e3-85ed-49ef-8cc4-9e41de77428b",
   "metadata": {},
   "outputs": [],
   "source": [
    "# 获取train的DataFrame\n",
    "df_train = dataset[\"train\"][:]"
   ]
  },
  {
   "cell_type": "code",
   "execution_count": 18,
   "id": "0dc6c858-6f60-4c67-aef1-4da7d0824ea6",
   "metadata": {},
   "outputs": [
    {
     "data": {
      "text/plain": [
       "pandas.core.frame.DataFrame"
      ]
     },
     "execution_count": 18,
     "metadata": {},
     "output_type": "execute_result"
    }
   ],
   "source": [
    "type(df_train)"
   ]
  },
  {
   "cell_type": "code",
   "execution_count": 19,
   "id": "b3e5f629-dca6-4460-8a52-ce700e283d4d",
   "metadata": {},
   "outputs": [
    {
     "data": {
      "text/html": [
       "<div>\n",
       "<style scoped>\n",
       "    .dataframe tbody tr th:only-of-type {\n",
       "        vertical-align: middle;\n",
       "    }\n",
       "\n",
       "    .dataframe tbody tr th {\n",
       "        vertical-align: top;\n",
       "    }\n",
       "\n",
       "    .dataframe thead th {\n",
       "        text-align: right;\n",
       "    }\n",
       "</style>\n",
       "<table border=\"1\" class=\"dataframe\">\n",
       "  <thead>\n",
       "    <tr style=\"text-align: right;\">\n",
       "      <th></th>\n",
       "      <th>text</th>\n",
       "      <th>label</th>\n",
       "    </tr>\n",
       "  </thead>\n",
       "  <tbody>\n",
       "    <tr>\n",
       "      <th>0</th>\n",
       "      <td>i didnt feel humiliated</td>\n",
       "      <td>0</td>\n",
       "    </tr>\n",
       "    <tr>\n",
       "      <th>1</th>\n",
       "      <td>i can go from feeling so hopeless to so damned...</td>\n",
       "      <td>0</td>\n",
       "    </tr>\n",
       "    <tr>\n",
       "      <th>2</th>\n",
       "      <td>im grabbing a minute to post i feel greedy wrong</td>\n",
       "      <td>3</td>\n",
       "    </tr>\n",
       "    <tr>\n",
       "      <th>3</th>\n",
       "      <td>i am ever feeling nostalgic about the fireplac...</td>\n",
       "      <td>2</td>\n",
       "    </tr>\n",
       "    <tr>\n",
       "      <th>4</th>\n",
       "      <td>i am feeling grouchy</td>\n",
       "      <td>3</td>\n",
       "    </tr>\n",
       "  </tbody>\n",
       "</table>\n",
       "</div>"
      ],
      "text/plain": [
       "                                                text  label\n",
       "0                            i didnt feel humiliated      0\n",
       "1  i can go from feeling so hopeless to so damned...      0\n",
       "2   im grabbing a minute to post i feel greedy wrong      3\n",
       "3  i am ever feeling nostalgic about the fireplac...      2\n",
       "4                               i am feeling grouchy      3"
      ]
     },
     "execution_count": 19,
     "metadata": {},
     "output_type": "execute_result"
    }
   ],
   "source": [
    "# 查看前面5条\n",
    "df_train[:5]"
   ]
  },
  {
   "cell_type": "code",
   "execution_count": 20,
   "id": "a0563771-ce69-41ce-9bef-b4c883b74e38",
   "metadata": {},
   "outputs": [
    {
     "data": {
      "text/plain": [
       "['sadness', 'joy', 'love', 'anger', 'anger', 'love', 'joy']"
      ]
     },
     "execution_count": 20,
     "metadata": {},
     "output_type": "execute_result"
    }
   ],
   "source": [
    "dataset[\"train\"].features[\"label\"].int2str([0, 1, 2, 3, 3, 2, 1])"
   ]
  },
  {
   "cell_type": "code",
   "execution_count": 21,
   "id": "d010c283-f1e6-41e9-a534-96b00e98b880",
   "metadata": {},
   "outputs": [
    {
     "data": {
      "text/plain": [
       "0        0\n",
       "1        0\n",
       "2        3\n",
       "3        2\n",
       "4        3\n",
       "        ..\n",
       "15995    0\n",
       "15996    0\n",
       "15997    1\n",
       "15998    3\n",
       "15999    0\n",
       "Name: label, Length: 16000, dtype: int64"
      ]
     },
     "execution_count": 21,
     "metadata": {},
     "output_type": "execute_result"
    }
   ],
   "source": [
    "df_train[\"label\"]"
   ]
  },
  {
   "cell_type": "code",
   "execution_count": 22,
   "id": "9353bff0-d003-43ed-aacd-8c4edb5f0672",
   "metadata": {},
   "outputs": [
    {
     "data": {
      "text/plain": [
       "['sadness', 'sadness', 'anger', 'love', 'anger']"
      ]
     },
     "execution_count": 22,
     "metadata": {},
     "output_type": "execute_result"
    }
   ],
   "source": [
    "dataset[\"train\"].features[\"label\"].int2str(df_train[\"label\"][:5])"
   ]
  },
  {
   "cell_type": "code",
   "execution_count": 23,
   "id": "9d152e07-fdf6-4236-9aa5-d82239d92c86",
   "metadata": {},
   "outputs": [],
   "source": [
    "# 给df_train增加一列\n",
    "df_train[\"Label Name\"] = dataset[\"train\"].features[\"label\"].int2str(df_train[\"label\"])"
   ]
  },
  {
   "cell_type": "code",
   "execution_count": 24,
   "id": "6daa753c-a1f3-4f51-9b54-0b86243b1629",
   "metadata": {},
   "outputs": [
    {
     "data": {
      "text/html": [
       "<div>\n",
       "<style scoped>\n",
       "    .dataframe tbody tr th:only-of-type {\n",
       "        vertical-align: middle;\n",
       "    }\n",
       "\n",
       "    .dataframe tbody tr th {\n",
       "        vertical-align: top;\n",
       "    }\n",
       "\n",
       "    .dataframe thead th {\n",
       "        text-align: right;\n",
       "    }\n",
       "</style>\n",
       "<table border=\"1\" class=\"dataframe\">\n",
       "  <thead>\n",
       "    <tr style=\"text-align: right;\">\n",
       "      <th></th>\n",
       "      <th>text</th>\n",
       "      <th>label</th>\n",
       "      <th>Label Name</th>\n",
       "    </tr>\n",
       "  </thead>\n",
       "  <tbody>\n",
       "    <tr>\n",
       "      <th>0</th>\n",
       "      <td>i didnt feel humiliated</td>\n",
       "      <td>0</td>\n",
       "      <td>sadness</td>\n",
       "    </tr>\n",
       "    <tr>\n",
       "      <th>1</th>\n",
       "      <td>i can go from feeling so hopeless to so damned...</td>\n",
       "      <td>0</td>\n",
       "      <td>sadness</td>\n",
       "    </tr>\n",
       "    <tr>\n",
       "      <th>2</th>\n",
       "      <td>im grabbing a minute to post i feel greedy wrong</td>\n",
       "      <td>3</td>\n",
       "      <td>anger</td>\n",
       "    </tr>\n",
       "    <tr>\n",
       "      <th>3</th>\n",
       "      <td>i am ever feeling nostalgic about the fireplac...</td>\n",
       "      <td>2</td>\n",
       "      <td>love</td>\n",
       "    </tr>\n",
       "    <tr>\n",
       "      <th>4</th>\n",
       "      <td>i am feeling grouchy</td>\n",
       "      <td>3</td>\n",
       "      <td>anger</td>\n",
       "    </tr>\n",
       "  </tbody>\n",
       "</table>\n",
       "</div>"
      ],
      "text/plain": [
       "                                                text  label Label Name\n",
       "0                            i didnt feel humiliated      0    sadness\n",
       "1  i can go from feeling so hopeless to so damned...      0    sadness\n",
       "2   im grabbing a minute to post i feel greedy wrong      3      anger\n",
       "3  i am ever feeling nostalgic about the fireplac...      2       love\n",
       "4                               i am feeling grouchy      3      anger"
      ]
     },
     "execution_count": 24,
     "metadata": {},
     "output_type": "execute_result"
    }
   ],
   "source": [
    "df_train.head()"
   ]
  },
  {
   "cell_type": "markdown",
   "id": "f4a3c463-d383-4fa9-9f07-695cb6acfe4c",
   "metadata": {},
   "source": [
    "### 4. 查看数据分布"
   ]
  },
  {
   "cell_type": "code",
   "execution_count": 25,
   "id": "a2aa1a32-06d4-4fe8-a039-08463fa43d79",
   "metadata": {},
   "outputs": [
    {
     "data": {
      "text/plain": [
       "Label Name\n",
       "joy         5362\n",
       "sadness     4666\n",
       "anger       2159\n",
       "fear        1937\n",
       "love        1304\n",
       "surprise     572\n",
       "Name: count, dtype: int64"
      ]
     },
     "execution_count": 25,
     "metadata": {},
     "output_type": "execute_result"
    }
   ],
   "source": [
    "# 根据标签值进行统计个数\n",
    "df_train[\"Label Name\"].value_counts(ascending=False)"
   ]
  },
  {
   "cell_type": "code",
   "execution_count": 26,
   "id": "8d41183f-4849-48eb-abd6-e1dd6801f8ca",
   "metadata": {},
   "outputs": [
    {
     "data": {
      "image/png": "[encoded data removed]",
      "text/plain": [
       "<Figure size 640x480 with 1 Axes>"
      ]
     },
     "metadata": {},
     "output_type": "display_data"
    }
   ],
   "source": [
    "# 画图展示\n",
    "df_train[\"Label Name\"].value_counts(ascending=False).plot.barh()\n",
    "plt.title(\"Count By Label\")\n",
    "plt.show()"
   ]
  },
  {
   "cell_type": "code",
   "execution_count": 27,
   "id": "274cdd48-4600-45d7-8465-9ba17ab39d10",
   "metadata": {},
   "outputs": [],
   "source": [
    "count_by_label = df_train[\"Label Name\"].value_counts(ascending=False)"
   ]
  },
  {
   "cell_type": "code",
   "execution_count": 28,
   "id": "b77d5de5-b15e-45a9-b1aa-a01099d15aba",
   "metadata": {},
   "outputs": [
    {
     "data": {
      "text/plain": [
       "Label Name\n",
       "joy         5362\n",
       "sadness     4666\n",
       "anger       2159\n",
       "fear        1937\n",
       "love        1304\n",
       "surprise     572\n",
       "Name: count, dtype: int64"
      ]
     },
     "execution_count": 28,
     "metadata": {},
     "output_type": "execute_result"
    }
   ],
   "source": [
    "count_by_label"
   ]
  },
  {
   "cell_type": "code",
   "execution_count": 29,
   "id": "a84480b9-13de-44b0-8422-9a3bf1277468",
   "metadata": {},
   "outputs": [
    {
     "data": {
      "text/plain": [
       "pandas.core.series.Series"
      ]
     },
     "execution_count": 29,
     "metadata": {},
     "output_type": "execute_result"
    }
   ],
   "source": [
    "# 查看类型\n",
    "type(count_by_label)"
   ]
  },
  {
   "cell_type": "code",
   "execution_count": 30,
   "id": "de440001-af53-4300-ad39-de693775d037",
   "metadata": {},
   "outputs": [
    {
     "data": {
      "image/png": "[encoded data removed]",
      "text/plain": [
       "<Figure size 600x500 with 1 Axes>"
      ]
     },
     "metadata": {},
     "output_type": "display_data"
    }
   ],
   "source": [
    "# 画图展示\n",
    "fig = plt.figure(figsize=(6, 5))\n",
    "plt.barh(count_by_label.index, count_by_label.values, color=\"#666\")\n",
    "plt.xlabel(\"Count\")\n",
    "plt.ylabel(\"Label\")\n",
    "plt.show()"
   ]
  },
  {
   "cell_type": "markdown",
   "id": "9a8421f5-59ce-4375-a041-8d8edb330730",
   "metadata": {},
   "source": [
    "### 5. 展示数据中文本的长度"
   ]
  },
  {
   "cell_type": "code",
   "execution_count": 31,
   "id": "f68d8c40-140a-415e-8a9d-92ec5dec5576",
   "metadata": {},
   "outputs": [
    {
     "data": {
      "text/html": [
       "<div>\n",
       "<style scoped>\n",
       "    .dataframe tbody tr th:only-of-type {\n",
       "        vertical-align: middle;\n",
       "    }\n",
       "\n",
       "    .dataframe tbody tr th {\n",
       "        vertical-align: top;\n",
       "    }\n",
       "\n",
       "    .dataframe thead th {\n",
       "        text-align: right;\n",
       "    }\n",
       "</style>\n",
       "<table border=\"1\" class=\"dataframe\">\n",
       "  <thead>\n",
       "    <tr style=\"text-align: right;\">\n",
       "      <th></th>\n",
       "      <th>text</th>\n",
       "      <th>label</th>\n",
       "      <th>Label Name</th>\n",
       "    </tr>\n",
       "  </thead>\n",
       "  <tbody>\n",
       "    <tr>\n",
       "      <th>0</th>\n",
       "      <td>i didnt feel humiliated</td>\n",
       "      <td>0</td>\n",
       "      <td>sadness</td>\n",
       "    </tr>\n",
       "    <tr>\n",
       "      <th>1</th>\n",
       "      <td>i can go from feeling so hopeless to so damned...</td>\n",
       "      <td>0</td>\n",
       "      <td>sadness</td>\n",
       "    </tr>\n",
       "    <tr>\n",
       "      <th>2</th>\n",
       "      <td>im grabbing a minute to post i feel greedy wrong</td>\n",
       "      <td>3</td>\n",
       "      <td>anger</td>\n",
       "    </tr>\n",
       "    <tr>\n",
       "      <th>3</th>\n",
       "      <td>i am ever feeling nostalgic about the fireplac...</td>\n",
       "      <td>2</td>\n",
       "      <td>love</td>\n",
       "    </tr>\n",
       "    <tr>\n",
       "      <th>4</th>\n",
       "      <td>i am feeling grouchy</td>\n",
       "      <td>3</td>\n",
       "      <td>anger</td>\n",
       "    </tr>\n",
       "  </tbody>\n",
       "</table>\n",
       "</div>"
      ],
      "text/plain": [
       "                                                text  label Label Name\n",
       "0                            i didnt feel humiliated      0    sadness\n",
       "1  i can go from feeling so hopeless to so damned...      0    sadness\n",
       "2   im grabbing a minute to post i feel greedy wrong      3      anger\n",
       "3  i am ever feeling nostalgic about the fireplac...      2       love\n",
       "4                               i am feeling grouchy      3      anger"
      ]
     },
     "execution_count": 31,
     "metadata": {},
     "output_type": "execute_result"
    }
   ],
   "source": [
    "df_train.head()"
   ]
  },
  {
   "cell_type": "code",
   "execution_count": 32,
   "id": "aaab1e16-3988-4377-b748-b68b2cd78e60",
   "metadata": {},
   "outputs": [],
   "source": [
    "# 添加一列为长度\n",
    "df_train[\"Words Count\"] = df_train[\"text\"].str.split().apply(len)"
   ]
  },
  {
   "cell_type": "code",
   "execution_count": 33,
   "id": "b3daa9c3-97d7-404f-a282-f9b5528a33e6",
   "metadata": {},
   "outputs": [
    {
     "data": {
      "text/html": [
       "<div>\n",
       "<style scoped>\n",
       "    .dataframe tbody tr th:only-of-type {\n",
       "        vertical-align: middle;\n",
       "    }\n",
       "\n",
       "    .dataframe tbody tr th {\n",
       "        vertical-align: top;\n",
       "    }\n",
       "\n",
       "    .dataframe thead th {\n",
       "        text-align: right;\n",
       "    }\n",
       "</style>\n",
       "<table border=\"1\" class=\"dataframe\">\n",
       "  <thead>\n",
       "    <tr style=\"text-align: right;\">\n",
       "      <th></th>\n",
       "      <th>text</th>\n",
       "      <th>label</th>\n",
       "      <th>Label Name</th>\n",
       "      <th>Words Count</th>\n",
       "    </tr>\n",
       "  </thead>\n",
       "  <tbody>\n",
       "    <tr>\n",
       "      <th>0</th>\n",
       "      <td>i didnt feel humiliated</td>\n",
       "      <td>0</td>\n",
       "      <td>sadness</td>\n",
       "      <td>4</td>\n",
       "    </tr>\n",
       "    <tr>\n",
       "      <th>1</th>\n",
       "      <td>i can go from feeling so hopeless to so damned...</td>\n",
       "      <td>0</td>\n",
       "      <td>sadness</td>\n",
       "      <td>21</td>\n",
       "    </tr>\n",
       "    <tr>\n",
       "      <th>2</th>\n",
       "      <td>im grabbing a minute to post i feel greedy wrong</td>\n",
       "      <td>3</td>\n",
       "      <td>anger</td>\n",
       "      <td>10</td>\n",
       "    </tr>\n",
       "    <tr>\n",
       "      <th>3</th>\n",
       "      <td>i am ever feeling nostalgic about the fireplac...</td>\n",
       "      <td>2</td>\n",
       "      <td>love</td>\n",
       "      <td>18</td>\n",
       "    </tr>\n",
       "    <tr>\n",
       "      <th>4</th>\n",
       "      <td>i am feeling grouchy</td>\n",
       "      <td>3</td>\n",
       "      <td>anger</td>\n",
       "      <td>4</td>\n",
       "    </tr>\n",
       "  </tbody>\n",
       "</table>\n",
       "</div>"
      ],
      "text/plain": [
       "                                                text  label Label Name  \\\n",
       "0                            i didnt feel humiliated      0    sadness   \n",
       "1  i can go from feeling so hopeless to so damned...      0    sadness   \n",
       "2   im grabbing a minute to post i feel greedy wrong      3      anger   \n",
       "3  i am ever feeling nostalgic about the fireplac...      2       love   \n",
       "4                               i am feeling grouchy      3      anger   \n",
       "\n",
       "   Words Count  \n",
       "0            4  \n",
       "1           21  \n",
       "2           10  \n",
       "3           18  \n",
       "4            4  "
      ]
     },
     "execution_count": 33,
     "metadata": {},
     "output_type": "execute_result"
    }
   ],
   "source": [
    "df_train.head()"
   ]
  },
  {
   "cell_type": "code",
   "execution_count": 34,
   "id": "b8bad493-e437-4a08-9854-f6417fac6779",
   "metadata": {},
   "outputs": [
    {
     "data": {
      "image/png": "[encoded data removed]",
      "text/plain": [
       "<Figure size 640x480 with 1 Axes>"
      ]
     },
     "metadata": {},
     "output_type": "display_data"
    }
   ],
   "source": [
    "# 图形展示：箱体图\n",
    "df_train.boxplot(\"Words Count\", by=\"Label Name\", grid=False, showfliers=False, color=\"green\")\n",
    "plt.suptitle(\"Boxplot\")\n",
    "plt.xlabel(\"Label\")\n",
    "plt.show()"
   ]
  },
  {
   "cell_type": "markdown",
   "id": "e3f61760-0679-40fe-bc89-242748323685",
   "metadata": {},
   "source": [
    "### 6. 重置数据集的Format"
   ]
  },
  {
   "cell_type": "code",
   "execution_count": 35,
   "id": "e48f608b-b013-4121-8531-aecd5e529e22",
   "metadata": {},
   "outputs": [],
   "source": [
    "dataset.reset_format()"
   ]
  },
  {
   "cell_type": "code",
   "execution_count": 36,
   "id": "106f91d6-57b0-4b0f-9163-8c1036ab74a6",
   "metadata": {},
   "outputs": [
    {
     "data": {
      "text/plain": [
       "dict"
      ]
     },
     "execution_count": 36,
     "metadata": {},
     "output_type": "execute_result"
    }
   ],
   "source": [
    "type(dataset[\"train\"][:])"
   ]
  },
  {
   "cell_type": "code",
   "execution_count": null,
   "id": "630dc64f-e37a-424a-9268-5f57a2506608",
   "metadata": {},
   "outputs": [],
   "source": []
  }
 ],
 "metadata": {
  "kernelspec": {
   "display_name": "Python 3 (ipykernel)",
   "language": "python",
   "name": "python3"
  },
  "language_info": {
   "codemirror_mode": {
    "name": "ipython",
    "version": 3
   },
   "file_extension": ".py",
   "mimetype": "text/x-python",
   "name": "python",
   "nbconvert_exporter": "python",
   "pygments_lexer": "ipython3",
   "version": "3.11.5"
  }
 },
 "nbformat": 4,
 "nbformat_minor": 5
}
