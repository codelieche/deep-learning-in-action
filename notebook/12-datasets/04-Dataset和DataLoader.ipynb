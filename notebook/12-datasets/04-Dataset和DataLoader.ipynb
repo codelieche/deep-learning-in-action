{
 "cells": [
  {
   "cell_type": "markdown",
   "id": "d65844b1-5af2-4aad-9225-24c292fa695f",
   "metadata": {},
   "source": [
    "## PyTorch中Dataset和DataLoader的基本使用"
   ]
  },
  {
   "cell_type": "code",
   "execution_count": 1,
   "id": "2bf0643e-49fe-460b-a9cb-d52fb80ea3fb",
   "metadata": {},
   "outputs": [],
   "source": [
    "import torch\n",
    "from torch.utils.data import Dataset, DataLoader\n",
    "import numpy as np"
   ]
  },
  {
   "cell_type": "markdown",
   "id": "53b5a0bf-09c0-4f61-8137-920502a48d90",
   "metadata": {},
   "source": [
    "### 1. Dataset"
   ]
  },
  {
   "cell_type": "code",
   "execution_count": 2,
   "id": "5c9609a2-c754-4d1e-8edc-5ab5566f57b8",
   "metadata": {},
   "outputs": [],
   "source": [
    "class DatasetDemo(Dataset):\n",
    "    def __init__(self, data=None):\n",
    "        print(\"执行DatasetDemo.__init__\")\n",
    "        super().__init__()\n",
    "        if not None:\n",
    "            data = np.arange(10)\n",
    "        self.data = data\n",
    "\n",
    "    def __len__(self):\n",
    "        return len(self.data)\n",
    "\n",
    "    def __getitem__(self, index):\n",
    "        print(\"\\t->获取{}号元素\".format(index))\n",
    " \n",
    "        try:\n",
    "            return np.array([self.data[index]]), index\n",
    "        except Exception as e:\n",
    "            print(str(e))\n",
    "            return np.array([index]), index"
   ]
  },
  {
   "cell_type": "code",
   "execution_count": 3,
   "id": "d2dc6375-9452-4ede-a15b-26fdcafb449e",
   "metadata": {},
   "outputs": [
    {
     "name": "stdout",
     "output_type": "stream",
     "text": [
      "执行DatasetDemo.__init__\n"
     ]
    }
   ],
   "source": [
    "# demo = DatasetDemo()\n",
    "demo = DatasetDemo(np.array([1, 2, 3, 4, 5, 6, 7, 8]))"
   ]
  },
  {
   "cell_type": "code",
   "execution_count": 4,
   "id": "fc31ee48-dbbb-4b0d-9266-2b59699768c4",
   "metadata": {},
   "outputs": [
    {
     "data": {
      "text/plain": [
       "10"
      ]
     },
     "execution_count": 4,
     "metadata": {},
     "output_type": "execute_result"
    }
   ],
   "source": [
    "len(demo)"
   ]
  },
  {
   "cell_type": "code",
   "execution_count": 5,
   "id": "8a3b1d48-f3d4-42f1-af6e-f3ed055d1160",
   "metadata": {},
   "outputs": [
    {
     "name": "stdout",
     "output_type": "stream",
     "text": [
      "\t->获取0号元素\n"
     ]
    },
    {
     "data": {
      "text/plain": [
       "(array([0]), 0)"
      ]
     },
     "execution_count": 5,
     "metadata": {},
     "output_type": "execute_result"
    }
   ],
   "source": [
    "demo[0]"
   ]
  },
  {
   "cell_type": "markdown",
   "id": "b43d0486-6de2-4dff-9d9b-1e4a492c5f9a",
   "metadata": {},
   "source": [
    "demo[9]"
   ]
  },
  {
   "cell_type": "code",
   "execution_count": 6,
   "id": "76ef53ac-1d8e-4637-bb88-6f4379a31961",
   "metadata": {},
   "outputs": [],
   "source": [
    "# demo[99]"
   ]
  },
  {
   "cell_type": "markdown",
   "id": "3ff48d25-4f1e-41d0-89bb-05b8c93d94b7",
   "metadata": {},
   "source": [
    "### 2. DataLoader\n",
    "为了进行批处理和数据加载的并行化，通常会使用`DataLoader`。    \n",
    "常用的参数：\n",
    "- `dataset`: 必填，数据集实例\n",
    "- `batch_size`: 每个批次的样本数量， 默认是1\n",
    "- `shuffle`: `True`表示每次迭代前都打乱数据顺序\n",
    "- `num_workers`: 默认`0`(数据将在主进程中加载), 使用多少个子进程来并发加载数据\n",
    "- `collate_fn`: 一个可选的函数，用于将赝本列表转换为小批量。默认情况下，它会堆叠张量\n",
    "- `pin_memory`: 如果使用GPU，是否将张量复制到`CUDA`的固定内存中以加速数据传输，默认`False`\n",
    "- `drop_last`: 如果数据集大小不能被`batch_size`整除，是否丢弃最后一个不完整的批次，默认是`False`\n",
    "- `timeout`: 数据加载超时时间，单位为秒，防止加载数据的时候卡死，默认是`0`（无超时）"
   ]
  },
  {
   "cell_type": "markdown",
   "id": "9fc7c084-d76b-416b-99f4-5e032f972bd3",
   "metadata": {},
   "source": [
    "#### 2.1 创建DataLoader"
   ]
  },
  {
   "cell_type": "code",
   "execution_count": 7,
   "id": "308f7a47-c7d9-46c3-85f2-a54c7c302cd4",
   "metadata": {},
   "outputs": [],
   "source": [
    "def worker_init_fn(worker_id):\n",
    "    # 初始化每个worker的随机种子等\n",
    "    print(\"\\t:worker_init_fn\")\n",
    "    np.random.seed(torch.initial_seed())"
   ]
  },
  {
   "cell_type": "code",
   "execution_count": 8,
   "id": "8ccb1054-1b1f-4f56-8a1a-4d220f9335bf",
   "metadata": {},
   "outputs": [],
   "source": [
    "batch_size=2\n",
    "data_loader = DataLoader(\n",
    "    dataset=demo,\n",
    "    batch_size=batch_size,\n",
    "    num_workers=0,  # 注意这里设置的是0，如果设置了子进程来加载数据，会报错，待修复\n",
    "    worker_init_fn=worker_init_fn,\n",
    "    drop_last=False,\n",
    "    timeout=0\n",
    ")"
   ]
  },
  {
   "cell_type": "code",
   "execution_count": 9,
   "id": "f85ee75d-4c39-49c9-b633-ac719e6781ca",
   "metadata": {},
   "outputs": [
    {
     "data": {
      "text/plain": [
       "torch.utils.data.dataloader.DataLoader"
      ]
     },
     "execution_count": 9,
     "metadata": {},
     "output_type": "execute_result"
    }
   ],
   "source": [
    "type(data_loader)"
   ]
  },
  {
   "cell_type": "markdown",
   "id": "148ab692-c624-40fe-a74c-4f1011fd2a1d",
   "metadata": {},
   "source": [
    "`DataLoader`实例化的时候`batch_size=10`,那么当for执行的时候，会执行`len(datasets) / batch_size`次"
   ]
  },
  {
   "cell_type": "code",
   "execution_count": 10,
   "id": "3de449e0-bc54-48c4-96b7-1ae0501913c9",
   "metadata": {},
   "outputs": [
    {
     "data": {
      "text/plain": [
       "5.0"
      ]
     },
     "execution_count": 10,
     "metadata": {},
     "output_type": "execute_result"
    }
   ],
   "source": [
    "len(demo) / batch_size"
   ]
  },
  {
   "cell_type": "code",
   "execution_count": 11,
   "id": "f9df59f1-ad03-48b9-81c2-17f01352d4b6",
   "metadata": {},
   "outputs": [
    {
     "name": "stdout",
     "output_type": "stream",
     "text": [
      "\t->获取0号元素\n",
      "\t->获取1号元素\n",
      "epoch=1, i = 1, count=1\tlabels:tensor([0, 1])\n",
      "\n",
      "\t->获取2号元素\n",
      "\t->获取3号元素\n",
      "epoch=1, i = 2, count=2\tlabels:tensor([2, 3])\n",
      "\n",
      "\t->获取4号元素\n",
      "\t->获取5号元素\n",
      "epoch=1, i = 3, count=3\tlabels:tensor([4, 5])\n",
      "\n",
      "\t->获取6号元素\n",
      "\t->获取7号元素\n",
      "epoch=1, i = 4, count=4\tlabels:tensor([6, 7])\n",
      "\n",
      "\t->获取8号元素\n",
      "\t->获取9号元素\n",
      "epoch=1, i = 5, count=5\tlabels:tensor([8, 9])\n",
      "\n",
      "\n",
      "\t->获取0号元素\n",
      "\t->获取1号元素\n",
      "epoch=2, i = 1, count=6\tlabels:tensor([0, 1])\n",
      "\n",
      "\t->获取2号元素\n",
      "\t->获取3号元素\n",
      "epoch=2, i = 2, count=7\tlabels:tensor([2, 3])\n",
      "\n",
      "\t->获取4号元素\n",
      "\t->获取5号元素\n",
      "epoch=2, i = 3, count=8\tlabels:tensor([4, 5])\n",
      "\n",
      "\t->获取6号元素\n",
      "\t->获取7号元素\n",
      "epoch=2, i = 4, count=9\tlabels:tensor([6, 7])\n",
      "\n",
      "\t->获取8号元素\n",
      "\t->获取9号元素\n",
      "epoch=2, i = 5, count=10\tlabels:tensor([8, 9])\n",
      "\n",
      "\n",
      "count = 10\n"
     ]
    }
   ],
   "source": [
    "# 现在我们取2次数据\n",
    "count = 0\n",
    "for epoch in range(1, 3):\n",
    "    i = 0\n",
    "    for (data, labels) in data_loader:\n",
    "        i += 1\n",
    "        count += 1\n",
    "        print(f\"epoch={epoch}, i = {i}, count={count}\\tlabels:{labels}\\n\")\n",
    "    print(\"\")\n",
    "print(f\"count = {count}\")"
   ]
  },
  {
   "cell_type": "code",
   "execution_count": null,
   "id": "340ecd22-c0ad-499f-83e5-26d7e305e6d0",
   "metadata": {},
   "outputs": [],
   "source": []
  }
 ],
 "metadata": {
  "kernelspec": {
   "display_name": "Python 3 (ipykernel)",
   "language": "python",
   "name": "python3"
  },
  "language_info": {
   "codemirror_mode": {
    "name": "ipython",
    "version": 3
   },
   "file_extension": ".py",
   "mimetype": "text/x-python",
   "name": "python",
   "nbconvert_exporter": "python",
   "pygments_lexer": "ipython3",
   "version": "3.11.5"
  }
 },
 "nbformat": 4,
 "nbformat_minor": 5
}
