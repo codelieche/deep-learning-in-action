{
 "cells": [
  {
   "cell_type": "markdown",
   "id": "07b4fcd7-6303-4710-b416-23c5dcdc65f8",
   "metadata": {},
   "source": [
    "## torchtext数据集AG NEWS"
   ]
  },
  {
   "cell_type": "markdown",
   "id": "488aafd2-8460-43a4-ad03-64103ca15e3b",
   "metadata": {},
   "source": [
    "### 1. torchtext安装"
   ]
  },
  {
   "cell_type": "code",
   "execution_count": 1,
   "id": "2b17fd60-a841-479d-9b48-2c8154b6db15",
   "metadata": {},
   "outputs": [
    {
     "name": "stdout",
     "output_type": "stream",
     "text": [
      "torchtext==0.18.0\n"
     ]
    }
   ],
   "source": [
    "!pip freeze | grep torchtext"
   ]
  },
  {
   "cell_type": "markdown",
   "id": "af3418e7-89cf-4127-b4e4-f105e21271a0",
   "metadata": {},
   "source": [
    "如果未安装库，请执行：\n",
    "```bash\n",
    "pip install torchtext torchdata\n",
    "```"
   ]
  },
  {
   "cell_type": "code",
   "execution_count": 2,
   "id": "e0151fc5-4764-438a-8181-9b03026fff0a",
   "metadata": {},
   "outputs": [],
   "source": [
    "# 查看数据集\n",
    "# from torchtext import datasets\n",
    "import torchtext\n",
    "torchtext.disable_torchtext_deprecation_warning()"
   ]
  },
  {
   "cell_type": "code",
   "execution_count": 3,
   "id": "7da5e199-8855-404a-9fc2-2008cc3d9555",
   "metadata": {},
   "outputs": [],
   "source": [
    "import torchtext.datasets as datasets\n",
    "from torchtext.datasets import AG_NEWS"
   ]
  },
  {
   "cell_type": "code",
   "execution_count": 4,
   "id": "6797056a-6fda-449f-907a-1526027c1655",
   "metadata": {},
   "outputs": [
    {
     "data": {
      "text/plain": [
       "['AG_NEWS',\n",
       " 'AmazonReviewFull',\n",
       " 'AmazonReviewPolarity',\n",
       " 'CC100',\n",
       " 'CNNDM',\n",
       " 'CoLA',\n",
       " 'CoNLL2000Chunking',\n",
       " 'DATASETS',\n",
       " 'DBpedia',\n",
       " 'EnWik9',\n",
       " 'IMDB',\n",
       " 'IWSLT2016',\n",
       " 'IWSLT2017',\n",
       " 'MD5',\n",
       " 'MNLI',\n",
       " 'MRPC',\n",
       " 'Multi30k',\n",
       " 'NUM_LINES',\n",
       " 'PennTreebank',\n",
       " 'QNLI',\n",
       " 'QQP',\n",
       " 'RTE',\n",
       " 'SQuAD1',\n",
       " 'SQuAD2',\n",
       " 'SST2',\n",
       " 'STSB',\n",
       " 'SogouNews',\n",
       " 'UDPOS',\n",
       " 'URLS',\n",
       " 'WNLI',\n",
       " 'WikiText103',\n",
       " 'WikiText2',\n",
       " 'YahooAnswers',\n",
       " 'YelpReviewFull',\n",
       " 'YelpReviewPolarity',\n",
       " '__all__',\n",
       " '__builtins__',\n",
       " '__cached__',\n",
       " '__doc__',\n",
       " '__file__',\n",
       " '__loader__',\n",
       " '__name__',\n",
       " '__package__',\n",
       " '__path__',\n",
       " '__spec__',\n",
       " 'ag_news',\n",
       " 'amazonreviewfull',\n",
       " 'amazonreviewpolarity',\n",
       " 'cc100',\n",
       " 'cnndm',\n",
       " 'cola',\n",
       " 'conll2000chunking',\n",
       " 'dataset',\n",
       " 'dataset_module',\n",
       " 'dataset_module_path',\n",
       " 'dbpedia',\n",
       " 'enwik9',\n",
       " 'imdb',\n",
       " 'importlib',\n",
       " 'iwslt2016',\n",
       " 'iwslt2017',\n",
       " 'mnli',\n",
       " 'mrpc',\n",
       " 'multi30k',\n",
       " 'penntreebank',\n",
       " 'qnli',\n",
       " 'qqp',\n",
       " 'rte',\n",
       " 'sogounews',\n",
       " 'squad1',\n",
       " 'squad2',\n",
       " 'sst2',\n",
       " 'stsb',\n",
       " 'torchtext',\n",
       " 'udpos',\n",
       " 'warnings',\n",
       " 'wikitext103',\n",
       " 'wikitext2',\n",
       " 'wnli',\n",
       " 'yahooanswers',\n",
       " 'yelpreviewfull',\n",
       " 'yelpreviewpolarity']"
      ]
     },
     "execution_count": 4,
     "metadata": {},
     "output_type": "execute_result"
    }
   ],
   "source": [
    "dir(datasets)"
   ]
  },
  {
   "cell_type": "markdown",
   "id": "59874bd8-f045-4894-b487-c682110ef2f6",
   "metadata": {},
   "source": [
    "### 2. 加载AG_NEWS数据集"
   ]
  },
  {
   "cell_type": "code",
   "execution_count": 5,
   "id": "31bcc408-01a3-439d-9669-e2aa996b6deb",
   "metadata": {},
   "outputs": [],
   "source": [
    "# 训练和测试集\n",
    "train_data, test_data = AG_NEWS(split=('train', 'test'))"
   ]
  },
  {
   "cell_type": "code",
   "execution_count": 6,
   "id": "441c636b-a250-4c16-930e-de2554ac2021",
   "metadata": {},
   "outputs": [
    {
     "data": {
      "text/plain": [
       "ShardingFilterIterDataPipe"
      ]
     },
     "execution_count": 6,
     "metadata": {},
     "output_type": "execute_result"
    }
   ],
   "source": [
    "train_data"
   ]
  },
  {
   "cell_type": "code",
   "execution_count": 7,
   "id": "a537e099-0416-4762-84d1-02fc0c60d967",
   "metadata": {},
   "outputs": [
    {
     "name": "stdout",
     "output_type": "stream",
     "text": [
      "torch==2.3.1\n",
      "torchaudio==2.3.1\n",
      "torchdata==0.7.1\n",
      "torchtext==0.18.0\n",
      "torchvision==0.18.1\n",
      "vector-quantize-pytorch==1.14.24\n",
      "Note: you may need to restart the kernel to use updated packages.\n"
     ]
    }
   ],
   "source": [
    "pip freeze | grep torch"
   ]
  },
  {
   "cell_type": "code",
   "execution_count": null,
   "id": "1eaea4b3-6ef4-45db-be45-2f819a37aa27",
   "metadata": {},
   "outputs": [],
   "source": []
  }
 ],
 "metadata": {
  "kernelspec": {
   "display_name": "Python 3 (ipykernel)",
   "language": "python",
   "name": "python3"
  },
  "language_info": {
   "codemirror_mode": {
    "name": "ipython",
    "version": 3
   },
   "file_extension": ".py",
   "mimetype": "text/x-python",
   "name": "python",
   "nbconvert_exporter": "python",
   "pygments_lexer": "ipython3",
   "version": "3.11.5"
  }
 },
 "nbformat": 4,
 "nbformat_minor": 5
}
