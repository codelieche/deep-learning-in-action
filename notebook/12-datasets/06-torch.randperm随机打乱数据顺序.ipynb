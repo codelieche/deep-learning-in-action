{
 "cells": [
  {
   "cell_type": "markdown",
   "id": "97a1c849-27e6-4014-8a43-b91c70892103",
   "metadata": {},
   "source": [
    "## torch.randperm随机打乱数据顺序"
   ]
  },
  {
   "cell_type": "markdown",
   "id": "cfe1e273-251d-4185-99f0-31917566b7ad",
   "metadata": {},
   "source": [
    "`permutation`是排列，排序的意思。  那么`randperm`就是随机排列。   "
   ]
  },
  {
   "cell_type": "code",
   "execution_count": 1,
   "id": "40c00527-138f-4127-ac4b-b79b4ce93a6b",
   "metadata": {},
   "outputs": [
    {
     "name": "stdout",
     "output_type": "stream",
     "text": [
      "\n"
     ]
    }
   ],
   "source": [
    "import torch\n",
    "torch.manual_seed(123456)\n",
    "print(\"\")"
   ]
  },
  {
   "cell_type": "code",
   "execution_count": 2,
   "id": "848618ad-608b-485e-bcff-2fb3bc7e9a1e",
   "metadata": {},
   "outputs": [
    {
     "data": {
      "text/plain": [
       "tensor([0, 3, 1, 4, 2])"
      ]
     },
     "execution_count": 2,
     "metadata": {},
     "output_type": "execute_result"
    }
   ],
   "source": [
    "torch.randperm(5)"
   ]
  },
  {
   "cell_type": "markdown",
   "id": "2f15b9b4-0e4b-435a-b394-9856ca3060ff",
   "metadata": {},
   "source": [
    "现在加入我们有了一个张量，我们想打乱其顺序，就可以使用到`randperm()`生成的张量作为索引，得到打乱后的张量数据。"
   ]
  },
  {
   "cell_type": "code",
   "execution_count": 3,
   "id": "ab70a3c1-48f6-40f4-bc95-417a78429e15",
   "metadata": {},
   "outputs": [
    {
     "data": {
      "text/plain": [
       "tensor([123.0000, 456.0000, 111.0000, 222.0000,  33.0000, 999.0000,   1.2300])"
      ]
     },
     "execution_count": 3,
     "metadata": {},
     "output_type": "execute_result"
    }
   ],
   "source": [
    "# 先生成一个张量\n",
    "data = torch.tensor([123.0, 456.0, 111.0, 222.0, 33.0, 999.0, 1.23])\n",
    "data"
   ]
  },
  {
   "cell_type": "code",
   "execution_count": 4,
   "id": "e6536ac9-7d7d-4be3-afe6-24618d584ddf",
   "metadata": {},
   "outputs": [
    {
     "data": {
      "text/plain": [
       "7"
      ]
     },
     "execution_count": 4,
     "metadata": {},
     "output_type": "execute_result"
    }
   ],
   "source": [
    "# 计算data的长度\n",
    "count = len(data)\n",
    "count"
   ]
  },
  {
   "cell_type": "code",
   "execution_count": 5,
   "id": "37cfa602-fd1a-4887-8321-3fb35e492253",
   "metadata": {},
   "outputs": [
    {
     "data": {
      "text/plain": [
       "tensor([2, 4, 6, 0, 5, 1, 3])"
      ]
     },
     "execution_count": 5,
     "metadata": {},
     "output_type": "execute_result"
    }
   ],
   "source": [
    "# 现在我们获取一个随机的排列\n",
    "permutation = torch.randperm(count)\n",
    "permutation"
   ]
  },
  {
   "cell_type": "code",
   "execution_count": 6,
   "id": "32dec9e3-2aad-4772-9413-5a0a0cc7850b",
   "metadata": {},
   "outputs": [
    {
     "data": {
      "text/plain": [
       "tensor([111.0000,  33.0000,   1.2300, 123.0000, 999.0000, 456.0000, 222.0000])"
      ]
     },
     "execution_count": 6,
     "metadata": {},
     "output_type": "execute_result"
    }
   ],
   "source": [
    "data[permutation]"
   ]
  },
  {
   "cell_type": "markdown",
   "id": "d476d1c4-f711-4cfd-96f4-248378a1d469",
   "metadata": {},
   "source": [
    "> 到这里我们就获取到一个打乱顺序的数据了。"
   ]
  },
  {
   "cell_type": "code",
   "execution_count": null,
   "id": "9802ff12-efaa-4403-ac0f-62b6a1565175",
   "metadata": {},
   "outputs": [],
   "source": []
  }
 ],
 "metadata": {
  "kernelspec": {
   "display_name": "Python 3 (ipykernel)",
   "language": "python",
   "name": "python3"
  },
  "language_info": {
   "codemirror_mode": {
    "name": "ipython",
    "version": 3
   },
   "file_extension": ".py",
   "mimetype": "text/x-python",
   "name": "python",
   "nbconvert_exporter": "python",
   "pygments_lexer": "ipython3",
   "version": "3.11.5"
  }
 },
 "nbformat": 4,
 "nbformat_minor": 5
}
