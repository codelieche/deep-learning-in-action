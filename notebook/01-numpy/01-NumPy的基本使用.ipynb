{
 "cells": [
  {
   "cell_type": "markdown",
   "id": "abd78f38-c61e-4a57-b837-11484c0a966a",
   "metadata": {},
   "source": [
    "## 1. NumPy的基本使用"
   ]
  },
  {
   "cell_type": "code",
   "execution_count": null,
   "id": "3ad90b5f-3879-4f51-af6b-31233edd505f",
   "metadata": {},
   "outputs": [],
   "source": []
  }
 ],
 "metadata": {
  "kernelspec": {
   "display_name": "Python 3 (ipykernel)",
   "language": "python",
   "name": "python3"
  },
  "language_info": {
   "codemirror_mode": {
    "name": "ipython",
    "version": 3
   },
   "file_extension": ".py",
   "mimetype": "text/x-python",
   "name": "python",
   "nbconvert_exporter": "python",
   "pygments_lexer": "ipython3",
   "version": "3.11.5"
  }
 },
 "nbformat": 4,
 "nbformat_minor": 5
}
