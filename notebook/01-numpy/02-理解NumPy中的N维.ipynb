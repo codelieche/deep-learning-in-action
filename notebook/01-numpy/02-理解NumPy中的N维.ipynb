{
 "cells": [
  {
   "cell_type": "markdown",
   "id": "786e6355-4163-467b-8a46-f6e2af5f1aca",
   "metadata": {},
   "source": [
    "## 2. 理解NumPy中的N维"
   ]
  },
  {
   "cell_type": "code",
   "execution_count": 1,
   "id": "0427993a-ac61-4e05-b719-65f42442dc9b",
   "metadata": {},
   "outputs": [],
   "source": [
    "import numpy as np"
   ]
  },
  {
   "cell_type": "markdown",
   "id": "ca5d6530-bc59-4da6-8a5b-49fc2d17f01a",
   "metadata": {},
   "source": [
    "### 2.1 理解图像中的N维"
   ]
  },
  {
   "cell_type": "markdown",
   "id": "79ada96a-12d4-40a5-ba18-9ce6d232e437",
   "metadata": {},
   "source": [
    "#### 1. numpy.str_\n",
    "> `NumPy`本身主要用于处理数值型数据，它的数组（ndarray）对象主要设计来存储同质的元素，如整数、浮点数等。    \n",
    "> 然而，`NumPy`也支持一种特殊的数据类型——字符串类型（`numpy.str_` 或简写为 S），可以用来存储固定长度的字符串序列。"
   ]
  },
  {
   "cell_type": "code",
   "execution_count": 2,
   "id": "56799a60-4de8-4ff1-a680-f2214c9dc05c",
   "metadata": {},
   "outputs": [],
   "source": [
    "# 保存20个长度\n",
    "np_s = np.array([\"zf1\", \"zf2\"], dtype=\"S20\")"
   ]
  },
  {
   "cell_type": "code",
   "execution_count": 3,
   "id": "8f43b247-84c7-434f-a33f-600ff01d26eb",
   "metadata": {},
   "outputs": [
    {
     "data": {
      "text/plain": [
       "array([b'zf1', b'zf2'], dtype='|S20')"
      ]
     },
     "execution_count": 3,
     "metadata": {},
     "output_type": "execute_result"
    }
   ],
   "source": [
    "np_s"
   ]
  },
  {
   "cell_type": "code",
   "execution_count": 4,
   "id": "8a6d10e3-9b09-4940-898b-b6d91226821e",
   "metadata": {},
   "outputs": [
    {
     "data": {
      "text/plain": [
       "((2,), dtype('S20'))"
      ]
     },
     "execution_count": 4,
     "metadata": {},
     "output_type": "execute_result"
    }
   ],
   "source": [
    "np_s.shape, np_s.dtype"
   ]
  },
  {
   "cell_type": "markdown",
   "id": "061844b2-87c1-4d03-9a8a-4a170d5924ec",
   "metadata": {},
   "source": [
    "#### 2. 保存5张3x4像素的图片示例"
   ]
  },
  {
   "cell_type": "code",
   "execution_count": 5,
   "id": "5090bc73-9b3f-4480-9292-f285b141e51f",
   "metadata": {},
   "outputs": [],
   "source": [
    "# 生成图片像素点的函数\n",
    "def generate_image_points(image_index, width=3, height=4):\n",
    "    # 生成height行\n",
    "    height_items = []\n",
    "    for h in range(height):\n",
    "        \n",
    "        # 生成宽中的点：\n",
    "        width_items = []\n",
    "        for w in range(width):\n",
    "            # 生成三个颜色点\n",
    "            color_items = []\n",
    "            for c in ('r', 'g', 'b'):\n",
    "                color_i = f\"{image_index}:H({h}):W({w}):{c}\"\n",
    "                color_items.append(color_i) \n",
    "            # 把颜色加入到宽中\n",
    "            width_items.append(color_items)\n",
    "\n",
    "        # 把宽加入到高中\n",
    "        height_items.append(width_items)\n",
    "        \n",
    "    # 返回图片数据\n",
    "    return height_items"
   ]
  },
  {
   "cell_type": "code",
   "execution_count": 6,
   "id": "dbb664ba-a96b-4f35-8b0c-29620da22857",
   "metadata": {},
   "outputs": [
    {
     "data": {
      "text/plain": [
       "[[['0:H(0):W(0):r', '0:H(0):W(0):g', '0:H(0):W(0):b'],\n",
       "  ['0:H(0):W(1):r', '0:H(0):W(1):g', '0:H(0):W(1):b'],\n",
       "  ['0:H(0):W(2):r', '0:H(0):W(2):g', '0:H(0):W(2):b']],\n",
       " [['0:H(1):W(0):r', '0:H(1):W(0):g', '0:H(1):W(0):b'],\n",
       "  ['0:H(1):W(1):r', '0:H(1):W(1):g', '0:H(1):W(1):b'],\n",
       "  ['0:H(1):W(2):r', '0:H(1):W(2):g', '0:H(1):W(2):b']],\n",
       " [['0:H(2):W(0):r', '0:H(2):W(0):g', '0:H(2):W(0):b'],\n",
       "  ['0:H(2):W(1):r', '0:H(2):W(1):g', '0:H(2):W(1):b'],\n",
       "  ['0:H(2):W(2):r', '0:H(2):W(2):g', '0:H(2):W(2):b']],\n",
       " [['0:H(3):W(0):r', '0:H(3):W(0):g', '0:H(3):W(0):b'],\n",
       "  ['0:H(3):W(1):r', '0:H(3):W(1):g', '0:H(3):W(1):b'],\n",
       "  ['0:H(3):W(2):r', '0:H(3):W(2):g', '0:H(3):W(2):b']]]"
      ]
     },
     "execution_count": 6,
     "metadata": {},
     "output_type": "execute_result"
    }
   ],
   "source": [
    "# 先试一下这个函数\n",
    "generate_image_points(0)"
   ]
  },
  {
   "cell_type": "code",
   "execution_count": 7,
   "id": "6a0be77a-98ad-49df-903f-a5c06466e99b",
   "metadata": {},
   "outputs": [],
   "source": [
    "# 现在我们生成5张图片\n",
    "images_arr = []\n",
    "for i in range(5):\n",
    "    points = generate_image_points(image_index=i, width=3, height=4)\n",
    "    images_arr.append(points)"
   ]
  },
  {
   "cell_type": "code",
   "execution_count": 8,
   "id": "1ab50255-6835-4a43-ba9b-6ca2551dda1a",
   "metadata": {},
   "outputs": [
    {
     "data": {
      "text/plain": [
       "5"
      ]
     },
     "execution_count": 8,
     "metadata": {},
     "output_type": "execute_result"
    }
   ],
   "source": [
    "len(images_arr)"
   ]
  },
  {
   "cell_type": "code",
   "execution_count": 9,
   "id": "c99f077f-52de-44c6-a62b-00291afe1330",
   "metadata": {},
   "outputs": [
    {
     "data": {
      "text/plain": [
       "numpy.ndarray"
      ]
     },
     "execution_count": 9,
     "metadata": {},
     "output_type": "execute_result"
    }
   ],
   "source": [
    "# 把数组对象，转换为numpy.narray\n",
    "images_np = np.array(images_arr, dtype=\"S20\")\n",
    "type(images_np)"
   ]
  },
  {
   "cell_type": "code",
   "execution_count": 10,
   "id": "169aea16-c4bf-44ba-a991-ced7a7582cf8",
   "metadata": {},
   "outputs": [
    {
     "data": {
      "text/plain": [
       "(5, 4, 3, 3)"
      ]
     },
     "execution_count": 10,
     "metadata": {},
     "output_type": "execute_result"
    }
   ],
   "source": [
    "images_np.shape"
   ]
  },
  {
   "cell_type": "markdown",
   "id": "8c8d4af1-38b8-4587-b6eb-aa656a1b15ae",
   "metadata": {},
   "source": [
    "> 通过上面的函数：我们就模拟出了，把5张宽是3，高是4，颜色通道是3的图片数据。     \n",
    "> 如果我们想再加一个维度可以这样想：我们有6类图片，每类中有5张图片。 这样就又可增加了一维。"
   ]
  },
  {
   "cell_type": "markdown",
   "id": "f43d7bed-3eaa-4310-9b2f-2ec3b4dce853",
   "metadata": {},
   "source": [
    "#### 3. 获取图片数据"
   ]
  },
  {
   "cell_type": "code",
   "execution_count": 11,
   "id": "5c7c3d9e-b466-486b-9c77-ed58278056f8",
   "metadata": {},
   "outputs": [
    {
     "data": {
      "text/plain": [
       "array([[b'0:H(1):W(0):r', b'0:H(1):W(0):g', b'0:H(1):W(0):b'],\n",
       "       [b'0:H(1):W(1):r', b'0:H(1):W(1):g', b'0:H(1):W(1):b'],\n",
       "       [b'0:H(1):W(2):r', b'0:H(1):W(2):g', b'0:H(1):W(2):b']],\n",
       "      dtype='|S20')"
      ]
     },
     "execution_count": 11,
     "metadata": {},
     "output_type": "execute_result"
    }
   ],
   "source": [
    "# 获取第一张图片的第2行\n",
    "images_np[0,1,:,:]"
   ]
  },
  {
   "cell_type": "code",
   "execution_count": 12,
   "id": "8e5c6af3-73cf-4984-b5cd-ca457ada6148",
   "metadata": {},
   "outputs": [
    {
     "data": {
      "text/plain": [
       "array([b'0:H(1):W(0):g', b'0:H(1):W(1):g', b'0:H(1):W(2):g'], dtype='|S20')"
      ]
     },
     "execution_count": 12,
     "metadata": {},
     "output_type": "execute_result"
    }
   ],
   "source": [
    "# 获取第一张图片中的第2行的所有颜色g\n",
    "images_np[0,1,:,1]"
   ]
  },
  {
   "cell_type": "code",
   "execution_count": 13,
   "id": "d2005729-64b3-4215-bec4-500619efeb52",
   "metadata": {},
   "outputs": [
    {
     "data": {
      "text/plain": [
       "array([[b'0:H(0):W(0):r', b'0:H(0):W(1):r', b'0:H(0):W(2):r'],\n",
       "       [b'0:H(1):W(0):r', b'0:H(1):W(1):r', b'0:H(1):W(2):r'],\n",
       "       [b'0:H(2):W(0):r', b'0:H(2):W(1):r', b'0:H(2):W(2):r'],\n",
       "       [b'0:H(3):W(0):r', b'0:H(3):W(1):r', b'0:H(3):W(2):r']],\n",
       "      dtype='|S20')"
      ]
     },
     "execution_count": 13,
     "metadata": {},
     "output_type": "execute_result"
    }
   ],
   "source": [
    "# 获取第一张图片的4行3列，颜色只取red\n",
    "images_np[0,:,:,0]"
   ]
  },
  {
   "cell_type": "code",
   "execution_count": null,
   "id": "22e1c091-c8e6-4eef-8fb3-73b8587371f0",
   "metadata": {},
   "outputs": [],
   "source": []
  }
 ],
 "metadata": {
  "kernelspec": {
   "display_name": "Python 3 (ipykernel)",
   "language": "python",
   "name": "python3"
  },
  "language_info": {
   "codemirror_mode": {
    "name": "ipython",
    "version": 3
   },
   "file_extension": ".py",
   "mimetype": "text/x-python",
   "name": "python",
   "nbconvert_exporter": "python",
   "pygments_lexer": "ipython3",
   "version": "3.11.5"
  }
 },
 "nbformat": 4,
 "nbformat_minor": 5
}
