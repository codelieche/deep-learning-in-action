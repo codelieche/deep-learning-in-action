{
 "cells": [
  {
   "cell_type": "markdown",
   "id": "353bbe81-d121-4ecb-a25f-5a86d0d17946",
   "metadata": {},
   "source": [
    "## matplotlib基本使用"
   ]
  },
  {
   "cell_type": "markdown",
   "id": "68de6837-a004-4922-8030-d050ec0fd0e3",
   "metadata": {},
   "source": [
    "`matplotlib`是`python`中最流行的用于制图及数据可视化的库。[https://matplotlib.org](https://matplotlib.org)"
   ]
  },
  {
   "cell_type": "code",
   "execution_count": null,
   "id": "a4b05600-991d-4f94-9337-39867f88dcf3",
   "metadata": {},
   "outputs": [],
   "source": []
  }
 ],
 "metadata": {
  "kernelspec": {
   "display_name": "Python 3 (ipykernel)",
   "language": "python",
   "name": "python3"
  },
  "language_info": {
   "codemirror_mode": {
    "name": "ipython",
    "version": 3
   },
   "file_extension": ".py",
   "mimetype": "text/x-python",
   "name": "python",
   "nbconvert_exporter": "python",
   "pygments_lexer": "ipython3",
   "version": "3.11.5"
  }
 },
 "nbformat": 4,
 "nbformat_minor": 5
}
