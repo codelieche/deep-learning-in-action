{
 "cells": [
  {
   "cell_type": "markdown",
   "id": "934163aa-69c9-44ed-af62-0f6da8df3fe8",
   "metadata": {},
   "source": [
    "## 指标函数"
   ]
  },
  {
   "cell_type": "code",
   "execution_count": 1,
   "id": "2a92f505-74fb-4170-b842-405a20e2d6b0",
   "metadata": {},
   "outputs": [],
   "source": [
    "import evaluate\n",
    "import numpy as np"
   ]
  },
  {
   "cell_type": "markdown",
   "id": "50e736af-c528-4445-9574-4f2865545726",
   "metadata": {},
   "source": [
    "### 1. 模拟10个值的数据"
   ]
  },
  {
   "cell_type": "code",
   "execution_count": 2,
   "id": "2c44db56-bbe3-45d0-9ef6-19b8cc066f72",
   "metadata": {},
   "outputs": [],
   "source": [
    "# 假设这是预测标签、真实标签\n",
    "predicted_labels = [0,0,1,1,1,1,1,2,1,2]\n",
    "real_labels = [0,0,1,1,1,1,1,2,1,0]"
   ]
  },
  {
   "cell_type": "markdown",
   "id": "53fb7246-5c20-4ceb-9c37-710f50248432",
   "metadata": {},
   "source": [
    "### 2. 计算各指标"
   ]
  },
  {
   "cell_type": "markdown",
   "id": "8818249c-4181-4084-bd48-b96dbe1dae57",
   "metadata": {},
   "source": [
    "#### 2.1 accuracy指标"
   ]
  },
  {
   "cell_type": "code",
   "execution_count": 3,
   "id": "184e2790-88b3-4be2-8c5e-0c9a381121b3",
   "metadata": {},
   "outputs": [],
   "source": [
    "accuracy_metric = evaluate.load(\"accuracy\")"
   ]
  },
  {
   "cell_type": "code",
   "execution_count": 4,
   "id": "0caaa847-e4fd-4273-a459-a1c2454e1f05",
   "metadata": {},
   "outputs": [
    {
     "data": {
      "text/plain": [
       "{'accuracy': 0.9}"
      ]
     },
     "execution_count": 4,
     "metadata": {},
     "output_type": "execute_result"
    }
   ],
   "source": [
    "accuracy_metric.compute(predictions=predicted_labels, references=real_labels)"
   ]
  },
  {
   "cell_type": "markdown",
   "id": "e265d114-5e7c-442c-b3e8-7cf43771f889",
   "metadata": {},
   "source": [
    "#### 2.2 F1指标"
   ]
  },
  {
   "cell_type": "code",
   "execution_count": 5,
   "id": "69dcb2c3-3b0e-4e11-b52c-97c921bb237d",
   "metadata": {},
   "outputs": [],
   "source": [
    "f1_metric = evaluate.load(\"f1\")"
   ]
  },
  {
   "cell_type": "code",
   "execution_count": 6,
   "id": "00196f95-5ceb-41cb-b320-571921c058ec",
   "metadata": {},
   "outputs": [
    {
     "data": {
      "text/plain": [
       "{'f1': 0.8222222222222223}"
      ]
     },
     "execution_count": 6,
     "metadata": {},
     "output_type": "execute_result"
    }
   ],
   "source": [
    "# 计算F1分数：宏平均\n",
    "results_macro = f1_metric.compute(predictions=predicted_labels, references=real_labels, average=\"macro\")\n",
    "results_macro"
   ]
  },
  {
   "cell_type": "code",
   "execution_count": 7,
   "id": "a2156a1d-f074-4a79-8577-67b2865a51dd",
   "metadata": {},
   "outputs": [
    {
     "data": {
      "text/plain": [
       "{'f1': 0.9}"
      ]
     },
     "execution_count": 7,
     "metadata": {},
     "output_type": "execute_result"
    }
   ],
   "source": [
    "# 计算F1分数：微平均\n",
    "results_micro = f1_metric.compute(predictions=predicted_labels, references=real_labels, average=\"micro\")\n",
    "results_micro"
   ]
  },
  {
   "cell_type": "code",
   "execution_count": 8,
   "id": "c6130147-cb9b-41d0-9e1a-884946eaa0f0",
   "metadata": {},
   "outputs": [
    {
     "data": {
      "text/plain": [
       "{'f1': 0.9066666666666666}"
      ]
     },
     "execution_count": 8,
     "metadata": {},
     "output_type": "execute_result"
    }
   ],
   "source": [
    "# 计算F1分数：加权平均\n",
    "results_weighted = f1_metric.compute(predictions=predicted_labels, references=real_labels, average=\"weighted\")\n",
    "results_weighted"
   ]
  },
  {
   "cell_type": "code",
   "execution_count": 9,
   "id": "aae471c0-5f10-4ffd-a769-39082502c631",
   "metadata": {},
   "outputs": [
    {
     "name": "stdout",
     "output_type": "stream",
     "text": [
      "Macro F1 Score:    0.8222222222222223\n",
      "Micro F1 Score:    0.9\n",
      "Weighted F1 Score: 0.9066666666666666\n"
     ]
    }
   ],
   "source": [
    "print(\"Macro F1 Score:   \", results_macro[\"f1\"])\n",
    "print(\"Micro F1 Score:   \", results_micro[\"f1\"])\n",
    "print(\"Weighted F1 Score:\", results_weighted[\"f1\"])"
   ]
  },
  {
   "cell_type": "code",
   "execution_count": null,
   "id": "ee2a19f7-f041-48d5-bcb8-e994d136d883",
   "metadata": {},
   "outputs": [],
   "source": []
  }
 ],
 "metadata": {
  "kernelspec": {
   "display_name": "Python 3 (ipykernel)",
   "language": "python",
   "name": "python3"
  },
  "language_info": {
   "codemirror_mode": {
    "name": "ipython",
    "version": 3
   },
   "file_extension": ".py",
   "mimetype": "text/x-python",
   "name": "python",
   "nbconvert_exporter": "python",
   "pygments_lexer": "ipython3",
   "version": "3.11.5"
  }
 },
 "nbformat": 4,
 "nbformat_minor": 5
}
