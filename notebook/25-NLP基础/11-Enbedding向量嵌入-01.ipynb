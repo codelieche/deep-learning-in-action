{
 "cells": [
  {
   "cell_type": "markdown",
   "id": "587d7127-3155-4566-b8f2-3c2765dbda02",
   "metadata": {},
   "source": [
    "## 向量嵌入\n",
    "\n",
    "**假如说分词器是模型用来读取文本，那么向量嵌入(Enbedding)是模型用来理解文本的。**\n",
    "\n"
   ]
  },
  {
   "cell_type": "markdown",
   "id": "acd8837b-f270-4709-bb1a-14499dcdf0be",
   "metadata": {},
   "source": [
    "我们可以很轻松的理解3维(x,y,z)，每一个维度可以当做是某方面的属性，其值是这个维度属性的值大小。   \n",
    "\n",
    "现在假设我们有个768维，有($x_1$, $x_2$, $x_{...}$, $x_{768}$)共768个数。   \n",
    "这意味着我们使用768个不同维度的数字属性来描述每个单词的重要部分。    \n",
    "我们通过某种方式，把单词库中的各单词填充到这个768维的空间里面。每个单词有一个它自己的向量值。且其属性越接近的在这个向量空间中也越接近。\n",
    "\n",
    "> 假设可以把一个词的**语义** 编码成描述其各种属性的数字集合。  \n",
    "> 那么现在我们需要的是**一种将单词映射到它们的数字属性**的方法。   \n",
    "> 维度很多，单词也多，我们靠人工执行这个任务特别特别的耗时，那么我们可以使用计算机来执行这个属性映射。"
   ]
  },
  {
   "cell_type": "markdown",
   "id": "0ec054b5-d80e-47b3-bf9a-36a689ff4470",
   "metadata": {},
   "source": [
    "### 1. 直观感受BERT的向量嵌入"
   ]
  },
  {
   "cell_type": "code",
   "execution_count": 1,
   "id": "2950bd0b-9ebd-4034-a2c5-8b806331d3b4",
   "metadata": {},
   "outputs": [],
   "source": [
    "import warnings\n",
    "warnings.filterwarnings(\"ignore\", category=UserWarning)\n",
    "warnings.filterwarnings(\"ignore\", category=FutureWarning)"
   ]
  },
  {
   "cell_type": "code",
   "execution_count": 2,
   "id": "4019eca9-0051-4418-8861-808ea07cf890",
   "metadata": {},
   "outputs": [],
   "source": [
    "import torch\n",
    "from transformers import BertTokenizer, BertModel"
   ]
  },
  {
   "cell_type": "markdown",
   "id": "089b6e82-9ac7-43de-b067-edc0a5ab5f77",
   "metadata": {},
   "source": [
    "### 1.1 分词"
   ]
  },
  {
   "cell_type": "code",
   "execution_count": 3,
   "id": "ff8eb7e7-89da-4acf-90a5-9462c718cea3",
   "metadata": {},
   "outputs": [],
   "source": [
    "tokenizer = BertTokenizer.from_pretrained(\"bert-base-uncased\")"
   ]
  },
  {
   "cell_type": "code",
   "execution_count": 4,
   "id": "ce23a1e8-aca1-4927-8f79-2e5cc1a17cf0",
   "metadata": {},
   "outputs": [],
   "source": [
    "text = \"I love python and transformer.\""
   ]
  },
  {
   "cell_type": "code",
   "execution_count": 5,
   "id": "dc64ff5a-a228-4536-a4a6-f9fbbdc96ed3",
   "metadata": {},
   "outputs": [
    {
     "data": {
      "text/plain": [
       "{'input_ids': [[101, 1045, 2293, 18750, 1998, 10938, 2121, 1012, 102, 0, 0, 0, 0, 0, 0]], 'token_type_ids': [[0, 0, 0, 0, 0, 0, 0, 0, 0, 0, 0, 0, 0, 0, 0]], 'attention_mask': [[1, 1, 1, 1, 1, 1, 1, 1, 1, 0, 0, 0, 0, 0, 0]]}"
      ]
     },
     "execution_count": 5,
     "metadata": {},
     "output_type": "execute_result"
    }
   ],
   "source": [
    "# 分词的时候，可以让结果直接返回为张量，传递参数return_tensors=\"pt\"\n",
    "# outputs = tokenizer([text], padding='max_length', max_length=15, return_tensors=\"pt\")\n",
    "outputs = tokenizer([text], padding='max_length', max_length=15)\n",
    "outputs"
   ]
  },
  {
   "cell_type": "code",
   "execution_count": 6,
   "id": "814a075b-b3bc-4e8b-8cde-2e2bbedd595f",
   "metadata": {},
   "outputs": [
    {
     "data": {
      "text/plain": [
       "'[CLS] i love python [SEP] [PAD] [PAD] [PAD]'"
      ]
     },
     "execution_count": 6,
     "metadata": {},
     "output_type": "execute_result"
    }
   ],
   "source": [
    "tokenizer.decode([101, 1045, 2293, 18750, 102, 0, 0, 0])"
   ]
  },
  {
   "cell_type": "code",
   "execution_count": 7,
   "id": "e4f332ae-6c53-4541-857c-ffe72ff7d4d6",
   "metadata": {},
   "outputs": [],
   "source": [
    "# 分词的时候如果传递了：return_tensors=\"pt\"就不需要自己再把列表转换为张量了\n",
    "input_ids = torch.tensor(outputs[\"input_ids\"])\n",
    "attention_mask = torch.tensor(outputs[\"attention_mask\"])"
   ]
  },
  {
   "cell_type": "markdown",
   "id": "03a30530-fb16-47a4-940d-f89d75113ec8",
   "metadata": {},
   "source": [
    "### 2. 获取嵌入"
   ]
  },
  {
   "cell_type": "code",
   "execution_count": 8,
   "id": "58a0c4bd-0acc-47d4-8082-744ed0a472d7",
   "metadata": {},
   "outputs": [],
   "source": [
    "model = BertModel.from_pretrained(\"bert-base-uncased\")"
   ]
  },
  {
   "cell_type": "code",
   "execution_count": 9,
   "id": "1070db48-9f43-4206-9859-5bc7b6bac377",
   "metadata": {},
   "outputs": [
    {
     "data": {
      "text/plain": [
       "transformers.modeling_outputs.BaseModelOutputWithPoolingAndCrossAttentions"
      ]
     },
     "execution_count": 9,
     "metadata": {},
     "output_type": "execute_result"
    }
   ],
   "source": [
    "results = model(input_ids, attention_mask=attention_mask)\n",
    "type(results)"
   ]
  },
  {
   "cell_type": "code",
   "execution_count": 10,
   "id": "c6509e67-c6ad-43b8-802a-90ecf8f10449",
   "metadata": {},
   "outputs": [
    {
     "data": {
      "text/plain": [
       "2"
      ]
     },
     "execution_count": 10,
     "metadata": {},
     "output_type": "execute_result"
    }
   ],
   "source": [
    "len(results)"
   ]
  },
  {
   "cell_type": "code",
   "execution_count": 11,
   "id": "299b2096-8794-48d1-b794-9dc611e971e6",
   "metadata": {},
   "outputs": [
    {
     "data": {
      "text/plain": [
       "odict_keys(['last_hidden_state', 'pooler_output'])"
      ]
     },
     "execution_count": 11,
     "metadata": {},
     "output_type": "execute_result"
    }
   ],
   "source": [
    "# 查看返回的结果的keys\n",
    "results.keys()"
   ]
  },
  {
   "cell_type": "code",
   "execution_count": 12,
   "id": "719301b4-c2ad-45b1-84a4-7157d556c32f",
   "metadata": {},
   "outputs": [
    {
     "data": {
      "text/plain": [
       "torch.Size([1, 15, 768])"
      ]
     },
     "execution_count": 12,
     "metadata": {},
     "output_type": "execute_result"
    }
   ],
   "source": [
    "results['last_hidden_state'].shape"
   ]
  },
  {
   "cell_type": "code",
   "execution_count": 13,
   "id": "b425f3b1-97c5-4a04-a83f-316a57215f03",
   "metadata": {},
   "outputs": [
    {
     "data": {
      "text/plain": [
       "torch.Size([1, 15, 768])"
      ]
     },
     "execution_count": 13,
     "metadata": {},
     "output_type": "execute_result"
    }
   ],
   "source": [
    "results[0].shape"
   ]
  },
  {
   "cell_type": "code",
   "execution_count": 14,
   "id": "1b6ed7c9-13d7-4b34-a180-f2941248da2f",
   "metadata": {},
   "outputs": [
    {
     "data": {
      "text/plain": [
       "torch.Size([1, 15])"
      ]
     },
     "execution_count": 14,
     "metadata": {},
     "output_type": "execute_result"
    }
   ],
   "source": [
    "# 我们再次查看一下输入的id列表的形状\n",
    "input_ids.shape"
   ]
  },
  {
   "cell_type": "code",
   "execution_count": 15,
   "id": "5bbedd44-5338-445a-90f6-48f55630a3d3",
   "metadata": {},
   "outputs": [
    {
     "data": {
      "text/plain": [
       "tensor([ 0.0589,  0.1161, -0.1256, -0.5529, -0.5943, -0.1909,  0.2947,  0.9077,\n",
       "        -0.0863, -0.2452], grad_fn=<SliceBackward0>)"
      ]
     },
     "execution_count": 15,
     "metadata": {},
     "output_type": "execute_result"
    }
   ],
   "source": [
    "results[0][0, 0, :10]"
   ]
  },
  {
   "cell_type": "code",
   "execution_count": null,
   "id": "34d274a9-e06d-42c5-a653-3fe26999dcf8",
   "metadata": {},
   "outputs": [],
   "source": []
  }
 ],
 "metadata": {
  "kernelspec": {
   "display_name": "Python 3 (ipykernel)",
   "language": "python",
   "name": "python3"
  },
  "language_info": {
   "codemirror_mode": {
    "name": "ipython",
    "version": 3
   },
   "file_extension": ".py",
   "mimetype": "text/x-python",
   "name": "python",
   "nbconvert_exporter": "python",
   "pygments_lexer": "ipython3",
   "version": "3.11.5"
  }
 },
 "nbformat": 4,
 "nbformat_minor": 5
}
