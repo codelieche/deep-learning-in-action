{
 "cells": [
  {
   "cell_type": "code",
   "execution_count": 1,
   "id": "59c4835d-ff4e-4fbe-b6f7-8b71f2fa4c4b",
   "metadata": {},
   "outputs": [],
   "source": [
    "import torch\n",
    "import torch.nn as nn"
   ]
  },
  {
   "cell_type": "code",
   "execution_count": 2,
   "id": "dfb8a340-ed08-48f0-b553-c63378750b15",
   "metadata": {},
   "outputs": [],
   "source": [
    "o = torch.zeros(100)\n",
    "o[56] = 1"
   ]
  },
  {
   "cell_type": "code",
   "execution_count": 10,
   "id": "6590563f-d452-4a2c-a7d6-8df1e2d4695d",
   "metadata": {},
   "outputs": [
    {
     "data": {
      "text/plain": [
       "tensor([0, 0, 0, 0, 0, 0, 0, 0, 0, 0, 0, 0, 0, 0, 0, 0, 0, 0, 0, 0, 0, 0, 0, 0,\n",
       "        0, 0, 0, 0, 0, 0, 0, 0, 0, 0, 0, 0, 0, 0, 0, 0, 0, 0, 0, 0, 0, 0, 0, 0,\n",
       "        0, 0, 0, 0, 0, 0, 0, 0, 1, 0, 0, 0, 0, 0, 0, 0, 0, 0, 0, 0, 0, 0, 0, 0,\n",
       "        0, 0, 0, 0, 0, 0, 0, 0, 0, 0, 0, 0, 0, 0, 0, 0, 0, 0, 0, 0, 0, 0, 0, 0,\n",
       "        0, 0, 0, 0])"
      ]
     },
     "execution_count": 10,
     "metadata": {},
     "output_type": "execute_result"
    }
   ],
   "source": [
    "o.long()"
   ]
  },
  {
   "cell_type": "code",
   "execution_count": 11,
   "id": "46884cda-1deb-410d-abe8-c616c9ad5644",
   "metadata": {},
   "outputs": [],
   "source": [
    "E = nn.Embedding(num_embeddings=100, embedding_dim=15)"
   ]
  },
  {
   "cell_type": "code",
   "execution_count": 12,
   "id": "ec3e914f-072a-4ed2-8bbd-8d2d12ea8fc8",
   "metadata": {},
   "outputs": [
    {
     "data": {
      "text/plain": [
       "Embedding(100, 15)"
      ]
     },
     "execution_count": 12,
     "metadata": {},
     "output_type": "execute_result"
    }
   ],
   "source": [
    "E"
   ]
  },
  {
   "cell_type": "code",
   "execution_count": 14,
   "id": "1ff6b5d1-5e52-4c69-8f72-f33c1b1e3037",
   "metadata": {},
   "outputs": [],
   "source": [
    "e = E(torch.tensor([1,2,3]))"
   ]
  },
  {
   "cell_type": "code",
   "execution_count": 15,
   "id": "1136abfd-2db5-4f97-b6f0-ee43f38a475a",
   "metadata": {},
   "outputs": [
    {
     "data": {
      "text/plain": [
       "tensor([[-0.2708, -0.3938, -0.7806,  0.4130, -1.0800,  0.2051, -0.0409,  1.0990,\n",
       "         -0.0827,  0.9777, -0.9036, -0.2237,  0.9455, -0.0495,  0.8533],\n",
       "        [-0.9396,  0.8307,  0.7010, -0.3222, -1.5674, -0.0757,  0.7798, -0.5016,\n",
       "          0.1478,  0.4354, -1.2585, -1.8005, -0.6838,  0.5297, -0.6307],\n",
       "        [-0.6303, -0.2092,  0.6623,  1.3684, -0.8764,  0.0205, -0.8279,  1.3579,\n",
       "          0.3914, -1.3773, -0.1823,  0.6527, -2.1373, -0.5926,  2.6358]],\n",
       "       grad_fn=<EmbeddingBackward0>)"
      ]
     },
     "execution_count": 15,
     "metadata": {},
     "output_type": "execute_result"
    }
   ],
   "source": [
    "e"
   ]
  },
  {
   "cell_type": "code",
   "execution_count": 16,
   "id": "8e348cee-cda5-4463-9678-57b536d3f10d",
   "metadata": {},
   "outputs": [
    {
     "data": {
      "text/plain": [
       "torch.Size([3, 15])"
      ]
     },
     "execution_count": 16,
     "metadata": {},
     "output_type": "execute_result"
    }
   ],
   "source": [
    "e.shape"
   ]
  },
  {
   "cell_type": "code",
   "execution_count": null,
   "id": "37a6f2ed-24cd-445c-8d94-c2ccfe21c697",
   "metadata": {},
   "outputs": [],
   "source": []
  }
 ],
 "metadata": {
  "kernelspec": {
   "display_name": "Python 3 (ipykernel)",
   "language": "python",
   "name": "python3"
  },
  "language_info": {
   "codemirror_mode": {
    "name": "ipython",
    "version": 3
   },
   "file_extension": ".py",
   "mimetype": "text/x-python",
   "name": "python",
   "nbconvert_exporter": "python",
   "pygments_lexer": "ipython3",
   "version": "3.11.5"
  }
 },
 "nbformat": 4,
 "nbformat_minor": 5
}
