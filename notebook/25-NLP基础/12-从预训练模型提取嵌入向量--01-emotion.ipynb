{
 "cells": [
  {
   "cell_type": "markdown",
   "id": "ffd5b654-d6cd-4aaf-bad8-984e777bfd55",
   "metadata": {},
   "source": [
    "## emotion数据集--嵌入向量提取"
   ]
  },
  {
   "cell_type": "code",
   "execution_count": 1,
   "id": "e59fa865-c078-492e-ba9e-398f4594ba87",
   "metadata": {},
   "outputs": [],
   "source": [
    "import torch\n",
    "import pandas as pd\n",
    "from datasets import load_dataset\n",
    "from transformers import BertModel, BertTokenizer"
   ]
  },
  {
   "cell_type": "code",
   "execution_count": 2,
   "id": "08e3de5f-dcdc-428c-98a0-7816db2bab6b",
   "metadata": {},
   "outputs": [
    {
     "data": {
      "text/plain": [
       "'mps'"
      ]
     },
     "execution_count": 2,
     "metadata": {},
     "output_type": "execute_result"
    }
   ],
   "source": [
    "device = \"cuda\" if torch.cuda.is_available() else (\"mps\" if torch.backends.mps.is_available() else \"cpu\")\n",
    "device"
   ]
  },
  {
   "cell_type": "markdown",
   "id": "d6a89b1c-a6c9-4134-800c-3d443c7ca1d2",
   "metadata": {},
   "source": [
    "### 1. 提取嵌入"
   ]
  },
  {
   "cell_type": "code",
   "execution_count": 3,
   "id": "c0efdc1d-bb14-4f20-9fee-4376ee9feb9c",
   "metadata": {},
   "outputs": [
    {
     "name": "stderr",
     "output_type": "stream",
     "text": [
      "Using the latest cached version of the module from /Users/alex.zhou/.cache/huggingface/modules/datasets_modules/datasets/emotion/cca5efe2dfeb58c1d098e0f9eeb200e9927d889b5a03c67097275dfb5fe463bd (last modified on Fri May 31 14:39:28 2024) since it couldn't be found locally at emotion, or remotely on the Hugging Face Hub.\n"
     ]
    },
    {
     "data": {
      "text/plain": [
       "DatasetDict({\n",
       "    train: Dataset({\n",
       "        features: ['text', 'label'],\n",
       "        num_rows: 16000\n",
       "    })\n",
       "    validation: Dataset({\n",
       "        features: ['text', 'label'],\n",
       "        num_rows: 2000\n",
       "    })\n",
       "    test: Dataset({\n",
       "        features: ['text', 'label'],\n",
       "        num_rows: 2000\n",
       "    })\n",
       "})"
      ]
     },
     "execution_count": 3,
     "metadata": {},
     "output_type": "execute_result"
    }
   ],
   "source": [
    "model_name = \"bert-base-uncased\"\n",
    "# 下载预训练模型\n",
    "model = BertModel.from_pretrained(model_name)\n",
    "model.to(device)\n",
    "tokenizer = BertTokenizer.from_pretrained(model_name)\n",
    "\n",
    "# 加载数据集\n",
    "ds = load_dataset(\"emotion\")\n",
    "ds"
   ]
  },
  {
   "cell_type": "code",
   "execution_count": 4,
   "id": "973ff3c2-2fbf-40b2-bf8f-74ab83d94d83",
   "metadata": {},
   "outputs": [
    {
     "data": {
      "text/plain": [
       "['input_ids', 'token_type_ids', 'attention_mask']"
      ]
     },
     "execution_count": 4,
     "metadata": {},
     "output_type": "execute_result"
    }
   ],
   "source": [
    "tokenizer.model_input_names"
   ]
  },
  {
   "cell_type": "code",
   "execution_count": 5,
   "id": "3c935998-3183-4d8b-a71d-ee780c33a0d6",
   "metadata": {},
   "outputs": [
    {
     "data": {
      "text/plain": [
       "DatasetDict({\n",
       "    train: Dataset({\n",
       "        features: ['text', 'label', 'input_ids', 'token_type_ids', 'attention_mask'],\n",
       "        num_rows: 16000\n",
       "    })\n",
       "    validation: Dataset({\n",
       "        features: ['text', 'label', 'input_ids', 'token_type_ids', 'attention_mask'],\n",
       "        num_rows: 2000\n",
       "    })\n",
       "    test: Dataset({\n",
       "        features: ['text', 'label', 'input_ids', 'token_type_ids', 'attention_mask'],\n",
       "        num_rows: 2000\n",
       "    })\n",
       "})"
      ]
     },
     "execution_count": 5,
     "metadata": {},
     "output_type": "execute_result"
    }
   ],
   "source": [
    "# 分词\n",
    "def tokenize_handler(batch):\n",
    "    return tokenizer(batch[\"text\"], truncation=True, padding=True)\n",
    "\n",
    "# 给数据集ds添加3列数据：['input_ids', 'token_type_ids', 'attention_mask']\n",
    "ds = ds.map(tokenize_handler, batched=True, batch_size=1000)\n",
    "ds"
   ]
  },
  {
   "cell_type": "code",
   "execution_count": 6,
   "id": "db728b77-4a56-4d43-bc38-ec6faaa914bd",
   "metadata": {},
   "outputs": [],
   "source": [
    "# 提取句子的嵌入[CLS]\n",
    "def embedding_handler(batch):\n",
    "    # 模型执行需要传递的参数\n",
    "    inputs = {}\n",
    "    for k, v in batch.items():\n",
    "        if k in tokenizer.model_input_names:\n",
    "            inputs[k] = v.to(device)\n",
    "            if not isinstance(v, torch.Tensor):\n",
    "                print(k, v)\n",
    "                print(batch[0])\n",
    "                raise ValueError(\"传递的数据不是张量\")\n",
    "    # 调用模型\n",
    "    with torch.no_grad():\n",
    "        # 最后一层的状态向量\n",
    "        last_hidden_state = model(**inputs).last_hidden_state\n",
    "\n",
    "    # 返回第一个[CLS]的嵌入向量\n",
    "    return {\"hidden_state\": last_hidden_state[:, 0].cpu()}\n",
    "    "
   ]
  },
  {
   "cell_type": "code",
   "execution_count": 7,
   "id": "83375733-ab11-4a3a-87fe-fd02a42cbb8e",
   "metadata": {},
   "outputs": [],
   "source": [
    "ds.set_format(\"torch\", columns=['input_ids', 'token_type_ids', 'attention_mask'])"
   ]
  },
  {
   "cell_type": "code",
   "execution_count": 8,
   "id": "f84d8ec5-9269-4fb8-8332-526c4734cf36",
   "metadata": {},
   "outputs": [
    {
     "data": {
      "application/vnd.jupyter.widget-view+json": {
       "model_id": "b512101a07dd4c2b9ee9f2a815a5b3a8",
       "version_major": 2,
       "version_minor": 0
      },
      "text/plain": [
       "Map:   0%|          | 0/16000 [00:00<?, ? examples/s]"
      ]
     },
     "metadata": {},
     "output_type": "display_data"
    },
    {
     "data": {
      "application/vnd.jupyter.widget-view+json": {
       "model_id": "c36fb786047446938facd0304bd1e4fb",
       "version_major": 2,
       "version_minor": 0
      },
      "text/plain": [
       "Map:   0%|          | 0/2000 [00:00<?, ? examples/s]"
      ]
     },
     "metadata": {},
     "output_type": "display_data"
    },
    {
     "data": {
      "application/vnd.jupyter.widget-view+json": {
       "model_id": "e8730e8f34204d0ea4f7ee05aca181c4",
       "version_major": 2,
       "version_minor": 0
      },
      "text/plain": [
       "Map:   0%|          | 0/2000 [00:00<?, ? examples/s]"
      ]
     },
     "metadata": {},
     "output_type": "display_data"
    },
    {
     "name": "stdout",
     "output_type": "stream",
     "text": [
      "CPU times: user 34.4 s, sys: 35.9 s, total: 1min 10s\n",
      "Wall time: 1min 38s\n"
     ]
    }
   ],
   "source": [
    "# 获取嵌入向量\n",
    "%time ds_embeddings = ds.map(embedding_handler, batched=True, batch_size=500)"
   ]
  },
  {
   "cell_type": "code",
   "execution_count": 9,
   "id": "4f263b2f-fda9-487b-8cb3-4267e0407152",
   "metadata": {},
   "outputs": [
    {
     "data": {
      "text/plain": [
       "DatasetDict({\n",
       "    train: Dataset({\n",
       "        features: ['text', 'label', 'input_ids', 'token_type_ids', 'attention_mask', 'hidden_state'],\n",
       "        num_rows: 16000\n",
       "    })\n",
       "    validation: Dataset({\n",
       "        features: ['text', 'label', 'input_ids', 'token_type_ids', 'attention_mask', 'hidden_state'],\n",
       "        num_rows: 2000\n",
       "    })\n",
       "    test: Dataset({\n",
       "        features: ['text', 'label', 'input_ids', 'token_type_ids', 'attention_mask', 'hidden_state'],\n",
       "        num_rows: 2000\n",
       "    })\n",
       "})"
      ]
     },
     "execution_count": 9,
     "metadata": {},
     "output_type": "execute_result"
    }
   ],
   "source": [
    "ds_embeddings"
   ]
  },
  {
   "cell_type": "code",
   "execution_count": 10,
   "id": "bd0000c0-d1d3-4c46-b0f3-085a1fd608b1",
   "metadata": {},
   "outputs": [
    {
     "data": {
      "text/plain": [
       "(torch.Size([768]), torch.Tensor)"
      ]
     },
     "execution_count": 10,
     "metadata": {},
     "output_type": "execute_result"
    }
   ],
   "source": [
    "# 查看训练集第1条的嵌入向量\n",
    "ds_embeddings[\"train\"][\"hidden_state\"][0].shape, type(ds_embeddings[\"train\"][\"hidden_state\"][0])"
   ]
  },
  {
   "cell_type": "code",
   "execution_count": 11,
   "id": "d566e5d1-0ec4-477b-acd0-faa812221907",
   "metadata": {},
   "outputs": [
    {
     "data": {
      "text/plain": [
       "Dataset({\n",
       "    features: ['text', 'label', 'input_ids', 'token_type_ids', 'attention_mask', 'hidden_state'],\n",
       "    num_rows: 16000\n",
       "})"
      ]
     },
     "execution_count": 11,
     "metadata": {},
     "output_type": "execute_result"
    }
   ],
   "source": [
    "train_ds = ds_embeddings[\"train\"]\n",
    "train_ds"
   ]
  },
  {
   "cell_type": "code",
   "execution_count": 12,
   "id": "5a2c7ace-78d8-449d-b217-b033956d3f86",
   "metadata": {},
   "outputs": [
    {
     "data": {
      "text/plain": [
       "{'text': Value(dtype='string', id=None),\n",
       " 'label': ClassLabel(names=['sadness', 'joy', 'love', 'anger', 'fear', 'surprise'], id=None),\n",
       " 'input_ids': Sequence(feature=Value(dtype='int32', id=None), length=-1, id=None),\n",
       " 'token_type_ids': Sequence(feature=Value(dtype='int8', id=None), length=-1, id=None),\n",
       " 'attention_mask': Sequence(feature=Value(dtype='int8', id=None), length=-1, id=None),\n",
       " 'hidden_state': Sequence(feature=Value(dtype='float32', id=None), length=-1, id=None)}"
      ]
     },
     "execution_count": 12,
     "metadata": {},
     "output_type": "execute_result"
    }
   ],
   "source": [
    "train_ds.features"
   ]
  },
  {
   "cell_type": "code",
   "execution_count": null,
   "id": "a2c65751-7e5e-456d-a6a6-cd7457df190f",
   "metadata": {},
   "outputs": [],
   "source": []
  }
 ],
 "metadata": {
  "kernelspec": {
   "display_name": "Python 3 (ipykernel)",
   "language": "python",
   "name": "python3"
  },
  "language_info": {
   "codemirror_mode": {
    "name": "ipython",
    "version": 3
   },
   "file_extension": ".py",
   "mimetype": "text/x-python",
   "name": "python",
   "nbconvert_exporter": "python",
   "pygments_lexer": "ipython3",
   "version": "3.11.5"
  }
 },
 "nbformat": 4,
 "nbformat_minor": 5
}
