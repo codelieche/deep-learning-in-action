{
 "cells": [
  {
   "cell_type": "markdown",
   "id": "83db0534-0e5a-4b53-8d6a-eca353cec98d",
   "metadata": {},
   "source": [
    "## 使用qwen2模型分词\n",
    "- https://huggingface.co/Qwen/Qwen2-7B-Instruct"
   ]
  },
  {
   "cell_type": "code",
   "execution_count": 1,
   "id": "cf7d39ac-8e77-42a2-8c7e-1f878b8130c1",
   "metadata": {},
   "outputs": [],
   "source": [
    "import warnings\n",
    "warnings.filterwarnings(\"ignore\", category=UserWarning)\n",
    "warnings.filterwarnings(\"ignore\", category=FutureWarning)"
   ]
  },
  {
   "cell_type": "code",
   "execution_count": 2,
   "id": "9ce361e3-a172-4898-b9b6-51f9939f8459",
   "metadata": {},
   "outputs": [],
   "source": [
    "import torch\n",
    "import tokenizers\n",
    "\n",
    "from transformers import AutoConfig\n",
    "from transformers import Qwen2Tokenizer"
   ]
  },
  {
   "cell_type": "markdown",
   "id": "95948b65-a5dc-49db-8933-c80b956dd5dc",
   "metadata": {},
   "source": [
    "### 1. 查看模型的配置"
   ]
  },
  {
   "cell_type": "code",
   "execution_count": 3,
   "id": "1698c653-c722-4ae9-a54c-d7ad0e14e8c0",
   "metadata": {},
   "outputs": [],
   "source": [
    "# 第一次的话会下载config.json文件\n",
    "config = AutoConfig.from_pretrained(\"Qwen/Qwen2-7B-Instruct\")"
   ]
  },
  {
   "cell_type": "code",
   "execution_count": 4,
   "id": "d0d9558f-1f7a-48dd-89b2-0937032c0255",
   "metadata": {},
   "outputs": [
    {
     "data": {
      "text/plain": [
       "Qwen2Config {\n",
       "  \"_name_or_path\": \"Qwen/Qwen2-7B-Instruct\",\n",
       "  \"architectures\": [\n",
       "    \"Qwen2ForCausalLM\"\n",
       "  ],\n",
       "  \"attention_dropout\": 0.0,\n",
       "  \"bos_token_id\": 151643,\n",
       "  \"eos_token_id\": 151645,\n",
       "  \"hidden_act\": \"silu\",\n",
       "  \"hidden_size\": 3584,\n",
       "  \"initializer_range\": 0.02,\n",
       "  \"intermediate_size\": 18944,\n",
       "  \"max_position_embeddings\": 32768,\n",
       "  \"max_window_layers\": 28,\n",
       "  \"model_type\": \"qwen2\",\n",
       "  \"num_attention_heads\": 28,\n",
       "  \"num_hidden_layers\": 28,\n",
       "  \"num_key_value_heads\": 4,\n",
       "  \"rms_norm_eps\": 1e-06,\n",
       "  \"rope_theta\": 1000000.0,\n",
       "  \"sliding_window\": 131072,\n",
       "  \"tie_word_embeddings\": false,\n",
       "  \"torch_dtype\": \"bfloat16\",\n",
       "  \"transformers_version\": \"4.41.2\",\n",
       "  \"use_cache\": true,\n",
       "  \"use_sliding_window\": false,\n",
       "  \"vocab_size\": 152064\n",
       "}"
      ]
     },
     "execution_count": 4,
     "metadata": {},
     "output_type": "execute_result"
    }
   ],
   "source": [
    "config"
   ]
  },
  {
   "cell_type": "code",
   "execution_count": 5,
   "id": "50be7563-6a5f-46e1-9436-54a53993542b",
   "metadata": {},
   "outputs": [
    {
     "data": {
      "text/plain": [
       "3584"
      ]
     },
     "execution_count": 5,
     "metadata": {},
     "output_type": "execute_result"
    }
   ],
   "source": [
    "# 查看hiddlen_size\n",
    "config.hidden_size"
   ]
  },
  {
   "cell_type": "code",
   "execution_count": 6,
   "id": "a06326d1-a792-4ebf-8706-1579661adfd4",
   "metadata": {},
   "outputs": [
    {
     "data": {
      "text/plain": [
       "152064"
      ]
     },
     "execution_count": 6,
     "metadata": {},
     "output_type": "execute_result"
    }
   ],
   "source": [
    "# vocab_size\n",
    "config.vocab_size"
   ]
  },
  {
   "cell_type": "markdown",
   "id": "03ac6172-e55c-49c7-9834-d3b4dca3621e",
   "metadata": {},
   "source": [
    "### 2. 分词"
   ]
  },
  {
   "cell_type": "code",
   "execution_count": 7,
   "id": "d8b1778f-2490-4198-a53f-4025f90df11f",
   "metadata": {},
   "outputs": [
    {
     "name": "stderr",
     "output_type": "stream",
     "text": [
      "Special tokens have been added in the vocabulary, make sure the associated word embeddings are fine-tuned or trained.\n"
     ]
    }
   ],
   "source": [
    "tokenizer = Qwen2Tokenizer.from_pretrained(\"Qwen/Qwen2-7B-Instruct\")"
   ]
  },
  {
   "cell_type": "code",
   "execution_count": 8,
   "id": "ad1082f0-55af-42b0-b525-ce4f004856b4",
   "metadata": {},
   "outputs": [
    {
     "data": {
      "text/plain": [
       "{'input_ids': [40, 2948, 10135, 323, 42578, 13], 'attention_mask': [1, 1, 1, 1, 1, 1]}"
      ]
     },
     "execution_count": 8,
     "metadata": {},
     "output_type": "execute_result"
    }
   ],
   "source": [
    "tokenizer(\"I love python and transformer.\")"
   ]
  },
  {
   "cell_type": "code",
   "execution_count": 9,
   "id": "32e247f0-3841-4121-9c9a-fc86b08aca29",
   "metadata": {},
   "outputs": [],
   "source": [
    "def tokenizer_info(t):\n",
    "    print(\"tokenizer.name_or_path:     \\t\", t.name_or_path)\n",
    "    print(\"tokenizer.vocab_size:       \\t\", t.vocab_size)\n",
    "    print(\"tokenizer.model_max_length: \\t\", t.model_max_length)\n",
    "    print(\"tokenizer.vocab_files_names:\\t\", t.vocab_files_names)"
   ]
  },
  {
   "cell_type": "code",
   "execution_count": 10,
   "id": "8b7d1b13-2762-477b-b0d7-13029a2994ed",
   "metadata": {},
   "outputs": [
    {
     "name": "stdout",
     "output_type": "stream",
     "text": [
      "tokenizer.name_or_path:     \t Qwen/Qwen2-7B-Instruct\n",
      "tokenizer.vocab_size:       \t 151643\n",
      "tokenizer.model_max_length: \t 131072\n",
      "tokenizer.vocab_files_names:\t {'vocab_file': 'vocab.json', 'merges_file': 'merges.txt'}\n"
     ]
    }
   ],
   "source": [
    "tokenizer_info(tokenizer)"
   ]
  },
  {
   "cell_type": "markdown",
   "id": "bd4837aa-97d5-4b03-8f7e-14a219d3e233",
   "metadata": {},
   "source": [
    "测试一下中文分词。"
   ]
  },
  {
   "cell_type": "code",
   "execution_count": 11,
   "id": "af7219b3-3676-4c22-8048-ba1569e580e5",
   "metadata": {},
   "outputs": [
    {
     "data": {
      "text/plain": [
       "{'input_ids': [99817, 99639, 37474, 104811, 27369, 3837, 50930, 80, 16948, 17, 107343, 17177, 99689, 9370, 1773], 'attention_mask': [1, 1, 1, 1, 1, 1, 1, 1, 1, 1, 1, 1, 1, 1, 1]}"
      ]
     },
     "execution_count": 11,
     "metadata": {},
     "output_type": "execute_result"
    }
   ],
   "source": [
    "text_zh = \"这里是一段中文信息，看qwen2是怎么分词的。\"\n",
    "outputs = tokenizer(text_zh)\n",
    "outputs"
   ]
  },
  {
   "cell_type": "code",
   "execution_count": 12,
   "id": "b7e8013d-297f-4663-ae4c-03f942866b33",
   "metadata": {},
   "outputs": [
    {
     "name": "stdout",
     "output_type": "stream",
     "text": [
      "['è¿ĻéĩĮ', 'æĺ¯ä¸Ģ', 'æ®µ', 'ä¸Ńæĸĩ', 'ä¿¡æģ¯', 'ï¼Į', 'çľĭ', 'q', 'wen', '2', 'æĺ¯æĢİä¹Ī', 'åĪĨ', 'è¯į', 'çļĦ', 'ãĢĤ']\n",
      "23 15\n"
     ]
    }
   ],
   "source": [
    "text_zh_tokens = tokenizer.convert_ids_to_tokens(outputs[\"input_ids\"])\n",
    "print(text_zh_tokens)\n",
    "print(len(text_zh), len(text_zh_tokens))"
   ]
  },
  {
   "cell_type": "markdown",
   "id": "dede644c-6b83-434b-8b73-20835405a30b",
   "metadata": {},
   "source": [
    "> 我们中文字符串长度是23，分词后tokens的长度是15. 且分词的中文token人没法看出它们是啥,但是计算机认他即可。"
   ]
  },
  {
   "cell_type": "code",
   "execution_count": null,
   "id": "279c5bfb-06c6-4355-9b2c-101a3e4e243b",
   "metadata": {},
   "outputs": [],
   "source": []
  }
 ],
 "metadata": {
  "kernelspec": {
   "display_name": "Python 3 (ipykernel)",
   "language": "python",
   "name": "python3"
  },
  "language_info": {
   "codemirror_mode": {
    "name": "ipython",
    "version": 3
   },
   "file_extension": ".py",
   "mimetype": "text/x-python",
   "name": "python",
   "nbconvert_exporter": "python",
   "pygments_lexer": "ipython3",
   "version": "3.11.5"
  }
 },
 "nbformat": 4,
 "nbformat_minor": 5
}
