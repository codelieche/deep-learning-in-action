{
 "cells": [
  {
   "cell_type": "code",
   "execution_count": 1,
   "id": "bef83eed-a61d-4314-a6e5-e2a1fbc19e13",
   "metadata": {},
   "outputs": [],
   "source": [
    "import os\n",
    "\n",
    "from typing import Annotated, Literal, TypedDict\n",
    "\n",
    "from langchain.chat_models import init_chat_model\n",
    "from langchain_core.messages import HumanMessage\n",
    "from langchain_core.tools import tool\n",
    "from langgraph.checkpoint.memory import MemorySaver\n",
    "from langgraph.graph import END, StateGraph, MessagesState\n",
    "from langgraph.prebuilt import ToolNode"
   ]
  },
  {
   "cell_type": "code",
   "execution_count": 2,
   "id": "5ad2174a-3101-499b-9875-714e3c95c7a3",
   "metadata": {},
   "outputs": [],
   "source": [
    "import random\n",
    "\n",
    "# 定义一个tools给agent使用\n",
    "@tool\n",
    "def search(query: str):\n",
    "    \"\"\"查询城市的天气\"\"\"\n",
    "    print(\"模拟互联网请求，调用search tools query value is: {}\".format(query))\n",
    "    if \"北京\" in query:\n",
    "        return [\"北京温度8°\"]\n",
    "    elif \"深圳\" in query:\n",
    "        return [\"深圳温度32°\"]\n",
    "    else:\n",
    "        return [\"{}温度是{}°\".format(query, random.randint(5, 35))]"
   ]
  },
  {
   "cell_type": "code",
   "execution_count": 3,
   "id": "7571228b-8baf-4495-9073-b311c319b0dc",
   "metadata": {},
   "outputs": [],
   "source": [
    "tools = [search]\n",
    "tool_node = ToolNode(tools)"
   ]
  },
  {
   "cell_type": "code",
   "execution_count": 4,
   "id": "cee92faa-90b5-4131-86e1-1a769340e5fc",
   "metadata": {},
   "outputs": [],
   "source": [
    "model_name = \"qwen2.5:7b\"\n",
    "ollama_api_base = os.environ[\"OLLAMA_API_BASE\"]\n",
    "model = init_chat_model(model=model_name, model_provider=\"ollama\", base_url=ollama_api_base).bind_tools(tools)"
   ]
  },
  {
   "cell_type": "code",
   "execution_count": 5,
   "id": "5f92c6e6-c7d0-4c00-9ece-b28b78e76fd3",
   "metadata": {},
   "outputs": [],
   "source": [
    "\n",
    "def should_continue(state: MessagesState) -> Literal[\"tools\", END]:\n",
    "    messages = state[\"messages\"]\n",
    "    print(\"should_continue messages length:{}\".format(len(messages)))\n",
    "    \n",
    "    last_message = messages[-1]\n",
    "    if last_message.tool_calls:\n",
    "        print(\"return tools\")\n",
    "        return \"tools\"\n",
    "    return END"
   ]
  },
  {
   "cell_type": "code",
   "execution_count": 6,
   "id": "27c7bfd0-ca63-4781-98fb-31012dc5a8f7",
   "metadata": {},
   "outputs": [],
   "source": [
    "# 定义一个函数去调用model\n",
    "def call_model(state: MessagesState):\n",
    "    messages = state[\"messages\"]\n",
    "    print(\"call_model messages length:{}\".format(len(messages)))\n",
    "    response = model.invoke(messages)\n",
    "    return {\"messages\": [response]}"
   ]
  },
  {
   "cell_type": "code",
   "execution_count": 7,
   "id": "10dd95d6-1151-457a-829a-d5e38cce93a7",
   "metadata": {},
   "outputs": [
    {
     "data": {
      "text/plain": [
       "<langgraph.graph.state.StateGraph at 0x112c941d0>"
      ]
     },
     "execution_count": 7,
     "metadata": {},
     "output_type": "execute_result"
    }
   ],
   "source": [
    "# Define a new graph\n",
    "workflow = StateGraph(MessagesState)\n",
    "\n",
    "# Define the two nodes we will cycle between\n",
    "workflow.add_node(\"agent\", call_model)\n",
    "workflow.add_node(\"tools\", tool_node)\n",
    "\n",
    "# Set entrypoint as agent\n",
    "# 这意味着，这个设置的节点会是第一个被调用的\n",
    "workflow.set_entry_point(\"agent\")\n",
    "\n",
    "# 现在还需要添加conditional edge\n",
    "workflow.add_conditional_edges(\n",
    "    # 首先定义开始节点为agent\n",
    "    \"agent\",\n",
    "    # 然后，判断接下来的执行流程\n",
    "    should_continue,\n",
    ")"
   ]
  },
  {
   "cell_type": "code",
   "execution_count": 8,
   "id": "e827b2e1-25b7-49d2-aa57-594b41fa23d6",
   "metadata": {},
   "outputs": [],
   "source": [
    "# 定义普通的边：调用完tools之后，总是调用下一个agent节点，这样图就构建完成了\n",
    "workflow.add_edge(\"tools\", \"agent\")\n",
    "\n",
    "# 初始化检查点\n",
    "checkpointer = MemorySaver()\n",
    "\n",
    "# 把定义的检查点，传递给workflow, 这样完成了graph应用：app\n",
    "app = workflow.compile(checkpointer=checkpointer)"
   ]
  },
  {
   "cell_type": "code",
   "execution_count": 9,
   "id": "462fb464-ba9e-4df5-aea9-3b0d25f32db6",
   "metadata": {},
   "outputs": [
    {
     "data": {
      "image/png": "[encoded data removed]",
      "text/plain": [
       "<langgraph.graph.state.CompiledStateGraph object at 0x112c8c950>"
      ]
     },
     "execution_count": 9,
     "metadata": {},
     "output_type": "execute_result"
    }
   ],
   "source": [
    "app"
   ]
  },
  {
   "cell_type": "code",
   "execution_count": 10,
   "id": "480256a7-87fa-4b27-9cbc-c2f85b141ffa",
   "metadata": {},
   "outputs": [
    {
     "name": "stdout",
     "output_type": "stream",
     "text": [
      "call_model messages length:1\n",
      "should_continue messages length:2\n",
      "\n",
      "\n",
      "对于编程初学者来说，选择一门易于上手且具有良好社区支持的语言非常重要。以下是几个推荐给新手学习的编程语言：\n",
      "\n",
      "1. Python：Python 以其简洁明了的语法著称，是许多初学者的首选。它广泛应用于数据分析、人工智能等领域，并拥有丰富的资源和活跃的开发者社区。\n",
      "\n",
      "2. JavaScript：如果你对网页开发感兴趣，JavaScript 是一个不错的选择。它不仅可以用于前端开发，还可以在服务器端使用（Node.js）以及构建各种应用程序。\n",
      "\n",
      "3. Scratch：对于更年轻的学习者来说，Scratch 是一个图形化编程环境，可以帮助他们直观地理解编程概念。\n",
      "\n",
      "4. Ruby：虽然不如 Python 那样流行，但 Ruby 也有它自己的优点。特别是如果你想学习一门语法简洁、易于阅读的语言时，Ruby 可能是一个不错的选择。\n",
      "\n",
      "您可以根据个人兴趣和目标来选择最适合您的语言。如果您想了解更多信息或需要其他建议，请随时告诉我！\n"
     ]
    }
   ],
   "source": [
    "# 使用app\n",
    "final_state = app.invoke(\n",
    "    {\"messages\": [HumanMessage(content=\"最适合新手学习的编程语言是什么?\")]},\n",
    "    config={\"configurable\": {\"thread_id\": 123}}\n",
    ")\n",
    "print(\"\\n\")\n",
    "print(final_state[\"messages\"][-1].content)"
   ]
  },
  {
   "cell_type": "code",
   "execution_count": 11,
   "id": "f69298cb-1f70-45e3-b6cb-cb06ed1bbf98",
   "metadata": {},
   "outputs": [
    {
     "name": "stdout",
     "output_type": "stream",
     "text": [
      "call_model messages length:3\n",
      "should_continue messages length:4\n",
      "return tools\n",
      "模拟互联网请求，调用search tools query value is: 北京\n",
      "call_model messages length:5\n",
      "should_continue messages length:6\n",
      "\n",
      "\n"
     ]
    },
    {
     "data": {
      "text/plain": [
       "'当前北京的温度是8°C。请注意根据天气变化适时增减衣物。如有需要，我可以为您提供更多的天气信息或建议。'"
      ]
     },
     "execution_count": 11,
     "metadata": {},
     "output_type": "execute_result"
    }
   ],
   "source": [
    "resp = app.invoke(\n",
    "    {\"messages\": [HumanMessage(content=\"查询北京的天气?\")]},\n",
    "    config={\"configurable\": {\"thread_id\": 123}}\n",
    ")\n",
    "print(\"\\n\")\n",
    "resp[\"messages\"][-1].content"
   ]
  },
  {
   "cell_type": "code",
   "execution_count": 12,
   "id": "eb3d59c2-b903-4005-a742-4f7d2e088d90",
   "metadata": {},
   "outputs": [
    {
     "name": "stdout",
     "output_type": "stream",
     "text": [
      "call_model messages length:7\n",
      "should_continue messages length:8\n",
      "return tools\n",
      "模拟互联网请求，调用search tools query value is: 深圳\n",
      "call_model messages length:9\n",
      "should_continue messages length:10\n",
      "\n",
      "\n"
     ]
    },
    {
     "data": {
      "text/plain": [
       "'当前深圳的温度是32°C。请做好防暑措施，注意保持水分补充和避免长时间在户外活动。如有需要，我可以为您提供更多的天气信息或建议。'"
      ]
     },
     "execution_count": 12,
     "metadata": {},
     "output_type": "execute_result"
    }
   ],
   "source": [
    "resp02 = app.invoke(\n",
    "    {\"messages\": [HumanMessage(content=\"查询深圳的天气?\")]},\n",
    "    config={\"configurable\": {\"thread_id\": 123}}\n",
    ")\n",
    "print(\"\\n\")\n",
    "resp02[\"messages\"][-1].content"
   ]
  },
  {
   "cell_type": "code",
   "execution_count": 13,
   "id": "8f3cbcb6-de35-40db-9097-66975a72a881",
   "metadata": {},
   "outputs": [
    {
     "name": "stdout",
     "output_type": "stream",
     "text": [
      "call_model messages length:11\n",
      "should_continue messages length:12\n",
      "return tools\n",
      "模拟互联网请求，调用search tools query value is: 上海\n",
      "call_model messages length:13\n",
      "should_continue messages length:14\n",
      "\n",
      "\n"
     ]
    },
    {
     "data": {
      "text/plain": [
       "'当前上海的温度是15°C。请根据天气适当增减衣物，保持舒适。如有需要，我可以为您提供更多的天气信息或建议。'"
      ]
     },
     "execution_count": 13,
     "metadata": {},
     "output_type": "execute_result"
    }
   ],
   "source": [
    "# 查询个其它温度，随机温度\n",
    "resp03 = app.invoke(\n",
    "    {\"messages\": [HumanMessage(content=\"查询上海的天气?\")]},\n",
    "    config={\"configurable\": {\"thread_id\": 123}}\n",
    ")\n",
    "print(\"\\n\")\n",
    "resp03[\"messages\"][-1].content"
   ]
  },
  {
   "cell_type": "code",
   "execution_count": null,
   "id": "8497a3d9-7bc6-4ddc-8120-243f3c752e4c",
   "metadata": {},
   "outputs": [],
   "source": []
  }
 ],
 "metadata": {
  "kernelspec": {
   "display_name": "Python 3 (ipykernel)",
   "language": "python",
   "name": "python3"
  },
  "language_info": {
   "codemirror_mode": {
    "name": "ipython",
    "version": 3
   },
   "file_extension": ".py",
   "mimetype": "text/x-python",
   "name": "python",
   "nbconvert_exporter": "python",
   "pygments_lexer": "ipython3",
   "version": "3.11.9"
  }
 },
 "nbformat": 4,
 "nbformat_minor": 5
}
