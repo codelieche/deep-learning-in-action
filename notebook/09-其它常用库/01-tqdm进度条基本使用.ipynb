{
 "cells": [
  {
   "cell_type": "markdown",
   "id": "85afd8fd-a35f-4671-8ff1-04242ac815d4",
   "metadata": {},
   "source": [
    "## tqdm进度条基本使用\n",
    "\n",
    "- https://github.com/tqdm/tqdm\n",
    "\n",
    "  安装：\n",
    "  ```bash\n",
    "  pip install tqdm\n",
    "  ```"
   ]
  },
  {
   "cell_type": "code",
   "execution_count": 1,
   "id": "ac94e35f-28ef-4e19-81bb-b4bb09df516c",
   "metadata": {},
   "outputs": [],
   "source": [
    "import time\n",
    "import sys\n",
    "\n",
    "from tqdm import tqdm, trange"
   ]
  },
  {
   "cell_type": "markdown",
   "id": "9e3dd56c-0d16-43a4-b7f9-3551a4234fb5",
   "metadata": {},
   "source": [
    "### 1. 简单示例"
   ]
  },
  {
   "cell_type": "markdown",
   "id": "71f83c3f-ab88-4306-a603-0cbdeb199361",
   "metadata": {},
   "source": [
    "#### 1.1 循环遍历100次展示进度条"
   ]
  },
  {
   "cell_type": "code",
   "execution_count": 2,
   "id": "525932a8-89fe-45d0-b04f-8650b7e3b6d8",
   "metadata": {},
   "outputs": [
    {
     "name": "stderr",
     "output_type": "stream",
     "text": [
      "100%|███████████████████████████████████████████████████████| 100/100 [00:01<00:00, 81.71it/s]\n"
     ]
    }
   ],
   "source": [
    "# 第1个参数：iterable  传递一个 可迭代对象\n",
    "for i in tqdm(range(100)):\n",
    "    time.sleep(0.01)"
   ]
  },
  {
   "cell_type": "code",
   "execution_count": 3,
   "id": "fd8c125d-c194-4b96-b9af-e89737d42cb8",
   "metadata": {},
   "outputs": [
    {
     "name": "stderr",
     "output_type": "stream",
     "text": [
      "Processing: 100%|███████████████████████████████████████████| 100/100 [00:01<00:00, 83.72it/s]\n"
     ]
    }
   ],
   "source": [
    "# 第2个参数：desc: 字符串，进度条左边的描述文字\n",
    "for i in tqdm(range(100), desc=\"Processing\"):\n",
    "    time.sleep(0.01)"
   ]
  },
  {
   "cell_type": "code",
   "execution_count": 4,
   "id": "cd72bed8-27c4-44cc-beb3-a9805b270777",
   "metadata": {},
   "outputs": [
    {
     "name": "stderr",
     "output_type": "stream",
     "text": [
      "Processing:  50%|█████████████████████▌                     | 100/200 [00:01<00:01, 82.84it/s]\n"
     ]
    }
   ],
   "source": [
    "# 第3个参数：total: int或者float, 迭代的次数，不填写就是：len(iterable)的值\n",
    "for i in tqdm(range(100), desc=\"Processing\", total=200):\n",
    "    time.sleep(0.01)"
   ]
  },
  {
   "cell_type": "code",
   "execution_count": 5,
   "id": "3dec0847-231d-47c4-9af8-3568f349d83a",
   "metadata": {},
   "outputs": [
    {
     "name": "stderr",
     "output_type": "stream",
     "text": [
      "                                                                                              \r"
     ]
    }
   ],
   "source": [
    "# 第4个参数：leave：bool类型，迭代完后进度条是否保留，默认True\n",
    "# False\n",
    "for i in tqdm(range(100), desc=\"Processing\", total=100, leave=False):\n",
    "    time.sleep(0.01)"
   ]
  },
  {
   "cell_type": "code",
   "execution_count": 6,
   "id": "09448a2a-4cb7-431c-bff2-8169236738ab",
   "metadata": {},
   "outputs": [
    {
     "name": "stderr",
     "output_type": "stream",
     "text": [
      "Processing: 100%|███████████████████████████████████████████| 100/100 [00:01<00:00, 83.03it/s]\n"
     ]
    }
   ],
   "source": [
    "# True\n",
    "for i in tqdm(range(100), desc=\"Processing\", total=100, leave=True):\n",
    "    time.sleep(0.01)"
   ]
  },
  {
   "cell_type": "code",
   "execution_count": 7,
   "id": "c519f527-6859-4f85-830b-cb8c1818dd60",
   "metadata": {},
   "outputs": [
    {
     "name": "stdout",
     "output_type": "stream",
     "text": [
      "Processing: 100%|███████████████████████████████████████████| 100/100 [00:01<00:00, 82.83it/s]\n"
     ]
    }
   ],
   "source": [
    "# 第5个参数：file 输出指定的位置，默认就是终端，一般不需要设置\n",
    "for i in tqdm(range(100), desc=\"Processing\", total=100, leave=True, file=sys.stdout):\n",
    "    time.sleep(0.01)"
   ]
  },
  {
   "cell_type": "code",
   "execution_count": 8,
   "id": "d7beeb1a-8c20-4526-b5af-93b67ed315a7",
   "metadata": {},
   "outputs": [
    {
     "name": "stderr",
     "output_type": "stream",
     "text": [
      "Processing: 100% 100/100 [00:01<00:00, 83.54it/s]\n"
     ]
    }
   ],
   "source": [
    "# 第6个参数：ncols: 调整进度条宽度，默认是自动调节长度，如果是0就是没有进度条，只有输出信息\n",
    "# 设置为0\n",
    "for i in tqdm(range(100), desc=\"Processing\", total=100, leave=True, ncols=0):\n",
    "    time.sleep(0.01)"
   ]
  },
  {
   "cell_type": "code",
   "execution_count": 9,
   "id": "55030217-0053-4f99-85f8-eab971809fe0",
   "metadata": {},
   "outputs": [
    {
     "name": "stderr",
     "output_type": "stream",
     "text": [
      "Processing: 100%|███████████████████████████████████████████████████████████████████████████████| 100/100 [00:01<00:00, 82.83it/s]\n"
     ]
    }
   ],
   "source": [
    "# 设置ncols为100\n",
    "for i in tqdm(range(100), desc=\"Processing\", total=100, leave=True, ncols=130):\n",
    "    time.sleep(0.01)"
   ]
  },
  {
   "cell_type": "code",
   "execution_count": 10,
   "id": "55322981-5673-441d-bcd0-0d9ad967b3ec",
   "metadata": {},
   "outputs": [
    {
     "name": "stderr",
     "output_type": "stream",
     "text": [
      "Processing: 100%|███████████████████████████████████████████| 100/100 [00:01<00:00, 83.23Mb/s]\n"
     ]
    }
   ],
   "source": [
    "# 第7个参数：unit 描述处理项目的文字，默认是：it\n",
    "for i in tqdm(range(100), desc=\"Processing\", unit=\"Mb\"):\n",
    "    time.sleep(0.01)"
   ]
  },
  {
   "cell_type": "code",
   "execution_count": 11,
   "id": "68a93553-9a95-471a-bf5f-a1aacb54cf6c",
   "metadata": {},
   "outputs": [
    {
     "name": "stderr",
     "output_type": "stream",
     "text": [
      "Processing: 100%|\u001b[32m███████████████████████████████████████████\u001b[0m| 100/100 [00:01<00:00, 84.40it/s]\u001b[0m\n"
     ]
    }
   ],
   "source": [
    "# colour: 设置颜色\n",
    "for i in tqdm(range(100), desc=\"Processing\", total=100, leave=True, colour=\"green\"):\n",
    "    time.sleep(0.01)"
   ]
  },
  {
   "cell_type": "markdown",
   "id": "32bab467-62e9-4916-81a2-e53ca0ee5182",
   "metadata": {},
   "source": [
    "#### 1.2 中途修改描述文字"
   ]
  },
  {
   "cell_type": "code",
   "execution_count": 12,
   "id": "c1642c7e-91be-4dd3-9dab-f67712e3cee9",
   "metadata": {},
   "outputs": [
    {
     "name": "stderr",
     "output_type": "stream",
     "text": [
      "Processing 100%: 100%|██████████████████████████████████████████████████████████████████████████| 100/100 [00:01<00:00, 72.69it/s]\n"
     ]
    }
   ],
   "source": [
    "# 记得先实例化tqdm\n",
    "# 方式一：执行set_description方法\n",
    "tbar = tqdm(range(100), desc=\"Processing\", total=100, leave=True, ncols=130)\n",
    "for i in tbar:\n",
    "    time.sleep(0.01)\n",
    "    tbar.set_description(\"Processing {}%\".format(i + 1))\n",
    "    "
   ]
  },
  {
   "cell_type": "code",
   "execution_count": 13,
   "id": "8d6b4bd4-a097-4a4e-9052-4e4e13f5f9c3",
   "metadata": {},
   "outputs": [
    {
     "name": "stderr",
     "output_type": "stream",
     "text": [
      "Processing 100/100: 100%|███████████████████████████████████████████████████████████████████████| 100/100 [00:05<00:00, 18.27it/s]\n"
     ]
    }
   ],
   "source": [
    "# 方式2: 直接修改desc属性\n",
    "tbar = tqdm(range(100), desc=\"Processing\", total=100, leave=True, ncols=130)\n",
    "for i in tbar:\n",
    "    time.sleep(0.05)\n",
    "    tbar.desc = \"Processing {}/{}\".format(i + 1, len(tbar))"
   ]
  },
  {
   "cell_type": "markdown",
   "id": "041853fe-0b76-4c12-bbf7-7da433ee7f9a",
   "metadata": {},
   "source": [
    "#### 1.3 手动更新进度\n",
    "> 我们指定总共有100个步骤，我们每次更新5步。"
   ]
  },
  {
   "cell_type": "code",
   "execution_count": 14,
   "id": "f28e14e0-324a-4f38-90e9-d4de43c03dab",
   "metadata": {},
   "outputs": [
    {
     "name": "stderr",
     "output_type": "stream",
     "text": [
      "100%|███████████████████████████████████████████████████████| 100/100 [00:01<00:00, 91.47it/s]\n"
     ]
    }
   ],
   "source": [
    "# 方式1：先实例化dqtm\n",
    "pbar = tqdm(total=100)\n",
    "for i in range(20):\n",
    "    time.sleep(0.05)\n",
    "    # 调用update方法\n",
    "    pbar.update(5)\n",
    "# 调用close\n",
    "pbar.close()"
   ]
  },
  {
   "cell_type": "code",
   "execution_count": 15,
   "id": "97c8b9e3-9209-4ce2-b98a-a18a9da3ec8a",
   "metadata": {},
   "outputs": [
    {
     "name": "stderr",
     "output_type": "stream",
     "text": [
      "100%|\u001b[32m███████████████████████████████████████████████████████\u001b[0m| 100/100 [00:01<00:00, 91.72it/s]\u001b[0m\n"
     ]
    }
   ],
   "source": [
    "# 方式2：with包裹\n",
    "with tqdm(total=100, colour=\"green\") as pbar:\n",
    "    for i in range(20):\n",
    "        time.sleep(0.05)\n",
    "        # 调用update方法\n",
    "        pbar.update(5)"
   ]
  },
  {
   "cell_type": "markdown",
   "id": "f6675b58-a545-4de5-91c5-349a606cb46f",
   "metadata": {},
   "source": [
    "#### 1.4 tqdm中的trange"
   ]
  },
  {
   "cell_type": "code",
   "execution_count": 16,
   "id": "1140ceb2-89de-44cb-a143-c05b0cfe224b",
   "metadata": {},
   "outputs": [
    {
     "name": "stderr",
     "output_type": "stream",
     "text": [
      "100%|███████████████████████████████████████████████████████| 100/100 [00:01<00:00, 82.23it/s]\n"
     ]
    }
   ],
   "source": [
    "# fraom tqdm import trange\n",
    "\n",
    "for i in trange(100):\n",
    "    time.sleep(0.01)"
   ]
  },
  {
   "cell_type": "code",
   "execution_count": null,
   "id": "4c3b07f8-4102-42ad-b745-612203ccbc25",
   "metadata": {},
   "outputs": [],
   "source": []
  }
 ],
 "metadata": {
  "kernelspec": {
   "display_name": "Python 3 (ipykernel)",
   "language": "python",
   "name": "python3"
  },
  "language_info": {
   "codemirror_mode": {
    "name": "ipython",
    "version": 3
   },
   "file_extension": ".py",
   "mimetype": "text/x-python",
   "name": "python",
   "nbconvert_exporter": "python",
   "pygments_lexer": "ipython3",
   "version": "3.11.5"
  }
 },
 "nbformat": 4,
 "nbformat_minor": 5
}
