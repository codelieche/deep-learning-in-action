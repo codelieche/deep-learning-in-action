{
 "cells": [
  {
   "cell_type": "markdown",
   "id": "ab371d0f-82e0-4251-9aa4-12f3bf0b532f",
   "metadata": {},
   "source": [
    "## 回归预测x与y的关系-使用神经网络\n",
    "\n",
    "神经网络(一种通过简单函数的组合来实现复杂函数的数学实体)是深度学习的核心。   \n",
    "`PyTorch`中有一个专门用于神经网络的模块`torch.nn`，（Neural Network）`nn`模块包含创建各种神经网络结构所需的构建块。\n",
    "\n",
    "上一篇中我们使用了线性模型，这一篇我们使用神经网络：  \n",
    "- 使用一个线性模型：1个输入，16个输出\n",
    "- 然后使用一个激活函数，这里我们使用`tanh`\n",
    "- 再输入到另外一个线性模型中。16个输入，1个输出\n",
    "\n",
    "> 第一个线性模型和激活层通常被称为隐藏层（他们的输出不是直接能观察到的，这个输出直接输入到后面的一层线性模型中了）。\n",
    "> `torch.nn`中通过`nn.Sequential`容器来连接模型。\n"
   ]
  },
  {
   "cell_type": "code",
   "execution_count": 1,
   "id": "afdfc86d-ce5f-4b26-a550-77fbb86e4e7b",
   "metadata": {},
   "outputs": [
    {
     "name": "stdout",
     "output_type": "stream",
     "text": [
      "\n"
     ]
    }
   ],
   "source": [
    "%matplotlib inline\n",
    "import torch\n",
    "import torch.nn as nn\n",
    "import torch.optim as optim\n",
    "\n",
    "import numpy as np\n",
    "import matplotlib.pyplot as plt\n",
    "\n",
    "torch.set_printoptions(edgeitems=2)\n",
    "torch.manual_seed(123456)\n",
    "\n",
    "print(\"\")"
   ]
  },
  {
   "cell_type": "markdown",
   "id": "8474bd84-2718-4ad6-bb57-ff08dafa0797",
   "metadata": {},
   "source": [
    "### 1. 我们先画一下tanh函数的图像"
   ]
  },
  {
   "cell_type": "code",
   "execution_count": 2,
   "id": "bb00bb17-301a-45ab-81c4-7cd2405a4488",
   "metadata": {},
   "outputs": [
    {
     "data": {
      "text/plain": [
       "(-1.0, 0.9999999999244973)"
      ]
     },
     "execution_count": 2,
     "metadata": {},
     "output_type": "execute_result"
    }
   ],
   "source": [
    "import math\n",
    "math.tanh(-100), math.tanh(12)"
   ]
  },
  {
   "cell_type": "code",
   "execution_count": 3,
   "id": "72561710-490e-4921-9864-6729e3cee5f7",
   "metadata": {},
   "outputs": [
    {
     "data": {
      "text/plain": [
       "(-1.0, 0.9999999999244973)"
      ]
     },
     "execution_count": 3,
     "metadata": {},
     "output_type": "execute_result"
    }
   ],
   "source": [
    "np.tanh(-100), np.tanh(12)"
   ]
  },
  {
   "cell_type": "code",
   "execution_count": 4,
   "id": "136f60ef-1181-4351-930e-b77889e2e524",
   "metadata": {},
   "outputs": [],
   "source": [
    "# x中的点\n",
    "x_line = np.linspace(-10,10,500)\n",
    "y_line = np.tanh(x_line)"
   ]
  },
  {
   "cell_type": "code",
   "execution_count": 5,
   "id": "845c5914-680c-4703-b87d-3505d7b7d6e5",
   "metadata": {},
   "outputs": [
    {
     "data": {
      "image/png": "[encoded data removed]",
      "text/plain": [
       "<Figure size 400x300 with 1 Axes>"
      ]
     },
     "metadata": {},
     "output_type": "display_data"
    }
   ],
   "source": [
    "# 画图\n",
    "fig = plt.figure(figsize=(4,3), dpi=100)\n",
    "plt.xlabel(\"x\")\n",
    "plt.ylabel(\"y = math.tan(x)\")\n",
    "plt.plot(x_line, y_line, label=\"y = math.tan(x)\", color=\"gray\")\n",
    "plt.show()"
   ]
  },
  {
   "cell_type": "markdown",
   "id": "152f1275-0b3a-4c77-a5e3-a280d29e8162",
   "metadata": {},
   "source": [
    "### 2. 组合一个简单网络\n",
    "`nn.Sequential`是一个有序的容器，它包含一系列模块，并按照他们在构造函数中传递的顺序进行前向传播。    \n",
    "这是一个非常方便的模块，允许我们快速的搭建一个由多个层组成的简单网络，这样组合的神经网络，不需要定义自己的`forward`方法。"
   ]
  },
  {
   "cell_type": "code",
   "execution_count": 6,
   "id": "3e70fff7-3fd8-4545-bdf6-7266f7be3845",
   "metadata": {},
   "outputs": [],
   "source": [
    "model = nn.Sequential(\n",
    "    # 张量输入大小是1，输出的张量大小是16\n",
    "    nn.Linear(1, 16),  # 第一层\n",
    "    nn.Tanh(),         # 第一层(隐藏层)的激活函数\n",
    "    nn.Linear(16, 1),  # 输出层 16个输入，1个输出\n",
    ")"
   ]
  },
  {
   "cell_type": "code",
   "execution_count": 7,
   "id": "e5c7320e-61f8-4772-853b-239ebca2e76c",
   "metadata": {},
   "outputs": [
    {
     "data": {
      "text/plain": [
       "Sequential(\n",
       "  (0): Linear(in_features=1, out_features=16, bias=True)\n",
       "  (1): Tanh()\n",
       "  (2): Linear(in_features=16, out_features=1, bias=True)\n",
       ")"
      ]
     },
     "execution_count": 7,
     "metadata": {},
     "output_type": "execute_result"
    }
   ],
   "source": [
    "model"
   ]
  },
  {
   "cell_type": "code",
   "execution_count": 8,
   "id": "c24f1190-4dd4-46c9-b7fd-2284ddd2ff9d",
   "metadata": {},
   "outputs": [
    {
     "name": "stdout",
     "output_type": "stream",
     "text": [
      "<class 'torch.nn.parameter.Parameter'> torch.Size([16, 1]) 16\n",
      "<class 'torch.nn.parameter.Parameter'> torch.Size([16]) 16\n",
      "<class 'torch.nn.parameter.Parameter'> torch.Size([1, 16]) 16\n",
      "<class 'torch.nn.parameter.Parameter'> torch.Size([1]) 1\n"
     ]
    }
   ],
   "source": [
    "# 查看模型的参数\n",
    "for p in model.parameters():\n",
    "    print(type(p), p.shape, p.numel())"
   ]
  },
  {
   "cell_type": "code",
   "execution_count": 9,
   "id": "b9ba3183-c507-4e9f-b214-1a65ddfa85c8",
   "metadata": {},
   "outputs": [
    {
     "name": "stdout",
     "output_type": "stream",
     "text": [
      "0.weight <class 'torch.nn.parameter.Parameter'> \t torch.Size([16, 1])\n",
      "0.bias <class 'torch.nn.parameter.Parameter'> \t torch.Size([16])\n",
      "2.weight <class 'torch.nn.parameter.Parameter'> \t torch.Size([1, 16])\n",
      "2.bias <class 'torch.nn.parameter.Parameter'> \t torch.Size([1])\n"
     ]
    }
   ],
   "source": [
    "# 查看模型的参数: name 和 params\n",
    "for name, p in model.named_parameters():\n",
    "    print(name, type(p), \"\\t\", p.shape)"
   ]
  },
  {
   "cell_type": "code",
   "execution_count": 10,
   "id": "a5da6d95-2b8d-4f33-8caa-e17c6fae7a1e",
   "metadata": {},
   "outputs": [
    {
     "data": {
      "text/plain": [
       "49"
      ]
     },
     "execution_count": 10,
     "metadata": {},
     "output_type": "execute_result"
    }
   ],
   "source": [
    "# 统计模型的参数个数\n",
    "sum([p.numel() for p in model.parameters() if p.requires_grad])"
   ]
  },
  {
   "cell_type": "markdown",
   "id": "d479fe7e-a9ac-4474-956d-0c54b1f77780",
   "metadata": {},
   "source": [
    "### 3. 训练循环"
   ]
  },
  {
   "cell_type": "markdown",
   "id": "c978f3ef-7d1e-4511-a48a-7e6662584fb3",
   "metadata": {},
   "source": [
    "#### 3.1 编写训练循环"
   ]
  },
  {
   "cell_type": "code",
   "execution_count": 11,
   "id": "ca56b8d1-83ae-4b1c-ad72-f7911ac43daa",
   "metadata": {},
   "outputs": [],
   "source": [
    "def training_loop(epochs, model, optimizer, loss_function, train_source, train_real_value, print_step=10):\n",
    "    for epoch in range(epochs):\n",
    "        # 先对参数的梯段置零\n",
    "        optimizer.zero_grad()\n",
    "\n",
    "        # 正向传播：计算预测值\n",
    "        predict = model(train_source)\n",
    "        \n",
    "        # 计算损失\n",
    "        loss = loss_function(predict, train_real_value)\n",
    "        \n",
    "        # print(epoch, \"loss is\", loss)\n",
    "        # 反向传播: 更新params的梯度\n",
    "        loss.backward()\n",
    "        \n",
    "        # 不需要手动去修改params了，直接调用优化器的step()\n",
    "        optimizer.step()\n",
    "            \n",
    "        # 输出日志信息\n",
    "        if  epoch == 0 or (epoch + 1) % print_step == 0:\n",
    "            print(\"第{}次训练, Loss is {:.2f}\".format(epoch + 1, float(loss)))"
   ]
  },
  {
   "cell_type": "markdown",
   "id": "ad927d59-cfa8-4075-9941-d873027317bb",
   "metadata": {},
   "source": [
    "#### 3.2 损失函数和优化器"
   ]
  },
  {
   "cell_type": "code",
   "execution_count": 12,
   "id": "07164280-55fc-4094-8b9e-e47d1ce56bcc",
   "metadata": {},
   "outputs": [
    {
     "data": {
      "text/plain": [
       "Sequential(\n",
       "  (0): Linear(in_features=1, out_features=16, bias=True)\n",
       "  (1): Tanh()\n",
       "  (2): Linear(in_features=16, out_features=1, bias=True)\n",
       ")"
      ]
     },
     "execution_count": 12,
     "metadata": {},
     "output_type": "execute_result"
    }
   ],
   "source": [
    "# 查看model\n",
    "model"
   ]
  },
  {
   "cell_type": "code",
   "execution_count": 13,
   "id": "b3692d76-0a18-44b3-b8bb-624a74739359",
   "metadata": {},
   "outputs": [],
   "source": [
    "# 优化器\n",
    "learning_rate = 1e-3\n",
    "optimizer = optim.SGD(\n",
    "    model.parameters(),\n",
    "    lr=learning_rate\n",
    ")\n",
    "\n",
    "# 损失函数\n",
    "def loss_function(predict, real_value):\n",
    "    squared_diffs = (predict - real_value)**2\n",
    "    return squared_diffs.mean()"
   ]
  },
  {
   "cell_type": "markdown",
   "id": "f2cd66ff-71b6-4ae5-a314-4e2b8c962c12",
   "metadata": {},
   "source": [
    "#### 3.3 执行训练循环\n"
   ]
  },
  {
   "cell_type": "markdown",
   "id": "6b9374be-7d2a-4364-9e97-8ccf3b88b8b6",
   "metadata": {},
   "source": [
    "**准备训练数据：**"
   ]
  },
  {
   "cell_type": "code",
   "execution_count": 14,
   "id": "7550b287-ce20-48da-b64b-3c53414b5e42",
   "metadata": {},
   "outputs": [
    {
     "name": "stdout",
     "output_type": "stream",
     "text": [
      "torch.Size([13, 1]) torch.Size([13, 1])\n"
     ]
    }
   ],
   "source": [
    "# x and y\n",
    "x = [-6.0, -4.0, -1.2, -1.6, 1.0, 1.5, 2.3, 1.9, 3.3, 4.2, 5.0, 7.7, 8.2]\n",
    "x = torch.tensor(x).unsqueeze(1)\n",
    "\n",
    "y = torch.tensor([\n",
    "    -36.8778, -26.4276, -19.5442, -20.2848, -10.5902, -13.0207, -10.1414, -9.3716,\n",
    "    -4.7571,  -1.8561, 1.2260,  12.6646,  12.8662\n",
    "]).unsqueeze(1)\n",
    "print(x.shape, y.shape)"
   ]
  },
  {
   "cell_type": "markdown",
   "id": "fffbe644-a760-4f27-a5ed-cc5fa934448a",
   "metadata": {},
   "source": [
    "**执行训练：**"
   ]
  },
  {
   "cell_type": "code",
   "execution_count": 15,
   "id": "353de8a2-a66d-4695-8ea9-b787547c16c5",
   "metadata": {},
   "outputs": [
    {
     "name": "stdout",
     "output_type": "stream",
     "text": [
      "第1次训练, Loss is 275.76\n",
      "第1000次训练, Loss is 3.60\n",
      "第2000次训练, Loss is 2.09\n",
      "第3000次训练, Loss is 1.64\n",
      "第4000次训练, Loss is 1.42\n",
      "第5000次训练, Loss is 1.30\n",
      "第6000次训练, Loss is 1.22\n",
      "第7000次训练, Loss is 1.16\n",
      "第8000次训练, Loss is 1.12\n",
      "第9000次训练, Loss is 1.09\n",
      "第10000次训练, Loss is 1.06\n",
      "第11000次训练, Loss is 1.04\n",
      "第12000次训练, Loss is 1.01\n",
      "第13000次训练, Loss is 0.95\n",
      "第14000次训练, Loss is 0.89\n",
      "第15000次训练, Loss is 0.85\n",
      "第16000次训练, Loss is 0.82\n",
      "第17000次训练, Loss is 0.80\n",
      "第18000次训练, Loss is 0.78\n",
      "第19000次训练, Loss is 0.77\n",
      "第20000次训练, Loss is 0.76\n"
     ]
    }
   ],
   "source": [
    "training_loop(\n",
    "    epochs=20000,\n",
    "    model=model,\n",
    "    optimizer=optimizer,\n",
    "    loss_function=loss_function,\n",
    "    train_source=x,\n",
    "    train_real_value=y,\n",
    "    print_step=1000\n",
    ")"
   ]
  },
  {
   "cell_type": "markdown",
   "id": "b22dbfe4-15e6-402a-bfd1-7e0f0a9ad4a0",
   "metadata": {},
   "source": [
    "**查看一下我们模型调用后的输出值：**"
   ]
  },
  {
   "cell_type": "code",
   "execution_count": 16,
   "id": "36340040-07ea-4275-afcd-9db60dff9cd6",
   "metadata": {},
   "outputs": [
    {
     "data": {
      "text/plain": [
       "tensor([[-36.7782],\n",
       "        [-26.5868],\n",
       "        [-19.4120],\n",
       "        [-20.2429],\n",
       "        [-12.2612],\n",
       "        [-11.1146],\n",
       "        [ -9.0226],\n",
       "        [-10.1243],\n",
       "        [ -5.6757],\n",
       "        [ -1.9590],\n",
       "        [  1.6859],\n",
       "        [ 12.0619],\n",
       "        [ 13.3105]], grad_fn=<AddmmBackward0>)"
      ]
     },
     "execution_count": 16,
     "metadata": {},
     "output_type": "execute_result"
    }
   ],
   "source": [
    "# 模型计算出的预测值\n",
    "model(x)"
   ]
  },
  {
   "cell_type": "code",
   "execution_count": 17,
   "id": "0877b98e-352a-47bc-8089-2cfd23c65e23",
   "metadata": {},
   "outputs": [
    {
     "data": {
      "text/plain": [
       "tensor([[-36.8778],\n",
       "        [-26.4276],\n",
       "        [-19.5442],\n",
       "        [-20.2848],\n",
       "        [-10.5902],\n",
       "        [-13.0207],\n",
       "        [-10.1414],\n",
       "        [ -9.3716],\n",
       "        [ -4.7571],\n",
       "        [ -1.8561],\n",
       "        [  1.2260],\n",
       "        [ 12.6646],\n",
       "        [ 12.8662]])"
      ]
     },
     "execution_count": 17,
     "metadata": {},
     "output_type": "execute_result"
    }
   ],
   "source": [
    "# 真实的输出\n",
    "y"
   ]
  },
  {
   "cell_type": "markdown",
   "id": "6abe8656-d7d4-48f1-af97-0c5d62967ca9",
   "metadata": {},
   "source": [
    "#### 3.5 画图展示"
   ]
  },
  {
   "cell_type": "code",
   "execution_count": 18,
   "id": "12777ad5-20bf-4376-8744-62d99338e389",
   "metadata": {},
   "outputs": [],
   "source": [
    "# x中的点\n",
    "x_line = np.linspace(-10,10,500, dtype=np.float32)\n",
    "\n",
    "# y的点\n",
    "# x_range = torch.arange(-10., 10.).unsqueeze(1)\n",
    "x_range = torch.from_numpy(x_line).unsqueeze(1)\n",
    "y_line = model(x_range).detach().numpy()"
   ]
  },
  {
   "cell_type": "code",
   "execution_count": 19,
   "id": "c349dc75-e9ed-40fc-b1a0-ac5a64d9549f",
   "metadata": {},
   "outputs": [
    {
     "data": {
      "image/png": "[encoded data removed]",
      "text/plain": [
       "<Figure size 600x500 with 1 Axes>"
      ]
     },
     "metadata": {},
     "output_type": "display_data"
    }
   ],
   "source": [
    "# 画图\n",
    "fig = plt.figure(figsize=(6,5), dpi=100)\n",
    "plt.xlabel(\"x\")\n",
    "plt.ylabel(\"y = model(x)\")\n",
    "plt.plot(x_line, y_line, label=\"y = model(x)\", color=\"black\", linewidth=1)\n",
    "plt.plot(x.numpy(), y.numpy(), 'o', color=\"red\")\n",
    "plt.plot(x.numpy(), model(x).detach().numpy(), 'x', color=\"blue\", alpha=0.9)\n",
    "plt.show()"
   ]
  },
  {
   "cell_type": "code",
   "execution_count": null,
   "id": "0ae0f5f2-53c0-4bdc-ad77-1b4bbf18fb7a",
   "metadata": {},
   "outputs": [],
   "source": []
  }
 ],
 "metadata": {
  "kernelspec": {
   "display_name": "Python 3 (ipykernel)",
   "language": "python",
   "name": "python3"
  },
  "language_info": {
   "codemirror_mode": {
    "name": "ipython",
    "version": 3
   },
   "file_extension": ".py",
   "mimetype": "text/x-python",
   "name": "python",
   "nbconvert_exporter": "python",
   "pygments_lexer": "ipython3",
   "version": "3.11.5"
  }
 },
 "nbformat": 4,
 "nbformat_minor": 5
}
