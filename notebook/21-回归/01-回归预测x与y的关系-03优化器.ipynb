{
 "cells": [
  {
   "cell_type": "markdown",
   "id": "df4c8f32-7fea-42da-96d6-a7e1810cb59b",
   "metadata": {},
   "source": [
    "## 回归预测x和y的关系--优化器"
   ]
  },
  {
   "cell_type": "markdown",
   "id": "c6ccc69f-51cd-494c-8aaa-d6bb95d364d8",
   "metadata": {},
   "source": [
    "> 在前面的文档中，我们体验了手动计算/`PyTorch`自动求导，得到w和b的偏导数(得到梯度)。然后指定一个学习率，来修改`params`。    \n",
    "> 我们使用的是批量梯度下降进行的优化，这里我们只`w`和`b`2个参数，如果模型很大，参数很多很复杂时，我们的这个方式就不适合了。\n",
    "\n",
    "\n",
    "`torch`模块中的`optim`子模块实现了不同的优化算法的类。我们可以使用它们。"
   ]
  },
  {
   "cell_type": "code",
   "execution_count": 1,
   "id": "2a120f02-7da7-48dc-8187-74c1ad0aa981",
   "metadata": {},
   "outputs": [
    {
     "name": "stdout",
     "output_type": "stream",
     "text": [
      "\n"
     ]
    }
   ],
   "source": [
    "%matplotlib inline\n",
    "import torch\n",
    "import numpy as np\n",
    "import matplotlib.pyplot as plt\n",
    "\n",
    "torch.set_printoptions(edgeitems=2)\n",
    "torch.manual_seed(123456)\n",
    "\n",
    "print(\"\")"
   ]
  },
  {
   "cell_type": "markdown",
   "id": "95bb9792-65d0-4b82-9514-306200e18ae3",
   "metadata": {},
   "source": [
    "### 1. 查看实现的优化器"
   ]
  },
  {
   "cell_type": "code",
   "execution_count": 2,
   "id": "204f8e65-9f26-458d-aff3-31d81a37c126",
   "metadata": {},
   "outputs": [],
   "source": [
    "import torch.optim as optim"
   ]
  },
  {
   "cell_type": "code",
   "execution_count": 3,
   "id": "058aee5d-f802-484a-af47-8f97268ce3e2",
   "metadata": {},
   "outputs": [
    {
     "data": {
      "text/plain": [
       "['ASGD',\n",
       " 'Adadelta',\n",
       " 'Adagrad',\n",
       " 'Adam',\n",
       " 'AdamW',\n",
       " 'Adamax',\n",
       " 'LBFGS',\n",
       " 'NAdam',\n",
       " 'Optimizer',\n",
       " 'RAdam',\n",
       " 'RMSprop',\n",
       " 'Rprop',\n",
       " 'SGD',\n",
       " 'SparseAdam',\n",
       " '__builtins__',\n",
       " '__cached__',\n",
       " '__doc__',\n",
       " '__file__',\n",
       " '__loader__',\n",
       " '__name__',\n",
       " '__package__',\n",
       " '__path__',\n",
       " '__spec__',\n",
       " '_functional',\n",
       " '_multi_tensor',\n",
       " 'lr_scheduler',\n",
       " 'swa_utils']"
      ]
     },
     "execution_count": 3,
     "metadata": {},
     "output_type": "execute_result"
    }
   ],
   "source": [
    "dir(optim)"
   ]
  },
  {
   "cell_type": "markdown",
   "id": "5936e776-a4c7-41ae-a829-1d51895189ed",
   "metadata": {},
   "source": [
    "> 每个优化器构造函数都需要接受一个参数列表(`PyTorch`张量，通常设置`requires_grad`为`True`)作为第一个输入。\n",
    "\n",
    "每个优化器公开2个方法：\n",
    "- `zero_grad()`： 传递给优化器构造函数中的所有参数的`grad`属性归零。\n",
    "- `step()`：根据特定优化器实现的优化策略更新这些参数的值。"
   ]
  },
  {
   "cell_type": "markdown",
   "id": "368d048d-6102-4d1c-bed5-de1d1a47dffe",
   "metadata": {},
   "source": [
    "### 2. 使用梯度下降优化器"
   ]
  },
  {
   "cell_type": "markdown",
   "id": "ad9bcac2-47fb-4ef8-a103-8227c1682809",
   "metadata": {},
   "source": [
    "#### 2.1 准备x、y和model以及损失函数"
   ]
  },
  {
   "cell_type": "code",
   "execution_count": 4,
   "id": "b8dc9129-05cc-46a9-b6ac-061e2b59e5b7",
   "metadata": {},
   "outputs": [],
   "source": [
    "# x and y\n",
    "x = [-6.0, -4.0, -1.2, -1.6, 1.0, 1.5, 2.3, 1.9, 3.3, 4.2, 5.0, 7.7, 8.2]\n",
    "x = torch.tensor(x)\n",
    "\n",
    "y = torch.tensor([\n",
    "    -36.8778, -26.4276, -19.5442, -20.2848, -10.5902, -13.0207, -10.1414, -9.3716,\n",
    "    -4.7571,  -1.8561, 1.2260,  12.6646,  12.8662\n",
    "])"
   ]
  },
  {
   "cell_type": "code",
   "execution_count": 5,
   "id": "f4b4ddeb-2a57-43b2-93ff-b2391317eb4a",
   "metadata": {},
   "outputs": [
    {
     "data": {
      "image/png": "[encoded data removed]",
      "text/plain": [
       "<Figure size 400x300 with 1 Axes>"
      ]
     },
     "metadata": {},
     "output_type": "display_data"
    }
   ],
   "source": [
    "# 显示x、y的点\n",
    "fig = plt.figure(figsize=(4,3), dpi=100)\n",
    "plt.xlabel(\"x\")\n",
    "plt.ylabel(\"y = w * x + b\")\n",
    "plt.plot(x.numpy(), y.numpy(), '*', color=\"blue\")\n",
    "plt.show()"
   ]
  },
  {
   "cell_type": "code",
   "execution_count": 6,
   "id": "676b84ff-0b11-43e3-9c87-d8010023312a",
   "metadata": {},
   "outputs": [],
   "source": [
    "# model and loss function\n",
    "# 模型\n",
    "def model(source, w, b):\n",
    "    return w * source + b\n",
    "\n",
    "# 损失函数\n",
    "def loss_function(predict, real_value):\n",
    "    squared_diffs = (predict - real_value)**2\n",
    "    return squared_diffs.mean()"
   ]
  },
  {
   "cell_type": "markdown",
   "id": "a673fdd4-837f-466d-9ae5-22d2e0756ae3",
   "metadata": {},
   "source": [
    "#### 2.2 实例化梯度下降优化器"
   ]
  },
  {
   "cell_type": "code",
   "execution_count": 7,
   "id": "f099e291-bef1-405e-abb7-bb8d56679928",
   "metadata": {},
   "outputs": [],
   "source": [
    "params = torch.tensor([1.0, 0.0], requires_grad=True)\n",
    "learning_rate = 1e-4\n",
    "optimizer = optim.SGD([params], lr=learning_rate)"
   ]
  },
  {
   "cell_type": "code",
   "execution_count": 8,
   "id": "dbd07a45-2aad-48c1-927a-a7e7088cb3e5",
   "metadata": {},
   "outputs": [
    {
     "data": {
      "text/plain": [
       "torch.optim.sgd.SGD"
      ]
     },
     "execution_count": 8,
     "metadata": {},
     "output_type": "execute_result"
    }
   ],
   "source": [
    "type(optimizer)"
   ]
  },
  {
   "cell_type": "code",
   "execution_count": 9,
   "id": "60482fb6-6070-4b89-9729-e9ec77c122a9",
   "metadata": {},
   "outputs": [
    {
     "data": {
      "text/plain": [
       "SGD (\n",
       "Parameter Group 0\n",
       "    dampening: 0\n",
       "    differentiable: False\n",
       "    foreach: None\n",
       "    fused: None\n",
       "    lr: 0.0001\n",
       "    maximize: False\n",
       "    momentum: 0\n",
       "    nesterov: False\n",
       "    weight_decay: 0\n",
       ")"
      ]
     },
     "execution_count": 9,
     "metadata": {},
     "output_type": "execute_result"
    }
   ],
   "source": [
    "optimizer"
   ]
  },
  {
   "cell_type": "markdown",
   "id": "888a3d5e-822c-4967-a307-0aa6636146f9",
   "metadata": {},
   "source": [
    "#### 2.3 调用优化器"
   ]
  },
  {
   "cell_type": "code",
   "execution_count": 10,
   "id": "72d48104-5235-4237-8ef4-01b254528afb",
   "metadata": {},
   "outputs": [
    {
     "data": {
      "text/plain": [
       "tensor([1., 0.], requires_grad=True)"
      ]
     },
     "execution_count": 10,
     "metadata": {},
     "output_type": "execute_result"
    }
   ],
   "source": [
    "params"
   ]
  },
  {
   "cell_type": "code",
   "execution_count": 11,
   "id": "5cb8bb4a-3295-4dc7-b5cf-52677b89e006",
   "metadata": {},
   "outputs": [
    {
     "name": "stdout",
     "output_type": "stream",
     "text": [
      "tensor([ 1.0038, -0.0023], requires_grad=True)\n"
     ]
    }
   ],
   "source": [
    "predict = model(x, *params)\n",
    "loss = loss_function(predict, y)\n",
    "\n",
    "# 反向传播\n",
    "loss.backward()\n",
    "\n",
    "# 执行优化器的step()\n",
    "optimizer.step()\n",
    "\n",
    "# 查看新的params\n",
    "print(params)"
   ]
  },
  {
   "cell_type": "markdown",
   "id": "13731d69-55e6-43c2-9b07-aa1fd043ca2e",
   "metadata": {},
   "source": [
    "`params`的值在调用`optimizer.step()`时更新，不需要我们自己去操作修改`params`。   \n",
    "> 优化器会查看`params.grad`并更新`params`，从中减去学习率(learning_rate）乘以梯度(params.grad)，和我们以前手动编写的一样。"
   ]
  },
  {
   "cell_type": "code",
   "execution_count": 12,
   "id": "6300d5dd-9d74-4095-a126-6558f14853df",
   "metadata": {},
   "outputs": [
    {
     "data": {
      "text/plain": [
       "tensor([-38.3199,  22.8330])"
      ]
     },
     "execution_count": 12,
     "metadata": {},
     "output_type": "execute_result"
    }
   ],
   "source": [
    "params.grad"
   ]
  },
  {
   "cell_type": "code",
   "execution_count": 13,
   "id": "cca35eb6-899d-4c18-b57d-0f111e1e24ff",
   "metadata": {},
   "outputs": [],
   "source": [
    "# 给梯度归零\n",
    "optimizer.zero_grad()"
   ]
  },
  {
   "cell_type": "code",
   "execution_count": 14,
   "id": "c7ac9680-8b51-4bee-bc44-ed33d7f35ca8",
   "metadata": {},
   "outputs": [
    {
     "data": {
      "text/plain": [
       "tensor([ 1.0038, -0.0023], requires_grad=True)"
      ]
     },
     "execution_count": 14,
     "metadata": {},
     "output_type": "execute_result"
    }
   ],
   "source": [
    "params"
   ]
  },
  {
   "cell_type": "markdown",
   "id": "0bf5a5a1-b856-4f38-a44a-526fa399769d",
   "metadata": {},
   "source": [
    "> **发现，我们现在的params,其实也是：`params -  learning_rate * params.grad`后的值**"
   ]
  },
  {
   "cell_type": "code",
   "execution_count": 15,
   "id": "315305e7-d02c-4f00-8298-45420f828b93",
   "metadata": {},
   "outputs": [
    {
     "data": {
      "text/plain": [
       "True"
      ]
     },
     "execution_count": 15,
     "metadata": {},
     "output_type": "execute_result"
    }
   ],
   "source": [
    "# 调用了zero_grad()之后，`params`的`grad`属性就归零了\n",
    "params.grad is None"
   ]
  },
  {
   "cell_type": "markdown",
   "id": "1017b64c-5213-4ff3-9f26-ab50e2d0df0e",
   "metadata": {},
   "source": [
    "#### 2.4 训练循环"
   ]
  },
  {
   "cell_type": "code",
   "execution_count": 16,
   "id": "76897a4c-4613-4e99-bcc4-b919aed3df1a",
   "metadata": {},
   "outputs": [],
   "source": [
    "def training_loop(epochs, optimizer, params, source, real_value, print_step):\n",
    "    for epoch in range(epochs):\n",
    "        # 先对参数的梯段置零\n",
    "        optimizer.zero_grad()\n",
    "\n",
    "        # 正向传播：计算预测值\n",
    "        predict = model(source, *params)\n",
    "        # 计算损失\n",
    "        loss = loss_function(predict, real_value)\n",
    "        # print(epoch, \"loss is\", loss)\n",
    "        # 反向传播: 更新params的梯度\n",
    "        loss.backward()\n",
    "        # 不需要手动去修改params了，直接调用优化器的step()\n",
    "        optimizer.step()\n",
    "            \n",
    "        # 输出日志信息\n",
    "        if  epoch == 0 or (epoch + 1) % print_step == 0:\n",
    "            print(\"第{}次训练, Loss is {:.2f}, params: {}\".format(epoch + 1, float(loss), params))\n",
    "    # 返回参数\n",
    "    return params"
   ]
  },
  {
   "cell_type": "code",
   "execution_count": 17,
   "id": "59134af3-d476-4657-965a-dff9f625fc28",
   "metadata": {},
   "outputs": [
    {
     "name": "stdout",
     "output_type": "stream",
     "text": [
      "第1次训练, Loss is 225.49, params: tensor([ 1.3832, -0.2283], requires_grad=True)\n",
      "第100次训练, Loss is 9.45, params: tensor([  3.1286, -12.6548], requires_grad=True)\n",
      "第200次训练, Loss is 2.45, params: tensor([  3.3491, -15.0017], requires_grad=True)\n",
      "第300次训练, Loss is 2.22, params: tensor([  3.3897, -15.4340], requires_grad=True)\n",
      "第400次训练, Loss is 2.21, params: tensor([  3.3972, -15.5136], requires_grad=True)\n",
      "第500次训练, Loss is 2.21, params: tensor([  3.3986, -15.5283], requires_grad=True)\n",
      "第600次训练, Loss is 2.21, params: tensor([  3.3989, -15.5310], requires_grad=True)\n",
      "第700次训练, Loss is 2.21, params: tensor([  3.3989, -15.5315], requires_grad=True)\n",
      "第800次训练, Loss is 2.21, params: tensor([  3.3989, -15.5315], requires_grad=True)\n",
      "第900次训练, Loss is 2.21, params: tensor([  3.3989, -15.5315], requires_grad=True)\n",
      "第1000次训练, Loss is 2.21, params: tensor([  3.3989, -15.5315], requires_grad=True)\n",
      "第1100次训练, Loss is 2.21, params: tensor([  3.3989, -15.5315], requires_grad=True)\n",
      "第1200次训练, Loss is 2.21, params: tensor([  3.3989, -15.5315], requires_grad=True)\n",
      "第1300次训练, Loss is 2.21, params: tensor([  3.3989, -15.5315], requires_grad=True)\n",
      "第1400次训练, Loss is 2.21, params: tensor([  3.3989, -15.5315], requires_grad=True)\n",
      "第1500次训练, Loss is 2.21, params: tensor([  3.3989, -15.5315], requires_grad=True)\n"
     ]
    },
    {
     "data": {
      "text/plain": [
       "tensor([  3.3989, -15.5315], requires_grad=True)"
      ]
     },
     "execution_count": 17,
     "metadata": {},
     "output_type": "execute_result"
    }
   ],
   "source": [
    "# 准备训练循环所需的参数\n",
    "params = torch.tensor([1.0, 0.0], requires_grad=True)\n",
    "learning_rate = 1e-2\n",
    "# SGD：随机梯度下降\n",
    "optimizer = optim.SGD([params], lr=learning_rate)\n",
    "\n",
    "# 调用训练循环\n",
    "training_loop(\n",
    "    epochs=1500,\n",
    "    optimizer=optimizer,\n",
    "    params=params,\n",
    "    source=x,\n",
    "    real_value=y,\n",
    "    print_step=100\n",
    ")"
   ]
  },
  {
   "cell_type": "markdown",
   "id": "1b9cb81c-caa9-4445-aa64-a9871f6acda9",
   "metadata": {},
   "source": [
    "#### 2.5 图形展示"
   ]
  },
  {
   "cell_type": "code",
   "execution_count": 18,
   "id": "3789ba5b-b4f1-44d2-a28c-c58745435253",
   "metadata": {},
   "outputs": [],
   "source": [
    "# x中的点\n",
    "x_line = np.linspace(-10,10,500)\n",
    "# 计算y的点\n",
    "y_line = params[0].item() * x_line + params[1].item()"
   ]
  },
  {
   "cell_type": "code",
   "execution_count": 19,
   "id": "55a8554d-04ad-4a62-95fa-2371494e4fd5",
   "metadata": {},
   "outputs": [
    {
     "data": {
      "image/png": "[encoded data removed]",
      "text/plain": [
       "<Figure size 600x500 with 1 Axes>"
      ]
     },
     "metadata": {},
     "output_type": "display_data"
    }
   ],
   "source": [
    "# 画图\n",
    "fig = plt.figure(figsize=(6,5), dpi=100)\n",
    "plt.xlabel(\"x\")\n",
    "plt.ylabel(\"y = w * x + b\")\n",
    "plt.plot(x_line, y_line, label=\"y = w*x + b\", color=\"gray\")\n",
    "plt.plot(x.numpy(), y.numpy(), '*', color=\"blue\")\n",
    "plt.show()"
   ]
  },
  {
   "cell_type": "markdown",
   "id": "e96d8047-0f84-4891-bf18-7cf4c3ab5a2e",
   "metadata": {},
   "source": [
    "**注意：** 我们使用优化器计算出的`w`和`b`和自动求导，手动求导，计算出的值是一致的。   \n",
    "在后续的模型训练中，我们就可以使用一些模块中的优化器了。根据自己项目的需求，选择合适的优化器。"
   ]
  },
  {
   "cell_type": "code",
   "execution_count": null,
   "id": "4b963d91-cefb-41e8-a4fa-ecf746a58c67",
   "metadata": {},
   "outputs": [],
   "source": []
  }
 ],
 "metadata": {
  "kernelspec": {
   "display_name": "Python 3 (ipykernel)",
   "language": "python",
   "name": "python3"
  },
  "language_info": {
   "codemirror_mode": {
    "name": "ipython",
    "version": 3
   },
   "file_extension": ".py",
   "mimetype": "text/x-python",
   "name": "python",
   "nbconvert_exporter": "python",
   "pygments_lexer": "ipython3",
   "version": "3.11.5"
  }
 },
 "nbformat": 4,
 "nbformat_minor": 5
}
