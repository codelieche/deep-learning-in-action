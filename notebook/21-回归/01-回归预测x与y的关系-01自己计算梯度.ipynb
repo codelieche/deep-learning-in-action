{
 "cells": [
  {
   "cell_type": "markdown",
   "id": "9b69fe79-1f97-4e35-a7ed-d6c51f9f1184",
   "metadata": {},
   "source": [
    "## 回归预测x与y的关系"
   ]
  },
  {
   "cell_type": "code",
   "execution_count": 1,
   "id": "e0b7064c-7f41-4857-9e6f-fafa8d2290ec",
   "metadata": {},
   "outputs": [
    {
     "name": "stdout",
     "output_type": "stream",
     "text": [
      "\n"
     ]
    }
   ],
   "source": [
    "%matplotlib inline\n",
    "import torch\n",
    "import numpy as np\n",
    "import matplotlib.pyplot as plt\n",
    "\n",
    "torch.set_printoptions(edgeitems=2)\n",
    "torch.manual_seed(123456)\n",
    "\n",
    "print(\"\")"
   ]
  },
  {
   "cell_type": "markdown",
   "id": "9c747cb1-2df5-4082-9a10-eed41e0dbd08",
   "metadata": {},
   "source": [
    "### 1. 先构造点x、y的数据"
   ]
  },
  {
   "cell_type": "code",
   "execution_count": 2,
   "id": "4f72ce75-39af-4949-ac83-f47a29cbb2e2",
   "metadata": {},
   "outputs": [],
   "source": [
    "x = [-6.0, -4.0, -1.2, -1.6, 1.0, 1.5, 2.3, 1.9, 3.3, 4.2, 5.0, 7.7, 8.2]\n",
    "x = torch.tensor(x)"
   ]
  },
  {
   "cell_type": "code",
   "execution_count": 3,
   "id": "0bb11f1d-7fe6-44a2-8c3a-f44cede167c6",
   "metadata": {},
   "outputs": [
    {
     "data": {
      "text/plain": [
       "torch.Size([13])"
      ]
     },
     "execution_count": 3,
     "metadata": {},
     "output_type": "execute_result"
    }
   ],
   "source": [
    "x.shape"
   ]
  },
  {
   "cell_type": "code",
   "execution_count": 4,
   "id": "91e8e4dd-6db6-45d2-a9d1-ad242c796863",
   "metadata": {},
   "outputs": [],
   "source": [
    "# 随机获取13个1-3的随机数\n",
    "# torch.randint(1, 3, (13,))"
   ]
  },
  {
   "cell_type": "code",
   "execution_count": 5,
   "id": "34af3e88-f076-4b61-9cac-e6b1047860b7",
   "metadata": {},
   "outputs": [],
   "source": [
    "# 随机处理一下y，让其随机调整一下\n",
    "# y = 3.456 * x - 16.0\n",
    "# y = y - torch.randn(x.size(0)) * torch.randint(1, 3, (x.size(0),))\n",
    "# y"
   ]
  },
  {
   "cell_type": "code",
   "execution_count": 6,
   "id": "b03f8890-c383-4911-a93e-4bb0f67844dc",
   "metadata": {},
   "outputs": [],
   "source": [
    "y = torch.tensor([\n",
    "    -36.8778, -26.4276, -19.5442, -20.2848, -10.5902, -13.0207, -10.1414, -9.3716,\n",
    "    -4.7571,  -1.8561, 1.2260,  12.6646,  12.8662\n",
    "])"
   ]
  },
  {
   "cell_type": "code",
   "execution_count": 7,
   "id": "71d03538-6f44-415d-a003-57a199c98cd4",
   "metadata": {},
   "outputs": [
    {
     "data": {
      "text/plain": [
       "(torch.Size([13]), torch.Size([13]))"
      ]
     },
     "execution_count": 7,
     "metadata": {},
     "output_type": "execute_result"
    }
   ],
   "source": [
    "x.shape, y.shape"
   ]
  },
  {
   "attachments": {},
   "cell_type": "markdown",
   "id": "7db8b5ca-65bd-45ce-a88f-3c16e1355448",
   "metadata": {},
   "source": [
    "**到这里我们就得到x和y的数据了。**   \n",
    "先对其进行可视化一下。\n",
    "\n"
   ]
  },
  {
   "cell_type": "code",
   "execution_count": 8,
   "id": "72f83586-bbd9-445e-9820-cbde978a7cc9",
   "metadata": {},
   "outputs": [],
   "source": [
    "points = []\n",
    "for i in range(x.size(0)):\n",
    "    item = (x[i].item(), y[i].item())\n",
    "    points.append(item)\n",
    "# points"
   ]
  },
  {
   "cell_type": "code",
   "execution_count": 9,
   "id": "fd4c20a2-df07-46b4-bda7-2ca60f3be68f",
   "metadata": {},
   "outputs": [
    {
     "data": {
      "image/png": "[encoded data removed]",
      "text/plain": [
       "<Figure size 400x300 with 1 Axes>"
      ]
     },
     "metadata": {},
     "output_type": "display_data"
    }
   ],
   "source": [
    "fig = plt.figure(figsize=(4,3), dpi=100)  # figsize: 设置图形的尺寸，单位为英寸，dpi:设置每英寸点数，设置图像的分辨率，默认是100\n",
    "plt.xlabel(\"x\")\n",
    "plt.ylabel(\"y = w * x + b\")\n",
    "# plt.scatter(x.numpy(), y.numpy(), label=\"points\", color=\"blue\", zorder=1)\n",
    "plt.plot(x.numpy(), y.numpy(), '*', color=\"blue\")\n",
    "plt.show()"
   ]
  },
  {
   "cell_type": "markdown",
   "id": "0784e441-a7dc-4310-993c-5bb5353fd0bc",
   "metadata": {},
   "source": [
    "### 2. 初始化一个w和b\n",
    "\n",
    "模型：\n",
    "```bash\n",
    "y = w * x + b\n",
    "```"
   ]
  },
  {
   "cell_type": "code",
   "execution_count": 10,
   "id": "a29464e9-e59f-47e7-9155-c03d102f959c",
   "metadata": {},
   "outputs": [],
   "source": [
    "# 模型\n",
    "def model(source, w, b):\n",
    "    return w * source + b"
   ]
  },
  {
   "cell_type": "code",
   "execution_count": 11,
   "id": "39aa8e50-a01c-4dd2-868b-3525131bcb02",
   "metadata": {},
   "outputs": [],
   "source": [
    "# 损失函数\n",
    "def loss_function(predict, real_value):\n",
    "    squared_diffs = (predict - real_value)**2\n",
    "    return squared_diffs.mean()"
   ]
  },
  {
   "cell_type": "code",
   "execution_count": 12,
   "id": "7fbd3dea-0d70-49ec-b415-a96a585f0711",
   "metadata": {},
   "outputs": [
    {
     "data": {
      "text/plain": [
       "(tensor(1.), tensor(0.))"
      ]
     },
     "execution_count": 12,
     "metadata": {},
     "output_type": "execute_result"
    }
   ],
   "source": [
    "# 先实例化一个w和b\n",
    "w = torch.ones(())\n",
    "b = torch.zeros(())\n",
    "w, b"
   ]
  },
  {
   "cell_type": "code",
   "execution_count": 13,
   "id": "8f893d42-a4d1-4621-baac-78334d058094",
   "metadata": {},
   "outputs": [
    {
     "data": {
      "text/plain": [
       "tensor([-6.0000, -4.0000, -1.2000, -1.6000,  1.0000,  1.5000,  2.3000,  1.9000,\n",
       "         3.3000,  4.2000,  5.0000,  7.7000,  8.2000])"
      ]
     },
     "execution_count": 13,
     "metadata": {},
     "output_type": "execute_result"
    }
   ],
   "source": [
    "# 我们给模型设置一个初始的w和b：计算预测的值\n",
    "predict = model(x, w, b)\n",
    "predict"
   ]
  },
  {
   "cell_type": "code",
   "execution_count": 14,
   "id": "8beb8584-74df-4f1b-84e2-a624dd1ac7da",
   "metadata": {},
   "outputs": [
    {
     "data": {
      "text/plain": [
       "tensor(225.4881)"
      ]
     },
     "execution_count": 14,
     "metadata": {},
     "output_type": "execute_result"
    }
   ],
   "source": [
    "# 计算损失的值\n",
    "loss_function(predict, y)"
   ]
  },
  {
   "cell_type": "markdown",
   "id": "567522a3-6b57-42ca-8036-e7272b517023",
   "metadata": {},
   "source": [
    "**接下来我们就想怎么估算`w`和`b`了。** 使损失达到最小。"
   ]
  },
  {
   "cell_type": "markdown",
   "id": "77d490e4-7986-4646-9b21-4f6f5c392a4e",
   "metadata": {},
   "source": [
    "### 3. 沿着梯度下降"
   ]
  },
  {
   "cell_type": "code",
   "execution_count": 15,
   "id": "a6d67d72-c129-49e7-9e7c-bf6f925f7d49",
   "metadata": {},
   "outputs": [],
   "source": [
    "# 我们设置一个梯度：逐步的调整w/b\n",
    "delta = 0.05\n",
    "\n",
    "# 微量的调整一点delta的w：其损失函数的值变化\n",
    "loss_rate_change_w = (loss_function(model(x, w + delta, b), y) - loss_function(model(x, w - delta, b), y)) / (2.0 * delta)"
   ]
  },
  {
   "cell_type": "markdown",
   "id": "a7e6fc89-e090-4251-86cc-5856f0f122d1",
   "metadata": {},
   "source": [
    "> 计算在当前`w`和`b`值附近，`w`的增加会对损失的一些变化。\n",
    "\n",
    "1. 如果`loss_rate_change_w`这个变化是负数(增加w一点点，损失变小了)，那么我们需要增加`w`来降低损失值。\n",
    "2. 如果`loss_rate_change_w`这个变化是正数(增加w一点点，损失变大了)，那么我们需要减小`w`来降低损失值。"
   ]
  },
  {
   "cell_type": "code",
   "execution_count": 16,
   "id": "b07b8a16-6a37-44cb-b598-eb9291b2842c",
   "metadata": {},
   "outputs": [
    {
     "data": {
      "text/plain": [
       "tensor(-38.3202)"
      ]
     },
     "execution_count": 16,
     "metadata": {},
     "output_type": "execute_result"
    }
   ],
   "source": [
    "loss_rate_change_w"
   ]
  },
  {
   "cell_type": "code",
   "execution_count": 17,
   "id": "cdb2465b-d47a-42d3-921c-1e3fb63a8c3e",
   "metadata": {},
   "outputs": [],
   "source": [
    "# 微量的调整delta的b：其损失函数的值变化\n",
    "loss_rate_change_b = (loss_function(model(x, w, b + delta), y) - loss_function(model(x, w, b - delta), y)) / (2.0 * delta)"
   ]
  },
  {
   "cell_type": "markdown",
   "id": "02250fff-5392-4ab7-a8d5-9215c88eecb0",
   "metadata": {},
   "source": [
    "> 计算在当前`w`和`b`值附近，`b`的增加会对损失的一些变化。\n",
    "\n",
    "1. 如果`loss_rate_change_b`这个变化是负数(增加`b`一点点，损失变小了)，那么我们需要增加`b`来降低损失值。\n",
    "2. 如果`loss_rate_change_b`这个变化是正数(增加`b`一点点，损失变大了)，那么我们需要减小`b`来降低损失值。"
   ]
  },
  {
   "cell_type": "code",
   "execution_count": 18,
   "id": "6264399a-aeda-4fe9-b53f-97fcceae7267",
   "metadata": {},
   "outputs": [
    {
     "data": {
      "text/plain": [
       "tensor(22.8331)"
      ]
     },
     "execution_count": 18,
     "metadata": {},
     "output_type": "execute_result"
    }
   ],
   "source": [
    "loss_rate_change_b"
   ]
  },
  {
   "cell_type": "code",
   "execution_count": 19,
   "id": "c02b93e0-88eb-4d9b-9790-b5fb3147007c",
   "metadata": {},
   "outputs": [
    {
     "data": {
      "text/plain": [
       "(tensor(1.), tensor(0.))"
      ]
     },
     "execution_count": 19,
     "metadata": {},
     "output_type": "execute_result"
    }
   ],
   "source": [
    "w, b"
   ]
  },
  {
   "cell_type": "markdown",
   "id": "5c3b3422-5f16-4a25-9423-ca865511745e",
   "metadata": {},
   "source": [
    "我们计算了`loss_rate_change_w`和`loss_rate_change_b`后，那我们对`w`和`b`具体增加或减小多少呢？    \n",
    "一般我们会缓慢的改变参数`w`和`b`，用一个较小的比例来调整变化。这个比例在机器学习中称为`learning_rate`(学习率)。"
   ]
  },
  {
   "cell_type": "code",
   "execution_count": 20,
   "id": "8fa8c125-552a-4f8d-88af-0b8027497105",
   "metadata": {},
   "outputs": [],
   "source": [
    "# 根据一个学习率来调整w和b\n",
    "learning_rate = 0.01\n",
    "w = w - learning_rate * loss_rate_change_w\n",
    "b = b - learning_rate * loss_rate_change_b"
   ]
  },
  {
   "cell_type": "code",
   "execution_count": 21,
   "id": "0087810e-df0d-4e10-82f4-6038ced07317",
   "metadata": {},
   "outputs": [
    {
     "data": {
      "text/plain": [
       "(tensor(1.3832), tensor(-0.2283))"
      ]
     },
     "execution_count": 21,
     "metadata": {},
     "output_type": "execute_result"
    }
   ],
   "source": [
    "w, b"
   ]
  },
  {
   "cell_type": "code",
   "execution_count": 22,
   "id": "118ef5e0-6b26-48ba-aecb-50bfecce016c",
   "metadata": {},
   "outputs": [
    {
     "data": {
      "text/plain": [
       "tensor(208.1460)"
      ]
     },
     "execution_count": 22,
     "metadata": {},
     "output_type": "execute_result"
    }
   ],
   "source": [
    "# 再一次计算损失\n",
    "predict = model(x, w, b)\n",
    "loss_function(predict, y)"
   ]
  },
  {
   "cell_type": "markdown",
   "id": "b1969154-f592-457c-a079-3aef65243de2",
   "metadata": {},
   "source": [
    "**看比上一次的`tensor(225.4881)`小了。**     \n",
    "那么，理论上，我们继续进行`N`次，那么我们就可以得到贴近真实的参数(`w`和`b`)。"
   ]
  },
  {
   "cell_type": "markdown",
   "id": "b17f2ec8-d415-4dc8-907e-346f1895b510",
   "metadata": {},
   "source": [
    "### 4. 基于上面的汇总分析"
   ]
  },
  {
   "cell_type": "markdown",
   "id": "ceedc3b1-588a-44bc-a9ee-54b6eb7884b0",
   "metadata": {},
   "source": [
    "#### 4.1 计算导数"
   ]
  },
  {
   "cell_type": "markdown",
   "id": "bae30ca5-fdb2-45be-8794-dface89faea2",
   "metadata": {},
   "source": [
    "```\n",
    "dloss_function / dw = (dloss_function / dpredict) * (dpredict / dw)\n",
    "```\n",
    "\n",
    "$$\\frac{dloss}{d_w} = \\left(\\frac{dloss}{dpredict} * \\frac{dpredict}{dw}\\right)$$"
   ]
  },
  {
   "cell_type": "markdown",
   "id": "28fd8079-84a0-4c28-ab1c-08dad856b6cc",
   "metadata": {},
   "source": [
    "```python\n",
    "# 损失函数\n",
    "def loss_function(predict, real_value):\n",
    "    squared_diffs = (predict - real_value)**2\n",
    "    return squared_diffs.mean()\n",
    "```"
   ]
  },
  {
   "cell_type": "code",
   "execution_count": 23,
   "id": "9aad7fd3-118f-4c2c-b462-c8cea081ae73",
   "metadata": {},
   "outputs": [],
   "source": [
    "# 得到dloss_function\n",
    "def dloss_function(predict, real_value):\n",
    "    # 把 `predict - real_value`看成个整体,u**2的导数是：2 * u\n",
    "    dsquared_diffs = 2 * (predict - real_value) / predict.size(0)\n",
    "    # 返回其均值的导数\n",
    "    return dsquared_diffs"
   ]
  },
  {
   "cell_type": "markdown",
   "id": "4589dc5a-158a-4718-86ac-1268f5408096",
   "metadata": {},
   "source": [
    "#### 4.2 将导数应用到模型中"
   ]
  },
  {
   "cell_type": "markdown",
   "id": "d61e0143-c373-4ddc-b0bc-40fa6ec50732",
   "metadata": {},
   "source": [
    "```python\n",
    "# 模型\n",
    "def model(source, w, b):\n",
    "    return w * source + b\n",
    "```"
   ]
  },
  {
   "cell_type": "code",
   "execution_count": 24,
   "id": "e2c242df-05d3-4cb0-8a7b-eca76d5c005e",
   "metadata": {},
   "outputs": [],
   "source": [
    "# 得到w偏导数: 把b和source看成一个常数，w是个变量\n",
    "def dmodel_dw(source, w, b):\n",
    "    return source"
   ]
  },
  {
   "cell_type": "code",
   "execution_count": 25,
   "id": "de7b8cf3-8842-4557-8796-da35a9bb95b5",
   "metadata": {},
   "outputs": [],
   "source": [
    "# 得到b偏导数: 把w和source看成一个常数，b是个变量\n",
    "def dmodel_db(source, w, b):\n",
    "    # w * source是个常数，那么其导数是0， b的一次方导数是1\n",
    "    return 1.0"
   ]
  },
  {
   "cell_type": "markdown",
   "id": "17f95980-29fd-4580-9f79-18af7e75d6eb",
   "metadata": {},
   "source": [
    "#### 4.3 定义阶梯函数\n",
    "\n",
    "把上面的`dloss_function`、`dmodel_dw`、`dmodel_db`全部放在一起，返回关于`w`和`b`的损失梯度的函数："
   ]
  },
  {
   "cell_type": "code",
   "execution_count": 26,
   "id": "124e4c2c-5e94-41bb-ae5f-88406bdbaea4",
   "metadata": {},
   "outputs": [],
   "source": [
    "def grad_function(source, real_value, predict, w, b):\n",
    "    dloss_dpredict = dloss_function(predict, real_value)\n",
    "    dloss_dw = dloss_dpredict * dmodel_dw(source, w, b)\n",
    "    dloss_db = dloss_dpredict * dmodel_db(source, w, b)\n",
    "    target = torch.stack([dloss_dw.sum(), dloss_db.sum()])\n",
    "    return target"
   ]
  },
  {
   "cell_type": "markdown",
   "id": "13d6fdd9-bbfa-4794-8f4f-db9bbba639b9",
   "metadata": {},
   "source": [
    "### 5. 训练循环"
   ]
  },
  {
   "cell_type": "code",
   "execution_count": 27,
   "id": "c1b0212d-44fc-4435-95af-0640874550e8",
   "metadata": {},
   "outputs": [],
   "source": [
    "def training_loop(epochs, learning_rate, params, source, real_value, print_step=10):\n",
    "    for epoch in range(epochs):\n",
    "        w, b = params\n",
    "\n",
    "        # 正向传播：计算预测值\n",
    "        predict = model(source, w, b)\n",
    "        # 计算损失：\n",
    "        loss = loss_function(predict, real_value)\n",
    "        # 反向传播: w和b的偏导数，组合成梯度\n",
    "        grad = grad_function(source, real_value, predict, w, b)\n",
    "        # 参数：根据梯度和学习率调整新的参数值\n",
    "        params = params - learning_rate * grad\n",
    "        # 输出日志信息\n",
    "        if  epoch == 0 or (epoch + 1) % print_step == 0:\n",
    "            print(\"第{}次训练, Loss is {:.2f}, params: {}\".format(epoch + 1, float(loss), params))\n",
    "    # 返回参数\n",
    "    return params"
   ]
  },
  {
   "cell_type": "code",
   "execution_count": 28,
   "id": "565df80e-e3e0-421a-8637-335515d7e1a8",
   "metadata": {},
   "outputs": [
    {
     "name": "stdout",
     "output_type": "stream",
     "text": [
      "第1次训练, Loss is 225.49, params: tensor([ 1.3832, -0.2283])\n",
      "第10次训练, Loss is 154.45, params: tensor([ 2.1524, -2.3442])\n",
      "第20次训练, Loss is 110.75, params: tensor([ 2.3524, -4.3962])\n",
      "第30次训练, Loss is 79.59, params: tensor([ 2.5154, -6.1294])\n",
      "第40次训练, Loss is 57.38, params: tensor([ 2.6529, -7.5928])\n",
      "第50次训练, Loss is 41.54, params: tensor([ 2.7690, -8.8284])\n",
      "第60次训练, Loss is 30.25, params: tensor([ 2.8670, -9.8718])\n",
      "第70次训练, Loss is 22.20, params: tensor([  2.9498, -10.7527])\n",
      "第80次训练, Loss is 16.46, params: tensor([  3.0197, -11.4965])\n",
      "第90次训练, Loss is 12.37, params: tensor([  3.0787, -12.1245])\n",
      "第100次训练, Loss is 9.45, params: tensor([  3.1286, -12.6548])\n",
      "第110次训练, Loss is 7.37, params: tensor([  3.1707, -13.1026])\n",
      "第120次训练, Loss is 5.89, params: tensor([  3.2062, -13.4806])\n",
      "第130次训练, Loss is 4.83, params: tensor([  3.2362, -13.7999])\n",
      "第140次训练, Loss is 4.08, params: tensor([  3.2615, -14.0694])\n",
      "第150次训练, Loss is 3.54, params: tensor([  3.2829, -14.2970])\n",
      "第160次训练, Loss is 3.16, params: tensor([  3.3010, -14.4891])\n",
      "第170次训练, Loss is 2.89, params: tensor([  3.3162, -14.6514])\n",
      "第180次训练, Loss is 2.69, params: tensor([  3.3291, -14.7884])\n",
      "第190次训练, Loss is 2.55, params: tensor([  3.3399, -14.9041])\n",
      "第200次训练, Loss is 2.45, params: tensor([  3.3491, -15.0017])\n"
     ]
    },
    {
     "data": {
      "text/plain": [
       "tensor([  3.3491, -15.0017])"
      ]
     },
     "execution_count": 28,
     "metadata": {},
     "output_type": "execute_result"
    }
   ],
   "source": [
    "# 调用训练循环\n",
    "params = torch.tensor([1.0, 0.0])\n",
    "training_loop(epochs=200, learning_rate=0.01, params=params, source=x, real_value=y)"
   ]
  },
  {
   "cell_type": "code",
   "execution_count": 29,
   "id": "4e560ad8-65cd-49d7-aff7-060be158a1ae",
   "metadata": {},
   "outputs": [
    {
     "name": "stdout",
     "output_type": "stream",
     "text": [
      "第1次训练, Loss is 225.49, params: tensor([ 1.0038, -0.0023])\n",
      "第2000次训练, Loss is 107.76, params: tensor([ 2.3491, -4.3648])\n",
      "第4000次训练, Loss is 56.16, params: tensor([ 2.6487, -7.5479])\n",
      "第6000次训练, Loss is 29.79, params: tensor([ 2.8625, -9.8237])\n",
      "第8000次训练, Loss is 16.31, params: tensor([  3.0154, -11.4508])\n",
      "第10000次训练, Loss is 9.41, params: tensor([  3.1247, -12.6140])\n",
      "第12000次训练, Loss is 5.89, params: tensor([  3.2029, -13.4457])\n",
      "第14000次训练, Loss is 4.09, params: tensor([  3.2588, -14.0403])\n",
      "第16000次训练, Loss is 3.17, params: tensor([  3.2987, -14.4654])\n",
      "第18000次训练, Loss is 2.70, params: tensor([  3.3273, -14.7693])\n",
      "第20000次训练, Loss is 2.46, params: tensor([  3.3477, -14.9866])\n",
      "第22000次训练, Loss is 2.34, params: tensor([  3.3623, -15.1419])\n",
      "第24000次训练, Loss is 2.27, params: tensor([  3.3727, -15.2530])\n",
      "第26000次训练, Loss is 2.24, params: tensor([  3.3802, -15.3324])\n",
      "第28000次训练, Loss is 2.23, params: tensor([  3.3855, -15.3891])\n",
      "第30000次训练, Loss is 2.22, params: tensor([  3.3893, -15.4297])\n"
     ]
    },
    {
     "data": {
      "text/plain": [
       "tensor([  3.3893, -15.4297])"
      ]
     },
     "execution_count": 29,
     "metadata": {},
     "output_type": "execute_result"
    }
   ],
   "source": [
    "# 把学习比率调低一点试下\n",
    "params = torch.tensor([1.0, 0.0])\n",
    "params = training_loop(epochs=30000, learning_rate=0.0001, params=params, source=x, real_value=y, print_step=2000)\n",
    "params"
   ]
  },
  {
   "cell_type": "code",
   "execution_count": 30,
   "id": "01da0d11-6330-44e8-826d-87aea1e6884c",
   "metadata": {},
   "outputs": [],
   "source": [
    "# 把线画出来\n",
    "x_line = np.linspace(-10,10,500)"
   ]
  },
  {
   "cell_type": "code",
   "execution_count": 31,
   "id": "76161464-da85-4728-bb7d-5f31372b57d6",
   "metadata": {},
   "outputs": [],
   "source": [
    "y_line = params[0].item() * x_line + params[1].item()"
   ]
  },
  {
   "cell_type": "code",
   "execution_count": 32,
   "id": "29b17b55-7847-4d09-9579-78df8c4e4741",
   "metadata": {},
   "outputs": [
    {
     "data": {
      "image/png": "[encoded data removed]",
      "text/plain": [
       "<Figure size 600x500 with 1 Axes>"
      ]
     },
     "metadata": {},
     "output_type": "display_data"
    }
   ],
   "source": [
    "fig = plt.figure(figsize=(6,5), dpi=100)\n",
    "plt.xlabel(\"x\")\n",
    "plt.ylabel(\"y = w * x + b\")\n",
    "plt.plot(x_line, y_line, label=\"y = w*x + b\", color=\"gray\")\n",
    "plt.plot(x.numpy(), y.numpy(), '*', color=\"blue\")\n",
    "plt.show()"
   ]
  },
  {
   "cell_type": "markdown",
   "id": "0574c7be-1dea-46fa-b500-d2571159fc97",
   "metadata": {},
   "source": [
    "**我们通过w和u的偏导数，然后指定一个学习率，这样虽然可以学习(简单的反向传播)推出w和n，但是还是有些繁琐。其实我们可以用使用PyTorch的自动求导，反向传播**。"
   ]
  },
  {
   "cell_type": "code",
   "execution_count": null,
   "id": "68157424-05a2-4d00-b4f4-d1fbc881c3c8",
   "metadata": {},
   "outputs": [],
   "source": []
  }
 ],
 "metadata": {
  "kernelspec": {
   "display_name": "Python 3 (ipykernel)",
   "language": "python",
   "name": "python3"
  },
  "language_info": {
   "codemirror_mode": {
    "name": "ipython",
    "version": 3
   },
   "file_extension": ".py",
   "mimetype": "text/x-python",
   "name": "python",
   "nbconvert_exporter": "python",
   "pygments_lexer": "ipython3",
   "version": "3.11.5"
  }
 },
 "nbformat": 4,
 "nbformat_minor": 5
}
