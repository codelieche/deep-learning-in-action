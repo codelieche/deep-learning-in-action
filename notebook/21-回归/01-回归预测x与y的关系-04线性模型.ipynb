{
 "cells": [
  {
   "cell_type": "markdown",
   "id": "40bb23d7-8781-415a-b65c-4d5e8cce35ec",
   "metadata": {},
   "source": [
    "## 回归预测x与y的关系-线性模型\n",
    "\n",
    "神经网络(一种通过简单函数的组合来实现复杂函数的数学实体)是深度学习的核心。   \n",
    "`PyTorch`中有一个专门用于神经网络的模块`torch.nn`，（Neural Network）`nn`模块包含创建各种神经网络结构所需的构建块。"
   ]
  },
  {
   "cell_type": "code",
   "execution_count": 1,
   "id": "9ea2b09a-ffd6-4699-b9f7-38f35bc4bb51",
   "metadata": {},
   "outputs": [
    {
     "name": "stdout",
     "output_type": "stream",
     "text": [
      "\n"
     ]
    }
   ],
   "source": [
    "%matplotlib inline\n",
    "import torch\n",
    "import torch.nn as nn\n",
    "import torch.optim as optim\n",
    "\n",
    "import numpy as np\n",
    "import matplotlib.pyplot as plt\n",
    "\n",
    "torch.set_printoptions(edgeitems=2)\n",
    "torch.manual_seed(123456)\n",
    "\n",
    "print(\"\")"
   ]
  },
  {
   "cell_type": "markdown",
   "id": "b4fae701-c6f7-4318-b4fa-202500b49c32",
   "metadata": {},
   "source": [
    "### 1. 准备数据x和y"
   ]
  },
  {
   "cell_type": "markdown",
   "id": "5718cf06-52c6-4c4e-8199-63c17b24bbb6",
   "metadata": {},
   "source": [
    "#### 1.1 准备数据"
   ]
  },
  {
   "cell_type": "code",
   "execution_count": 2,
   "id": "31c45e47-1c06-4053-b262-5605a974c04e",
   "metadata": {},
   "outputs": [],
   "source": [
    "# x and y\n",
    "x = [-6.0, -4.0, -1.2, -1.6, 1.0, 1.5, 2.3, 1.9, 3.3, 4.2, 5.0, 7.7, 8.2]\n",
    "x = torch.tensor(x)\n",
    "\n",
    "y = torch.tensor([\n",
    "    -36.8778, -26.4276, -19.5442, -20.2848, -10.5902, -13.0207, -10.1414, -9.3716,\n",
    "    -4.7571,  -1.8561, 1.2260,  12.6646,  12.8662\n",
    "])"
   ]
  },
  {
   "cell_type": "markdown",
   "id": "cd907bc4-5c75-48af-848a-942fbd59fd11",
   "metadata": {},
   "source": [
    "#### 1.2 画出点"
   ]
  },
  {
   "cell_type": "code",
   "execution_count": 3,
   "id": "438dfb0a-bc58-4d6c-aa38-8d9fd35debc9",
   "metadata": {},
   "outputs": [
    {
     "data": {
      "image/png": "[encoded data removed]",
      "text/plain": [
       "<Figure size 400x300 with 1 Axes>"
      ]
     },
     "metadata": {},
     "output_type": "display_data"
    }
   ],
   "source": [
    "# 画出x、y的点\n",
    "fig = plt.figure(figsize=(4,3), dpi=100)\n",
    "plt.xlabel(\"x\")\n",
    "plt.ylabel(\"y = w * x + b\")\n",
    "plt.plot(x.numpy(), y.numpy(), '*', color=\"blue\")\n",
    "plt.show()"
   ]
  },
  {
   "cell_type": "markdown",
   "id": "d555f144-56df-450b-a18f-9a00e77b8a33",
   "metadata": {},
   "source": [
    "### 2. 体验nn.Linear(线性模型)"
   ]
  },
  {
   "cell_type": "code",
   "execution_count": 4,
   "id": "9ba634ea-a031-4b3a-a5bb-3413d66af056",
   "metadata": {},
   "outputs": [],
   "source": [
    "# 我们这里的x与y，是输入张量的大小为1，输出张量的大小也是1\n",
    "linear_model = nn.Linear(1, 1)"
   ]
  },
  {
   "cell_type": "code",
   "execution_count": 5,
   "id": "e6faf549-3073-4e9a-942b-2e1c5bb1617a",
   "metadata": {},
   "outputs": [
    {
     "data": {
      "text/plain": [
       "Linear(in_features=1, out_features=1, bias=True)"
      ]
     },
     "execution_count": 5,
     "metadata": {},
     "output_type": "execute_result"
    }
   ],
   "source": [
    "linear_model"
   ]
  },
  {
   "cell_type": "code",
   "execution_count": 6,
   "id": "7508dc33-ade9-4b35-ad03-ee7ca06cb043",
   "metadata": {},
   "outputs": [
    {
     "data": {
      "text/plain": [
       "(Parameter containing:\n",
       " tensor([[0.0086]], requires_grad=True),\n",
       " Parameter containing:\n",
       " tensor([0.6356], requires_grad=True))"
      ]
     },
     "execution_count": 6,
     "metadata": {},
     "output_type": "execute_result"
    }
   ],
   "source": [
    "# 查看weight和bias\n",
    "linear_model.weight, linear_model.bias"
   ]
  },
  {
   "cell_type": "code",
   "execution_count": 7,
   "id": "de7a4d79-e142-450c-823e-c2809451149d",
   "metadata": {},
   "outputs": [
    {
     "data": {
      "text/plain": [
       "(tensor([1.]), torch.Size([1]))"
      ]
     },
     "execution_count": 7,
     "metadata": {},
     "output_type": "execute_result"
    }
   ],
   "source": [
    "linear_x = torch.ones(1)\n",
    "linear_x, linear_x.shape"
   ]
  },
  {
   "cell_type": "code",
   "execution_count": 8,
   "id": "d62e9842-e106-4c37-8199-a0578a945c20",
   "metadata": {},
   "outputs": [
    {
     "data": {
      "text/plain": [
       "tensor([0.6441], grad_fn=<ViewBackward0>)"
      ]
     },
     "execution_count": 8,
     "metadata": {},
     "output_type": "execute_result"
    }
   ],
   "source": [
    "# 注意我们这里传入的值的列，是要和实例化Linear的in_features是相同的，要不然会报错\n",
    "linear_model(linear_x)"
   ]
  },
  {
   "cell_type": "code",
   "execution_count": 9,
   "id": "a8090328-9432-453b-b1b9-902246603077",
   "metadata": {},
   "outputs": [
    {
     "data": {
      "text/plain": [
       "torch.Size([5, 1])"
      ]
     },
     "execution_count": 9,
     "metadata": {},
     "output_type": "execute_result"
    }
   ],
   "source": [
    "# 我们来个N行的数据\n",
    "linear_x2 = torch.ones(5, 1)\n",
    "linear_x2.shape"
   ]
  },
  {
   "cell_type": "code",
   "execution_count": 10,
   "id": "3989323b-098f-4571-9b14-7168d3af968b",
   "metadata": {},
   "outputs": [
    {
     "data": {
      "text/plain": [
       "2"
      ]
     },
     "execution_count": 10,
     "metadata": {},
     "output_type": "execute_result"
    }
   ],
   "source": [
    "# 查看模型的参数的个数\n",
    "sum(p.numel() for p in linear_model.parameters() if p.requires_grad)"
   ]
  },
  {
   "cell_type": "code",
   "execution_count": 11,
   "id": "302652e1-0c3f-45a0-bb24-f5a201dede89",
   "metadata": {},
   "outputs": [
    {
     "data": {
      "text/plain": [
       "tensor([[0.6441],\n",
       "        [0.6441],\n",
       "        [0.6441],\n",
       "        [0.6441],\n",
       "        [0.6441]], grad_fn=<AddmmBackward0>)"
      ]
     },
     "execution_count": 11,
     "metadata": {},
     "output_type": "execute_result"
    }
   ],
   "source": [
    "linear_model(linear_x2)"
   ]
  },
  {
   "cell_type": "markdown",
   "id": "ce174b2a-a6b4-4971-b164-4237e343ddf9",
   "metadata": {},
   "source": [
    "**接下来我们就要结合优化器、损失函数，来计算出所需的`w`和`b`**."
   ]
  },
  {
   "cell_type": "markdown",
   "id": "2ee6363c-f54f-4a3a-b946-20b7e8c7b853",
   "metadata": {},
   "source": [
    "### 3. 使用nn.Linear模型训练出w和b"
   ]
  },
  {
   "cell_type": "markdown",
   "id": "087e179a-3b0b-4403-9556-1d767970dd74",
   "metadata": {},
   "source": [
    "### 3.1 unsqueeze调整张量\n",
    "\n",
    "`torch.unsqueeze()`函数可以给输入张量指定位置增加一个维度大小为1的维度。"
   ]
  },
  {
   "cell_type": "code",
   "execution_count": 12,
   "id": "99ecc19a-4f3b-4791-8e1e-e9e57d928ab4",
   "metadata": {},
   "outputs": [
    {
     "data": {
      "text/plain": [
       "tensor([-6.0000, -4.0000, -1.2000, -1.6000,  1.0000,  1.5000,  2.3000,  1.9000,\n",
       "         3.3000,  4.2000,  5.0000,  7.7000,  8.2000])"
      ]
     },
     "execution_count": 12,
     "metadata": {},
     "output_type": "execute_result"
    }
   ],
   "source": [
    "x"
   ]
  },
  {
   "cell_type": "code",
   "execution_count": 13,
   "id": "6468f778-e411-42bf-9c80-7b48bdccb91a",
   "metadata": {},
   "outputs": [
    {
     "data": {
      "text/plain": [
       "tensor([[-6.0000, -4.0000, -1.2000, -1.6000,  1.0000,  1.5000,  2.3000,  1.9000,\n",
       "          3.3000,  4.2000,  5.0000,  7.7000,  8.2000]])"
      ]
     },
     "execution_count": 13,
     "metadata": {},
     "output_type": "execute_result"
    }
   ],
   "source": [
    "x.unsqueeze(0)"
   ]
  },
  {
   "cell_type": "code",
   "execution_count": 14,
   "id": "07b94b6c-8bab-470e-8623-81a21073b052",
   "metadata": {},
   "outputs": [
    {
     "data": {
      "text/plain": [
       "tensor([[-6.0000],\n",
       "        [-4.0000],\n",
       "        [-1.2000],\n",
       "        [-1.6000],\n",
       "        [ 1.0000],\n",
       "        [ 1.5000],\n",
       "        [ 2.3000],\n",
       "        [ 1.9000],\n",
       "        [ 3.3000],\n",
       "        [ 4.2000],\n",
       "        [ 5.0000],\n",
       "        [ 7.7000],\n",
       "        [ 8.2000]])"
      ]
     },
     "execution_count": 14,
     "metadata": {},
     "output_type": "execute_result"
    }
   ],
   "source": [
    "x.unsqueeze(1)"
   ]
  },
  {
   "cell_type": "code",
   "execution_count": 15,
   "id": "ab587a5a-bf71-43e3-92b1-5d8d3ebe825e",
   "metadata": {},
   "outputs": [
    {
     "data": {
      "text/plain": [
       "tensor([-6.0000, -4.0000, -1.2000, -1.6000,  1.0000,  1.5000,  2.3000,  1.9000,\n",
       "         3.3000,  4.2000,  5.0000,  7.7000,  8.2000])"
      ]
     },
     "execution_count": 15,
     "metadata": {},
     "output_type": "execute_result"
    }
   ],
   "source": [
    "x"
   ]
  },
  {
   "cell_type": "code",
   "execution_count": 16,
   "id": "57287686-080b-409d-939f-c13ca9dc4878",
   "metadata": {},
   "outputs": [
    {
     "data": {
      "text/plain": [
       "tensor([[-6.0000],\n",
       "        [-4.0000],\n",
       "        [-1.2000],\n",
       "        [-1.6000],\n",
       "        [ 1.0000],\n",
       "        [ 1.5000],\n",
       "        [ 2.3000],\n",
       "        [ 1.9000],\n",
       "        [ 3.3000],\n",
       "        [ 4.2000],\n",
       "        [ 5.0000],\n",
       "        [ 7.7000],\n",
       "        [ 8.2000]])"
      ]
     },
     "execution_count": 16,
     "metadata": {},
     "output_type": "execute_result"
    }
   ],
   "source": [
    "# 在这里其实我们用view()函数也是OK的\n",
    "x.view(-1, 1)"
   ]
  },
  {
   "cell_type": "code",
   "execution_count": 17,
   "id": "41333caf-b909-4030-9c3d-d97c0b6628b2",
   "metadata": {},
   "outputs": [],
   "source": [
    "# 现在我们改变一下x和y\n",
    "t_x = x.unsqueeze(1)\n",
    "t_y = y.unsqueeze(1)"
   ]
  },
  {
   "cell_type": "code",
   "execution_count": 18,
   "id": "4739bf81-0b66-4c72-83c1-7bfe85a6df9f",
   "metadata": {},
   "outputs": [
    {
     "data": {
      "text/plain": [
       "(torch.Size([13, 1]), torch.Size([13, 1]))"
      ]
     },
     "execution_count": 18,
     "metadata": {},
     "output_type": "execute_result"
    }
   ],
   "source": [
    "t_x.shape, t_y.shape"
   ]
  },
  {
   "cell_type": "markdown",
   "id": "f3be3256-3424-4aaf-bda5-f9eb3319a73e",
   "metadata": {},
   "source": [
    "### 3.2 模型、优化器和损失函数"
   ]
  },
  {
   "cell_type": "code",
   "execution_count": 19,
   "id": "b26a078a-b548-41bf-b64c-a4bb7f40fdb5",
   "metadata": {},
   "outputs": [],
   "source": [
    "# 模型\n",
    "model = nn.Linear(1, 1) # 输入和输出张量的大小都是1\n",
    "\n",
    "# 优化器\n",
    "learning_rate = 1e-2\n",
    "optimizer = optim.SGD(\n",
    "    model.parameters(),\n",
    "    lr=learning_rate\n",
    ")\n",
    "\n",
    "# 损失函数\n",
    "def loss_function(predict, real_value):\n",
    "    squared_diffs = (predict - real_value)**2\n",
    "    return squared_diffs.mean()"
   ]
  },
  {
   "cell_type": "markdown",
   "id": "75b1fc55-bd59-4a5d-b61c-f6d571d944ab",
   "metadata": {},
   "source": [
    "### 3.3 训练循环"
   ]
  },
  {
   "cell_type": "code",
   "execution_count": 20,
   "id": "5fc97900-4f5f-45af-a4f2-814099ddbcd7",
   "metadata": {},
   "outputs": [],
   "source": [
    "def training_loop(epochs, model, optimizer, loss_function, train_source, train_real_value, print_step=10):\n",
    "    for epoch in range(epochs):\n",
    "        # 先对参数的梯段置零\n",
    "        optimizer.zero_grad()\n",
    "\n",
    "        # 正向传播：计算预测值\n",
    "        predict = model(train_source)\n",
    "        \n",
    "        # 计算损失\n",
    "        loss = loss_function(predict, train_real_value)\n",
    "        \n",
    "        # print(epoch, \"loss is\", loss)\n",
    "        # 反向传播: 更新params的梯度\n",
    "        loss.backward()\n",
    "        \n",
    "        # 不需要手动去修改params了，直接调用优化器的step()\n",
    "        optimizer.step()\n",
    "            \n",
    "        # 输出日志信息\n",
    "        if  epoch == 0 or (epoch + 1) % print_step == 0:\n",
    "            print(\"第{}次训练, Loss is {:.2f}, params: weight->{:.3f},bias->{:.3f}\".format(epoch + 1, float(loss), model.weight.item(), model.bias.item()))"
   ]
  },
  {
   "cell_type": "markdown",
   "id": "8c71f2fe-434a-483c-91e6-cc164e4cfcce",
   "metadata": {},
   "source": [
    "### 3.4 使用训练循环"
   ]
  },
  {
   "cell_type": "code",
   "execution_count": 21,
   "id": "49539ece-4efb-4d96-9eee-63dda0681ad4",
   "metadata": {},
   "outputs": [
    {
     "name": "stdout",
     "output_type": "stream",
     "text": [
      "第1次训练, Loss is 302.92, params: weight->0.711,bias->0.631\n",
      "第100次训练, Loss is 10.34, params: weight->3.112,bias->-12.484\n",
      "第200次训练, Loss is 2.48, params: weight->3.346,bias->-14.970\n",
      "第300次训练, Loss is 2.22, params: weight->3.389,bias->-15.428\n",
      "第400次训练, Loss is 2.21, params: weight->3.397,bias->-15.513\n",
      "第500次训练, Loss is 2.21, params: weight->3.399,bias->-15.528\n"
     ]
    }
   ],
   "source": [
    "training_loop(\n",
    "    epochs=500,\n",
    "    model=model,\n",
    "    optimizer=optimizer,\n",
    "    loss_function=loss_function,\n",
    "    train_source=t_x,\n",
    "    train_real_value=t_y,\n",
    "    print_step=100\n",
    ")"
   ]
  },
  {
   "cell_type": "code",
   "execution_count": 22,
   "id": "29e69932-aabf-470e-ac82-afb5fbc8b142",
   "metadata": {},
   "outputs": [
    {
     "data": {
      "text/plain": [
       "(Parameter containing:\n",
       " tensor([[3.3986]], requires_grad=True),\n",
       " Parameter containing:\n",
       " tensor([-15.5281], requires_grad=True))"
      ]
     },
     "execution_count": 22,
     "metadata": {},
     "output_type": "execute_result"
    }
   ],
   "source": [
    "model.weight, model.bias"
   ]
  },
  {
   "cell_type": "markdown",
   "id": "651bf34c-e56a-4032-afaf-0e523391abb5",
   "metadata": {},
   "source": [
    "#### 3.5 xy图形展示"
   ]
  },
  {
   "cell_type": "code",
   "execution_count": 23,
   "id": "52053b18-9448-411c-b2f9-e549846395a4",
   "metadata": {},
   "outputs": [],
   "source": [
    "# x中的点\n",
    "x_line = np.linspace(-10,10,500)\n",
    "\n",
    "weight = model.weight.item()\n",
    "bias = model.bias.item()\n",
    "\n",
    "# 计算y的点\n",
    "y_line = weight * x_line + bias"
   ]
  },
  {
   "cell_type": "code",
   "execution_count": 24,
   "id": "8141a2e0-05e9-48a8-a5f0-bf874edfd064",
   "metadata": {},
   "outputs": [
    {
     "data": {
      "image/png": "[encoded data removed]",
      "text/plain": [
       "<Figure size 600x500 with 1 Axes>"
      ]
     },
     "metadata": {},
     "output_type": "display_data"
    }
   ],
   "source": [
    "# 画图\n",
    "fig = plt.figure(figsize=(6,5), dpi=100)\n",
    "plt.xlabel(\"x\")\n",
    "plt.ylabel(\"y = {:.3f}*x + {:.3f}\".format(weight, bias))\n",
    "plt.plot(x_line, y_line, label=f\"y = {weight}*x + {bias}\", color=\"gray\")\n",
    "plt.plot(x.numpy(), y.numpy(), '*', color=\"blue\")\n",
    "plt.show()"
   ]
  },
  {
   "cell_type": "code",
   "execution_count": null,
   "id": "9f1c7e55-508d-4e49-a8e0-0f71f63f8226",
   "metadata": {},
   "outputs": [],
   "source": []
  }
 ],
 "metadata": {
  "kernelspec": {
   "display_name": "Python 3 (ipykernel)",
   "language": "python",
   "name": "python3"
  },
  "language_info": {
   "codemirror_mode": {
    "name": "ipython",
    "version": 3
   },
   "file_extension": ".py",
   "mimetype": "text/x-python",
   "name": "python",
   "nbconvert_exporter": "python",
   "pygments_lexer": "ipython3",
   "version": "3.11.5"
  }
 },
 "nbformat": 4,
 "nbformat_minor": 5
}
