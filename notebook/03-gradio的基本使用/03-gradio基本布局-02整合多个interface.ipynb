{
 "cells": [
  {
   "cell_type": "markdown",
   "id": "a84d0e10-fd21-414d-858c-98cef8e3b715",
   "metadata": {},
   "source": [
    "## gradio基本布局--整合多个interface"
   ]
  },
  {
   "cell_type": "code",
   "execution_count": 1,
   "id": "c070ce45-c1f8-4826-987e-2127237086f0",
   "metadata": {},
   "outputs": [],
   "source": [
    "import time\n",
    "import datetime\n",
    "import gradio as gr\n",
    "\n",
    "start = datetime.datetime.now()"
   ]
  },
  {
   "cell_type": "markdown",
   "id": "01c0cec8-3f52-4a41-8ccf-567bc2c73993",
   "metadata": {},
   "source": [
    "### 1. 准备产品上传组件"
   ]
  },
  {
   "cell_type": "code",
   "execution_count": 2,
   "id": "f5b518d4-8a2e-4ef2-a344-aa6225f66c1f",
   "metadata": {},
   "outputs": [],
   "source": [
    "def product_add_handler(name, image, desc, status, request:gr.Request):\n",
    "    # gr.Info(name)\n",
    "    # headers = request.request.headers\n",
    "    # return \"添加产品成功：{}-{}\".format(name, desc)\n",
    "    product = {\n",
    "        \"name\": name,\n",
    "        \"desc\": desc,\n",
    "        \"status\": status\n",
    "    }\n",
    "    return product\n",
    "        "
   ]
  },
  {
   "cell_type": "code",
   "execution_count": 3,
   "id": "47297503-b073-4391-9428-a749e78bdb3f",
   "metadata": {},
   "outputs": [],
   "source": [
    "with gr.Blocks(title=\"产品添加\") as page_product_add:\n",
    "    gr.Markdown(\"## 添加产品:\")\n",
    "    with gr.Row():\n",
    "        with gr.Column(scale=3):\n",
    "            image = gr.Image(label=\"产品图片:\", height=360)\n",
    "        with gr.Column(scale=2):\n",
    "            name = gr.Text(label=\"产品名称:\", placeholder=\"产品名称\", value=\"西瓜\")\n",
    "            desc = gr.Text(label=\"图片描述:\", lines=5, placeholder=\"产品描述\", value=\"新鲜水果\")\n",
    "            status = gr.Radio(choices=[\"上架\", \"下架\", \"待上架\"], value=\"待上架\", label=\"状态:\")\n",
    "    with gr.Row():\n",
    "        btn = gr.Button(value=\"添加产品\")\n",
    "    gr.Markdown(\"---\")\n",
    "    with gr.Row():\n",
    "        # result = gr.Label(label=\"结果:\", color=\"#f9f9f9\")\n",
    "        result = gr.Json(label=\"结果:\")\n",
    "    # 添加处理函数\n",
    "    btn.click(fn=product_add_handler, inputs=[name, image, desc, status], outputs=result)"
   ]
  },
  {
   "cell_type": "markdown",
   "id": "03c0c93e-36bc-4328-9524-6c49de213e6a",
   "metadata": {},
   "source": [
    "### 2. 准备一个用户登录组件"
   ]
  },
  {
   "cell_type": "code",
   "execution_count": 4,
   "id": "baedb953-7616-4aff-bb96-0ffee3333723",
   "metadata": {},
   "outputs": [],
   "source": [
    "def handler_login(username, password):\n",
    "    if username == \"admin\" and password == \"admin\":\n",
    "        return \"登录成功\"\n",
    "    else:\n",
    "        return \"账户/密码错误，请重新登录\""
   ]
  },
  {
   "cell_type": "code",
   "execution_count": 5,
   "id": "6913e8fa-cf18-4f1e-81ec-962a88786a0f",
   "metadata": {},
   "outputs": [],
   "source": [
    "page_login = gr.Interface(\n",
    "    fn=handler_login,\n",
    "    inputs=[\n",
    "        gr.Textbox(lines=1, placeholder=\"codelieche\", value=\"admin\", label=\"用户名：\"),\n",
    "        gr.Textbox(lines=1, placeholder=\"password\", type=\"password\", label=\"密码：\"), \n",
    "    ],\n",
    "    outputs=\"label\",\n",
    "    title=\"登录页面\",\n",
    "    allow_flagging=\"never\"\n",
    ")"
   ]
  },
  {
   "cell_type": "markdown",
   "id": "2be03823-45b8-4085-a07a-9a734d5e1107",
   "metadata": {},
   "source": [
    "### 3. 组合2个组件"
   ]
  },
  {
   "cell_type": "code",
   "execution_count": 6,
   "id": "58f2ecf7-c76b-4150-9e1e-0f0d741e179c",
   "metadata": {},
   "outputs": [
    {
     "name": "stdout",
     "output_type": "stream",
     "text": [
      "Running on local URL:  http://127.0.0.1:7862\n",
      "\n",
      "To create a public link, set `share=True` in `launch()`.\n"
     ]
    },
    {
     "data": {
      "text/html": [
       "<div><iframe src=\"http://127.0.0.1:7862/\" width=\"100%\" height=\"500\" allow=\"autoplay; camera; microphone; clipboard-read; clipboard-write;\" frameborder=\"0\" allowfullscreen></iframe></div>"
      ],
      "text/plain": [
       "<IPython.core.display.HTML object>"
      ]
     },
     "metadata": {},
     "output_type": "display_data"
    },
    {
     "data": {
      "text/plain": []
     },
     "execution_count": 6,
     "metadata": {},
     "output_type": "execute_result"
    }
   ],
   "source": [
    "with gr.Blocks() as demo:\n",
    "    with gr.Tabs():\n",
    "        with gr.TabItem(\"登录\"):\n",
    "            page_login.render()\n",
    "        with gr.TabItem(\"产品添加\"):\n",
    "            page_product_add.render()\n",
    "# 启动web服务\n",
    "demo.launch()"
   ]
  },
  {
   "cell_type": "markdown",
   "id": "ff97001e-4ac1-471a-b111-741f74e4e4ce",
   "metadata": {},
   "source": [
    "#### 清理掉所有端口\n",
    "```\n",
    "gr.close_all()\n",
    "```"
   ]
  },
  {
   "cell_type": "code",
   "execution_count": 8,
   "id": "597dd8b1-6716-47de-a1af-a7ffc9101945",
   "metadata": {},
   "outputs": [],
   "source": [
    "# gr.close_all()"
   ]
  },
  {
   "cell_type": "code",
   "execution_count": null,
   "id": "f638c9cd-4a11-431b-b0bf-a861101f836a",
   "metadata": {},
   "outputs": [],
   "source": []
  }
 ],
 "metadata": {
  "kernelspec": {
   "display_name": "Python 3 (ipykernel)",
   "language": "python",
   "name": "python3"
  },
  "language_info": {
   "codemirror_mode": {
    "name": "ipython",
    "version": 3
   },
   "file_extension": ".py",
   "mimetype": "text/x-python",
   "name": "python",
   "nbconvert_exporter": "python",
   "pygments_lexer": "ipython3",
   "version": "3.11.5"
  }
 },
 "nbformat": 4,
 "nbformat_minor": 5
}
