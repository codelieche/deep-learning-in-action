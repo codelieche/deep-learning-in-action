{
 "cells": [
  {
   "cell_type": "markdown",
   "id": "67308679-144c-4f3c-888e-a5654fb51526",
   "metadata": {},
   "source": [
    "## gradio基本使用--Hello World"
   ]
  },
  {
   "cell_type": "markdown",
   "id": "95e83b4b-5a0e-4063-91a9-d2cfec3edfe8",
   "metadata": {},
   "source": [
    "安装： `pip install gradio`"
   ]
  },
  {
   "cell_type": "code",
   "execution_count": 1,
   "id": "9837b66e-83b9-422b-a0c1-f15afeacf36c",
   "metadata": {},
   "outputs": [],
   "source": [
    "import time\n",
    "import datetime\n",
    "import gradio as gr\n",
    "\n",
    "start = datetime.datetime.now()"
   ]
  },
  {
   "cell_type": "markdown",
   "id": "ae7982d7-918f-484a-9989-8304bd07b8d9",
   "metadata": {},
   "source": [
    "### 1. 最简单的示例Input输入输出"
   ]
  },
  {
   "cell_type": "code",
   "execution_count": 2,
   "id": "872074b2-2416-479e-9681-5a874add5099",
   "metadata": {},
   "outputs": [],
   "source": [
    "# 编写一个input文本提交的处理函数\n",
    "def hello(name):\n",
    "    # print(name)\n",
    "    # 返回值\n",
    "    return \"Hello {}!\".format(name)\n"
   ]
  },
  {
   "cell_type": "code",
   "execution_count": 3,
   "id": "90feef4e-0976-4831-acc0-c45384d8e961",
   "metadata": {},
   "outputs": [
    {
     "name": "stdout",
     "output_type": "stream",
     "text": [
      "Running on local URL:  http://127.0.0.1:7860\n",
      "\n",
      "To create a public link, set `share=True` in `launch()`.\n"
     ]
    },
    {
     "data": {
      "text/html": [
       "<div><iframe src=\"http://127.0.0.1:7860/\" width=\"100%\" height=\"500\" allow=\"autoplay; camera; microphone; clipboard-read; clipboard-write;\" frameborder=\"0\" allowfullscreen></iframe></div>"
      ],
      "text/plain": [
       "<IPython.core.display.HTML object>"
      ]
     },
     "metadata": {},
     "output_type": "display_data"
    },
    {
     "data": {
      "text/plain": []
     },
     "execution_count": 3,
     "metadata": {},
     "output_type": "execute_result"
    }
   ],
   "source": [
    "# gr.Interface 接口对象，传递的参数：\n",
    "# fn：设置处理函数\n",
    "# inputs: 设置输入接口组件\n",
    "# outputs: 设置输出接口组件\n",
    "demo = gr.Interface(fn=hello, inputs=\"text\", outputs=\"text\")\n",
    "\n",
    "# 启动web服务###\n",
    "demo.launch()"
   ]
  },
  {
   "cell_type": "markdown",
   "id": "651f5697-b432-4bff-a31b-b41101b97ba4",
   "metadata": {},
   "source": [
    "### 2. 自定义Input组件\n",
    "\n",
    "我们想设置文本的默认值，标签，以及行数等。"
   ]
  },
  {
   "cell_type": "code",
   "execution_count": 4,
   "id": "68a50d9e-6b30-47ba-a53f-d323de24a667",
   "metadata": {},
   "outputs": [
    {
     "name": "stdout",
     "output_type": "stream",
     "text": [
      "Running on local URL:  http://127.0.0.1:7861\n",
      "\n",
      "To create a public link, set `share=True` in `launch()`.\n"
     ]
    },
    {
     "data": {
      "text/html": [
       "<div><iframe src=\"http://127.0.0.1:7861/\" width=\"100%\" height=\"500\" allow=\"autoplay; camera; microphone; clipboard-read; clipboard-write;\" frameborder=\"0\" allowfullscreen></iframe></div>"
      ],
      "text/plain": [
       "<IPython.core.display.HTML object>"
      ]
     },
     "metadata": {},
     "output_type": "display_data"
    },
    {
     "data": {
      "text/plain": []
     },
     "execution_count": 4,
     "metadata": {},
     "output_type": "execute_result"
    }
   ],
   "source": [
    "demo = gr.Interface(\n",
    "    fn=hello,\n",
    "    inputs=gr.Textbox(lines=5, placeholder=\"codelieche\", value=\"codelieche\", label=\"username\"),\n",
    "    outputs=\"text\"\n",
    ")\n",
    "demo.launch()"
   ]
  },
  {
   "cell_type": "code",
   "execution_count": 5,
   "id": "50cbb8ee-b422-477b-b9ca-aa3d3ee21752",
   "metadata": {},
   "outputs": [],
   "source": [
    "# gr.Textbox??"
   ]
  },
  {
   "cell_type": "markdown",
   "id": "a53296cf-da9f-43f4-b464-72058bb0a517",
   "metadata": {},
   "source": [
    "### 3. 2个Input：登录示例"
   ]
  },
  {
   "cell_type": "code",
   "execution_count": 6,
   "id": "fd04ae5d-02c1-44be-9605-98f1964a14bf",
   "metadata": {},
   "outputs": [],
   "source": [
    "def login(username, password):\n",
    "    if username == \"admin\" and password == \"admin\":\n",
    "        return \"登录成功\"\n",
    "    else:\n",
    "        return \"账户/密码错误，请重新登录\""
   ]
  },
  {
   "cell_type": "code",
   "execution_count": 7,
   "id": "6f4713e9-8c96-40ce-9523-73ef3a7e207f",
   "metadata": {},
   "outputs": [
    {
     "name": "stdout",
     "output_type": "stream",
     "text": [
      "Running on local URL:  http://127.0.0.1:7862\n",
      "\n",
      "To create a public link, set `share=True` in `launch()`.\n"
     ]
    },
    {
     "data": {
      "text/html": [
       "<div><iframe src=\"http://127.0.0.1:7862/\" width=\"100%\" height=\"500\" allow=\"autoplay; camera; microphone; clipboard-read; clipboard-write;\" frameborder=\"0\" allowfullscreen></iframe></div>"
      ],
      "text/plain": [
       "<IPython.core.display.HTML object>"
      ]
     },
     "metadata": {},
     "output_type": "display_data"
    },
    {
     "data": {
      "text/plain": []
     },
     "execution_count": 7,
     "metadata": {},
     "output_type": "execute_result"
    }
   ],
   "source": [
    "demo = gr.Interface(\n",
    "    fn=login,\n",
    "    inputs=[\n",
    "        gr.Textbox(lines=1, placeholder=\"codelieche\", value=\"admin\", label=\"用户名：\"),\n",
    "        gr.Textbox(lines=1, placeholder=\"password\", type=\"password\", label=\"密码：\"), \n",
    "    ],\n",
    "    outputs=\"text\",\n",
    "    title=\"登录页面\",\n",
    "    allow_flagging=\"never\"\n",
    ")\n",
    "demo.launch()"
   ]
  },
  {
   "cell_type": "markdown",
   "id": "25e29d9c-8b8a-429c-9450-7d42ef493668",
   "metadata": {},
   "source": [
    "### 4. 用户注册示例"
   ]
  },
  {
   "cell_type": "code",
   "execution_count": 8,
   "id": "fa60b53a-f433-48ac-b665-413e52e08374",
   "metadata": {},
   "outputs": [],
   "source": [
    "def register(username, password, gender, phone, age):\n",
    "    return \"{}/{}/{}/{}/{}\".format(username, password, gender,phone, age)"
   ]
  },
  {
   "cell_type": "code",
   "execution_count": 9,
   "id": "3089f8ca-141e-4f07-adbc-341f07742082",
   "metadata": {},
   "outputs": [
    {
     "name": "stdout",
     "output_type": "stream",
     "text": [
      "Running on local URL:  http://127.0.0.1:7863\n",
      "\n",
      "To create a public link, set `share=True` in `launch()`.\n"
     ]
    },
    {
     "data": {
      "text/html": [
       "<div><iframe src=\"http://127.0.0.1:7863/\" width=\"100%\" height=\"500\" allow=\"autoplay; camera; microphone; clipboard-read; clipboard-write;\" frameborder=\"0\" allowfullscreen></iframe></div>"
      ],
      "text/plain": [
       "<IPython.core.display.HTML object>"
      ]
     },
     "metadata": {},
     "output_type": "display_data"
    },
    {
     "data": {
      "text/plain": []
     },
     "execution_count": 9,
     "metadata": {},
     "output_type": "execute_result"
    }
   ],
   "source": [
    "demo = gr.Interface(\n",
    "    fn=register,\n",
    "    inputs=[\n",
    "        gr.Textbox(lines=1, placeholder=\"codelieche\", value=\"\", label=\"用户名：\"),\n",
    "        gr.Textbox(lines=1, placeholder=\"password\", type=\"password\", label=\"密码：\"), \n",
    "        gr.Radio([\"女\", \"男\", \"保密\"], label=\"性别：\", info=\"请选择性别\"),\n",
    "        gr.Textbox(lines=1, placeholder=\"phone\", type=\"text\", label=\"手机号：\"), \n",
    "        gr.Number(minimum=1, maximum=5000, value=18, step=1, label=\"年龄：\")\n",
    "    ],\n",
    "    outputs=\"text\",\n",
    "    title=\"注册页面\",\n",
    "    allow_flagging=\"never\"\n",
    ")\n",
    "demo.launch()"
   ]
  },
  {
   "cell_type": "markdown",
   "id": "a6badd96-568f-499c-bd57-6255f2e22119",
   "metadata": {},
   "source": [
    "### 清理掉所有端口"
   ]
  },
  {
   "cell_type": "code",
   "execution_count": 10,
   "id": "4e6188e6-b513-423e-a90c-fa0dd12d0792",
   "metadata": {},
   "outputs": [],
   "source": [
    "if (datetime.datetime.now() - start).seconds < 100:\n",
    "    time.sleep(10)"
   ]
  },
  {
   "cell_type": "code",
   "execution_count": 11,
   "id": "a32bebd3-aef9-417f-a123-2f6638d54627",
   "metadata": {},
   "outputs": [],
   "source": [
    "# 关闭所有启动的web程序\n",
    "# gr.close_all()"
   ]
  },
  {
   "cell_type": "code",
   "execution_count": 12,
   "id": "f9b57826-4a20-4bd3-80f8-0e90e14d1147",
   "metadata": {},
   "outputs": [
    {
     "name": "stdout",
     "output_type": "stream",
     "text": [
      "Closing server running on port: 7860\n",
      "Closing server running on port: 7862\n",
      "Closing server running on port: 7863\n",
      "Closing server running on port: 7861\n"
     ]
    }
   ],
   "source": [
    "gr.close_all()"
   ]
  },
  {
   "cell_type": "code",
   "execution_count": null,
   "id": "d392f65f-670c-4f56-874c-49709394ab5e",
   "metadata": {},
   "outputs": [],
   "source": []
  }
 ],
 "metadata": {
  "kernelspec": {
   "display_name": "Python 3 (ipykernel)",
   "language": "python",
   "name": "python3"
  },
  "language_info": {
   "codemirror_mode": {
    "name": "ipython",
    "version": 3
   },
   "file_extension": ".py",
   "mimetype": "text/x-python",
   "name": "python",
   "nbconvert_exporter": "python",
   "pygments_lexer": "ipython3",
   "version": "3.11.5"
  }
 },
 "nbformat": 4,
 "nbformat_minor": 5
}
