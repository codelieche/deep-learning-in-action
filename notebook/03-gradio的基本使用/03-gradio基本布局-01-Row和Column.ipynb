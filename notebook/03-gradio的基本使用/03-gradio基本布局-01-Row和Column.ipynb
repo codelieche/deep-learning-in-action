{
 "cells": [
  {
   "cell_type": "markdown",
   "id": "89bb1bdb-ad66-4d83-beac-29187a2a5bfc",
   "metadata": {},
   "source": [
    "## Gradio基本布局：Row和Column"
   ]
  },
  {
   "cell_type": "code",
   "execution_count": 1,
   "id": "227a7ebc-1729-43dd-b287-e361bc47e459",
   "metadata": {},
   "outputs": [],
   "source": [
    "import time\n",
    "import datetime\n",
    "import gradio as gr\n",
    "\n",
    "start = datetime.datetime.now()"
   ]
  },
  {
   "cell_type": "markdown",
   "id": "b699d36b-7dd9-4db6-b33d-3ec6e21905f0",
   "metadata": {},
   "source": [
    "### 1. 左右布局：3:2"
   ]
  },
  {
   "cell_type": "code",
   "execution_count": 2,
   "id": "42177212-3875-436b-9346-a5613ce33ca6",
   "metadata": {},
   "outputs": [],
   "source": [
    "def handler(name, image, desc, status, request:gr.Request):\n",
    "    # gr.Info(name)\n",
    "    headers = request.request.headers\n",
    "    return \"{}\".format(headers)"
   ]
  },
  {
   "cell_type": "code",
   "execution_count": 3,
   "id": "216a55e5-96ae-463a-bc6b-70b1fa6cd7fc",
   "metadata": {},
   "outputs": [
    {
     "name": "stdout",
     "output_type": "stream",
     "text": [
      "Running on local URL:  http://127.0.0.1:7860\n",
      "\n",
      "To create a public link, set `share=True` in `launch()`.\n"
     ]
    },
    {
     "data": {
      "text/html": [
       "<div><iframe src=\"http://127.0.0.1:7860/\" width=\"100%\" height=\"500\" allow=\"autoplay; camera; microphone; clipboard-read; clipboard-write;\" frameborder=\"0\" allowfullscreen></iframe></div>"
      ],
      "text/plain": [
       "<IPython.core.display.HTML object>"
      ]
     },
     "metadata": {},
     "output_type": "display_data"
    },
    {
     "data": {
      "text/plain": []
     },
     "execution_count": 3,
     "metadata": {},
     "output_type": "execute_result"
    }
   ],
   "source": [
    "with gr.Blocks(title=\"3:2布局示例\") as demo:\n",
    "    gr.Markdown(\"## 添加产品:\")\n",
    "    with gr.Row():\n",
    "        with gr.Column(scale=3):\n",
    "            image = gr.Image(label=\"产品图片:\", height=360)\n",
    "        with gr.Column(scale=2):\n",
    "            name = gr.Text(label=\"产品名称:\", placeholder=\"产品名称\", value=\"西瓜\")\n",
    "            desc = gr.Text(label=\"图片描述:\", lines=5, placeholder=\"产品描述\", value=\"新鲜水果\")\n",
    "            status = gr.Radio(choices=[\"上架\", \"下架\", \"待上架\"], value=\"待上架\", label=\"状态:\")\n",
    "    with gr.Row():\n",
    "        btn = gr.Button(value=\"添加产品\")\n",
    "    gr.Markdown(\"---\")\n",
    "    with gr.Row():\n",
    "        result = gr.Label(label=\"结果:\", color=\"#f9f9f9\")\n",
    "    # 添加处理函数\n",
    "    btn.click(fn=handler, inputs=[name, image, desc, status], outputs=result)\n",
    "demo.launch()"
   ]
  },
  {
   "cell_type": "markdown",
   "id": "39fc4695-491c-458a-acbf-88bbbf58d525",
   "metadata": {},
   "source": [
    "### 2. 多个Tab"
   ]
  },
  {
   "cell_type": "code",
   "execution_count": 4,
   "id": "8ced4b6a-33ae-4893-9009-c62971e21212",
   "metadata": {},
   "outputs": [],
   "source": [
    "def handle_login(username, password):\n",
    "    return \"登录成功\""
   ]
  },
  {
   "cell_type": "code",
   "execution_count": 5,
   "id": "0df877ae-e9ef-4959-b817-13f77c61175f",
   "metadata": {},
   "outputs": [],
   "source": [
    "def handle_register(username, password, phone):\n",
    "    return \"注册成功\""
   ]
  },
  {
   "cell_type": "code",
   "execution_count": 6,
   "id": "754bbc6f-b8ec-4787-83a3-374ef8c1dbd2",
   "metadata": {},
   "outputs": [
    {
     "name": "stdout",
     "output_type": "stream",
     "text": [
      "Running on local URL:  http://127.0.0.1:7861\n",
      "\n",
      "To create a public link, set `share=True` in `launch()`.\n"
     ]
    },
    {
     "data": {
      "text/html": [
       "<div><iframe src=\"http://127.0.0.1:7861/\" width=\"100%\" height=\"500\" allow=\"autoplay; camera; microphone; clipboard-read; clipboard-write;\" frameborder=\"0\" allowfullscreen></iframe></div>"
      ],
      "text/plain": [
       "<IPython.core.display.HTML object>"
      ]
     },
     "metadata": {},
     "output_type": "display_data"
    },
    {
     "data": {
      "text/plain": []
     },
     "execution_count": 6,
     "metadata": {},
     "output_type": "execute_result"
    }
   ],
   "source": [
    "with gr.Blocks() as demo:\n",
    "    with gr.Row():\n",
    "        result = gr.Label(label=\"Result:\")\n",
    "    with gr.Tab(\"login\"):\n",
    "        gr.Markdown(\"### 请登录\")\n",
    "        username = gr.Text(label=\"username:\")\n",
    "        password = gr.Text(label=\"password:\", type=\"password\")\n",
    "        btn_login = gr.Button(value=\"Login\")\n",
    "    with gr.Tab(\"register\"):\n",
    "        gr.Markdown(\"### 请填写注册信息\")\n",
    "        username2 = gr.Text(label=\"username:\")\n",
    "        password2 = gr.Text(label=\"password:\", type=\"password\")\n",
    "        phone = gr.Text(label=\"phone:\")\n",
    "        btn_register = gr.Button(value=\"Register\")\n",
    "    # 绑定处理函数\n",
    "    btn_login.click(fn=handle_login, inputs=[username, password], outputs=result)\n",
    "    btn_register.click(fn=handle_register, inputs=[username2, password2, phone], outputs=result)\n",
    "demo.launch()"
   ]
  },
  {
   "cell_type": "markdown",
   "id": "a357a65b-8fb8-4538-8938-b8f47a6273eb",
   "metadata": {},
   "source": [
    "#### 清理掉所有端口\n",
    "```\n",
    "gr.close_all()\n",
    "```"
   ]
  },
  {
   "cell_type": "code",
   "execution_count": 8,
   "id": "2a5c075b-ee33-4e64-ba06-1fd4360ec762",
   "metadata": {},
   "outputs": [],
   "source": [
    "# gr.close_all()"
   ]
  },
  {
   "cell_type": "code",
   "execution_count": null,
   "id": "1dd05a76-dab2-4884-b62f-dfc7833923c0",
   "metadata": {},
   "outputs": [],
   "source": []
  }
 ],
 "metadata": {
  "kernelspec": {
   "display_name": "Python 3 (ipykernel)",
   "language": "python",
   "name": "python3"
  },
  "language_info": {
   "codemirror_mode": {
    "name": "ipython",
    "version": 3
   },
   "file_extension": ".py",
   "mimetype": "text/x-python",
   "name": "python",
   "nbconvert_exporter": "python",
   "pygments_lexer": "ipython3",
   "version": "3.11.5"
  }
 },
 "nbformat": 4,
 "nbformat_minor": 5
}
