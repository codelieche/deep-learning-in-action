{
 "cells": [
  {
   "cell_type": "markdown",
   "id": "52c950b9-4f68-477c-af16-428013f791c4",
   "metadata": {},
   "source": [
    "## gradio基本使用--图像组件"
   ]
  },
  {
   "cell_type": "code",
   "execution_count": 1,
   "id": "a1e63147-c209-434e-acc6-0011c03855ee",
   "metadata": {},
   "outputs": [],
   "source": [
    "import time\n",
    "import datetime\n",
    "import gradio as gr\n",
    "\n",
    "start = datetime.datetime.now()"
   ]
  },
  {
   "cell_type": "markdown",
   "id": "7b7d497d-56c1-492e-a98a-24aa0f57b61f",
   "metadata": {},
   "source": [
    "### 1. 上传图像"
   ]
  },
  {
   "cell_type": "code",
   "execution_count": 2,
   "id": "db971a2e-d7d1-4c19-91bc-7611711bdb22",
   "metadata": {},
   "outputs": [],
   "source": [
    "import os\n",
    "\n",
    "from PIL import Image"
   ]
  },
  {
   "cell_type": "code",
   "execution_count": 3,
   "id": "7987c284-e293-4bc8-a3bb-cb622a219d30",
   "metadata": {},
   "outputs": [],
   "source": [
    "def upload_image(img):\n",
    "    # 传入的图片对象numpy.ndarray对象\n",
    "    # print(type(img))  # <class 'numpy.ndarray'>\n",
    "    \n",
    "    # 实例化图片对象\n",
    "    img_obj = Image.fromarray(img)\n",
    "    # 生成图片文件名\n",
    "    now = datetime.datetime.now()\n",
    "    filepath = \"./uploads/{}.png\".format(now.strftime(\"%F-%T\"))\n",
    "    # 判断uploads目录是否存在\n",
    "    if not os.path.exists(\"./uploads/\"):\n",
    "        os.mkdir(\"./uploads/\")\n",
    "        \n",
    "    # 保存图片\n",
    "    img_obj.save(filepath)\n",
    "    return img_obj"
   ]
  },
  {
   "cell_type": "code",
   "execution_count": 4,
   "id": "751f2ed5-be18-4032-b720-1efe8cd159a5",
   "metadata": {},
   "outputs": [],
   "source": [
    "# gr.Image??"
   ]
  },
  {
   "cell_type": "code",
   "execution_count": 5,
   "id": "a5b7dfd4-f992-4418-ae8a-9af3d06835ed",
   "metadata": {},
   "outputs": [
    {
     "name": "stdout",
     "output_type": "stream",
     "text": [
      "Running on local URL:  http://127.0.0.1:7860\n",
      "\n",
      "To create a public link, set `share=True` in `launch()`.\n"
     ]
    },
    {
     "data": {
      "text/html": [
       "<div><iframe src=\"http://127.0.0.1:7860/\" width=\"100%\" height=\"500\" allow=\"autoplay; camera; microphone; clipboard-read; clipboard-write;\" frameborder=\"0\" allowfullscreen></iframe></div>"
      ],
      "text/plain": [
       "<IPython.core.display.HTML object>"
      ]
     },
     "metadata": {},
     "output_type": "display_data"
    },
    {
     "data": {
      "text/plain": []
     },
     "execution_count": 5,
     "metadata": {},
     "output_type": "execute_result"
    }
   ],
   "source": [
    "demo = gr.Interface(\n",
    "    fn=upload_image,\n",
    "    inputs=gr.Image(\n",
    "        width=512, min_width=160, height=350,\n",
    "        label=\"上传图片\", scale=2\n",
    "    ),\n",
    "    outputs=\"image\",\n",
    ")\n",
    "\n",
    "demo.launch()"
   ]
  },
  {
   "cell_type": "markdown",
   "id": "1160bdbd-08c4-45a8-8c87-e5d1047aaad1",
   "metadata": {},
   "source": [
    "### 2. 对图片进行缩放"
   ]
  },
  {
   "cell_type": "code",
   "execution_count": 6,
   "id": "a9d71158-933e-498e-8b48-4b283a86bfed",
   "metadata": {},
   "outputs": [],
   "source": [
    "def upload_image_and_scale(img, width, height):\n",
    "    # 传入的图片对象numpy.ndarray对象\n",
    "    # print(type(img))  # <class 'numpy.ndarray'>\n",
    "    \n",
    "    # 实例化图片对象\n",
    "    img_obj = Image.fromarray(img)\n",
    "    # 获取新的宽和高\n",
    "    old_width, old_height = img.shape[1], img.shape[0]\n",
    "    # print(old_width, old_height)\n",
    "\n",
    "    # 设置新的宽和高: 一般我们只缩小\n",
    "    if width >= old_width or not width:\n",
    "        new_width = old_width\n",
    "    else:\n",
    "        new_width = width\n",
    "    # 获取新的高度\n",
    "    new_height = int(old_height * (new_width / old_width))\n",
    "\n",
    "    # 根据高来缩放\n",
    "    if not width and height > 0:\n",
    "        if height >= old_height:\n",
    "            new_height = old_height\n",
    "        else:\n",
    "            new_height = height\n",
    "        # 计算新的宽度\n",
    "        new_width = int(old_width * (new_height / old_height))\n",
    "\n",
    "   \n",
    "    # 图片缩放\n",
    "    if new_width != old_width:\n",
    "        img_obj = img_obj.resize((new_width, new_height))\n",
    "    \n",
    "    # 生成图片文件名\n",
    "    now = datetime.datetime.now()\n",
    "    filepath = \"./uploads/{}.png\".format(now.strftime(\"%F-%T\"))\n",
    "    # 判断uploads目录是否存在\n",
    "    if not os.path.exists(\"./uploads/\"):\n",
    "        os.mkdir(\"./uploads/\")\n",
    "        \n",
    "    # 保存图片\n",
    "    img_obj.save(filepath)\n",
    "    return img_obj"
   ]
  },
  {
   "cell_type": "code",
   "execution_count": 7,
   "id": "397a7cb2-9618-4a28-aecc-9b647542b49a",
   "metadata": {},
   "outputs": [
    {
     "name": "stdout",
     "output_type": "stream",
     "text": [
      "Running on local URL:  http://127.0.0.1:7861\n",
      "\n",
      "To create a public link, set `share=True` in `launch()`.\n"
     ]
    },
    {
     "data": {
      "text/html": [
       "<div><iframe src=\"http://127.0.0.1:7861/\" width=\"100%\" height=\"500\" allow=\"autoplay; camera; microphone; clipboard-read; clipboard-write;\" frameborder=\"0\" allowfullscreen></iframe></div>"
      ],
      "text/plain": [
       "<IPython.core.display.HTML object>"
      ]
     },
     "metadata": {},
     "output_type": "display_data"
    },
    {
     "data": {
      "text/plain": []
     },
     "execution_count": 7,
     "metadata": {},
     "output_type": "execute_result"
    }
   ],
   "source": [
    "demo = gr.Interface(\n",
    "    fn=upload_image_and_scale,\n",
    "    inputs=[\n",
    "        gr.Image(\n",
    "            width=512, min_width=160, height=350,\n",
    "            label=\"上传图片\", scale=2\n",
    "        ),\n",
    "        gr.Number(label=\"宽\", value=0, maximum=102400),\n",
    "        gr.Number(label=\"高\", value=0, maximum=102400),\n",
    "    ],\n",
    "    outputs=\"image\",\n",
    ")\n",
    "\n",
    "demo.launch()"
   ]
  },
  {
   "cell_type": "markdown",
   "id": "aaa9dd6b-60cf-49fc-9e50-c33ac44544f3",
   "metadata": {},
   "source": [
    "### 3. 图片缩放后粘贴到粘贴板\n",
    "\n",
    "需要安装库：`pip install pasteboard`"
   ]
  },
  {
   "cell_type": "code",
   "execution_count": 8,
   "id": "50d3eff4-52a8-4dc8-b322-db20ed7450ce",
   "metadata": {},
   "outputs": [],
   "source": [
    "import io\n",
    "import base64\n",
    "\n",
    "import pasteboard"
   ]
  },
  {
   "cell_type": "code",
   "execution_count": 9,
   "id": "a7ae874e-5f3a-44e8-b571-d6c1b48526e8",
   "metadata": {},
   "outputs": [],
   "source": [
    "# import pasteboard\n",
    "# pb = pasteboard.Pasteboard()\n",
    "\n",
    "# pb.set_contents(\"copy text\")\n",
    "# pb.get_contents()"
   ]
  },
  {
   "cell_type": "code",
   "execution_count": 10,
   "id": "264e724a-22b8-4882-aef8-a36fea874c4e",
   "metadata": {},
   "outputs": [],
   "source": [
    "def upload_image_scale_and_copy(img, width, height):\n",
    "    # 传入的图片对象numpy.ndarray对象\n",
    "    # print(type(img))  # <class 'numpy.ndarray'>\n",
    "    \n",
    "    # 实例化图片对象\n",
    "    img_obj = Image.fromarray(img)\n",
    "    # 获取新的宽和高\n",
    "    old_width, old_height = img.shape[1], img.shape[0]\n",
    "    # print(old_width, old_height)\n",
    "\n",
    "    # 设置新的宽和高: 一般我们只缩小\n",
    "    if width >= old_width or not width:\n",
    "        new_width = old_width\n",
    "    else:\n",
    "        new_width = width\n",
    "    # 获取新的高度\n",
    "    new_height = int(old_height * (new_width / old_width))\n",
    "\n",
    "    # 根据高来缩放\n",
    "    if not width and height > 0:\n",
    "        if height >= old_height:\n",
    "            new_height = old_height\n",
    "        else:\n",
    "            new_height = height\n",
    "        # 计算新的宽度\n",
    "        new_width = int(old_width * (new_height / old_height))\n",
    "\n",
    "   \n",
    "    # 图片缩放\n",
    "    if new_width != old_width:\n",
    "        img_obj = img_obj.resize((new_width, new_height))\n",
    "    \n",
    "    # 八图片数据保存到BytesIO对象中，且设置为png格式\n",
    "    image_bytes = io.BytesIO()\n",
    "    img_obj.save(image_bytes, format='PNG')\n",
    "\n",
    "    # 将BytesIO中的内容转换为base64编码\n",
    "    # base64_image = base64.b64encode(image_bytes.getvalue()).decode('utf-8')\n",
    "    # 将base64编码的图像数据复制到剪切板: 这个方法粘贴的是文本\n",
    "    # clipboard.copy(base64_image)\n",
    "\n",
    "    pb = pasteboard.Pasteboard()\n",
    "    pb.set_contents(data=image_bytes.getvalue(), type=pasteboard.TIFF)\n",
    "    \n",
    "    return img_obj"
   ]
  },
  {
   "cell_type": "code",
   "execution_count": 11,
   "id": "8b06a107-c47e-4bcd-9939-0cb0d2a64bb9",
   "metadata": {},
   "outputs": [
    {
     "name": "stdout",
     "output_type": "stream",
     "text": [
      "Running on local URL:  http://127.0.0.1:7862\n",
      "\n",
      "To create a public link, set `share=True` in `launch()`.\n"
     ]
    },
    {
     "data": {
      "text/html": [
       "<div><iframe src=\"http://127.0.0.1:7862/\" width=\"100%\" height=\"500\" allow=\"autoplay; camera; microphone; clipboard-read; clipboard-write;\" frameborder=\"0\" allowfullscreen></iframe></div>"
      ],
      "text/plain": [
       "<IPython.core.display.HTML object>"
      ]
     },
     "metadata": {},
     "output_type": "display_data"
    },
    {
     "data": {
      "text/plain": []
     },
     "execution_count": 11,
     "metadata": {},
     "output_type": "execute_result"
    }
   ],
   "source": [
    "demo = gr.Interface(\n",
    "    fn=upload_image_scale_and_copy,\n",
    "    inputs=[\n",
    "        gr.Image(\n",
    "            width=512, min_width=160, height=350,\n",
    "            label=\"上传图片\", scale=2\n",
    "        ),\n",
    "        gr.Number(label=\"宽\", value=1024, maximum=102400),\n",
    "        gr.Number(label=\"高\", value=0, maximum=102400),\n",
    "    ],\n",
    "    outputs=\"image\",\n",
    ")\n",
    "\n",
    "demo.launch()"
   ]
  },
  {
   "cell_type": "markdown",
   "id": "497e0d27-2e55-48e9-93f5-f239fec209d9",
   "metadata": {},
   "source": [
    "#### 清理掉所有端口\n",
    "```\n",
    "gr.close_all()\n",
    "```"
   ]
  },
  {
   "cell_type": "code",
   "execution_count": 12,
   "id": "b6b6f465-59cf-4d4f-ac23-b7a3d1d62b62",
   "metadata": {},
   "outputs": [
    {
     "name": "stdout",
     "output_type": "stream",
     "text": [
      "Closing server running on port: 7860\n",
      "Closing server running on port: 7861\n",
      "Closing server running on port: 7862\n"
     ]
    }
   ],
   "source": [
    "# gr.close_all()"
   ]
  },
  {
   "cell_type": "code",
   "execution_count": null,
   "id": "5bbf556d-737e-46db-b8d0-420c09158018",
   "metadata": {},
   "outputs": [],
   "source": []
  }
 ],
 "metadata": {
  "kernelspec": {
   "display_name": "Python 3 (ipykernel)",
   "language": "python",
   "name": "python3"
  },
  "language_info": {
   "codemirror_mode": {
    "name": "ipython",
    "version": 3
   },
   "file_extension": ".py",
   "mimetype": "text/x-python",
   "name": "python",
   "nbconvert_exporter": "python",
   "pygments_lexer": "ipython3",
   "version": "3.11.5"
  }
 },
 "nbformat": 4,
 "nbformat_minor": 5
}
