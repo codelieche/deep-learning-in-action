{
 "cells": [
  {
   "cell_type": "markdown",
   "id": "dda6e7ae-81d7-4aa0-ab79-24e1144c5d37",
   "metadata": {},
   "source": [
    "## 激活函数\n",
    "\n",
    "在机器学习中，特别是神经网络中，激活函数(`Activation Function`)是一个非常重要的组件。\n",
    "\n",
    "- 神经元各输入的加权值`z`：$z = w_1x_1 + w_2x_2 + ... + w_nx_n$\n",
    "- 神经元的输出`y`: $y = a(z)$\n",
    "  > `a`就是`Activation Function`(激活函数）。    \n",
    "  > 激活函数被应用于神经网络中神经元的输出上，以引入非线性特征，从而使神经网络能够学习和模拟复杂的非线性关系。\n",
    "  "
   ]
  },
  {
   "cell_type": "markdown",
   "id": "f2cf8b17-7928-4e8b-8088-150cd6bc4bd9",
   "metadata": {},
   "source": [
    "### 1. 激活函数的作用\n",
    "1. **引入非线性：**\n",
    "   > 神经元的加权输入值，没激活函数调用之前，其值`z`本质上是一个线性回归模型，其输出是输入的线性组合。\n",
    "   > 激活函数能够引入非线性，使得神经网络能够逼近任何非线性函数。\n",
    "\n",
    "   **线性函数**和**非线性函数**是数学中描述变量之间关系的两种基本方式，它们之间主要区别在于变量之间的关系是否可以用直线来表示。    \n",
    "   线性函数的一般形式：$f(x) = wx + b$\n",
    "2. **控制输出范围：**\n",
    "   > 神经元输出值有时候我们需要的是0/1(不点火/点火),或者描述这个神经元的兴奋度(-N, N)即可。不需要线性函数得到的那个区间很大的值。\n",
    "   > 激活函数可以将输出限制在特定的范围（比如：`-1 ~ 1`, `0 ~ 1`)。这样有助于稳定神经网络的训练过程。\n",
    "3. **实现稀疏性：**\n",
    "   > 某些函数（如ReLU及其变体）在输入为负数的时候，输出为`0`，这样有助于实现神经网络的稀疏性，从而提高神经网络的效率。"
   ]
  },
  {
   "cell_type": "markdown",
   "id": "3e5bc651-1e02-49fe-84f5-cefe794a31ca",
   "metadata": {},
   "source": [
    "### 2. 常用的激活函数"
   ]
  },
  {
   "cell_type": "code",
   "execution_count": 1,
   "id": "a2860da8-c978-44dd-a966-2d1ba948372f",
   "metadata": {},
   "outputs": [],
   "source": [
    "%matplotlib inline\n",
    "import math\n",
    "import numpy as np\n",
    "import matplotlib.pyplot as plt"
   ]
  },
  {
   "cell_type": "markdown",
   "id": "a8d30179-ecef-408b-b9ec-81d787925dd5",
   "metadata": {},
   "source": [
    "#### 2.1 Sigmoid函数\n",
    "\n",
    "- 公式： $\\sigma(x) = \\frac{1}{1 + e^{-x}}$\n",
    "- 输出值：0到1之间\n",
    "- 特点：常用语二分类问题的输出层。但是，由于其梯度在饱和区接近于零，可能导致梯度消失问题。\n"
   ]
  },
  {
   "cell_type": "code",
   "execution_count": 2,
   "id": "ecfc98ad-c8d1-40c4-8359-30e9b2bfb938",
   "metadata": {},
   "outputs": [
    {
     "data": {
      "text/plain": [
       "(500,)"
      ]
     },
     "execution_count": 2,
     "metadata": {},
     "output_type": "execute_result"
    }
   ],
   "source": [
    "# 先计算x的点\n",
    "x_line = np.linspace(-20, 20, 500, dtype=np.float32)\n",
    "x_line.shape"
   ]
  },
  {
   "cell_type": "code",
   "execution_count": 3,
   "id": "1f5e07fd-9c42-4161-8575-b8961152c06a",
   "metadata": {},
   "outputs": [
    {
     "data": {
      "text/plain": [
       "(2.718281828459045, 0.36787944117144233)"
      ]
     },
     "execution_count": 3,
     "metadata": {},
     "output_type": "execute_result"
    }
   ],
   "source": [
    "# 执行exp函数\n",
    "np.exp(1), np.exp(-1)"
   ]
  },
  {
   "cell_type": "code",
   "execution_count": 4,
   "id": "125bc858-c19d-4c35-abde-e9f478c718dd",
   "metadata": {},
   "outputs": [],
   "source": [
    "# 定义sigmoid函数\n",
    "def sigmoid(x):\n",
    "    return 1 / (1 + np.exp(x * -1))"
   ]
  },
  {
   "cell_type": "code",
   "execution_count": 5,
   "id": "e5ba11b9-fb0d-4b99-a5dc-2f925c9b911c",
   "metadata": {},
   "outputs": [
    {
     "data": {
      "text/plain": [
       "(500,)"
      ]
     },
     "execution_count": 5,
     "metadata": {},
     "output_type": "execute_result"
    }
   ],
   "source": [
    "# 获取sigmoid的y值\n",
    "y_line_sigmoid = sigmoid(x_line)\n",
    "y_line_sigmoid.shape"
   ]
  },
  {
   "cell_type": "code",
   "execution_count": 6,
   "id": "7e82e96b-6467-4c89-851b-9781993462eb",
   "metadata": {},
   "outputs": [
    {
     "data": {
      "image/png": "[encoded data removed]",
      "text/plain": [
       "<Figure size 300x200 with 1 Axes>"
      ]
     },
     "metadata": {},
     "output_type": "display_data"
    }
   ],
   "source": [
    "# 画图\n",
    "fig = plt.figure(figsize=(3, 2), dpi=100)\n",
    "plt.xlabel=(\"x\")\n",
    "plt.ylabel(\"y = 1 / (1 + e**-x)\")\n",
    "plt.plot(x_line, y_line_sigmoid, color=\"grey\", linewidth=1)\n",
    "plt.title(\"Sigmoid\")\n",
    "plt.show()"
   ]
  },
  {
   "cell_type": "markdown",
   "id": "34c7b083-7047-40d3-be68-dd8216bff320",
   "metadata": {},
   "source": [
    "#### 2.2 Tanh函数（双曲正切函数）\n",
    "- 公式：$\\tanh(x) = \\frac{e^x + e^{-x}}{e^x + e^{-x}}$\n",
    "- 输出值：`-1 ~ 1`(-1到1之间)\n",
    "- 特点：类似于`Sigmoid`函数，但是收敛速度更快。和`Sigmod`函数同样存在梯度消失问题。"
   ]
  },
  {
   "cell_type": "markdown",
   "id": "d17c4ff8-d696-4ff0-8509-232ff4da1244",
   "metadata": {},
   "source": [
    "**编写函数：**"
   ]
  },
  {
   "cell_type": "code",
   "execution_count": 7,
   "id": "15ff6449-aa05-40c4-b165-c957f2f8ec67",
   "metadata": {},
   "outputs": [],
   "source": [
    "def tanh(x):\n",
    "    return (np.exp(x) - np.exp(-1 * x)) / (np.exp(x) + np.exp(-1 * x))"
   ]
  },
  {
   "cell_type": "code",
   "execution_count": 8,
   "id": "d75a07c2-c134-4092-8c06-00f001087e31",
   "metadata": {},
   "outputs": [
    {
     "data": {
      "text/plain": [
       "(-0.7615941559557649, 0.0, 0.7615941559557649)"
      ]
     },
     "execution_count": 8,
     "metadata": {},
     "output_type": "execute_result"
    }
   ],
   "source": [
    "tanh(-1), tanh(0), tanh(1)"
   ]
  },
  {
   "cell_type": "code",
   "execution_count": 9,
   "id": "5dd10289-34b1-4f0c-aa64-c1476ea9b96d",
   "metadata": {},
   "outputs": [
    {
     "data": {
      "text/plain": [
       "(500,)"
      ]
     },
     "execution_count": 9,
     "metadata": {},
     "output_type": "execute_result"
    }
   ],
   "source": [
    "# 获取tanh函数的y值\n",
    "y_line_tanh = tanh(x_line)\n",
    "y_line_tanh.shape"
   ]
  },
  {
   "cell_type": "markdown",
   "id": "e9fd3e22-b108-4b29-ac50-f4c1542f9056",
   "metadata": {},
   "source": [
    "**图形展示：tanh(x)**"
   ]
  },
  {
   "cell_type": "code",
   "execution_count": 10,
   "id": "abf9046d-a921-43c2-956d-6f8374d29cdc",
   "metadata": {},
   "outputs": [
    {
     "data": {
      "image/png": "[encoded data removed]",
      "text/plain": [
       "<Figure size 300x200 with 1 Axes>"
      ]
     },
     "metadata": {},
     "output_type": "display_data"
    }
   ],
   "source": [
    "# 画图\n",
    "fig = plt.figure(figsize=(3, 2), dpi=100)\n",
    "plt.xlabel=(\"x\")\n",
    "plt.ylabel(\"y = tanh(x)\")\n",
    "plt.plot(x_line, y_line_tanh, color=\"grey\", linewidth=1)\n",
    "plt.title(\"Tanh\")\n",
    "plt.show()"
   ]
  },
  {
   "cell_type": "markdown",
   "id": "4cba4198-42a5-40bc-a031-4df7bafbf2e0",
   "metadata": {},
   "source": [
    "#### 2.3 ReLU函数(Rectified Linear Unit)\n",
    "- 公式：$f(x) = \\max(0, x)$\n",
    "- 输出值: `0~无穷大`, 当值小于等于0时是0, 当输入为正时，梯度为1(值为x)\n",
    "- 特点：有助于环境梯度消失问题。同时由于其在负值时输出位零，实现了神经元的稀疏性。但是，当输入为负数时，梯度为0，可能导致神经元\"死亡\"。"
   ]
  },
  {
   "cell_type": "markdown",
   "id": "127359dc-89a5-44e1-9309-8cc2a98c9e54",
   "metadata": {},
   "source": [
    "**ReLU函数：**"
   ]
  },
  {
   "cell_type": "code",
   "execution_count": 11,
   "id": "1ca5d266-2a3c-4089-8600-58a390af84cb",
   "metadata": {},
   "outputs": [],
   "source": [
    "def relu(x):\n",
    "    return np.maximum(0, x)"
   ]
  },
  {
   "cell_type": "code",
   "execution_count": 12,
   "id": "ab9b626e-dae3-4d74-854c-d640c52c2fb3",
   "metadata": {},
   "outputs": [
    {
     "data": {
      "text/plain": [
       "(500,)"
      ]
     },
     "execution_count": 12,
     "metadata": {},
     "output_type": "execute_result"
    }
   ],
   "source": [
    "# 获取relu函数的y值\n",
    "y_line_relu = relu(x_line)\n",
    "y_line_relu.shape"
   ]
  },
  {
   "cell_type": "markdown",
   "id": "44a12da5-d51c-4413-a768-4d4ac02e9f86",
   "metadata": {},
   "source": [
    "**图像展示：relu**"
   ]
  },
  {
   "cell_type": "code",
   "execution_count": 13,
   "id": "7fddf83f-21a4-4d06-895c-caba8c07ea63",
   "metadata": {},
   "outputs": [
    {
     "data": {
      "image/png": "[encoded data removed]",
      "text/plain": [
       "<Figure size 300x200 with 1 Axes>"
      ]
     },
     "metadata": {},
     "output_type": "display_data"
    }
   ],
   "source": [
    "# 画图\n",
    "fig = plt.figure(figsize=(3, 2), dpi=100)\n",
    "plt.xlabel=(\"x\")\n",
    "plt.ylabel(\"y = relu(x)\")\n",
    "plt.plot(x_line, y_line_relu, color=\"grey\", linewidth=1)\n",
    "plt.title(\"Relu\")\n",
    "plt.show()"
   ]
  },
  {
   "cell_type": "markdown",
   "id": "1453d363-3451-494c-b201-fec2801a0b45",
   "metadata": {},
   "source": [
    "#### 2.4 Leaky ReLU函数\n",
    "- 公式：$f(x) = max(\\alpha x, x)$ ： 其中 $\\alpha$是一个很小的整数（如：0.01, 0.0001)\n",
    "- 输出值：负无穷到正无穷\n",
    "- 特点：解决`ReLU`函数在负输入的时候梯度为零的问题，允许负输入有一定的梯度。"
   ]
  },
  {
   "cell_type": "markdown",
   "id": "ffc4840d-3aa7-4d7b-816a-97ddea3455ae",
   "metadata": {},
   "source": [
    "**Leaky ReLU函数：**"
   ]
  },
  {
   "cell_type": "code",
   "execution_count": 14,
   "id": "7be4cb62-ba16-4291-8cd2-838138fcbe09",
   "metadata": {},
   "outputs": [],
   "source": [
    "def leaky_relu(x, a=0.01):\n",
    "    return np.maximum(a*x, x)"
   ]
  },
  {
   "cell_type": "code",
   "execution_count": 15,
   "id": "d1b9bdfb-62d0-4634-a982-668957ecfe4a",
   "metadata": {},
   "outputs": [
    {
     "data": {
      "text/plain": [
       "(500,)"
      ]
     },
     "execution_count": 15,
     "metadata": {},
     "output_type": "execute_result"
    }
   ],
   "source": [
    "# 为了图形有点效果，我们设置a=0.1\n",
    "y_line_leaky_relu = leaky_relu(x_line, a=0.1)\n",
    "y_line_leaky_relu.shape"
   ]
  },
  {
   "cell_type": "code",
   "execution_count": 16,
   "id": "ad90df1f-b942-4e60-bad3-bc414a4071ee",
   "metadata": {},
   "outputs": [
    {
     "data": {
      "text/plain": [
       "-2.0"
      ]
     },
     "execution_count": 16,
     "metadata": {},
     "output_type": "execute_result"
    }
   ],
   "source": [
    "y_line_leaky_relu[0]"
   ]
  },
  {
   "cell_type": "markdown",
   "id": "ae116527-3b50-4077-ae7e-f31ca45faa42",
   "metadata": {},
   "source": [
    "**图形展示：Leaky ReLU**"
   ]
  },
  {
   "cell_type": "code",
   "execution_count": 17,
   "id": "062e7864-8e77-4ed7-948d-7d2d55b65584",
   "metadata": {},
   "outputs": [
    {
     "data": {
      "image/png": "[encoded data removed]",
      "text/plain": [
       "<Figure size 300x200 with 1 Axes>"
      ]
     },
     "metadata": {},
     "output_type": "display_data"
    }
   ],
   "source": [
    "# 画图\n",
    "fig = plt.figure(figsize=(3, 2), dpi=100)\n",
    "plt.xlabel=(\"x\")\n",
    "plt.ylabel(\"y = leaky_relu(x)\")\n",
    "plt.plot(x_line, y_line_leaky_relu, color=\"grey\", linewidth=1)\n",
    "plt.title(\"Leaky Relu\")\n",
    "plt.show()"
   ]
  },
  {
   "cell_type": "markdown",
   "id": "ffd6b946-63ae-4725-b302-5e3dbdeb54c8",
   "metadata": {},
   "source": [
    "**除了`Leaky ReLU`还有`Parametric ReLU`**， 区别是：  \n",
    "- 这个`PPReLU`的$\\alpha$是可以学习的参数。\n",
    "- `PPReLU`允许网络在训练过程中自适应地调整负输入的梯度。"
   ]
  },
  {
   "cell_type": "markdown",
   "id": "d42603a0-e00a-41fd-a94a-9ce1ead638ed",
   "metadata": {},
   "source": [
    "#### 2.5 Softmax函数\n",
    "- 公式：$Softmax(x_i) = \\frac{e^{x_i}}{\\sum_je^{x_i}}$  用于多分类问题的输出层，**将神经元的输出转换为概率分布。**\n",
    "  > 其中，$x_i$是输入向量`x`的第`i`个元素，而分母是对输入向量`x`所有元素应用指数函数后的和。\n",
    "- 输出值：`0 ~ 1`\n",
    "- 特点：所有输出的和是`1`"
   ]
  },
  {
   "cell_type": "markdown",
   "id": "d4b2e6ff-a1ce-49f7-9d98-b879841a780f",
   "metadata": {},
   "source": [
    "**函数：Softmax**"
   ]
  },
  {
   "cell_type": "code",
   "execution_count": 18,
   "id": "7f45af84-319b-4b71-acec-8f15bedba448",
   "metadata": {},
   "outputs": [],
   "source": [
    "def softmax(x):\n",
    "    # 确保输入是NumPy数组\n",
    "    # 对x中的每个元素都应用exp函数\n",
    "    exp_x = np.exp(x - np.max(x))  # 减去最大值是为了防止数值溢出\n",
    "    # 当x很大的时候，exp(x)可能会导致数据溢出，减去最大值，是一个常用的技巧，用于确保数值稳定\n",
    "    \n",
    "    # 计算所有exp的和\n",
    "    sum_exp_x = np.sum(exp_x)\n",
    "    # 将每个exp的值除以他们的和\n",
    "    return exp_x / sum_exp_x"
   ]
  },
  {
   "cell_type": "code",
   "execution_count": 19,
   "id": "c3fb699e-de06-4a03-8c04-a80bc2bf6701",
   "metadata": {},
   "outputs": [
    {
     "data": {
      "text/plain": [
       "array([0.09003057, 0.24472847, 0.66524096])"
      ]
     },
     "execution_count": 19,
     "metadata": {},
     "output_type": "execute_result"
    }
   ],
   "source": [
    "# 测试一下softmax\n",
    "softmax(np.array([1.0, 2.0,  3.0]))"
   ]
  },
  {
   "cell_type": "code",
   "execution_count": 20,
   "id": "8df49375-9f5a-4d20-9ed4-61e1ad1948f8",
   "metadata": {},
   "outputs": [
    {
     "data": {
      "text/plain": [
       "(500,)"
      ]
     },
     "execution_count": 20,
     "metadata": {},
     "output_type": "execute_result"
    }
   ],
   "source": [
    "y_line_softmax = softmax(x_line)\n",
    "y_line_softmax.shape"
   ]
  },
  {
   "cell_type": "code",
   "execution_count": 21,
   "id": "aeedd4ae-e99c-414e-94f3-fa9a92c779cb",
   "metadata": {},
   "outputs": [
    {
     "data": {
      "text/plain": [
       "(0.07703163, 3.2725762e-19)"
      ]
     },
     "execution_count": 21,
     "metadata": {},
     "output_type": "execute_result"
    }
   ],
   "source": [
    "y_line_softmax.max(), y_line_softmax.min()"
   ]
  },
  {
   "cell_type": "markdown",
   "id": "45a22e18-876a-4beb-8588-b64b73b0a418",
   "metadata": {},
   "source": [
    "**图形展示：Softmax**"
   ]
  },
  {
   "cell_type": "code",
   "execution_count": 22,
   "id": "69b9ef8d-94fb-4074-81a2-f953a2cd9392",
   "metadata": {},
   "outputs": [
    {
     "data": {
      "image/png": "[encoded data removed]",
      "text/plain": [
       "<Figure size 300x200 with 1 Axes>"
      ]
     },
     "metadata": {},
     "output_type": "display_data"
    }
   ],
   "source": [
    "# 画图\n",
    "fig = plt.figure(figsize=(3, 2), dpi=100)\n",
    "plt.xlabel=(\"x\")\n",
    "plt.ylabel(\"y = softmax(x)\")\n",
    "plt.plot(x_line, y_line_softmax, color=\"grey\", linewidth=1)\n",
    "plt.title(\"Softmax\")\n",
    "plt.show()"
   ]
  },
  {
   "cell_type": "markdown",
   "id": "23a0867a-4683-44f9-aa7b-95d5b518f97e",
   "metadata": {},
   "source": [
    "#### 2.6 Mish\n",
    "- 公式：\n",
    "  1. ${softplus}(x) = \\ln(1 + e^x)$\n",
    "  2. $mish(x) = x * tanh(softplus(x))$"
   ]
  },
  {
   "cell_type": "code",
   "execution_count": 23,
   "id": "b7647661-e568-42c8-9652-b38b4c10a36a",
   "metadata": {},
   "outputs": [],
   "source": [
    "# mish函数\n",
    "def softplus(x):\n",
    "    return np.log(1 + np.exp(x))\n",
    "\n",
    "def mish(x):\n",
    "    return x * np.tanh(softplus(x))"
   ]
  },
  {
   "cell_type": "code",
   "execution_count": 24,
   "id": "8ee0c620-f1eb-47ad-8b9b-cdb0e72b3d01",
   "metadata": {},
   "outputs": [
    {
     "data": {
      "image/png": "[encoded data removed]",
      "text/plain": [
       "<Figure size 300x200 with 1 Axes>"
      ]
     },
     "metadata": {},
     "output_type": "display_data"
    }
   ],
   "source": [
    "y_line_mish = mish(x_line)\n",
    "\n",
    "# 画图\n",
    "fig = plt.figure(figsize=(3, 2), dpi=100)\n",
    "plt.xlabel=(\"x\")\n",
    "plt.ylabel(\"y = mish(x)\")\n",
    "plt.plot(x_line, y_line_mish, color=\"grey\", linewidth=1)\n",
    "plt.title(\"Mish\")\n",
    "plt.show()"
   ]
  },
  {
   "cell_type": "markdown",
   "id": "30f4ef0c-a3c7-440b-9c5e-69111f36f13a",
   "metadata": {},
   "source": [
    "#### 2.7 Swish"
   ]
  },
  {
   "cell_type": "code",
   "execution_count": 25,
   "id": "988da8e9-e040-49d8-ad77-7772551d89f0",
   "metadata": {},
   "outputs": [],
   "source": [
    "def sigmoid_beta(x, beta=1.0):  \n",
    "    return 1 / (1 + np.exp(-beta * x))\n",
    "\n",
    "def swish(x, beta=1.0):\n",
    "    return x * sigmoid_beta(x, beta)"
   ]
  },
  {
   "cell_type": "code",
   "execution_count": 26,
   "id": "27e26189-a80f-4778-a0a4-24942f0625a0",
   "metadata": {},
   "outputs": [
    {
     "data": {
      "image/png": "[encoded data removed]",
      "text/plain": [
       "<Figure size 300x200 with 1 Axes>"
      ]
     },
     "metadata": {},
     "output_type": "display_data"
    }
   ],
   "source": [
    "y_line_swish = swish(x_line, beta=0.1)\n",
    "\n",
    "# 画图\n",
    "fig = plt.figure(figsize=(3, 2), dpi=100)\n",
    "plt.xlabel=(\"x\")\n",
    "plt.ylabel(\"y = swish(x)\")\n",
    "plt.plot(x_line, y_line_swish, color=\"grey\", linewidth=1)\n",
    "plt.title(\"Swish\")\n",
    "plt.show()"
   ]
  },
  {
   "cell_type": "markdown",
   "id": "24a11bc0-7f9a-4dc1-8652-e8f7c02146b8",
   "metadata": {},
   "source": [
    "**另外** 还有`ELU`(Exponential Linear Unit)、`SELU`(Scaled Exponential Linear Unit)等，它们都是为了解决某些特点问题而设计的。"
   ]
  },
  {
   "cell_type": "markdown",
   "id": "3e6f8319-1208-4c41-95c5-b56462c605d2",
   "metadata": {},
   "source": [
    "### 3. 一次展示7个激活函数图形"
   ]
  },
  {
   "cell_type": "code",
   "execution_count": 27,
   "id": "14a913f6-753e-4c54-b496-a3ad0333a7ac",
   "metadata": {},
   "outputs": [],
   "source": [
    "activation_functions = [\n",
    "    {\"name\": \"Sigmoid\", \"y\": y_line_sigmoid},\n",
    "    {\"name\": \"Tanh\", \"y\": y_line_tanh},\n",
    "    {\"name\": \"ReLU\", \"y\": y_line_relu},\n",
    "    {\"name\": \"Leaky ReLU\", \"y\": y_line_leaky_relu},\n",
    "    {\"name\": \"Softmax\", \"y\": y_line_softmax},\n",
    "    {\"name\": \"Mish\", \"y\": y_line_mish},\n",
    "    {\"name\": \"Swish\", \"y\": y_line_swish},\n",
    "]"
   ]
  },
  {
   "cell_type": "code",
   "execution_count": 28,
   "id": "ef68525a-4750-4fef-9807-46dec176af5f",
   "metadata": {},
   "outputs": [
    {
     "data": {
      "image/png": "[encoded data removed]",
      "text/plain": [
       "<Figure size 800x700 with 8 Axes>"
      ]
     },
     "metadata": {},
     "output_type": "display_data"
    }
   ],
   "source": [
    "fig, axes = plt.subplots(nrows=4, ncols=2, sharex=True, figsize=(8, 7))\n",
    "\n",
    "i = 0\n",
    "for active in activation_functions:\n",
    "    row = i // 2\n",
    "    column = i % 2\n",
    "    # axes[row][column].axis(\"off\")\n",
    "    axe = axes[row][column]\n",
    "    axe.set_title(active[\"name\"])\n",
    "    axe.plot(x_line, active[\"y\"], color=\"grey\", linewidth=1)\n",
    "    i += 1\n",
    "\n",
    "# 隐藏最后一个子图\n",
    "# axes[3][1].axis('off')\n",
    "    \n",
    "# 调整子图间距\n",
    "# plt.subplots_adjust(left=None, bottom=None, right=None, top=None, wspace=None, hspace=None)"
   ]
  },
  {
   "cell_type": "code",
   "execution_count": null,
   "id": "49db186f-b4e8-43ae-9837-84f1944b618b",
   "metadata": {},
   "outputs": [],
   "source": []
  }
 ],
 "metadata": {
  "kernelspec": {
   "display_name": "Python 3 (ipykernel)",
   "language": "python",
   "name": "python3"
  },
  "language_info": {
   "codemirror_mode": {
    "name": "ipython",
    "version": 3
   },
   "file_extension": ".py",
   "mimetype": "text/x-python",
   "name": "python",
   "nbconvert_exporter": "python",
   "pygments_lexer": "ipython3",
   "version": "3.11.5"
  }
 },
 "nbformat": 4,
 "nbformat_minor": 5
}
