{
 "cells": [
  {
   "cell_type": "markdown",
   "id": "a75153b4-79c3-425d-abc3-8a182ee5c68d",
   "metadata": {},
   "source": [
    "## NumPy的基本使用--改变形状、转置和换轴"
   ]
  },
  {
   "cell_type": "code",
   "execution_count": 1,
   "id": "0dcf50cb-d1a6-41c0-ab82-ceba2c638d0e",
   "metadata": {},
   "outputs": [],
   "source": [
    "import numpy as np"
   ]
  },
  {
   "cell_type": "markdown",
   "id": "0eea1294-dbc8-4745-a57c-ee7ec1672887",
   "metadata": {},
   "source": [
    "### 1. 改变数组形状：reshape\n",
    "\n",
    "`numpy.reshape()`用于改变数组的形状，而不改变其数据内容。"
   ]
  },
  {
   "cell_type": "code",
   "execution_count": 2,
   "id": "2c1e205a-09ea-49f9-9d52-57161b91288f",
   "metadata": {},
   "outputs": [],
   "source": [
    "arr = np.arange(16)"
   ]
  },
  {
   "cell_type": "code",
   "execution_count": 3,
   "id": "af4836dc-a71d-46c5-8e7f-5ade214fe091",
   "metadata": {},
   "outputs": [
    {
     "data": {
      "text/plain": [
       "array([ 0,  1,  2,  3,  4,  5,  6,  7,  8,  9, 10, 11, 12, 13, 14, 15])"
      ]
     },
     "execution_count": 3,
     "metadata": {},
     "output_type": "execute_result"
    }
   ],
   "source": [
    "arr"
   ]
  },
  {
   "cell_type": "code",
   "execution_count": 4,
   "id": "238216b5-fadd-4316-b460-aae7f58f31c4",
   "metadata": {},
   "outputs": [
    {
     "data": {
      "text/plain": [
       "array([[ 0,  1,  2,  3],\n",
       "       [ 4,  5,  6,  7],\n",
       "       [ 8,  9, 10, 11],\n",
       "       [12, 13, 14, 15]])"
      ]
     },
     "execution_count": 4,
     "metadata": {},
     "output_type": "execute_result"
    }
   ],
   "source": [
    "arr.reshape(4, 4)"
   ]
  },
  {
   "cell_type": "code",
   "execution_count": 5,
   "id": "ba603536-1362-49e4-a0a1-1304b88f318e",
   "metadata": {},
   "outputs": [
    {
     "data": {
      "text/plain": [
       "array([[[ 0,  1,  2,  3],\n",
       "        [ 4,  5,  6,  7]],\n",
       "\n",
       "       [[ 8,  9, 10, 11],\n",
       "        [12, 13, 14, 15]]])"
      ]
     },
     "execution_count": 5,
     "metadata": {},
     "output_type": "execute_result"
    }
   ],
   "source": [
    "arr.reshape(2, 2, 4)"
   ]
  },
  {
   "cell_type": "markdown",
   "id": "b09db5dc-5260-481c-911b-a0e51b40f27d",
   "metadata": {},
   "source": [
    "### 2. 转置：transpose\n",
    "\n",
    "转置是一种特殊的数组重组形式，调用转置后返回底层数据的视图而不需要复制任何内容。"
   ]
  },
  {
   "cell_type": "code",
   "execution_count": 6,
   "id": "4439f48b-f136-42a3-a57b-c4220f74bff2",
   "metadata": {},
   "outputs": [],
   "source": [
    "arr = np.array([\n",
    "    [1, 2, 3],\n",
    "    [4, 5, 6]\n",
    "])"
   ]
  },
  {
   "cell_type": "code",
   "execution_count": 7,
   "id": "903e4035-aa18-4a03-99a8-ef5f18fd0cc7",
   "metadata": {},
   "outputs": [
    {
     "data": {
      "text/plain": [
       "array([[1, 2, 3],\n",
       "       [4, 5, 6]])"
      ]
     },
     "execution_count": 7,
     "metadata": {},
     "output_type": "execute_result"
    }
   ],
   "source": [
    "arr"
   ]
  },
  {
   "cell_type": "code",
   "execution_count": 8,
   "id": "e2743be9-e116-4237-9137-3bba294859b1",
   "metadata": {},
   "outputs": [
    {
     "data": {
      "text/plain": [
       "array([[1, 4],\n",
       "       [2, 5],\n",
       "       [3, 6]])"
      ]
     },
     "execution_count": 8,
     "metadata": {},
     "output_type": "execute_result"
    }
   ],
   "source": [
    "# 行变成了列，列变成了行\n",
    "arr.T"
   ]
  },
  {
   "cell_type": "code",
   "execution_count": 9,
   "id": "73ad5944-58ad-4b4f-977f-435f1778cda0",
   "metadata": {},
   "outputs": [
    {
     "data": {
      "text/plain": [
       "array([[1, 4],\n",
       "       [2, 5],\n",
       "       [3, 6]])"
      ]
     },
     "execution_count": 9,
     "metadata": {},
     "output_type": "execute_result"
    }
   ],
   "source": [
    "# T也是transpose的简写\n",
    "arr.transpose()"
   ]
  },
  {
   "cell_type": "markdown",
   "id": "659c87ca-3d7f-442e-844e-3a3030831a98",
   "metadata": {},
   "source": [
    "### 3. 换轴: swapaxes\n",
    "\n",
    "`swapaxes()`方法是交换数组中的2个轴，接受2个参数，分别是要交换的轴的编号。"
   ]
  },
  {
   "cell_type": "code",
   "execution_count": 10,
   "id": "8bd20957-1386-4a1a-9310-4b7620d1add3",
   "metadata": {},
   "outputs": [
    {
     "data": {
      "text/plain": [
       "array([[1, 2, 3],\n",
       "       [4, 5, 6]])"
      ]
     },
     "execution_count": 10,
     "metadata": {},
     "output_type": "execute_result"
    }
   ],
   "source": [
    "arr"
   ]
  },
  {
   "cell_type": "code",
   "execution_count": 11,
   "id": "16ea6e4b-9b8d-4fb7-a111-4ae6a8a7fd3d",
   "metadata": {},
   "outputs": [
    {
     "data": {
      "text/plain": [
       "array([[1, 4],\n",
       "       [2, 5],\n",
       "       [3, 6]])"
      ]
     },
     "execution_count": 11,
     "metadata": {},
     "output_type": "execute_result"
    }
   ],
   "source": [
    "arr.swapaxes(0, 1)"
   ]
  },
  {
   "cell_type": "code",
   "execution_count": 12,
   "id": "a0cd60a4-79fc-4779-84e5-f06696d60c22",
   "metadata": {},
   "outputs": [
    {
     "data": {
      "text/plain": [
       "array([[[ 0,  1,  2,  3,  4],\n",
       "        [ 5,  6,  7,  8,  9],\n",
       "        [10, 11, 12, 13, 14]],\n",
       "\n",
       "       [[15, 16, 17, 18, 19],\n",
       "        [20, 21, 22, 23, 24],\n",
       "        [25, 26, 27, 28, 29]],\n",
       "\n",
       "       [[30, 31, 32, 33, 34],\n",
       "        [35, 36, 37, 38, 39],\n",
       "        [40, 41, 42, 43, 44]]])"
      ]
     },
     "execution_count": 12,
     "metadata": {},
     "output_type": "execute_result"
    }
   ],
   "source": [
    "# 来个三维数组试一下\n",
    "arr3 = np.arange(45).reshape(3, 3, 5)\n",
    "arr3"
   ]
  },
  {
   "cell_type": "code",
   "execution_count": 13,
   "id": "6f9c41f3-474b-4151-bdb1-55ccd5aea050",
   "metadata": {},
   "outputs": [
    {
     "data": {
      "text/plain": [
       "((3, 3, 5), 3)"
      ]
     },
     "execution_count": 13,
     "metadata": {},
     "output_type": "execute_result"
    }
   ],
   "source": [
    "arr3.shape, arr3.ndim"
   ]
  },
  {
   "cell_type": "code",
   "execution_count": 14,
   "id": "d0b8631c-ff48-44c2-9644-406bf5e287a7",
   "metadata": {},
   "outputs": [
    {
     "data": {
      "text/plain": [
       "array([[[ 0,  1,  2,  3,  4],\n",
       "        [15, 16, 17, 18, 19],\n",
       "        [30, 31, 32, 33, 34]],\n",
       "\n",
       "       [[ 5,  6,  7,  8,  9],\n",
       "        [20, 21, 22, 23, 24],\n",
       "        [35, 36, 37, 38, 39]],\n",
       "\n",
       "       [[10, 11, 12, 13, 14],\n",
       "        [25, 26, 27, 28, 29],\n",
       "        [40, 41, 42, 43, 44]]])"
      ]
     },
     "execution_count": 14,
     "metadata": {},
     "output_type": "execute_result"
    }
   ],
   "source": [
    "# 第1个和第2个轴互换一下\n",
    "arr3.swapaxes(0, 1)"
   ]
  },
  {
   "cell_type": "code",
   "execution_count": 15,
   "id": "bf3cfb89-479f-4213-84da-ccbf340432eb",
   "metadata": {},
   "outputs": [
    {
     "data": {
      "text/plain": [
       "array([[[ 0, 15, 30],\n",
       "        [ 5, 20, 35],\n",
       "        [10, 25, 40]],\n",
       "\n",
       "       [[ 1, 16, 31],\n",
       "        [ 6, 21, 36],\n",
       "        [11, 26, 41]],\n",
       "\n",
       "       [[ 2, 17, 32],\n",
       "        [ 7, 22, 37],\n",
       "        [12, 27, 42]],\n",
       "\n",
       "       [[ 3, 18, 33],\n",
       "        [ 8, 23, 38],\n",
       "        [13, 28, 43]],\n",
       "\n",
       "       [[ 4, 19, 34],\n",
       "        [ 9, 24, 39],\n",
       "        [14, 29, 44]]])"
      ]
     },
     "execution_count": 15,
     "metadata": {},
     "output_type": "execute_result"
    }
   ],
   "source": [
    "# 看下arr3的T\n",
    "arr3.T"
   ]
  },
  {
   "cell_type": "code",
   "execution_count": null,
   "id": "654dbb52-084e-455a-a24e-2fea28cfa6f1",
   "metadata": {},
   "outputs": [],
   "source": []
  }
 ],
 "metadata": {
  "kernelspec": {
   "display_name": "Python 3 (ipykernel)",
   "language": "python",
   "name": "python3"
  },
  "language_info": {
   "codemirror_mode": {
    "name": "ipython",
    "version": 3
   },
   "file_extension": ".py",
   "mimetype": "text/x-python",
   "name": "python",
   "nbconvert_exporter": "python",
   "pygments_lexer": "ipython3",
   "version": "3.11.5"
  }
 },
 "nbformat": 4,
 "nbformat_minor": 5
}
