{
 "cells": [
  {
   "cell_type": "markdown",
   "id": "b85841b7-4948-43a6-b776-3ddeb26efbc9",
   "metadata": {},
   "source": [
    "## pandas数据结构：Series"
   ]
  },
  {
   "cell_type": "markdown",
   "id": "f1430309-2433-41f4-9431-15bfea760a08",
   "metadata": {},
   "source": [
    "pandas中常用的数据结构有：`Series`和`DataFrame`。\n",
    "\n",
    "`Series`是一种一维数组，它包含：\n",
    "- `values`: 值序列，类似于`NumPy`中的`ndarray`\n",
    "- `index`: 索引、数据标签，实例化的时候不传入，默认是：0 -- N-1"
   ]
  },
  {
   "cell_type": "code",
   "execution_count": 1,
   "id": "31811adf-d706-4fb5-985e-345a201a3193",
   "metadata": {},
   "outputs": [],
   "source": [
    "import pandas as pd\n",
    "# from pandas import Series, DataFrame"
   ]
  },
  {
   "cell_type": "markdown",
   "id": "603b5130-9b72-416e-9b3c-b6833157dbeb",
   "metadata": {},
   "source": [
    "### 1. Series示例"
   ]
  },
  {
   "cell_type": "markdown",
   "id": "e24f17e3-8edd-47c4-b862-b4a40e42a64f",
   "metadata": {},
   "source": [
    "#### 1.1 使用默认的index"
   ]
  },
  {
   "cell_type": "code",
   "execution_count": 2,
   "id": "afad04d9-0354-4c62-9f2b-ce0646920f7e",
   "metadata": {},
   "outputs": [
    {
     "data": {
      "text/plain": [
       "0    11\n",
       "1    22\n",
       "2    33\n",
       "3    44\n",
       "4    55\n",
       "5    66\n",
       "dtype: int64"
      ]
     },
     "execution_count": 2,
     "metadata": {},
     "output_type": "execute_result"
    }
   ],
   "source": [
    "# 先实例化第一个Series\n",
    "obj = pd.Series([11, 22, 33, 44, 55, 66])\n",
    "obj"
   ]
  },
  {
   "cell_type": "code",
   "execution_count": 3,
   "id": "6e48ffbf-dc67-4b29-b59f-5c0de2a8a071",
   "metadata": {},
   "outputs": [
    {
     "data": {
      "text/plain": [
       "array([11, 22, 33, 44, 55, 66])"
      ]
     },
     "execution_count": 3,
     "metadata": {},
     "output_type": "execute_result"
    }
   ],
   "source": [
    "# 查看值序列\n",
    "obj.values"
   ]
  },
  {
   "cell_type": "code",
   "execution_count": 4,
   "id": "95d0f116-ff93-4661-b68f-4639d9fbed47",
   "metadata": {},
   "outputs": [
    {
     "data": {
      "text/plain": [
       "RangeIndex(start=0, stop=6, step=1)"
      ]
     },
     "execution_count": 4,
     "metadata": {},
     "output_type": "execute_result"
    }
   ],
   "source": [
    "# 查看索引\n",
    "obj.index"
   ]
  },
  {
   "cell_type": "code",
   "execution_count": 5,
   "id": "a3384fce-acac-479d-9708-753106187417",
   "metadata": {},
   "outputs": [
    {
     "name": "stdout",
     "output_type": "stream",
     "text": [
      "0        11\n",
      "1        22\n",
      "2    333333\n",
      "3        44\n",
      "4        55\n",
      "5        66\n",
      "dtype: int64\n"
     ]
    }
   ],
   "source": [
    "# 修改数据\n",
    "obj[2] =  333333\n",
    "print(obj)"
   ]
  },
  {
   "cell_type": "code",
   "execution_count": 6,
   "id": "2f981e4b-9c8e-410c-8d84-10ce54d5648d",
   "metadata": {},
   "outputs": [
    {
     "data": {
      "text/plain": [
       "333333"
      ]
     },
     "execution_count": 6,
     "metadata": {},
     "output_type": "execute_result"
    }
   ],
   "source": [
    "# 使用索引\n",
    "obj[2]"
   ]
  },
  {
   "cell_type": "code",
   "execution_count": 7,
   "id": "6e53766e-befd-4424-824f-4707b234f174",
   "metadata": {},
   "outputs": [
    {
     "data": {
      "text/plain": [
       "0        11\n",
       "2    333333\n",
       "4        55\n",
       "dtype: int64"
      ]
     },
     "execution_count": 7,
     "metadata": {},
     "output_type": "execute_result"
    }
   ],
   "source": [
    "# 使用索引：传入多个索引\n",
    "obj[[0,2,4]]"
   ]
  },
  {
   "cell_type": "code",
   "execution_count": 8,
   "id": "82435704-fe20-4d7c-a935-cf6942731ae6",
   "metadata": {},
   "outputs": [
    {
     "data": {
      "text/plain": [
       "2    333333\n",
       "4        55\n",
       "0        11\n",
       "dtype: int64"
      ]
     },
     "execution_count": 8,
     "metadata": {},
     "output_type": "execute_result"
    }
   ],
   "source": [
    "# 传入多个索引，且打乱顺序\n",
    "obj[[2, 4, 0]]"
   ]
  },
  {
   "cell_type": "markdown",
   "id": "81977730-ab81-4515-bd99-13966ba6d036",
   "metadata": {},
   "source": [
    "#### 1.2 指定索引序列"
   ]
  },
  {
   "cell_type": "code",
   "execution_count": 9,
   "id": "860f1f5a-8dc0-47c0-b218-f5b2b859f398",
   "metadata": {},
   "outputs": [
    {
     "data": {
      "text/plain": [
       "aa    11\n",
       "bb    22\n",
       "cc    33\n",
       "dtype: int64"
      ]
     },
     "execution_count": 9,
     "metadata": {},
     "output_type": "execute_result"
    }
   ],
   "source": [
    "obj2 = pd.Series([11, 22, 33], index=[\"aa\", \"bb\", \"cc\"])\n",
    "obj2"
   ]
  },
  {
   "cell_type": "code",
   "execution_count": 10,
   "id": "16d8eae2-ec02-496f-9a5c-edbaa70e97fd",
   "metadata": {},
   "outputs": [
    {
     "data": {
      "text/plain": [
       "Index(['aa', 'bb', 'cc'], dtype='object')"
      ]
     },
     "execution_count": 10,
     "metadata": {},
     "output_type": "execute_result"
    }
   ],
   "source": [
    "# 查看索引/标签\n",
    "obj2.index"
   ]
  },
  {
   "cell_type": "code",
   "execution_count": 11,
   "id": "0f0fee96-9c3f-4f66-b46d-8771719eca43",
   "metadata": {},
   "outputs": [
    {
     "data": {
      "text/plain": [
       "cc    33\n",
       "bb    22\n",
       "dtype: int64"
      ]
     },
     "execution_count": 11,
     "metadata": {},
     "output_type": "execute_result"
    }
   ],
   "source": [
    "# 使用标签来进行索引\n",
    "obj2[[\"cc\",\"bb\"]]"
   ]
  },
  {
   "cell_type": "code",
   "execution_count": 12,
   "id": "c5b142f7-f457-4855-b02d-40bf48cd1975",
   "metadata": {},
   "outputs": [
    {
     "data": {
      "text/plain": [
       "False"
      ]
     },
     "execution_count": 12,
     "metadata": {},
     "output_type": "execute_result"
    }
   ],
   "source": [
    "# 通过值判断，是否在Series中\n",
    "22 in obj2"
   ]
  },
  {
   "cell_type": "code",
   "execution_count": 13,
   "id": "9998e139-ab1a-4e03-a750-32f2496a009d",
   "metadata": {},
   "outputs": [
    {
     "data": {
      "text/plain": [
       "True"
      ]
     },
     "execution_count": 13,
     "metadata": {},
     "output_type": "execute_result"
    }
   ],
   "source": [
    "# 通过数据标签，判断某个标签是否在Series中\n",
    "\"bb\" in obj2"
   ]
  },
  {
   "cell_type": "code",
   "execution_count": 14,
   "id": "4ce58dbf-3ada-4872-b8c4-c96ca9436786",
   "metadata": {},
   "outputs": [
    {
     "data": {
      "text/plain": [
       "False"
      ]
     },
     "execution_count": 14,
     "metadata": {},
     "output_type": "execute_result"
    }
   ],
   "source": [
    "\"ee\" in obj2"
   ]
  },
  {
   "cell_type": "markdown",
   "id": "136606f3-368d-4a89-8a57-bdc1259fa781",
   "metadata": {},
   "source": [
    "### 1.3 数值计算"
   ]
  },
  {
   "cell_type": "code",
   "execution_count": 15,
   "id": "f8e0c44e-9e32-4a1a-9b73-47d1277c2aaa",
   "metadata": {},
   "outputs": [
    {
     "data": {
      "text/plain": [
       "aa    11\n",
       "bb    22\n",
       "cc    33\n",
       "dtype: int64"
      ]
     },
     "execution_count": 15,
     "metadata": {},
     "output_type": "execute_result"
    }
   ],
   "source": [
    "obj2"
   ]
  },
  {
   "cell_type": "code",
   "execution_count": 16,
   "id": "c4ae60df-1f72-493c-bebb-ef439bae83d8",
   "metadata": {},
   "outputs": [
    {
     "data": {
      "text/plain": [
       "aa    22\n",
       "bb    44\n",
       "cc    66\n",
       "dtype: int64"
      ]
     },
     "execution_count": 16,
     "metadata": {},
     "output_type": "execute_result"
    }
   ],
   "source": [
    "obj2 * 2"
   ]
  },
  {
   "cell_type": "code",
   "execution_count": 17,
   "id": "6ad2317f-2f7d-4227-beca-c0cde6d460cc",
   "metadata": {},
   "outputs": [
    {
     "data": {
      "text/plain": [
       "aa    False\n",
       "bb     True\n",
       "cc     True\n",
       "dtype: bool"
      ]
     },
     "execution_count": 17,
     "metadata": {},
     "output_type": "execute_result"
    }
   ],
   "source": [
    "obj2>=22"
   ]
  },
  {
   "cell_type": "code",
   "execution_count": 18,
   "id": "8e8670ce-616e-4fe7-9734-2a214294cc45",
   "metadata": {},
   "outputs": [
    {
     "data": {
      "text/plain": [
       "bb    22\n",
       "cc    33\n",
       "dtype: int64"
      ]
     },
     "execution_count": 18,
     "metadata": {},
     "output_type": "execute_result"
    }
   ],
   "source": [
    "obj2[obj2 >= 22]"
   ]
  },
  {
   "cell_type": "code",
   "execution_count": 19,
   "id": "c96cd3f2-a0a6-4889-ac85-cb2a986c7568",
   "metadata": {},
   "outputs": [
    {
     "data": {
      "text/plain": [
       "aa    16\n",
       "bb    27\n",
       "cc    38\n",
       "dtype: int64"
      ]
     },
     "execution_count": 19,
     "metadata": {},
     "output_type": "execute_result"
    }
   ],
   "source": [
    "obj2 + 5"
   ]
  },
  {
   "cell_type": "code",
   "execution_count": 20,
   "id": "6e680237-40cd-47d1-ab97-27c12350fa3a",
   "metadata": {},
   "outputs": [
    {
     "data": {
      "text/plain": [
       "aa     1\n",
       "bb    12\n",
       "cc    23\n",
       "dtype: int64"
      ]
     },
     "execution_count": 20,
     "metadata": {},
     "output_type": "execute_result"
    }
   ],
   "source": [
    "obj2 - 10"
   ]
  },
  {
   "cell_type": "code",
   "execution_count": 21,
   "id": "061f5d87-7451-4b96-9ec3-081d94c6246e",
   "metadata": {},
   "outputs": [
    {
     "data": {
      "text/plain": [
       "aa    1\n",
       "bb    2\n",
       "cc    3\n",
       "dd    4\n",
       "dtype: int64"
      ]
     },
     "execution_count": 21,
     "metadata": {},
     "output_type": "execute_result"
    }
   ],
   "source": [
    "# 创建一个新的obj来和obj2相乘\n",
    "obj3 = pd.Series([1, 2, 3, 4], index=[\"aa\", \"bb\", \"cc\", \"dd\"])\n",
    "obj3"
   ]
  },
  {
   "cell_type": "code",
   "execution_count": 22,
   "id": "7a1d1210-5bc6-4932-8dd3-6debec7befb7",
   "metadata": {},
   "outputs": [
    {
     "data": {
      "text/plain": [
       "aa    11.0\n",
       "bb    44.0\n",
       "cc    99.0\n",
       "dd     NaN\n",
       "dtype: float64"
      ]
     },
     "execution_count": 22,
     "metadata": {},
     "output_type": "execute_result"
    }
   ],
   "source": [
    "# 在obj2中没有`dd`，相乘后`dd`是NaN\n",
    "obj2 * obj3"
   ]
  },
  {
   "cell_type": "markdown",
   "id": "7084de58-9cec-4923-ad85-510a1ec7ee53",
   "metadata": {},
   "source": [
    "#### 1.4 通过map实例化Series\n",
    "\n",
    "通过`Python`字典生产`pd.Series`，`key`会作为`Series`的索引，`value`作为`Series`的值。"
   ]
  },
  {
   "cell_type": "code",
   "execution_count": 23,
   "id": "5f14e4fd-bd41-463e-9ac0-039563b7e9b4",
   "metadata": {},
   "outputs": [
    {
     "data": {
      "text/plain": [
       "zhangshan    100\n",
       "lisi          99\n",
       "wangwu        89\n",
       "wanger        91\n",
       "dtype: int64"
      ]
     },
     "execution_count": 23,
     "metadata": {},
     "output_type": "execute_result"
    }
   ],
   "source": [
    "data = {\n",
    "    \"zhangshan\": 100,\n",
    "    \"lisi\": 99,  \n",
    "    \"wangwu\": 89,\n",
    "    \"wanger\": 91\n",
    "}\n",
    "obj4 = pd.Series(data)\n",
    "obj4"
   ]
  },
  {
   "cell_type": "markdown",
   "id": "d9254224-d0f3-43eb-bac1-878a17b35aca",
   "metadata": {},
   "source": [
    "**我们也可以指定索引的顺序：**"
   ]
  },
  {
   "cell_type": "code",
   "execution_count": 24,
   "id": "57c5b4fe-2310-493d-a5fe-588a7237166d",
   "metadata": {},
   "outputs": [
    {
     "data": {
      "text/plain": [
       "wanger     91.0\n",
       "wangsan     NaN\n",
       "wangwu     89.0\n",
       "lisi       99.0\n",
       "dtype: float64"
      ]
     },
     "execution_count": 24,
     "metadata": {},
     "output_type": "execute_result"
    }
   ],
   "source": [
    "obj5 = pd.Series(data, index=[\"wanger\", \"wangsan\", \"wangwu\", \"lisi\"])\n",
    "obj5"
   ]
  },
  {
   "cell_type": "markdown",
   "id": "e0ccfe25-2a93-4d04-b39a-b97a78422845",
   "metadata": {},
   "source": [
    "> 上面中`wangsan`不在`data`中，会填充为`NaN`。\n",
    "> `pandas`中使用`isnull`和`notnull`函数来检查缺失数据。"
   ]
  },
  {
   "cell_type": "code",
   "execution_count": 25,
   "id": "db30eab7-310a-472d-9688-e052e26f4508",
   "metadata": {},
   "outputs": [
    {
     "data": {
      "text/plain": [
       "wanger     False\n",
       "wangsan     True\n",
       "wangwu     False\n",
       "lisi       False\n",
       "dtype: bool"
      ]
     },
     "execution_count": 25,
     "metadata": {},
     "output_type": "execute_result"
    }
   ],
   "source": [
    "# 检查确实数据\n",
    "pd.isnull(obj5)"
   ]
  },
  {
   "cell_type": "code",
   "execution_count": 26,
   "id": "2bc307c8-4add-4216-91c1-154c8bd2d1e5",
   "metadata": {},
   "outputs": [
    {
     "data": {
      "text/plain": [
       "wanger      True\n",
       "wangsan    False\n",
       "wangwu      True\n",
       "lisi        True\n",
       "dtype: bool"
      ]
     },
     "execution_count": 26,
     "metadata": {},
     "output_type": "execute_result"
    }
   ],
   "source": [
    "# notnull：选出不为NaN的为True\n",
    "pd.notnull(obj5)"
   ]
  },
  {
   "cell_type": "code",
   "execution_count": 27,
   "id": "f81d1f64-eabe-49d6-a49b-dc296635217e",
   "metadata": {},
   "outputs": [
    {
     "data": {
      "text/plain": [
       "wangsan   NaN\n",
       "dtype: float64"
      ]
     },
     "execution_count": 27,
     "metadata": {},
     "output_type": "execute_result"
    }
   ],
   "source": [
    "# 过滤出是NaN的值\n",
    "obj5[obj5.isnull()]"
   ]
  },
  {
   "cell_type": "code",
   "execution_count": 28,
   "id": "59e281e0-b862-477e-ad50-07acb92f3fde",
   "metadata": {},
   "outputs": [
    {
     "data": {
      "text/plain": [
       "wanger    91.0\n",
       "wangwu    89.0\n",
       "lisi      99.0\n",
       "dtype: float64"
      ]
     },
     "execution_count": 28,
     "metadata": {},
     "output_type": "execute_result"
    }
   ],
   "source": [
    "# 过滤出不是NaN的值\n",
    "obj5[pd.notnull(obj5)]"
   ]
  },
  {
   "cell_type": "code",
   "execution_count": null,
   "id": "e015b9ad-86dd-45b9-a9a8-794067455e2e",
   "metadata": {},
   "outputs": [],
   "source": []
  }
 ],
 "metadata": {
  "kernelspec": {
   "display_name": "Python 3 (ipykernel)",
   "language": "python",
   "name": "python3"
  },
  "language_info": {
   "codemirror_mode": {
    "name": "ipython",
    "version": 3
   },
   "file_extension": ".py",
   "mimetype": "text/x-python",
   "name": "python",
   "nbconvert_exporter": "python",
   "pygments_lexer": "ipython3",
   "version": "3.11.5"
  }
 },
 "nbformat": 4,
 "nbformat_minor": 5
}
