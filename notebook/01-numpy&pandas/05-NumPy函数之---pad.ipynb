{
 "cells": [
  {
   "cell_type": "markdown",
   "id": "e02b2387-f927-409a-8eb0-11e92ae57180",
   "metadata": {},
   "source": [
    "## NumPy函数之---pad"
   ]
  },
  {
   "cell_type": "markdown",
   "id": "a512930b-846a-4175-bb9e-53914af25bc5",
   "metadata": {},
   "source": [
    "> `NumPy.pad()`函数是`NumPy`库中的一个功能，用于在数组的边缘填充(添加)值。\n",
    "> 在图像处理、信号处理或者数据分析时，需要保持数据的尺寸一致性、添加边界条件等的时候非常有用。\n",
    "> 该函数提供了灵活的方式来控制如何以及在哪里添加这些填充值。\n",
    "\n",
    "函数：\n",
    "```python\n",
    "numpy.pad(array, pad_width, model='constant', **kwargs)\n",
    "```\n",
    "- `array`: 输入的数组，可以是一维、多维数组。\n",
    "- `pad_width`: 指定在数组每一边缘添加填充的宽度。\n",
    "  > 它可以是一个数字、元组或者列表。对于多维数组，它应是一个列表，其中每个元素对应数组对应维度的填充宽度。\n",
    "  > 例如：`((before_1, after_1), ...... ,(before_N, after_N))`指定了每一维的前填充和后填充的宽度。\n",
    "\n",
    "- `mode`: 指定填充的类型：默认是`constant`\n",
    "  > 另外有：'edge','linear_ramp'、'maximum'、'mean'、'median'、'minimum'、'reflect'、'symmetric'、'wrap'等\n",
    "  > 不同的模式决定了如何计算填充的值。\n",
    "\n",
    "- `**kwargs`: 额外的关键字参数，具体取决于所选的填充模式。\n",
    "  > 例如：`mode='constant'`时，通常会提供`constant_values`参数来指定填充的具体值。"
   ]
  },
  {
   "cell_type": "code",
   "execution_count": 1,
   "id": "b517bb2f-b7a0-4d07-ae44-8fb881cd6caa",
   "metadata": {},
   "outputs": [],
   "source": [
    "import numpy as np"
   ]
  },
  {
   "cell_type": "markdown",
   "id": "c5010205-6bb6-4a4f-9cb4-02d6a972827c",
   "metadata": {},
   "source": [
    "### 示例1"
   ]
  },
  {
   "cell_type": "markdown",
   "id": "2df4b149-90be-4a58-904b-ed806cc14a0e",
   "metadata": {},
   "source": [
    "#### 一维数组填充"
   ]
  },
  {
   "cell_type": "code",
   "execution_count": 2,
   "id": "4bd8e9f2-80bc-4494-b513-ac7eb34b7fce",
   "metadata": {},
   "outputs": [
    {
     "data": {
      "text/plain": [
       "array([1, 2, 3, 4, 5, 6, 7, 8, 9])"
      ]
     },
     "execution_count": 2,
     "metadata": {},
     "output_type": "execute_result"
    }
   ],
   "source": [
    "# 先创建一个数组\n",
    "arr = np.array(range(1, 10))\n",
    "arr"
   ]
  },
  {
   "cell_type": "code",
   "execution_count": 3,
   "id": "275d2032-c882-4e10-afc4-b726522b407a",
   "metadata": {},
   "outputs": [
    {
     "data": {
      "text/plain": [
       "array([0, 0, 1, 2, 3, 4, 5, 6, 7, 8, 9, 0, 0])"
      ]
     },
     "execution_count": 3,
     "metadata": {},
     "output_type": "execute_result"
    }
   ],
   "source": [
    "# 使用常量填充，宽度为(2, 2),既前后各加2个值，constant_values默认值是0\n",
    "padded_arr1 = np.pad(arr, pad_width=(2,2), mode='constant')\n",
    "padded_arr1"
   ]
  },
  {
   "cell_type": "code",
   "execution_count": 4,
   "id": "f27a2628-8de6-4052-a801-3fa10f5d7efe",
   "metadata": {},
   "outputs": [
    {
     "data": {
      "text/plain": [
       "array([1, 2, 3, 4, 5, 6, 7, 8, 9])"
      ]
     },
     "execution_count": 4,
     "metadata": {},
     "output_type": "execute_result"
    }
   ],
   "source": [
    "# arr是不会变化的\n",
    "arr"
   ]
  },
  {
   "cell_type": "code",
   "execution_count": 5,
   "id": "2ffdccfa-fc2a-4a75-8d2e-7a7a653bb83f",
   "metadata": {},
   "outputs": [
    {
     "data": {
      "text/plain": [
       "array([11, 11,  1,  2,  3,  4,  5,  6,  7,  8,  9, 11, 11])"
      ]
     },
     "execution_count": 5,
     "metadata": {},
     "output_type": "execute_result"
    }
   ],
   "source": [
    "# 使用常量填充，宽度为(2, 2),既前后各加2个值，constant_values设置为11\n",
    "padded_arr2 = np.pad(arr, pad_width=(2,2), mode='constant', constant_values=11)\n",
    "padded_arr2"
   ]
  },
  {
   "cell_type": "code",
   "execution_count": 6,
   "id": "2fc324f7-8951-47b7-a441-b66f77a7818c",
   "metadata": {},
   "outputs": [
    {
     "data": {
      "text/plain": [
       "array([11, 11,  1,  2,  3,  4,  5,  6,  7,  8,  9, 22, 22])"
      ]
     },
     "execution_count": 6,
     "metadata": {},
     "output_type": "execute_result"
    }
   ],
   "source": [
    "# 使用常量填充，宽度为(2, 2),既前后各加2个值，constant_values设置为(11, 22)\n",
    "padded_arr3 = np.pad(arr, pad_width=(2,2), mode='constant', constant_values=(11,22))\n",
    "padded_arr3"
   ]
  },
  {
   "cell_type": "markdown",
   "id": "ea537658-aa8a-4a6b-a0ec-0552a98e46f4",
   "metadata": {},
   "source": [
    "#### 二维数组填充"
   ]
  },
  {
   "cell_type": "code",
   "execution_count": 7,
   "id": "66398474-1cf1-4acf-9a3d-c69c5ba13650",
   "metadata": {},
   "outputs": [
    {
     "data": {
      "text/plain": [
       "array([[ 1,  2,  3,  4,  5],\n",
       "       [ 6,  7,  8,  9, 10],\n",
       "       [11, 12, 13, 14, 15]])"
      ]
     },
     "execution_count": 7,
     "metadata": {},
     "output_type": "execute_result"
    }
   ],
   "source": [
    "arr2 = np.array(range(1, 16)).reshape((3, 5))\n",
    "arr2"
   ]
  },
  {
   "cell_type": "code",
   "execution_count": 8,
   "id": "5dcbbce1-33f2-4372-b8bf-49154eb40a01",
   "metadata": {},
   "outputs": [
    {
     "data": {
      "text/plain": [
       "array([[ 0,  0,  0,  0,  0,  0,  0,  0],\n",
       "       [ 0,  0,  0,  0,  0,  0,  0,  0],\n",
       "       [ 0,  1,  2,  3,  4,  5,  0,  0],\n",
       "       [ 0,  6,  7,  8,  9, 10,  0,  0],\n",
       "       [ 0, 11, 12, 13, 14, 15,  0,  0],\n",
       "       [ 0,  0,  0,  0,  0,  0,  0,  0]])"
      ]
     },
     "execution_count": 8,
     "metadata": {},
     "output_type": "execute_result"
    }
   ],
   "source": [
    "# 第一维度：(2,1): 那么就是行，前面添加2行，后面添加1行\n",
    "# 第二维度：(1,2): 就是前面添加1列，后面添加2行\n",
    "padded_2d_01 = np.pad(arr2, pad_width=((2, 1), (1, 2)), mode='constant')\n",
    "padded_2d_01"
   ]
  },
  {
   "cell_type": "code",
   "execution_count": 9,
   "id": "00f2fc43-7b97-4dd1-b6dd-a23d94daa48e",
   "metadata": {},
   "outputs": [
    {
     "data": {
      "text/plain": [
       "array([[ 1,  1,  2,  3,  4,  5,  5,  5],\n",
       "       [ 1,  1,  2,  3,  4,  5,  5,  5],\n",
       "       [ 1,  1,  2,  3,  4,  5,  5,  5],\n",
       "       [ 6,  6,  7,  8,  9, 10, 10, 10],\n",
       "       [11, 11, 12, 13, 14, 15, 15, 15],\n",
       "       [11, 11, 12, 13, 14, 15, 15, 15]])"
      ]
     },
     "execution_count": 9,
     "metadata": {},
     "output_type": "execute_result"
    }
   ],
   "source": [
    "# 我们来把模式设置为edge看下\n",
    "padded_2d_02 = np.pad(arr2, pad_width=((2, 1), (1, 2)), mode='edge')\n",
    "padded_2d_02"
   ]
  },
  {
   "cell_type": "code",
   "execution_count": 10,
   "id": "d75ce6c3-ae5c-4a5c-be46-629be7ccf17b",
   "metadata": {},
   "outputs": [
    {
     "data": {
      "text/plain": [
       "(40, 8)"
      ]
     },
     "execution_count": 10,
     "metadata": {},
     "output_type": "execute_result"
    }
   ],
   "source": [
    "arr2.strides"
   ]
  },
  {
   "cell_type": "code",
   "execution_count": 11,
   "id": "304bb202-ee39-40e4-a55e-0b02f3b1b1da",
   "metadata": {},
   "outputs": [
    {
     "data": {
      "text/plain": [
       "(64, 8)"
      ]
     },
     "execution_count": 11,
     "metadata": {},
     "output_type": "execute_result"
    }
   ],
   "source": [
    "padded_2d_02.strides"
   ]
  },
  {
   "cell_type": "code",
   "execution_count": 12,
   "id": "6528f712-83a7-457d-9c56-5ce8ac9564db",
   "metadata": {},
   "outputs": [
    {
     "data": {
      "text/plain": [
       "array([[ 1,  2,  3,  4,  5],\n",
       "       [ 6,  7,  8,  9, 10],\n",
       "       [11, 12, 13, 14, 15]])"
      ]
     },
     "execution_count": 12,
     "metadata": {},
     "output_type": "execute_result"
    }
   ],
   "source": [
    "arr2"
   ]
  },
  {
   "cell_type": "code",
   "execution_count": 13,
   "id": "8859a100-59b9-4413-b502-faa629b620e9",
   "metadata": {},
   "outputs": [
    {
     "data": {
      "text/plain": [
       "8"
      ]
     },
     "execution_count": 13,
     "metadata": {},
     "output_type": "execute_result"
    }
   ],
   "source": [
    "padded_2d_02.strides[-1]"
   ]
  },
  {
   "cell_type": "code",
   "execution_count": 14,
   "id": "e7060f58-b468-4599-83b5-1e23091e56e6",
   "metadata": {},
   "outputs": [
    {
     "data": {
      "text/plain": [
       "(64, 8, 8)"
      ]
     },
     "execution_count": 14,
     "metadata": {},
     "output_type": "execute_result"
    }
   ],
   "source": [
    "padded_2d_02.strides + tuple([padded_2d_02.strides[-1]])"
   ]
  },
  {
   "cell_type": "code",
   "execution_count": null,
   "id": "1d084e81-834b-41fa-94d1-ce9842a386c3",
   "metadata": {},
   "outputs": [],
   "source": []
  }
 ],
 "metadata": {
  "kernelspec": {
   "display_name": "Python 3 (ipykernel)",
   "language": "python",
   "name": "python3"
  },
  "language_info": {
   "codemirror_mode": {
    "name": "ipython",
    "version": 3
   },
   "file_extension": ".py",
   "mimetype": "text/x-python",
   "name": "python",
   "nbconvert_exporter": "python",
   "pygments_lexer": "ipython3",
   "version": "3.11.5"
  }
 },
 "nbformat": 4,
 "nbformat_minor": 5
}
