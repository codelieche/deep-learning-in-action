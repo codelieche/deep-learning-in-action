{
 "cells": [
  {
   "cell_type": "markdown",
   "id": "b8de08c5-c7e7-4c07-b99b-7f2ce586970d",
   "metadata": {},
   "source": [
    "## NumPy的基本使用--通用函数"
   ]
  },
  {
   "cell_type": "code",
   "execution_count": 1,
   "id": "61598a49-eb91-4a8c-a729-1e65c0ba3542",
   "metadata": {},
   "outputs": [],
   "source": [
    "import numpy as np"
   ]
  },
  {
   "cell_type": "code",
   "execution_count": 2,
   "id": "dec4eb5b-4f36-45ff-b8ea-7cb2998eb1b8",
   "metadata": {},
   "outputs": [],
   "source": [
    "# 禁止科学计算法\n",
    "np.set_printoptions(suppress=True)"
   ]
  },
  {
   "cell_type": "markdown",
   "id": "f83ecfec-1d09-490b-b4dd-1115dddafc9f",
   "metadata": {},
   "source": [
    "### 1. 一元通用函数"
   ]
  },
  {
   "cell_type": "markdown",
   "id": "0a92217c-fe02-4c95-b425-608a04eb95d5",
   "metadata": {},
   "source": [
    " 函数名 | 描述 \n",
    " :--- | ---\n",
    " abs、fabs | 逐元素地计算整数、浮点数或复数的绝对值 \n",
    " sqrt | 计算每个元素的平方根 ${arr}^{0.5}$ 或   $\\sqrt[2]{arr}$\n",
    " square | 计算每个元素的平方 ${arr}^2$"
   ]
  },
  {
   "cell_type": "markdown",
   "id": "31c18e88-bd47-40e5-b96f-e638cdc04b5c",
   "metadata": {},
   "source": [
    "### 1.1 绝对值：abs"
   ]
  },
  {
   "cell_type": "code",
   "execution_count": 3,
   "id": "cb279dbf-3140-4cba-a13e-dddecd66cf37",
   "metadata": {},
   "outputs": [
    {
     "data": {
      "text/plain": [
       "array([0, 1, 2, 3])"
      ]
     },
     "execution_count": 3,
     "metadata": {},
     "output_type": "execute_result"
    }
   ],
   "source": [
    "arr = np.arange(4)\n",
    "arr"
   ]
  },
  {
   "cell_type": "code",
   "execution_count": 4,
   "id": "6fb49eda-d501-4101-a5b9-c918944e15bf",
   "metadata": {},
   "outputs": [
    {
     "data": {
      "text/plain": [
       "array([0, 1, 2, 3])"
      ]
     },
     "execution_count": 4,
     "metadata": {},
     "output_type": "execute_result"
    }
   ],
   "source": [
    "# 计算绝对值\n",
    "np.abs(arr)"
   ]
  },
  {
   "cell_type": "code",
   "execution_count": 5,
   "id": "7628c6f2-1655-4409-b5f8-ddc78bc6db4e",
   "metadata": {},
   "outputs": [
    {
     "data": {
      "text/plain": [
       "array([0, 2, 4, 6])"
      ]
     },
     "execution_count": 5,
     "metadata": {},
     "output_type": "execute_result"
    }
   ],
   "source": [
    "np.abs(arr * -2)"
   ]
  },
  {
   "cell_type": "markdown",
   "id": "051e42e0-2836-42e9-af85-f32b0bdee25d",
   "metadata": {},
   "source": [
    "### 1.2 平方根：sqrt"
   ]
  },
  {
   "cell_type": "code",
   "execution_count": 6,
   "id": "d6a78813-cdbf-4da8-bd69-dfe6e3d247f1",
   "metadata": {},
   "outputs": [
    {
     "data": {
      "text/plain": [
       "array([ 0,  1,  4,  9, 25])"
      ]
     },
     "execution_count": 6,
     "metadata": {},
     "output_type": "execute_result"
    }
   ],
   "source": [
    "arr = np.array([0, 1, 4, 9, 25])\n",
    "arr"
   ]
  },
  {
   "cell_type": "code",
   "execution_count": 7,
   "id": "1723627a-13ec-4512-a583-a1cb0f4a312b",
   "metadata": {},
   "outputs": [
    {
     "data": {
      "text/plain": [
       "array([0., 1., 2., 3., 5.])"
      ]
     },
     "execution_count": 7,
     "metadata": {},
     "output_type": "execute_result"
    }
   ],
   "source": [
    "np.sqrt(arr)"
   ]
  },
  {
   "cell_type": "markdown",
   "id": "806014fe-2f70-481e-8724-297dbfac6afb",
   "metadata": {},
   "source": [
    "### 1.3 平方：square"
   ]
  },
  {
   "cell_type": "code",
   "execution_count": 8,
   "id": "27fa099f-0c14-484f-85be-100e6649a2a4",
   "metadata": {},
   "outputs": [
    {
     "data": {
      "text/plain": [
       "array([1, 2, 3, 4, 5])"
      ]
     },
     "execution_count": 8,
     "metadata": {},
     "output_type": "execute_result"
    }
   ],
   "source": [
    "arr = np.arange(1, 6)\n",
    "arr"
   ]
  },
  {
   "cell_type": "code",
   "execution_count": 9,
   "id": "cbc7c7dc-4cd4-409b-9e7b-83dfdc75dd96",
   "metadata": {},
   "outputs": [
    {
     "data": {
      "text/plain": [
       "array([ 1,  4,  9, 16, 25])"
      ]
     },
     "execution_count": 9,
     "metadata": {},
     "output_type": "execute_result"
    }
   ],
   "source": [
    "np.square(arr)"
   ]
  },
  {
   "cell_type": "markdown",
   "id": "4c010bad-d45f-4d54-a59a-d4118bf4e6d0",
   "metadata": {},
   "source": [
    "### 2.二元通用函数"
   ]
  },
  {
   "cell_type": "markdown",
   "id": "52f78578-cc22-4f39-8fc7-e9a92a7bdcc3",
   "metadata": {},
   "source": [
    "二元函数，接收两个数组并返回一个数组作为结果，因此称其为二元通用函数。\n",
    "\n",
    "函数名 | 描述\n",
    "--- | ---\n",
    "add | 将2个数组的对应元素相加\n",
    "subtract | 减\n",
    "multiply | 将数组的对应元素相乘\n",
    "divide, floor_divide | 除或整除（地板除，余数不要）\n",
    "power | 将第2个数组的元素作为第一个元素的幂次方\n",
    "mod | 按元素的求模计算（即得到除法的余数）"
   ]
  },
  {
   "cell_type": "markdown",
   "id": "22e076e6-d8e4-44b1-a437-dcd16ceca0ba",
   "metadata": {},
   "source": [
    "#### 2.1 相加：add"
   ]
  },
  {
   "cell_type": "code",
   "execution_count": 10,
   "id": "64c72109-3b47-4a0a-9775-cd45a0dd86e5",
   "metadata": {},
   "outputs": [],
   "source": [
    "arr1 = np.array([1.0, 2.0, 3.0, 4.0])\n",
    "arr2 = np.array([4.0, 5.0, 6.0, 7.0])"
   ]
  },
  {
   "cell_type": "code",
   "execution_count": 11,
   "id": "d7665d90-fde8-43d3-b48b-de30c6f421a7",
   "metadata": {},
   "outputs": [
    {
     "data": {
      "text/plain": [
       "(array([1., 2., 3., 4.]), array([4., 5., 6., 7.]))"
      ]
     },
     "execution_count": 11,
     "metadata": {},
     "output_type": "execute_result"
    }
   ],
   "source": [
    "arr1, arr2"
   ]
  },
  {
   "cell_type": "code",
   "execution_count": 12,
   "id": "e2714a83-24db-4d71-9521-207dce7766f6",
   "metadata": {},
   "outputs": [
    {
     "data": {
      "text/plain": [
       "array([ 5.,  7.,  9., 11.])"
      ]
     },
     "execution_count": 12,
     "metadata": {},
     "output_type": "execute_result"
    }
   ],
   "source": [
    "# 逐元素相加\n",
    "np.add(arr1, arr2)"
   ]
  },
  {
   "cell_type": "markdown",
   "id": "18f2e88f-3ae2-4a83-946e-eaf6bb838b02",
   "metadata": {},
   "source": [
    "#### 2.2 减：subtract"
   ]
  },
  {
   "cell_type": "code",
   "execution_count": 13,
   "id": "69f3f2cf-aab3-4103-98a9-f47fe201694c",
   "metadata": {},
   "outputs": [
    {
     "data": {
      "text/plain": [
       "array([-3., -3., -3., -3.])"
      ]
     },
     "execution_count": 13,
     "metadata": {},
     "output_type": "execute_result"
    }
   ],
   "source": [
    "np.subtract(arr1, arr2)"
   ]
  },
  {
   "cell_type": "markdown",
   "id": "5d02de38-2173-4bbd-9c06-a20e07a5851d",
   "metadata": {},
   "source": [
    "#### 2.3 乘：multiply"
   ]
  },
  {
   "cell_type": "code",
   "execution_count": 14,
   "id": "e1b01ed6-b603-465b-8d81-7487ad246ec0",
   "metadata": {},
   "outputs": [
    {
     "data": {
      "text/plain": [
       "array([ 4., 10., 18., 28.])"
      ]
     },
     "execution_count": 14,
     "metadata": {},
     "output_type": "execute_result"
    }
   ],
   "source": [
    "np.multiply(arr1, arr2)"
   ]
  },
  {
   "cell_type": "markdown",
   "id": "462f46cd-312b-40d8-a182-5338e4300bd6",
   "metadata": {},
   "source": [
    "#### 2.4 除：divide和floor_divide"
   ]
  },
  {
   "cell_type": "code",
   "execution_count": 15,
   "id": "a4d16c4b-a27e-4527-b772-748f2eeff7d6",
   "metadata": {},
   "outputs": [
    {
     "data": {
      "text/plain": [
       "array([1., 2., 3., 4.])"
      ]
     },
     "execution_count": 15,
     "metadata": {},
     "output_type": "execute_result"
    }
   ],
   "source": [
    "arr1"
   ]
  },
  {
   "cell_type": "code",
   "execution_count": 16,
   "id": "e14b50b9-b3de-4e1e-9149-add1b0cf96e7",
   "metadata": {},
   "outputs": [
    {
     "data": {
      "text/plain": [
       "array([4., 5., 6., 7.])"
      ]
     },
     "execution_count": 16,
     "metadata": {},
     "output_type": "execute_result"
    }
   ],
   "source": [
    "arr2"
   ]
  },
  {
   "cell_type": "code",
   "execution_count": 17,
   "id": "d61ac3f6-ecc2-42b6-848c-8760b0439a2f",
   "metadata": {},
   "outputs": [
    {
     "data": {
      "text/plain": [
       "array([4.  , 2.5 , 2.  , 1.75])"
      ]
     },
     "execution_count": 17,
     "metadata": {},
     "output_type": "execute_result"
    }
   ],
   "source": [
    "# 除\n",
    "np.divide(arr2, arr1)"
   ]
  },
  {
   "cell_type": "code",
   "execution_count": 18,
   "id": "f2ad0550-46fc-4f09-a6f8-14d6006aa948",
   "metadata": {},
   "outputs": [
    {
     "data": {
      "text/plain": [
       "array([4., 2., 2., 1.])"
      ]
     },
     "execution_count": 18,
     "metadata": {},
     "output_type": "execute_result"
    }
   ],
   "source": [
    "# 地板除\n",
    "np.floor_divide(arr2, arr1)"
   ]
  },
  {
   "cell_type": "markdown",
   "id": "d7ee83e3-8732-4259-bb4a-027e9796add1",
   "metadata": {},
   "source": [
    "#### 2.5 幂次方：power"
   ]
  },
  {
   "cell_type": "code",
   "execution_count": 19,
   "id": "c0d1ec35-9339-41d4-92bd-2091f039fc01",
   "metadata": {},
   "outputs": [
    {
     "data": {
      "text/plain": [
       "array([   4.,   25.,  216., 2401.])"
      ]
     },
     "execution_count": 19,
     "metadata": {},
     "output_type": "execute_result"
    }
   ],
   "source": [
    "np.power(arr2, arr1)"
   ]
  },
  {
   "cell_type": "code",
   "execution_count": 20,
   "id": "46e8c539-3fa3-4121-a992-f46447c7833a",
   "metadata": {},
   "outputs": [
    {
     "data": {
      "text/plain": [
       "2401"
      ]
     },
     "execution_count": 20,
     "metadata": {},
     "output_type": "execute_result"
    }
   ],
   "source": [
    "# 计算一下7的4次方\n",
    "7 ** 4"
   ]
  },
  {
   "cell_type": "markdown",
   "id": "9c834048-2033-4228-9c86-35a7065fce48",
   "metadata": {},
   "source": [
    "#### 2.6 除法的余数"
   ]
  },
  {
   "cell_type": "code",
   "execution_count": 21,
   "id": "3918dab0-c99e-4b7a-bb9a-63a5d2f6c545",
   "metadata": {},
   "outputs": [
    {
     "data": {
      "text/plain": [
       "array([0., 1., 0., 3.])"
      ]
     },
     "execution_count": 21,
     "metadata": {},
     "output_type": "execute_result"
    }
   ],
   "source": [
    "np.mod(arr2, arr1)"
   ]
  },
  {
   "cell_type": "code",
   "execution_count": null,
   "id": "81f9f74b-c930-4f56-b272-dc6faef0c4fb",
   "metadata": {},
   "outputs": [],
   "source": []
  }
 ],
 "metadata": {
  "kernelspec": {
   "display_name": "Python 3 (ipykernel)",
   "language": "python",
   "name": "python3"
  },
  "language_info": {
   "codemirror_mode": {
    "name": "ipython",
    "version": 3
   },
   "file_extension": ".py",
   "mimetype": "text/x-python",
   "name": "python",
   "nbconvert_exporter": "python",
   "pygments_lexer": "ipython3",
   "version": "3.11.5"
  }
 },
 "nbformat": 4,
 "nbformat_minor": 5
}
