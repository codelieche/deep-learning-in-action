{
 "cells": [
  {
   "cell_type": "markdown",
   "id": "a9d50bb0-9b50-4b4a-8af9-0bd61cacf1cb",
   "metadata": {},
   "source": [
    "## Jupyter Notebook中插入公式"
   ]
  },
  {
   "cell_type": "markdown",
   "id": "abf42273-0daa-4920-8fad-ce31a84d037f",
   "metadata": {},
   "source": [
    "### 1. 一元一次方程:\n",
    "\n",
    "- $ y = a + bx $:\n",
    "  > `$ y = a + bx $`: \n",
    "- $ y = w1x^2 + w2x + b $:\n",
    "  > `$ y = w1x^2 + w2x + b $`"
   ]
  },
  {
   "cell_type": "markdown",
   "id": "02352c96-72d2-44e8-9785-504221e13cbd",
   "metadata": {},
   "source": [
    "### 2. 上表和下标\n",
    "\n",
    "- $ z^l_j = w_1x_1 + w_2 x_2 + .... + w_n x_n + b_j $\n",
    "  > `$ z^l_j = w_1x_1 + w_2 x_2 + .... + w_n x_n + b_j $`"
   ]
  },
  {
   "cell_type": "markdown",
   "id": "dd7c66fa-f7af-47e1-a7c0-2ac223de341d",
   "metadata": {},
   "source": [
    "### 3. 求和\n",
    "- $\\sum_{i=0}^{n}{k=1}$\n",
    "  > `$\\sum_{i=0}^{n}{k=1}$`\n",
    "\n",
    "- $\\sum_{k=0}^{n}{k^2 + 2}$\n",
    "  > `$\\sum_{k=0}^{n}{k^2 + 2}$`"
   ]
  },
  {
   "cell_type": "markdown",
   "id": "09859848-2bc5-451c-9327-a0eefd4562ec",
   "metadata": {},
   "source": [
    "### 4. 导数\n",
    "- $z=\\left(\\frac{dy}{dx}\\right)^{1/2}$ \n",
    "  > `$z=\\left(\\frac{dy}{dx}\\right)^{1/2}$`"
   ]
  },
  {
   "cell_type": "markdown",
   "id": "8981d780-f17e-408d-a4e6-0ac678611911",
   "metadata": {},
   "source": [
    "### 5. 平方根\n",
    "- $\\sqrt{5}$\n",
    "  > `$\\sqrt{5}$`\n",
    "\n",
    "- $\\sqrt[5]{x}$\n",
    "  > `$\\sqrt[5]{x}$`"
   ]
  },
  {
   "cell_type": "markdown",
   "id": "18a3d52f-7616-453b-b5c6-9f891e059143",
   "metadata": {},
   "source": [
    "### 6. 向量\n",
    "- $\\vec a$\n",
    "  > `$\\vec a$`\n",
    "- $\\overrightarrow {AB}$\n",
    "  > `$\\overrightarrow {AB}$`\n",
    "- $\\overleftarrow{AB}$\n",
    "  > `$\\overleftarrow{AB}$`"
   ]
  },
  {
   "cell_type": "markdown",
   "id": "8e65a637-b9d3-42ed-a84d-a0b10254e0e9",
   "metadata": {},
   "source": [
    "### 7. 矩阵\n",
    "- $z=\\left[\\begin{matrix}a & b \\cr c & d \\end{matrix}\\right]$\n",
    "  > `$z=\\left[\\begin{matrix}a & b \\cr c & d \\end{matrix}\\right]$`\n",
    "  \n",
    "- $\\left\\lgroup\\begin{matrix}a_{11} & a_{12} & a_{13} \\cr b_{21} & b_{22} & b_{23} \\end{matrix}\\right\\rgroup$\n",
    "  > `$\\left\\lgroup\\begin{matrix}a_{11} & a_{12} & a_{13} \\cr b_{21} & b_{22} & b_{23} \\end{matrix}\\right\\rgroup$`"
   ]
  },
  {
   "cell_type": "markdown",
   "id": "9b86ec56-f024-4800-8218-88ec039250e3",
   "metadata": {},
   "source": [
    "### 8. 三角函数\n",
    "- $\\sin(x-t)$\n",
    "  > `$\\sin(x-t)$`\n",
    "- $\\cosh\\theta$\n",
    "  > `$\\cosh\\theta$`"
   ]
  },
  {
   "cell_type": "markdown",
   "id": "3e824093-9e37-44f3-bbde-fc906b4e7ed9",
   "metadata": {},
   "source": [
    "### 9. 关系运算\n",
    "- ${a}\\leq{b}$\n",
    "  > `${a}\\leq{b}$`\n",
    "- ${a}\\geq{b}$\n",
    "  > `${a}\\geq{b}$`\n",
    "- ${a}\\neq{b}$\n",
    "  > `${a}\\neq{b}$`"
   ]
  },
  {
   "cell_type": "code",
   "execution_count": null,
   "id": "69d0d745-ad08-489a-b647-498bd6b3f065",
   "metadata": {},
   "outputs": [],
   "source": []
  }
 ],
 "metadata": {
  "kernelspec": {
   "display_name": "Python 3 (ipykernel)",
   "language": "python",
   "name": "python3"
  },
  "language_info": {
   "codemirror_mode": {
    "name": "ipython",
    "version": 3
   },
   "file_extension": ".py",
   "mimetype": "text/x-python",
   "name": "python",
   "nbconvert_exporter": "python",
   "pygments_lexer": "ipython3",
   "version": "3.11.5"
  }
 },
 "nbformat": 4,
 "nbformat_minor": 5
}
