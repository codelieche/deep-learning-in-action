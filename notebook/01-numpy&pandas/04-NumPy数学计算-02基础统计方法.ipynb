{
 "cells": [
  {
   "cell_type": "markdown",
   "id": "18c6bf51-ad88-4f39-8319-1b450004dbcd",
   "metadata": {},
   "source": [
    "## NumPy数学计算--基础统计方法"
   ]
  },
  {
   "cell_type": "code",
   "execution_count": 1,
   "id": "970ac353-81ef-455c-a439-2164fc8a75d1",
   "metadata": {},
   "outputs": [],
   "source": [
    "import numpy as np\n",
    "# 调整打印输出选项\n",
    "np.set_printoptions(suppress=True)"
   ]
  },
  {
   "cell_type": "markdown",
   "id": "b5ddcd24-7074-431f-8ada-73c47f360d18",
   "metadata": {},
   "source": [
    "方法 | 描述\n",
    "--- | --- \n",
    "sum | 沿着轴向计算所有元素的累计和\n",
    "mean | 计算平均值\n",
    "std, var | 标准差和方差\n",
    "min, max | 计算最小、最大值\n",
    "argmin, argmax | 最小值和最大值的位置\n",
    "cumsum | 从0开始元素累积**和**\n",
    "cumprod | 从1开始元素累积**积**"
   ]
  },
  {
   "cell_type": "markdown",
   "id": "cbd1dea0-9254-4264-92f8-9cb95132e555",
   "metadata": {},
   "source": [
    "### 1. 累计和：sum"
   ]
  },
  {
   "cell_type": "code",
   "execution_count": 2,
   "id": "c6f73c45-8cb7-433c-b897-64a12b5157c3",
   "metadata": {},
   "outputs": [
    {
     "data": {
      "text/plain": [
       "array([1., 2., 3.])"
      ]
     },
     "execution_count": 2,
     "metadata": {},
     "output_type": "execute_result"
    }
   ],
   "source": [
    "arr = np.array([1.0, 2.0, 3.0])\n",
    "arr"
   ]
  },
  {
   "cell_type": "code",
   "execution_count": 3,
   "id": "dfb38e5f-5e85-47dd-9201-e4ac43eaef63",
   "metadata": {},
   "outputs": [
    {
     "data": {
      "text/plain": [
       "6.0"
      ]
     },
     "execution_count": 3,
     "metadata": {},
     "output_type": "execute_result"
    }
   ],
   "source": [
    "arr.sum()"
   ]
  },
  {
   "cell_type": "markdown",
   "id": "86407dc8-976e-4858-a3e7-fe910d22a737",
   "metadata": {},
   "source": [
    "### 2. 平均值：mean"
   ]
  },
  {
   "cell_type": "code",
   "execution_count": 4,
   "id": "254672d6-6c0c-4f0f-876a-be901dbb15a5",
   "metadata": {},
   "outputs": [
    {
     "data": {
      "text/plain": [
       "array([1., 2., 3.])"
      ]
     },
     "execution_count": 4,
     "metadata": {},
     "output_type": "execute_result"
    }
   ],
   "source": [
    "arr"
   ]
  },
  {
   "cell_type": "code",
   "execution_count": 5,
   "id": "d76905b1-08ea-4373-a9a9-c0c3af152da5",
   "metadata": {},
   "outputs": [
    {
     "data": {
      "text/plain": [
       "2.0"
      ]
     },
     "execution_count": 5,
     "metadata": {},
     "output_type": "execute_result"
    }
   ],
   "source": [
    "arr.mean()"
   ]
  },
  {
   "cell_type": "markdown",
   "id": "c82f22a5-7349-4042-8608-61e51ad2bcb1",
   "metadata": {},
   "source": [
    "### 3. 标准差和方差"
   ]
  },
  {
   "cell_type": "code",
   "execution_count": 6,
   "id": "0beac01e-d068-438b-930b-2be19b908c68",
   "metadata": {},
   "outputs": [
    {
     "data": {
      "text/plain": [
       "array([1., 2., 3.])"
      ]
     },
     "execution_count": 6,
     "metadata": {},
     "output_type": "execute_result"
    }
   ],
   "source": [
    "arr"
   ]
  },
  {
   "cell_type": "markdown",
   "id": "1f259367-4277-4821-aa9c-70b90faeaaad",
   "metadata": {},
   "source": [
    "#### 方差\n",
    "\n",
    "> 方差是各个数据与其平均值之差的平方的平均数。"
   ]
  },
  {
   "cell_type": "code",
   "execution_count": 7,
   "id": "c6c43329-4c00-4743-9f3b-e683e23a1747",
   "metadata": {},
   "outputs": [
    {
     "data": {
      "text/plain": [
       "0.6666666666666666"
      ]
     },
     "execution_count": 7,
     "metadata": {},
     "output_type": "execute_result"
    }
   ],
   "source": [
    "# 手动计算方差\n",
    "((1.0 - 2.0) ** 2 + (2.0 - 2.0) ** 2 + (3.0 - 2.0) ** 2) / 3"
   ]
  },
  {
   "cell_type": "code",
   "execution_count": 8,
   "id": "30dd7019-3f67-464c-bf3a-e16f9618bbc0",
   "metadata": {},
   "outputs": [
    {
     "data": {
      "text/plain": [
       "0.6666666666666666"
      ]
     },
     "execution_count": 8,
     "metadata": {},
     "output_type": "execute_result"
    }
   ],
   "source": [
    "# 直接用var()方法计算方差\n",
    "arr.var()"
   ]
  },
  {
   "cell_type": "markdown",
   "id": "a4cd71d7-9672-497f-9822-8c14232d6ef1",
   "metadata": {},
   "source": [
    "#### 标准差\n",
    "\n",
    "> 标准差是方差的平方根。$\\sqrt[2]{arr.var()}$"
   ]
  },
  {
   "cell_type": "code",
   "execution_count": 9,
   "id": "f3b8002a-0fae-4968-8372-c047d21b8f8a",
   "metadata": {},
   "outputs": [
    {
     "data": {
      "text/plain": [
       "0.816496580927726"
      ]
     },
     "execution_count": 9,
     "metadata": {},
     "output_type": "execute_result"
    }
   ],
   "source": [
    "arr.var()**0.5"
   ]
  },
  {
   "cell_type": "code",
   "execution_count": 10,
   "id": "42667e0e-56fe-468a-bd96-e0375c04fb7e",
   "metadata": {},
   "outputs": [
    {
     "data": {
      "text/plain": [
       "0.816496580927726"
      ]
     },
     "execution_count": 10,
     "metadata": {},
     "output_type": "execute_result"
    }
   ],
   "source": [
    "arr.std()"
   ]
  },
  {
   "cell_type": "markdown",
   "id": "4ffb89f6-bab7-4f91-9c87-6fe0a18358df",
   "metadata": {},
   "source": [
    "### 4. 最小值和最大值：min、max"
   ]
  },
  {
   "cell_type": "code",
   "execution_count": 11,
   "id": "10d9e163-df37-4001-adb2-8c078179b646",
   "metadata": {},
   "outputs": [
    {
     "data": {
      "text/plain": [
       "array([1., 2., 3.])"
      ]
     },
     "execution_count": 11,
     "metadata": {},
     "output_type": "execute_result"
    }
   ],
   "source": [
    "arr"
   ]
  },
  {
   "cell_type": "code",
   "execution_count": 12,
   "id": "5664576d-d75b-46d1-910b-72456047b994",
   "metadata": {},
   "outputs": [
    {
     "data": {
      "text/plain": [
       "1.0"
      ]
     },
     "execution_count": 12,
     "metadata": {},
     "output_type": "execute_result"
    }
   ],
   "source": [
    "arr.min()"
   ]
  },
  {
   "cell_type": "code",
   "execution_count": 13,
   "id": "53379c88-68f0-4968-acf7-0c0cd2b4cc60",
   "metadata": {},
   "outputs": [
    {
     "data": {
      "text/plain": [
       "3.0"
      ]
     },
     "execution_count": 13,
     "metadata": {},
     "output_type": "execute_result"
    }
   ],
   "source": [
    "arr.max()"
   ]
  },
  {
   "cell_type": "markdown",
   "id": "c8471de5-d4b2-4324-91a3-e1c4971331c2",
   "metadata": {},
   "source": [
    "### 5. 最小值和最大值的位置：argmin, argmax"
   ]
  },
  {
   "cell_type": "code",
   "execution_count": 14,
   "id": "5ab6b9f8-55fb-4b01-82cc-450e5b6953b8",
   "metadata": {},
   "outputs": [
    {
     "data": {
      "text/plain": [
       "(0, 2)"
      ]
     },
     "execution_count": 14,
     "metadata": {},
     "output_type": "execute_result"
    }
   ],
   "source": [
    "arr.argmin(), arr.argmax()"
   ]
  },
  {
   "cell_type": "markdown",
   "id": "95dc126b-8683-4816-ab7f-b1fa82ea830b",
   "metadata": {},
   "source": [
    "### 6. cumsum\n",
    "\n",
    "从第0个元素开始累计的和。"
   ]
  },
  {
   "cell_type": "code",
   "execution_count": 15,
   "id": "6a2cac6b-eb1b-4fe9-8cae-50ee51bb1c84",
   "metadata": {},
   "outputs": [
    {
     "data": {
      "text/plain": [
       "array([1., 2., 3.])"
      ]
     },
     "execution_count": 15,
     "metadata": {},
     "output_type": "execute_result"
    }
   ],
   "source": [
    "arr"
   ]
  },
  {
   "cell_type": "code",
   "execution_count": 16,
   "id": "8ba6db89-2eb3-4d07-b8aa-f84068a53e16",
   "metadata": {},
   "outputs": [
    {
     "data": {
      "text/plain": [
       "(1.0, 3.0, 6.0)"
      ]
     },
     "execution_count": 16,
     "metadata": {},
     "output_type": "execute_result"
    }
   ],
   "source": [
    "# 手动计算\n",
    "0+1.0, 0 + 1.0 + 2.0, 0 + 1.0 + 2.0 + 3.0"
   ]
  },
  {
   "cell_type": "code",
   "execution_count": 17,
   "id": "bb851785-5458-4fc3-874f-c69507a6eb15",
   "metadata": {},
   "outputs": [
    {
     "data": {
      "text/plain": [
       "array([1., 3., 6.])"
      ]
     },
     "execution_count": 17,
     "metadata": {},
     "output_type": "execute_result"
    }
   ],
   "source": [
    "arr.cumsum()"
   ]
  },
  {
   "cell_type": "markdown",
   "id": "e83728cc-3fae-447c-af51-3f51191abaf7",
   "metadata": {},
   "source": [
    "### 7. cumprod\n",
    "\n",
    "从1开始元素累积的积"
   ]
  },
  {
   "cell_type": "code",
   "execution_count": 18,
   "id": "f34f8d05-c280-47c7-a6e6-d72e108bc3ef",
   "metadata": {},
   "outputs": [
    {
     "data": {
      "text/plain": [
       "array([2, 4, 6])"
      ]
     },
     "execution_count": 18,
     "metadata": {},
     "output_type": "execute_result"
    }
   ],
   "source": [
    "arr = np.arange(2, 8, 2)\n",
    "arr"
   ]
  },
  {
   "cell_type": "code",
   "execution_count": 19,
   "id": "8191a6f3-ad94-4618-9c4d-1cf88a0aed42",
   "metadata": {},
   "outputs": [
    {
     "data": {
      "text/plain": [
       "(2, 8, 48)"
      ]
     },
     "execution_count": 19,
     "metadata": {},
     "output_type": "execute_result"
    }
   ],
   "source": [
    "# 手动计算\n",
    "1*2, 1*2*4, 1*2*4*6"
   ]
  },
  {
   "cell_type": "code",
   "execution_count": 20,
   "id": "47108f75-0d8e-4dc6-bd51-774ce9f2f278",
   "metadata": {},
   "outputs": [
    {
     "data": {
      "text/plain": [
       "array([ 2,  8, 48])"
      ]
     },
     "execution_count": 20,
     "metadata": {},
     "output_type": "execute_result"
    }
   ],
   "source": [
    "arr.cumprod()"
   ]
  },
  {
   "cell_type": "code",
   "execution_count": 22,
   "id": "71e3eec3-dfcd-4a1e-967d-9f47bf2f6644",
   "metadata": {},
   "outputs": [
    {
     "data": {
      "text/plain": [
       "array([2, 4, 6])"
      ]
     },
     "execution_count": 22,
     "metadata": {},
     "output_type": "execute_result"
    }
   ],
   "source": [
    "arr"
   ]
  },
  {
   "cell_type": "code",
   "execution_count": null,
   "id": "fb69f606-d488-45eb-944b-ef12c076cdb3",
   "metadata": {},
   "outputs": [],
   "source": []
  }
 ],
 "metadata": {
  "kernelspec": {
   "display_name": "Python 3 (ipykernel)",
   "language": "python",
   "name": "python3"
  },
  "language_info": {
   "codemirror_mode": {
    "name": "ipython",
    "version": 3
   },
   "file_extension": ".py",
   "mimetype": "text/x-python",
   "name": "python",
   "nbconvert_exporter": "python",
   "pygments_lexer": "ipython3",
   "version": "3.11.5"
  }
 },
 "nbformat": 4,
 "nbformat_minor": 5
}
