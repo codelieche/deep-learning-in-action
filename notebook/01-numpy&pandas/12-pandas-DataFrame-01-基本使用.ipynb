{
 "cells": [
  {
   "cell_type": "markdown",
   "id": "18a17dd9-af83-4e4b-acbf-c6ce9e3cd461",
   "metadata": {},
   "source": [
    "## pands数据结构DataFrame的基本使用"
   ]
  },
  {
   "cell_type": "markdown",
   "id": "79f076c1-57ba-4ffe-8dec-16b722703687",
   "metadata": {},
   "source": [
    "`DataFrame`是矩阵的数据表，每一列可以是不同的值类型(数值、字符串、布尔值等)。   \n",
    "`DataFrame`有行和列索引，多列可以视为共享索引的`Series`的字典。"
   ]
  },
  {
   "cell_type": "code",
   "execution_count": 1,
   "id": "865d1bdb-8720-4fb4-b01b-9e3eea415d79",
   "metadata": {},
   "outputs": [],
   "source": [
    "import numpy as np\n",
    "import pandas as pd\n",
    "# from pandas import Series, DataFrame"
   ]
  },
  {
   "cell_type": "markdown",
   "id": "d605406c-d4d0-43aa-b07b-57f1855e74d1",
   "metadata": {},
   "source": [
    "### 1. 实例化DataFrame"
   ]
  },
  {
   "cell_type": "markdown",
   "id": "d8ce79f0-311b-402a-82e3-ccfde6d0724e",
   "metadata": {},
   "source": [
    "#### 1.1 使用默认的索引"
   ]
  },
  {
   "cell_type": "code",
   "execution_count": 2,
   "id": "85ef1e04-161f-46ec-aea8-8a658326906d",
   "metadata": {},
   "outputs": [],
   "source": [
    "# 注意字典中的列表长度需要一样\n",
    "data = {\n",
    "    \"language\": [\"Python\", \"Golang\", \"JavaScript\", \"Java\"],\n",
    "    \"projects\": [100, 60, 40, 20],\n",
    "    \"members\": [10, 3, 6, 5]\n",
    "}\n",
    "\n",
    "frame = pd.DataFrame(data)"
   ]
  },
  {
   "cell_type": "code",
   "execution_count": 3,
   "id": "40f1c91d-7f59-43c3-ac74-98a2b91a4f41",
   "metadata": {},
   "outputs": [
    {
     "data": {
      "text/html": [
       "<div>\n",
       "<style scoped>\n",
       "    .dataframe tbody tr th:only-of-type {\n",
       "        vertical-align: middle;\n",
       "    }\n",
       "\n",
       "    .dataframe tbody tr th {\n",
       "        vertical-align: top;\n",
       "    }\n",
       "\n",
       "    .dataframe thead th {\n",
       "        text-align: right;\n",
       "    }\n",
       "</style>\n",
       "<table border=\"1\" class=\"dataframe\">\n",
       "  <thead>\n",
       "    <tr style=\"text-align: right;\">\n",
       "      <th></th>\n",
       "      <th>language</th>\n",
       "      <th>projects</th>\n",
       "      <th>members</th>\n",
       "    </tr>\n",
       "  </thead>\n",
       "  <tbody>\n",
       "    <tr>\n",
       "      <th>0</th>\n",
       "      <td>Python</td>\n",
       "      <td>100</td>\n",
       "      <td>10</td>\n",
       "    </tr>\n",
       "    <tr>\n",
       "      <th>1</th>\n",
       "      <td>Golang</td>\n",
       "      <td>60</td>\n",
       "      <td>3</td>\n",
       "    </tr>\n",
       "    <tr>\n",
       "      <th>2</th>\n",
       "      <td>JavaScript</td>\n",
       "      <td>40</td>\n",
       "      <td>6</td>\n",
       "    </tr>\n",
       "    <tr>\n",
       "      <th>3</th>\n",
       "      <td>Java</td>\n",
       "      <td>20</td>\n",
       "      <td>5</td>\n",
       "    </tr>\n",
       "  </tbody>\n",
       "</table>\n",
       "</div>"
      ],
      "text/plain": [
       "     language  projects  members\n",
       "0      Python       100       10\n",
       "1      Golang        60        3\n",
       "2  JavaScript        40        6\n",
       "3        Java        20        5"
      ]
     },
     "execution_count": 3,
     "metadata": {},
     "output_type": "execute_result"
    }
   ],
   "source": [
    "frame"
   ]
  },
  {
   "cell_type": "code",
   "execution_count": 4,
   "id": "1e56bc4e-99cc-4168-8753-fa32833d7cd6",
   "metadata": {},
   "outputs": [
    {
     "data": {
      "text/plain": [
       "0        Python\n",
       "1        Golang\n",
       "2    JavaScript\n",
       "3          Java\n",
       "Name: language, dtype: object"
      ]
     },
     "execution_count": 4,
     "metadata": {},
     "output_type": "execute_result"
    }
   ],
   "source": [
    "frame[\"language\"]"
   ]
  },
  {
   "cell_type": "code",
   "execution_count": 5,
   "id": "7723e42d-fcc7-4846-88a7-baf2dd98a883",
   "metadata": {},
   "outputs": [
    {
     "data": {
      "text/plain": [
       "pandas.core.series.Series"
      ]
     },
     "execution_count": 5,
     "metadata": {},
     "output_type": "execute_result"
    }
   ],
   "source": [
    "# 查看列的类型\n",
    "type(frame[\"language\"])"
   ]
  },
  {
   "cell_type": "code",
   "execution_count": 6,
   "id": "09f6a458-1209-45e3-a9c7-9c16b28a51ae",
   "metadata": {},
   "outputs": [
    {
     "data": {
      "text/plain": [
       "language    object\n",
       "projects     int64\n",
       "members      int64\n",
       "dtype: object"
      ]
     },
     "execution_count": 6,
     "metadata": {},
     "output_type": "execute_result"
    }
   ],
   "source": [
    "# 查看类型\n",
    "frame.dtypes"
   ]
  },
  {
   "cell_type": "markdown",
   "id": "d4671f3d-6982-45c3-8dc0-3834b3eed255",
   "metadata": {},
   "source": [
    "#### 1.2 自定义索引"
   ]
  },
  {
   "cell_type": "code",
   "execution_count": 7,
   "id": "ca4e76e3-9f07-4af3-b8ee-a1b6378a88f3",
   "metadata": {},
   "outputs": [
    {
     "data": {
      "text/html": [
       "<div>\n",
       "<style scoped>\n",
       "    .dataframe tbody tr th:only-of-type {\n",
       "        vertical-align: middle;\n",
       "    }\n",
       "\n",
       "    .dataframe tbody tr th {\n",
       "        vertical-align: top;\n",
       "    }\n",
       "\n",
       "    .dataframe thead th {\n",
       "        text-align: right;\n",
       "    }\n",
       "</style>\n",
       "<table border=\"1\" class=\"dataframe\">\n",
       "  <thead>\n",
       "    <tr style=\"text-align: right;\">\n",
       "      <th></th>\n",
       "      <th>language</th>\n",
       "      <th>projects</th>\n",
       "      <th>members</th>\n",
       "    </tr>\n",
       "  </thead>\n",
       "  <tbody>\n",
       "    <tr>\n",
       "      <th>one</th>\n",
       "      <td>Python</td>\n",
       "      <td>100</td>\n",
       "      <td>10</td>\n",
       "    </tr>\n",
       "    <tr>\n",
       "      <th>two</th>\n",
       "      <td>Golang</td>\n",
       "      <td>60</td>\n",
       "      <td>3</td>\n",
       "    </tr>\n",
       "    <tr>\n",
       "      <th>three</th>\n",
       "      <td>JavaScript</td>\n",
       "      <td>40</td>\n",
       "      <td>6</td>\n",
       "    </tr>\n",
       "    <tr>\n",
       "      <th>four</th>\n",
       "      <td>Java</td>\n",
       "      <td>20</td>\n",
       "      <td>5</td>\n",
       "    </tr>\n",
       "  </tbody>\n",
       "</table>\n",
       "</div>"
      ],
      "text/plain": [
       "         language  projects  members\n",
       "one        Python       100       10\n",
       "two        Golang        60        3\n",
       "three  JavaScript        40        6\n",
       "four         Java        20        5"
      ]
     },
     "execution_count": 7,
     "metadata": {},
     "output_type": "execute_result"
    }
   ],
   "source": [
    "frame2 = pd.DataFrame(data, index=[\"one\", \"two\", \"three\", \"four\"])\n",
    "frame2"
   ]
  },
  {
   "cell_type": "code",
   "execution_count": 8,
   "id": "60678d5b-1d7e-44d3-bc1a-2f7fcfb4beb8",
   "metadata": {},
   "outputs": [
    {
     "data": {
      "text/plain": [
       "one          Python\n",
       "two          Golang\n",
       "three    JavaScript\n",
       "four           Java\n",
       "Name: language, dtype: object"
      ]
     },
     "execution_count": 8,
     "metadata": {},
     "output_type": "execute_result"
    }
   ],
   "source": [
    "frame2[\"language\"]"
   ]
  },
  {
   "cell_type": "markdown",
   "id": "3d037c2f-75f6-4a14-8e82-62d48dc37e0e",
   "metadata": {},
   "source": [
    "#### 1.3 添加列"
   ]
  },
  {
   "cell_type": "code",
   "execution_count": 9,
   "id": "de202d65-b2f3-43a2-a3b6-cdbb81dc95fe",
   "metadata": {},
   "outputs": [
    {
     "data": {
      "text/html": [
       "<div>\n",
       "<style scoped>\n",
       "    .dataframe tbody tr th:only-of-type {\n",
       "        vertical-align: middle;\n",
       "    }\n",
       "\n",
       "    .dataframe tbody tr th {\n",
       "        vertical-align: top;\n",
       "    }\n",
       "\n",
       "    .dataframe thead th {\n",
       "        text-align: right;\n",
       "    }\n",
       "</style>\n",
       "<table border=\"1\" class=\"dataframe\">\n",
       "  <thead>\n",
       "    <tr style=\"text-align: right;\">\n",
       "      <th></th>\n",
       "      <th>language</th>\n",
       "      <th>projects</th>\n",
       "      <th>members</th>\n",
       "      <th>star</th>\n",
       "    </tr>\n",
       "  </thead>\n",
       "  <tbody>\n",
       "    <tr>\n",
       "      <th>one</th>\n",
       "      <td>Python</td>\n",
       "      <td>100</td>\n",
       "      <td>10</td>\n",
       "      <td>9.9</td>\n",
       "    </tr>\n",
       "    <tr>\n",
       "      <th>two</th>\n",
       "      <td>Golang</td>\n",
       "      <td>60</td>\n",
       "      <td>3</td>\n",
       "      <td>9.9</td>\n",
       "    </tr>\n",
       "    <tr>\n",
       "      <th>three</th>\n",
       "      <td>JavaScript</td>\n",
       "      <td>40</td>\n",
       "      <td>6</td>\n",
       "      <td>9.9</td>\n",
       "    </tr>\n",
       "    <tr>\n",
       "      <th>four</th>\n",
       "      <td>Java</td>\n",
       "      <td>20</td>\n",
       "      <td>5</td>\n",
       "      <td>9.9</td>\n",
       "    </tr>\n",
       "  </tbody>\n",
       "</table>\n",
       "</div>"
      ],
      "text/plain": [
       "         language  projects  members  star\n",
       "one        Python       100       10   9.9\n",
       "two        Golang        60        3   9.9\n",
       "three  JavaScript        40        6   9.9\n",
       "four         Java        20        5   9.9"
      ]
     },
     "execution_count": 9,
     "metadata": {},
     "output_type": "execute_result"
    }
   ],
   "source": [
    "frame2[\"star\"] = 9.9\n",
    "frame2"
   ]
  },
  {
   "cell_type": "markdown",
   "id": "f4209aad-6c61-4f84-baa5-26760b31d5eb",
   "metadata": {},
   "source": [
    "#### 1.4 删除列"
   ]
  },
  {
   "cell_type": "code",
   "execution_count": 10,
   "id": "25e60fc7-411e-499b-a923-9fb5a69ad2c6",
   "metadata": {},
   "outputs": [],
   "source": [
    "del frame2[\"star\"]"
   ]
  },
  {
   "cell_type": "code",
   "execution_count": 11,
   "id": "0742df4d-53fb-4c89-8da9-c31c7ea9e50f",
   "metadata": {},
   "outputs": [
    {
     "data": {
      "text/html": [
       "<div>\n",
       "<style scoped>\n",
       "    .dataframe tbody tr th:only-of-type {\n",
       "        vertical-align: middle;\n",
       "    }\n",
       "\n",
       "    .dataframe tbody tr th {\n",
       "        vertical-align: top;\n",
       "    }\n",
       "\n",
       "    .dataframe thead th {\n",
       "        text-align: right;\n",
       "    }\n",
       "</style>\n",
       "<table border=\"1\" class=\"dataframe\">\n",
       "  <thead>\n",
       "    <tr style=\"text-align: right;\">\n",
       "      <th></th>\n",
       "      <th>language</th>\n",
       "      <th>projects</th>\n",
       "      <th>members</th>\n",
       "    </tr>\n",
       "  </thead>\n",
       "  <tbody>\n",
       "    <tr>\n",
       "      <th>one</th>\n",
       "      <td>Python</td>\n",
       "      <td>100</td>\n",
       "      <td>10</td>\n",
       "    </tr>\n",
       "    <tr>\n",
       "      <th>two</th>\n",
       "      <td>Golang</td>\n",
       "      <td>60</td>\n",
       "      <td>3</td>\n",
       "    </tr>\n",
       "    <tr>\n",
       "      <th>three</th>\n",
       "      <td>JavaScript</td>\n",
       "      <td>40</td>\n",
       "      <td>6</td>\n",
       "    </tr>\n",
       "    <tr>\n",
       "      <th>four</th>\n",
       "      <td>Java</td>\n",
       "      <td>20</td>\n",
       "      <td>5</td>\n",
       "    </tr>\n",
       "  </tbody>\n",
       "</table>\n",
       "</div>"
      ],
      "text/plain": [
       "         language  projects  members\n",
       "one        Python       100       10\n",
       "two        Golang        60        3\n",
       "three  JavaScript        40        6\n",
       "four         Java        20        5"
      ]
     },
     "execution_count": 11,
     "metadata": {},
     "output_type": "execute_result"
    }
   ],
   "source": [
    "frame2"
   ]
  },
  {
   "cell_type": "markdown",
   "id": "d35aea75-a2d3-4426-b2fb-826a0c658bef",
   "metadata": {},
   "source": [
    "### 2. 查看hader和头部 "
   ]
  },
  {
   "cell_type": "code",
   "execution_count": 12,
   "id": "c501e5e9-4c20-4efd-acc5-10542e487937",
   "metadata": {},
   "outputs": [],
   "source": [
    "data2 = {\n",
    "    \"Python\": np.arange(1, 20, 2),\n",
    "    \"Golang\": np.arange(20, 40, 2),\n",
    "    \"Java\": np.arange(40, 60, 2)\n",
    "}\n",
    "frame3 = pd.DataFrame(data2)"
   ]
  },
  {
   "cell_type": "code",
   "execution_count": 13,
   "id": "b9d13d06-207a-4b88-85ee-fa4256ecb869",
   "metadata": {},
   "outputs": [
    {
     "data": {
      "text/html": [
       "<div>\n",
       "<style scoped>\n",
       "    .dataframe tbody tr th:only-of-type {\n",
       "        vertical-align: middle;\n",
       "    }\n",
       "\n",
       "    .dataframe tbody tr th {\n",
       "        vertical-align: top;\n",
       "    }\n",
       "\n",
       "    .dataframe thead th {\n",
       "        text-align: right;\n",
       "    }\n",
       "</style>\n",
       "<table border=\"1\" class=\"dataframe\">\n",
       "  <thead>\n",
       "    <tr style=\"text-align: right;\">\n",
       "      <th></th>\n",
       "      <th>Python</th>\n",
       "      <th>Golang</th>\n",
       "      <th>Java</th>\n",
       "    </tr>\n",
       "  </thead>\n",
       "  <tbody>\n",
       "    <tr>\n",
       "      <th>0</th>\n",
       "      <td>1</td>\n",
       "      <td>20</td>\n",
       "      <td>40</td>\n",
       "    </tr>\n",
       "    <tr>\n",
       "      <th>1</th>\n",
       "      <td>3</td>\n",
       "      <td>22</td>\n",
       "      <td>42</td>\n",
       "    </tr>\n",
       "    <tr>\n",
       "      <th>2</th>\n",
       "      <td>5</td>\n",
       "      <td>24</td>\n",
       "      <td>44</td>\n",
       "    </tr>\n",
       "    <tr>\n",
       "      <th>3</th>\n",
       "      <td>7</td>\n",
       "      <td>26</td>\n",
       "      <td>46</td>\n",
       "    </tr>\n",
       "    <tr>\n",
       "      <th>4</th>\n",
       "      <td>9</td>\n",
       "      <td>28</td>\n",
       "      <td>48</td>\n",
       "    </tr>\n",
       "  </tbody>\n",
       "</table>\n",
       "</div>"
      ],
      "text/plain": [
       "   Python  Golang  Java\n",
       "0       1      20    40\n",
       "1       3      22    42\n",
       "2       5      24    44\n",
       "3       7      26    46\n",
       "4       9      28    48"
      ]
     },
     "execution_count": 13,
     "metadata": {},
     "output_type": "execute_result"
    }
   ],
   "source": [
    "# 查看头部数据\n",
    "frame3.head()"
   ]
  },
  {
   "cell_type": "code",
   "execution_count": 14,
   "id": "af491e5e-5055-4fbf-bb78-47ea5ba7a00f",
   "metadata": {},
   "outputs": [
    {
     "data": {
      "text/html": [
       "<div>\n",
       "<style scoped>\n",
       "    .dataframe tbody tr th:only-of-type {\n",
       "        vertical-align: middle;\n",
       "    }\n",
       "\n",
       "    .dataframe tbody tr th {\n",
       "        vertical-align: top;\n",
       "    }\n",
       "\n",
       "    .dataframe thead th {\n",
       "        text-align: right;\n",
       "    }\n",
       "</style>\n",
       "<table border=\"1\" class=\"dataframe\">\n",
       "  <thead>\n",
       "    <tr style=\"text-align: right;\">\n",
       "      <th></th>\n",
       "      <th>Python</th>\n",
       "      <th>Golang</th>\n",
       "      <th>Java</th>\n",
       "    </tr>\n",
       "  </thead>\n",
       "  <tbody>\n",
       "    <tr>\n",
       "      <th>5</th>\n",
       "      <td>11</td>\n",
       "      <td>30</td>\n",
       "      <td>50</td>\n",
       "    </tr>\n",
       "    <tr>\n",
       "      <th>6</th>\n",
       "      <td>13</td>\n",
       "      <td>32</td>\n",
       "      <td>52</td>\n",
       "    </tr>\n",
       "    <tr>\n",
       "      <th>7</th>\n",
       "      <td>15</td>\n",
       "      <td>34</td>\n",
       "      <td>54</td>\n",
       "    </tr>\n",
       "    <tr>\n",
       "      <th>8</th>\n",
       "      <td>17</td>\n",
       "      <td>36</td>\n",
       "      <td>56</td>\n",
       "    </tr>\n",
       "    <tr>\n",
       "      <th>9</th>\n",
       "      <td>19</td>\n",
       "      <td>38</td>\n",
       "      <td>58</td>\n",
       "    </tr>\n",
       "  </tbody>\n",
       "</table>\n",
       "</div>"
      ],
      "text/plain": [
       "   Python  Golang  Java\n",
       "5      11      30    50\n",
       "6      13      32    52\n",
       "7      15      34    54\n",
       "8      17      36    56\n",
       "9      19      38    58"
      ]
     },
     "execution_count": 14,
     "metadata": {},
     "output_type": "execute_result"
    }
   ],
   "source": [
    "# 查看尾部\n",
    "frame3.tail()"
   ]
  },
  {
   "cell_type": "code",
   "execution_count": 15,
   "id": "bf1c587e-2a02-4880-8117-e37b28e2618a",
   "metadata": {},
   "outputs": [
    {
     "data": {
      "text/plain": [
       "Python    10.0\n",
       "Golang    29.0\n",
       "Java      49.0\n",
       "dtype: float64"
      ]
     },
     "execution_count": 15,
     "metadata": {},
     "output_type": "execute_result"
    }
   ],
   "source": [
    "# 查看平均值\n",
    "frame3.mean()"
   ]
  },
  {
   "cell_type": "code",
   "execution_count": null,
   "id": "de5b1ab0-fe29-4302-99f5-a637946983ea",
   "metadata": {},
   "outputs": [],
   "source": []
  }
 ],
 "metadata": {
  "kernelspec": {
   "display_name": "Python 3 (ipykernel)",
   "language": "python",
   "name": "python3"
  },
  "language_info": {
   "codemirror_mode": {
    "name": "ipython",
    "version": 3
   },
   "file_extension": ".py",
   "mimetype": "text/x-python",
   "name": "python",
   "nbconvert_exporter": "python",
   "pygments_lexer": "ipython3",
   "version": "3.11.5"
  }
 },
 "nbformat": 4,
 "nbformat_minor": 5
}
