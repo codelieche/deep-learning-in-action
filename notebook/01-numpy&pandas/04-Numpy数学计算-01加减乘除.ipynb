{
 "cells": [
  {
   "cell_type": "markdown",
   "id": "41323fc9-29a8-43c9-96e4-d1a9e2c6910b",
   "metadata": {},
   "source": [
    "## NumPy数组算术"
   ]
  },
  {
   "cell_type": "code",
   "execution_count": 1,
   "id": "2f97c97f-2ad8-4718-b1a3-f5a70de18b7b",
   "metadata": {},
   "outputs": [],
   "source": [
    "import numpy as np"
   ]
  },
  {
   "cell_type": "markdown",
   "id": "eafb339b-35c3-41d4-9421-8bc04281a7ac",
   "metadata": {},
   "source": [
    "### 1. 准备2个数组"
   ]
  },
  {
   "cell_type": "code",
   "execution_count": 2,
   "id": "c50f973e-2315-412d-ac5d-1e718e3c9bc7",
   "metadata": {},
   "outputs": [],
   "source": [
    "arr1 = np.array([\n",
    "    [1.0, 2.0],\n",
    "    [3.0, 4.0],\n",
    "])\n",
    "\n",
    "arr2 = np.array([\n",
    "    [1.5, 2.0],\n",
    "    [2.0, 4.0],\n",
    "])"
   ]
  },
  {
   "cell_type": "code",
   "execution_count": 3,
   "id": "25961148-7b72-4966-aa72-292629e24c68",
   "metadata": {},
   "outputs": [
    {
     "data": {
      "text/plain": [
       "array([[1., 2.],\n",
       "       [3., 4.]])"
      ]
     },
     "execution_count": 3,
     "metadata": {},
     "output_type": "execute_result"
    }
   ],
   "source": [
    "arr1"
   ]
  },
  {
   "cell_type": "code",
   "execution_count": 4,
   "id": "f31e56ba-de98-43cc-a5b0-b3a1e46f6b4f",
   "metadata": {},
   "outputs": [
    {
     "data": {
      "text/plain": [
       "array([[1.5, 2. ],\n",
       "       [2. , 4. ]])"
      ]
     },
     "execution_count": 4,
     "metadata": {},
     "output_type": "execute_result"
    }
   ],
   "source": [
    "arr2"
   ]
  },
  {
   "cell_type": "markdown",
   "id": "7eccd901-e601-495b-9b80-6c7049b48b91",
   "metadata": {},
   "source": [
    "### 2. 加减乘除"
   ]
  },
  {
   "cell_type": "markdown",
   "id": "f6f0b14d-a039-4a9d-9d4d-7e3a6fe715f1",
   "metadata": {},
   "source": [
    "#### 2.1 加"
   ]
  },
  {
   "cell_type": "code",
   "execution_count": 5,
   "id": "799689df-03a7-48b8-b53e-6b1aa43fa89d",
   "metadata": {},
   "outputs": [
    {
     "data": {
      "text/plain": [
       "array([[2., 3.],\n",
       "       [4., 5.]])"
      ]
     },
     "execution_count": 5,
     "metadata": {},
     "output_type": "execute_result"
    }
   ],
   "source": [
    "# 加法\n",
    "arr1 + 1"
   ]
  },
  {
   "cell_type": "code",
   "execution_count": 6,
   "id": "8d3c2771-d650-4579-ac04-c94fdf9ec158",
   "metadata": {},
   "outputs": [
    {
     "data": {
      "text/plain": [
       "array([[2.5, 4. ],\n",
       "       [5. , 8. ]])"
      ]
     },
     "execution_count": 6,
     "metadata": {},
     "output_type": "execute_result"
    }
   ],
   "source": [
    "arr1 + arr2"
   ]
  },
  {
   "cell_type": "markdown",
   "id": "f170ff7e-1df8-401d-a916-edf371390f6d",
   "metadata": {},
   "source": [
    "#### 2.2 减"
   ]
  },
  {
   "cell_type": "code",
   "execution_count": 7,
   "id": "1b9a733b-fc9d-4e16-816c-77b02389c709",
   "metadata": {},
   "outputs": [
    {
     "data": {
      "text/plain": [
       "array([[-0.5,  0. ],\n",
       "       [ 1. ,  0. ]])"
      ]
     },
     "execution_count": 7,
     "metadata": {},
     "output_type": "execute_result"
    }
   ],
   "source": [
    "arr1 - arr2"
   ]
  },
  {
   "cell_type": "markdown",
   "id": "b0e48dd0-1892-4f56-bf23-3485e30b6131",
   "metadata": {},
   "source": [
    "#### 2.3 乘\n",
    "\n",
    "相乘有`*`操作符是元素级操作，`.dot`方法执行的是矩阵乘法，这2个概念是完全不同的运算。"
   ]
  },
  {
   "cell_type": "code",
   "execution_count": 8,
   "id": "85e70573-6997-4fe4-8188-56fae797539e",
   "metadata": {},
   "outputs": [
    {
     "data": {
      "text/plain": [
       "(array([[1., 2.],\n",
       "        [3., 4.]]),\n",
       " array([[1.5, 2. ],\n",
       "        [2. , 4. ]]))"
      ]
     },
     "execution_count": 8,
     "metadata": {},
     "output_type": "execute_result"
    }
   ],
   "source": [
    "arr1, arr2"
   ]
  },
  {
   "cell_type": "markdown",
   "id": "e04cfa3b-4d7e-4972-b45d-de7a45253367",
   "metadata": {},
   "source": [
    "##### 元素-wise乘法"
   ]
  },
  {
   "cell_type": "code",
   "execution_count": 9,
   "id": "414f6135-1f83-43e9-8399-8796e4753f19",
   "metadata": {},
   "outputs": [
    {
     "data": {
      "text/plain": [
       "array([[ 1.5,  4. ],\n",
       "       [ 6. , 16. ]])"
      ]
     },
     "execution_count": 9,
     "metadata": {},
     "output_type": "execute_result"
    }
   ],
   "source": [
    "arr1 * arr2"
   ]
  },
  {
   "cell_type": "markdown",
   "id": "56eb4efa-4cf0-4f1e-916f-8f1e76880834",
   "metadata": {},
   "source": [
    "##### 矩阵乘法\n",
    "arr1的第`i`行拿出来与`arr2`的第`j`列各元素相乘，然后相加后的和为新的数组`ij`位的元素。\n",
    "\n",
    "比如`01`元素是：`[1.0, 2.0]`与`[2.0, 4.0]`元素相乘后的和`10.0`。"
   ]
  },
  {
   "cell_type": "code",
   "execution_count": 10,
   "id": "a461f92a-0ce8-44c5-bf4d-d764d19b516f",
   "metadata": {},
   "outputs": [
    {
     "data": {
      "text/plain": [
       "array([[ 5.5, 10. ],\n",
       "       [12.5, 22. ]])"
      ]
     },
     "execution_count": 10,
     "metadata": {},
     "output_type": "execute_result"
    }
   ],
   "source": [
    "arr1.dot(arr2)"
   ]
  },
  {
   "cell_type": "markdown",
   "id": "431482a4-4335-4c1a-bf5e-8d71884643b4",
   "metadata": {},
   "source": [
    "#### 2.4 除"
   ]
  },
  {
   "cell_type": "code",
   "execution_count": 11,
   "id": "2d649a8e-6983-41e1-a409-8108e76a55a5",
   "metadata": {},
   "outputs": [
    {
     "data": {
      "text/plain": [
       "array([[1., 2.],\n",
       "       [3., 4.]])"
      ]
     },
     "execution_count": 11,
     "metadata": {},
     "output_type": "execute_result"
    }
   ],
   "source": [
    "arr1"
   ]
  },
  {
   "cell_type": "code",
   "execution_count": 12,
   "id": "5ce26800-1276-4755-9709-0ecd0c24d5e4",
   "metadata": {},
   "outputs": [
    {
     "data": {
      "text/plain": [
       "array([[1.        , 0.5       ],\n",
       "       [0.33333333, 0.25      ]])"
      ]
     },
     "execution_count": 12,
     "metadata": {},
     "output_type": "execute_result"
    }
   ],
   "source": [
    "1.0 / arr1"
   ]
  },
  {
   "cell_type": "code",
   "execution_count": null,
   "id": "3d27eddb-be2f-43e6-89f6-519d41c9535e",
   "metadata": {},
   "outputs": [],
   "source": []
  }
 ],
 "metadata": {
  "kernelspec": {
   "display_name": "Python 3 (ipykernel)",
   "language": "python",
   "name": "python3"
  },
  "language_info": {
   "codemirror_mode": {
    "name": "ipython",
    "version": 3
   },
   "file_extension": ".py",
   "mimetype": "text/x-python",
   "name": "python",
   "nbconvert_exporter": "python",
   "pygments_lexer": "ipython3",
   "version": "3.11.5"
  }
 },
 "nbformat": 4,
 "nbformat_minor": 5
}
