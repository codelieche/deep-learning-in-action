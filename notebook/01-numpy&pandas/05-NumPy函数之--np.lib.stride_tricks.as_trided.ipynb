{
 "cells": [
  {
   "cell_type": "markdown",
   "id": "8b4d4421-af68-4d57-bd3f-8638c0e410ac",
   "metadata": {},
   "source": [
    "## np.lib.stride_tricks.as_strided"
   ]
  },
  {
   "cell_type": "code",
   "execution_count": 1,
   "id": "613b4398-6112-4b2a-8957-25667ff16204",
   "metadata": {},
   "outputs": [],
   "source": [
    "import numpy as np"
   ]
  },
  {
   "cell_type": "code",
   "execution_count": 2,
   "id": "31b6a642-5d7b-48ed-a38c-bb0fd1b03b56",
   "metadata": {},
   "outputs": [
    {
     "data": {
      "text/plain": [
       "array([ 1,  2,  3,  4,  5,  6,  7,  8,  9, 10, 11, 12, 13, 14, 15, 16],\n",
       "      dtype=int32)"
      ]
     },
     "execution_count": 2,
     "metadata": {},
     "output_type": "execute_result"
    }
   ],
   "source": [
    "arr = np.array(range(1, 17), dtype=np.int32)\n",
    "arr"
   ]
  },
  {
   "cell_type": "code",
   "execution_count": 3,
   "id": "8e922a8b-b20c-4e99-9a18-e913b9d13b9f",
   "metadata": {},
   "outputs": [
    {
     "data": {
      "text/plain": [
       "(4,)"
      ]
     },
     "execution_count": 3,
     "metadata": {},
     "output_type": "execute_result"
    }
   ],
   "source": [
    "arr.strides"
   ]
  },
  {
   "cell_type": "code",
   "execution_count": 4,
   "id": "be336ae5-443c-4dee-82d9-1be56216f6b2",
   "metadata": {},
   "outputs": [
    {
     "data": {
      "text/plain": [
       "array([[ 1,  2,  3,  4,  5,  6,  7,  8],\n",
       "       [ 9, 10, 11, 12, 13, 14, 15, 16]], dtype=int32)"
      ]
     },
     "execution_count": 4,
     "metadata": {},
     "output_type": "execute_result"
    }
   ],
   "source": [
    "arr1 = np.lib.stride_tricks.as_strided(arr, shape=(2, 8))\n",
    "arr1"
   ]
  },
  {
   "cell_type": "code",
   "execution_count": 5,
   "id": "998e91a3-5f62-4809-937b-bd1363209706",
   "metadata": {},
   "outputs": [
    {
     "data": {
      "text/plain": [
       "(32, 4)"
      ]
     },
     "execution_count": 5,
     "metadata": {},
     "output_type": "execute_result"
    }
   ],
   "source": [
    "arr1.strides"
   ]
  },
  {
   "cell_type": "code",
   "execution_count": 6,
   "id": "46438ef8-d078-441e-b929-e1843b63ab61",
   "metadata": {},
   "outputs": [
    {
     "data": {
      "text/plain": [
       "array([[ 1,  2,  3,  4,  5,  6,  7,  8],\n",
       "       [ 2,  3,  4,  5,  6,  7,  8,  9],\n",
       "       [ 3,  4,  5,  6,  7,  8,  9, 10]], dtype=int32)"
      ]
     },
     "execution_count": 6,
     "metadata": {},
     "output_type": "execute_result"
    }
   ],
   "source": [
    "arr2 = np.lib.stride_tricks.as_strided(arr, shape=(3, 8), strides=(4, 4))\n",
    "arr2"
   ]
  },
  {
   "cell_type": "code",
   "execution_count": 7,
   "id": "2b413076-cb04-495d-9bed-d759b16f3525",
   "metadata": {},
   "outputs": [
    {
     "data": {
      "text/plain": [
       "(4, 4)"
      ]
     },
     "execution_count": 7,
     "metadata": {},
     "output_type": "execute_result"
    }
   ],
   "source": [
    "arr2.strides"
   ]
  },
  {
   "cell_type": "code",
   "execution_count": 8,
   "id": "b7adf143-4a2f-447d-91af-bb19790ebe58",
   "metadata": {},
   "outputs": [
    {
     "data": {
      "text/plain": [
       "array([[ 1,  2,  3],\n",
       "       [ 2,  3,  4],\n",
       "       [ 3,  4,  5],\n",
       "       [ 4,  5,  6],\n",
       "       [ 5,  6,  7],\n",
       "       [ 6,  7,  8],\n",
       "       [ 7,  8,  9],\n",
       "       [ 8,  9, 10]], dtype=int32)"
      ]
     },
     "execution_count": 8,
     "metadata": {},
     "output_type": "execute_result"
    }
   ],
   "source": [
    "np.moveaxis(arr2, -1, -2)"
   ]
  },
  {
   "cell_type": "code",
   "execution_count": 9,
   "id": "218b5cbe-c1e8-4296-b32c-6c8521785484",
   "metadata": {},
   "outputs": [
    {
     "data": {
      "text/plain": [
       "array([ 1,  2,  3,  4,  5,  6,  7,  8,  9, 10, 11, 12, 13, 14, 15, 16],\n",
       "      dtype=int32)"
      ]
     },
     "execution_count": 9,
     "metadata": {},
     "output_type": "execute_result"
    }
   ],
   "source": [
    "arr"
   ]
  },
  {
   "cell_type": "code",
   "execution_count": 10,
   "id": "47b2b92a-5781-449d-8266-71ed7c56a130",
   "metadata": {},
   "outputs": [],
   "source": [
    "s = slice(0, None, 2)"
   ]
  },
  {
   "cell_type": "code",
   "execution_count": 11,
   "id": "899d83bb-d2f2-4c42-b4e9-f9708b5130c4",
   "metadata": {},
   "outputs": [
    {
     "data": {
      "text/plain": [
       "array([ 1,  3,  5,  7,  9, 11, 13, 15], dtype=int32)"
      ]
     },
     "execution_count": 11,
     "metadata": {},
     "output_type": "execute_result"
    }
   ],
   "source": [
    "arr[s]"
   ]
  },
  {
   "cell_type": "code",
   "execution_count": 12,
   "id": "ab55afa7-9ee9-4246-ae2c-604b41a9a353",
   "metadata": {},
   "outputs": [
    {
     "data": {
      "text/plain": [
       "(1127531,)"
      ]
     },
     "execution_count": 12,
     "metadata": {},
     "output_type": "execute_result"
    }
   ],
   "source": [
    "xw = np.array(range(1127531))\n",
    "xw.shape"
   ]
  },
  {
   "cell_type": "code",
   "execution_count": 13,
   "id": "c96c6d4a-23cc-4296-8807-f27bb3d384bb",
   "metadata": {},
   "outputs": [
    {
     "data": {
      "text/plain": [
       "(3524,)"
      ]
     },
     "execution_count": 13,
     "metadata": {},
     "output_type": "execute_result"
    }
   ],
   "source": [
    "x = xw[slice(0,None, 320)]\n",
    "x.shape"
   ]
  },
  {
   "cell_type": "code",
   "execution_count": 14,
   "id": "5b64bd5b-16e9-4107-b1fb-c255ebf4ff59",
   "metadata": {},
   "outputs": [
    {
     "data": {
      "text/plain": [
       "array([   0,  320,  640,  960, 1280, 1600, 1920, 2240, 2560, 2880])"
      ]
     },
     "execution_count": 14,
     "metadata": {},
     "output_type": "execute_result"
    }
   ],
   "source": [
    "x[0:10]"
   ]
  },
  {
   "cell_type": "code",
   "execution_count": 15,
   "id": "653e49a8-7346-4de4-95a8-c6b9eb5d9286",
   "metadata": {},
   "outputs": [
    {
     "data": {
      "text/plain": [
       "array([1124480, 1124800, 1125120, 1125440, 1125760, 1126080, 1126400,\n",
       "       1126720, 1127040, 1127360])"
      ]
     },
     "execution_count": 15,
     "metadata": {},
     "output_type": "execute_result"
    }
   ],
   "source": [
    "x[-10:]"
   ]
  },
  {
   "cell_type": "code",
   "execution_count": null,
   "id": "9b9eff4b-d5c5-4c75-8922-0e0055c4d393",
   "metadata": {},
   "outputs": [],
   "source": []
  }
 ],
 "metadata": {
  "kernelspec": {
   "display_name": "Python 3 (ipykernel)",
   "language": "python",
   "name": "python3"
  },
  "language_info": {
   "codemirror_mode": {
    "name": "ipython",
    "version": 3
   },
   "file_extension": ".py",
   "mimetype": "text/x-python",
   "name": "python",
   "nbconvert_exporter": "python",
   "pygments_lexer": "ipython3",
   "version": "3.11.5"
  }
 },
 "nbformat": 4,
 "nbformat_minor": 5
}
