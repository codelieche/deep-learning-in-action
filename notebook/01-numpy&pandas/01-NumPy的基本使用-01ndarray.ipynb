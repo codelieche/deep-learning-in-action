{
 "cells": [
  {
   "cell_type": "markdown",
   "id": "abd78f38-c61e-4a57-b837-11484c0a966a",
   "metadata": {},
   "source": [
    "## NumPy的基本使用--ndarray"
   ]
  },
  {
   "cell_type": "markdown",
   "id": "c1ff418e-b506-48ec-8754-60f95ae856bd",
   "metadata": {},
   "source": [
    "`NumPy`是`Numerical Python`的简写。官网：[http://numpy.org](http://numpy.org)。    \n",
    "`NumPy`是`Python`数值计算的基石。其提供了多种数据结构、算法以及大部分设计`Python`数值计算所需要的接口。"
   ]
  },
  {
   "cell_type": "code",
   "execution_count": 1,
   "id": "5d5fb4e2-aa6d-4598-93cb-bd1358880725",
   "metadata": {},
   "outputs": [],
   "source": [
    "import numpy as np"
   ]
  },
  {
   "cell_type": "markdown",
   "id": "e8959cbd-02f8-45c3-8c65-45f41be30ac1",
   "metadata": {},
   "source": [
    "**ndarray:多维数组对象**\n",
    "\n",
    "N-维数组对象(`ndarray`)是`NumPy`的核心特征之一。"
   ]
  },
  {
   "cell_type": "markdown",
   "id": "b5118f21-cc3d-4079-9fb7-a5c9e3223501",
   "metadata": {},
   "source": [
    "#### 1. 通过`np.array`创建数组"
   ]
  },
  {
   "cell_type": "code",
   "execution_count": 2,
   "id": "fcbc5f01-e5a6-42c0-8dc3-d6c997247a30",
   "metadata": {},
   "outputs": [],
   "source": [
    "data = np.array([\n",
    "    [1.0, 2.0, 3.0],\n",
    "    [4.0, 5.0, 6.0],\n",
    "])"
   ]
  },
  {
   "cell_type": "code",
   "execution_count": 3,
   "id": "2f05cb84-52a7-4353-ba0a-546b257537c1",
   "metadata": {},
   "outputs": [
    {
     "data": {
      "text/plain": [
       "numpy.ndarray"
      ]
     },
     "execution_count": 3,
     "metadata": {},
     "output_type": "execute_result"
    }
   ],
   "source": [
    "type(data)"
   ]
  },
  {
   "cell_type": "code",
   "execution_count": 4,
   "id": "b9b1398e-d6e6-4cfe-af4a-9ce9384459a3",
   "metadata": {},
   "outputs": [],
   "source": [
    "# 查看其属性/方法\n",
    "# dir(data)"
   ]
  },
  {
   "cell_type": "code",
   "execution_count": 5,
   "id": "1e8dabb2-bdfc-4ad8-9071-7013085b62c6",
   "metadata": {},
   "outputs": [
    {
     "data": {
      "text/plain": [
       "2"
      ]
     },
     "execution_count": 5,
     "metadata": {},
     "output_type": "execute_result"
    }
   ],
   "source": [
    "# 查看维度\n",
    "data.ndim"
   ]
  },
  {
   "cell_type": "code",
   "execution_count": 6,
   "id": "2cf002b9-ea07-4bc3-803c-2fcfd25d3027",
   "metadata": {},
   "outputs": [
    {
     "data": {
      "text/plain": [
       "(2, 3)"
      ]
     },
     "execution_count": 6,
     "metadata": {},
     "output_type": "execute_result"
    }
   ],
   "source": [
    "# 查看形状: 2行，3列\n",
    "data.shape"
   ]
  },
  {
   "cell_type": "code",
   "execution_count": 7,
   "id": "a8b0c345-48db-481a-a94b-cf64c9809305",
   "metadata": {},
   "outputs": [
    {
     "data": {
      "text/plain": [
       "dtype('float64')"
      ]
     },
     "execution_count": 7,
     "metadata": {},
     "output_type": "execute_result"
    }
   ],
   "source": [
    "# 查看数据的类型\n",
    "data.dtype"
   ]
  },
  {
   "cell_type": "markdown",
   "id": "88fa2e8e-e30f-4ef8-9db5-8469fd0ac939",
   "metadata": {},
   "source": [
    "#### 2. 随机生成N维度数组"
   ]
  },
  {
   "cell_type": "code",
   "execution_count": 8,
   "id": "4b7180cf-9f5f-40d1-8207-4af6e86473b0",
   "metadata": {},
   "outputs": [],
   "source": [
    "data = np.random.rand(3, 4, 5)"
   ]
  },
  {
   "cell_type": "code",
   "execution_count": 9,
   "id": "d45eece5-bdbf-4fe8-88ed-c2e5944ab792",
   "metadata": {},
   "outputs": [],
   "source": [
    "# data"
   ]
  },
  {
   "cell_type": "code",
   "execution_count": 10,
   "id": "b99e0ab3-59bb-45c6-bba9-fac2a7fed8bc",
   "metadata": {},
   "outputs": [
    {
     "name": "stdout",
     "output_type": "stream",
     "text": [
      "data.ndim =  3\n",
      "data.shape =  (3, 4, 5)\n",
      "data.dtype =  float64\n"
     ]
    }
   ],
   "source": [
    "# 查看维度、数据形状、数据类型\n",
    "print(\"data.ndim = \", data.ndim)\n",
    "print(\"data.shape = \", data.shape)\n",
    "print(\"data.dtype = \", data.dtype)"
   ]
  },
  {
   "cell_type": "markdown",
   "id": "f6aa7ee7-7913-4de2-a758-6efb32969906",
   "metadata": {},
   "source": [
    "#### 3. NumPy数据类型\n",
    "\n",
    " 类型 | 类型代码   | 描述\n",
    " --- | --- | ---\n",
    " int8, unit8 | i1, u1 | 有符号、无符号的8位整数\n",
    " int16,uint16 | i2, u2 | 有符号、无符号的16位整数\n",
    " int32,uint32 | i4, u4 | 有符号、无符号的32位整数\n",
    " int64,uint64 | i8, u8 | 有符号、无符号的64位整数\n",
    " float16 | f2 | 16位(半精度)浮点数\n",
    " float32 | f4/f | 32位浮点数，标准的单精度浮点数，兼容C语言的float\n",
    " float64 | f8/d | 64位，标准双精度浮点数，兼容C语言的double或Python float\n",
    " float128 | f16/g | 拓展精度浮点数\n",
    " complex64,complex128, complex256 | c8,c16,c32 | 分别是32位、64位、128位、256位浮点数的复数\n",
    " bool | ? | 布尔值，存储True或False\n",
    " object | 0 | object类型\n",
    " string_ | S | 修正的`ASC II`字符类型，例如：`S10`，`S20`(后面的数字是字符长度)\n",
    " unicode_ | U | 修正的`Unicode`类型，例如：`U10`, `U20`(后面的数字是字符长度)"
   ]
  },
  {
   "cell_type": "code",
   "execution_count": 11,
   "id": "526e2bfa-923f-4c6d-949c-2e02c8e2715f",
   "metadata": {},
   "outputs": [],
   "source": [
    "def ndarray_info(data):\n",
    "    # 查看维度、数据形状、数据类型\n",
    "    print(\"data.ndim = \", data.ndim)\n",
    "    print(\"data.shape = \", data.shape)\n",
    "    print(\"data.dtype = \", data.dtype)"
   ]
  },
  {
   "cell_type": "code",
   "execution_count": 12,
   "id": "697089d5-b303-4608-8813-85b5b61b19ba",
   "metadata": {},
   "outputs": [
    {
     "name": "stdout",
     "output_type": "stream",
     "text": [
      "data.ndim =  1\n",
      "data.shape =  (5,)\n",
      "data.dtype =  int64\n"
     ]
    }
   ],
   "source": [
    "arr = np.array([2, 4, 6, 8, 10])\n",
    "ndarray_info(arr)"
   ]
  },
  {
   "cell_type": "code",
   "execution_count": 13,
   "id": "6d098e9f-8f9a-4761-bde0-85639b63c4cc",
   "metadata": {},
   "outputs": [
    {
     "name": "stdout",
     "output_type": "stream",
     "text": [
      "data.ndim =  2\n",
      "data.shape =  (2, 3)\n",
      "data.dtype =  |S10\n"
     ]
    }
   ],
   "source": [
    "arr = np.array([\n",
    "    [\"zhangsan\", \"lisi\", \"wangwu\"],\n",
    "    [\"Python\", \"JavaScript\", \"Golang\"]\n",
    "], dtype=\"S10\")\n",
    "ndarray_info(arr)"
   ]
  },
  {
   "cell_type": "code",
   "execution_count": 14,
   "id": "59e24efc-6847-41c3-b295-16155ee0c2aa",
   "metadata": {},
   "outputs": [
    {
     "name": "stdout",
     "output_type": "stream",
     "text": [
      "data.ndim =  2\n",
      "data.shape =  (2, 3)\n",
      "data.dtype =  <U10\n"
     ]
    }
   ],
   "source": [
    "# 如果是Unicode的字符，请使用Uxx\n",
    "arr = np.array([\n",
    "    [\"张山\", \"李四\", \"王五\"],\n",
    "    [\"Python\", \"JavaScript\", \"Golang\"]\n",
    "], dtype=\"U10\")\n",
    "ndarray_info(arr)"
   ]
  },
  {
   "cell_type": "markdown",
   "id": "67f3b936-89aa-43fe-8112-e0ce1c50dc8c",
   "metadata": {},
   "source": [
    "### 5. astype转换类型"
   ]
  },
  {
   "cell_type": "code",
   "execution_count": 15,
   "id": "83aa2f6e-9d2a-490f-a8a3-adfbc5ffcb61",
   "metadata": {},
   "outputs": [
    {
     "name": "stdout",
     "output_type": "stream",
     "text": [
      "data.ndim =  2\n",
      "data.shape =  (2, 3)\n",
      "data.dtype =  float64\n"
     ]
    }
   ],
   "source": [
    "arr = np.array([\n",
    "    [1.1, 2.2, 3.3],\n",
    "    [4.0, 5.5, 6.6],\n",
    "])\n",
    "ndarray_info(arr)"
   ]
  },
  {
   "cell_type": "code",
   "execution_count": 16,
   "id": "13db6570-0442-41c4-a5b8-50f2e9230324",
   "metadata": {},
   "outputs": [
    {
     "data": {
      "text/plain": [
       "array([[1, 2, 3],\n",
       "       [4, 5, 6]], dtype=int32)"
      ]
     },
     "execution_count": 16,
     "metadata": {},
     "output_type": "execute_result"
    }
   ],
   "source": [
    "arr2 = arr.astype(np.int32)\n",
    "arr2"
   ]
  },
  {
   "cell_type": "code",
   "execution_count": 17,
   "id": "1e01744c-53d1-4b16-86c2-7e90ecf67aff",
   "metadata": {},
   "outputs": [
    {
     "name": "stdout",
     "output_type": "stream",
     "text": [
      "data.ndim =  2\n",
      "data.shape =  (2, 3)\n",
      "data.dtype =  int32\n"
     ]
    }
   ],
   "source": [
    "ndarray_info(arr2)"
   ]
  },
  {
   "cell_type": "code",
   "execution_count": 18,
   "id": "ca7114ab-dc5b-48fc-91bb-7e6fb7a0da1a",
   "metadata": {},
   "outputs": [
    {
     "data": {
      "text/plain": [
       "array([[1.1, 2.2, 3.3],\n",
       "       [4. , 5.5, 6.6]])"
      ]
     },
     "execution_count": 18,
     "metadata": {},
     "output_type": "execute_result"
    }
   ],
   "source": [
    "# 查看arr是否变更\n",
    "arr"
   ]
  },
  {
   "cell_type": "code",
   "execution_count": 19,
   "id": "3795ca9d-15f8-40b6-858d-1074b7bdc2d2",
   "metadata": {},
   "outputs": [
    {
     "name": "stdout",
     "output_type": "stream",
     "text": [
      "data.ndim =  2\n",
      "data.shape =  (2, 3)\n",
      "data.dtype =  float64\n"
     ]
    }
   ],
   "source": [
    "ndarray_info(arr)"
   ]
  },
  {
   "cell_type": "code",
   "execution_count": null,
   "id": "5dbd65b2-3719-426d-8d82-144dc26e497c",
   "metadata": {},
   "outputs": [],
   "source": []
  }
 ],
 "metadata": {
  "kernelspec": {
   "display_name": "Python 3 (ipykernel)",
   "language": "python",
   "name": "python3"
  },
  "language_info": {
   "codemirror_mode": {
    "name": "ipython",
    "version": 3
   },
   "file_extension": ".py",
   "mimetype": "text/x-python",
   "name": "python",
   "nbconvert_exporter": "python",
   "pygments_lexer": "ipython3",
   "version": "3.11.5"
  }
 },
 "nbformat": 4,
 "nbformat_minor": 5
}
