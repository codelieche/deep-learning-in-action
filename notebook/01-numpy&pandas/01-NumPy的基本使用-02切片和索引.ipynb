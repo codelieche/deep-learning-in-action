{
 "cells": [
  {
   "cell_type": "markdown",
   "id": "bac66c70-e9f5-4cbd-abbc-1cd68b870a54",
   "metadata": {},
   "source": [
    "## NumPy基本使用--切片和索引"
   ]
  },
  {
   "cell_type": "code",
   "execution_count": 1,
   "id": "e1a49956-9a1b-4171-8fb0-6543d9fbbc3d",
   "metadata": {},
   "outputs": [],
   "source": [
    "import numpy as np\n",
    "\n",
    "# 禁止科学技术方式输出\n",
    "np.set_printoptions(suppress=True)"
   ]
  },
  {
   "cell_type": "markdown",
   "id": "129c5f44-925e-495e-b657-5624d3288d07",
   "metadata": {},
   "source": [
    "### 1. 切片"
   ]
  },
  {
   "cell_type": "code",
   "execution_count": 2,
   "id": "ad4b0a64-dad3-4ac6-8c72-6161f452ba11",
   "metadata": {},
   "outputs": [
    {
     "data": {
      "text/plain": [
       "array([ 1,  3,  5,  7,  9, 11, 13, 15, 17, 19])"
      ]
     },
     "execution_count": 2,
     "metadata": {},
     "output_type": "execute_result"
    }
   ],
   "source": [
    "arr = np.arange(1, 20, 2)\n",
    "arr"
   ]
  },
  {
   "cell_type": "code",
   "execution_count": 3,
   "id": "266a8ac1-c3cf-453a-9fa6-af687e57a606",
   "metadata": {},
   "outputs": [
    {
     "data": {
      "text/plain": [
       "5"
      ]
     },
     "execution_count": 3,
     "metadata": {},
     "output_type": "execute_result"
    }
   ],
   "source": [
    "# 获取第3个元素\n",
    "arr[2]"
   ]
  },
  {
   "cell_type": "code",
   "execution_count": 4,
   "id": "48fd9f5c-8934-4e09-9f18-7bc81ab614de",
   "metadata": {},
   "outputs": [
    {
     "data": {
      "text/plain": [
       "array([1, 3, 5, 7, 9])"
      ]
     },
     "execution_count": 4,
     "metadata": {},
     "output_type": "execute_result"
    }
   ],
   "source": [
    "# 获取前面5个元素\n",
    "arr[:5]"
   ]
  },
  {
   "cell_type": "code",
   "execution_count": 5,
   "id": "d533cecd-d9f6-4c58-8c45-4e9a8e3621b8",
   "metadata": {},
   "outputs": [
    {
     "data": {
      "text/plain": [
       "array([15, 17, 19])"
      ]
     },
     "execution_count": 5,
     "metadata": {},
     "output_type": "execute_result"
    }
   ],
   "source": [
    "# 获取后面3个元素\n",
    "arr[-3:]"
   ]
  },
  {
   "cell_type": "code",
   "execution_count": 6,
   "id": "b90748bc-603f-4333-8a8c-cf33fdf05d3e",
   "metadata": {},
   "outputs": [
    {
     "data": {
      "text/plain": [
       "array([ 1,  3,  5,  7,  9, 11, 13, 15, 17, 19])"
      ]
     },
     "execution_count": 6,
     "metadata": {},
     "output_type": "execute_result"
    }
   ],
   "source": [
    "# 获取全部元素\n",
    "arr[:]"
   ]
  },
  {
   "cell_type": "code",
   "execution_count": 7,
   "id": "e22c4983-97ae-4e30-bc3b-45aa9a07486b",
   "metadata": {},
   "outputs": [
    {
     "data": {
      "text/plain": [
       "array([ 1,  5,  9, 13, 17])"
      ]
     },
     "execution_count": 7,
     "metadata": {},
     "output_type": "execute_result"
    }
   ],
   "source": [
    "# 获取元素，格2个取一个\n",
    "arr[::2]"
   ]
  },
  {
   "cell_type": "markdown",
   "id": "5bc48da6-487a-427c-bfc1-4e0645b95955",
   "metadata": {},
   "source": [
    "### 2. 索引元素\n",
    "\n",
    "为了让0.1,0.11， 1000一起答应输出的时候，不要以科学计数法展示，可以设置`NumPy`的打印选项。\n",
    "\n",
    "```python\n",
    "np.set_printoptions(suppress=True)\n",
    "```"
   ]
  },
  {
   "cell_type": "code",
   "execution_count": 8,
   "id": "0d7ee5be-3051-4c25-8d11-f4c9a09dd781",
   "metadata": {},
   "outputs": [],
   "source": [
    "arr = np.array([\n",
    "    [\n",
    "        [0.1, 0.2, 0.3],\n",
    "        [0.11, 0.22, 0.33],\n",
    "        [0.111, 0.222, 0.333]\n",
    "    ],\n",
    "    [\n",
    "        [1.0, 2.0, 3.0],\n",
    "        [1.2, 2.1, 3.1],\n",
    "        [1.3, 2.3, 3.3],\n",
    "    ],\n",
    "    [\n",
    "        [100.0, 200.0, 300.0],\n",
    "        [1000, 2000, 3000],\n",
    "        [10000, 20000, 30000],\n",
    "    ]\n",
    "]) "
   ]
  },
  {
   "cell_type": "code",
   "execution_count": 9,
   "id": "df56ef1f-736a-4cf5-b092-b50ecfcdab10",
   "metadata": {},
   "outputs": [
    {
     "data": {
      "text/plain": [
       "array([[[    0.1  ,     0.2  ,     0.3  ],\n",
       "        [    0.11 ,     0.22 ,     0.33 ],\n",
       "        [    0.111,     0.222,     0.333]],\n",
       "\n",
       "       [[    1.   ,     2.   ,     3.   ],\n",
       "        [    1.2  ,     2.1  ,     3.1  ],\n",
       "        [    1.3  ,     2.3  ,     3.3  ]],\n",
       "\n",
       "       [[  100.   ,   200.   ,   300.   ],\n",
       "        [ 1000.   ,  2000.   ,  3000.   ],\n",
       "        [10000.   , 20000.   , 30000.   ]]])"
      ]
     },
     "execution_count": 9,
     "metadata": {},
     "output_type": "execute_result"
    }
   ],
   "source": [
    "arr"
   ]
  },
  {
   "cell_type": "code",
   "execution_count": 10,
   "id": "1a7f2490-fd4c-4058-a2cd-e8a16d2220e3",
   "metadata": {},
   "outputs": [
    {
     "data": {
      "text/plain": [
       "((3, 3, 3), 3)"
      ]
     },
     "execution_count": 10,
     "metadata": {},
     "output_type": "execute_result"
    }
   ],
   "source": [
    "arr.shape, arr.ndim"
   ]
  },
  {
   "cell_type": "markdown",
   "id": "90e4f6bf-2a20-40e7-be0d-ce59621b57d0",
   "metadata": {},
   "source": [
    "**三维那么索引的时候可以设置三个值**"
   ]
  },
  {
   "cell_type": "code",
   "execution_count": 11,
   "id": "9eb5e7f7-13f4-4bf8-8e45-38270423cda6",
   "metadata": {},
   "outputs": [
    {
     "data": {
      "text/plain": [
       "array([[0.1  , 0.2  , 0.3  ],\n",
       "       [0.11 , 0.22 , 0.33 ],\n",
       "       [0.111, 0.222, 0.333]])"
      ]
     },
     "execution_count": 11,
     "metadata": {},
     "output_type": "execute_result"
    }
   ],
   "source": [
    "arr[0]"
   ]
  },
  {
   "cell_type": "code",
   "execution_count": 12,
   "id": "fe889651-ba77-474b-a059-4c55b3d78bc3",
   "metadata": {},
   "outputs": [
    {
     "data": {
      "text/plain": [
       "array([0.1, 0.2, 0.3])"
      ]
     },
     "execution_count": 12,
     "metadata": {},
     "output_type": "execute_result"
    }
   ],
   "source": [
    "arr[0,0]"
   ]
  },
  {
   "cell_type": "code",
   "execution_count": 13,
   "id": "2adfb128-1e4f-48e8-9561-37cbaedd0ac5",
   "metadata": {},
   "outputs": [
    {
     "data": {
      "text/plain": [
       "0.2"
      ]
     },
     "execution_count": 13,
     "metadata": {},
     "output_type": "execute_result"
    }
   ],
   "source": [
    "arr[0, 0, 1]"
   ]
  },
  {
   "cell_type": "markdown",
   "id": "b0100e92-18f5-4ec8-8638-efda6481708d",
   "metadata": {},
   "source": [
    "**取出第1维中的所有行，第2维只取第2个数，第三维选全部**"
   ]
  },
  {
   "cell_type": "code",
   "execution_count": 14,
   "id": "bca8dd9b-5b35-459b-8d4c-5911d83fe535",
   "metadata": {},
   "outputs": [
    {
     "data": {
      "text/plain": [
       "array([[   0.11,    0.22,    0.33],\n",
       "       [   1.2 ,    2.1 ,    3.1 ],\n",
       "       [1000.  , 2000.  , 3000.  ]])"
      ]
     },
     "execution_count": 14,
     "metadata": {},
     "output_type": "execute_result"
    }
   ],
   "source": [
    "arr[:,1,:]"
   ]
  },
  {
   "cell_type": "markdown",
   "id": "92d8a8bd-f6ce-4524-9917-f3442247ffee",
   "metadata": {},
   "source": [
    "**取出第1维中的所有行，第2维的支取第1个数，第三位只取第3个数**"
   ]
  },
  {
   "cell_type": "code",
   "execution_count": 15,
   "id": "b88a8fe8-530e-4637-9da4-6a22aa333b4b",
   "metadata": {},
   "outputs": [
    {
     "data": {
      "text/plain": [
       "array([  0.3,   3. , 300. ])"
      ]
     },
     "execution_count": 15,
     "metadata": {},
     "output_type": "execute_result"
    }
   ],
   "source": [
    "arr[:,0,2]"
   ]
  },
  {
   "cell_type": "markdown",
   "id": "f9253157-e89c-46b6-9117-dd6926f6fc42",
   "metadata": {},
   "source": [
    "**取出3维中的某个元素**"
   ]
  },
  {
   "cell_type": "code",
   "execution_count": 16,
   "id": "92b4b155-c3cf-4bfb-a16a-7696c758014e",
   "metadata": {},
   "outputs": [
    {
     "data": {
      "text/plain": [
       "2.1"
      ]
     },
     "execution_count": 16,
     "metadata": {},
     "output_type": "execute_result"
    }
   ],
   "source": [
    "# 方式一：\n",
    "arr[1,1,1]"
   ]
  },
  {
   "cell_type": "code",
   "execution_count": 17,
   "id": "fe6ee41a-9e04-42bb-aed5-66216167a870",
   "metadata": {},
   "outputs": [
    {
     "data": {
      "text/plain": [
       "2.1"
      ]
     },
     "execution_count": 17,
     "metadata": {},
     "output_type": "execute_result"
    }
   ],
   "source": [
    "# 方式二：\n",
    "arr[1][1][1]"
   ]
  },
  {
   "cell_type": "code",
   "execution_count": null,
   "id": "2930d92d-d0eb-4801-aacd-54d82f26c9f2",
   "metadata": {},
   "outputs": [],
   "source": []
  }
 ],
 "metadata": {
  "kernelspec": {
   "display_name": "Python 3 (ipykernel)",
   "language": "python",
   "name": "python3"
  },
  "language_info": {
   "codemirror_mode": {
    "name": "ipython",
    "version": 3
   },
   "file_extension": ".py",
   "mimetype": "text/x-python",
   "name": "python",
   "nbconvert_exporter": "python",
   "pygments_lexer": "ipython3",
   "version": "3.11.5"
  }
 },
 "nbformat": 4,
 "nbformat_minor": 5
}
