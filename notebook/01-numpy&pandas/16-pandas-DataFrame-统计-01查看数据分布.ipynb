{
 "cells": [
  {
   "cell_type": "markdown",
   "id": "f2100b88-3c9c-43f2-8582-6dd62fd48b08",
   "metadata": {},
   "source": [
    "## DataFrame查看数据分布"
   ]
  },
  {
   "cell_type": "code",
   "execution_count": 1,
   "id": "e0f63051-a3d3-4695-9775-03f7d2bf2307",
   "metadata": {},
   "outputs": [],
   "source": [
    "%matplotlib inline\n",
    "import numpy as np\n",
    "import pandas as pd\n",
    "\n",
    "import matplotlib.pyplot as plt"
   ]
  },
  {
   "cell_type": "markdown",
   "id": "e56b8b3c-dfdb-43e3-ad0a-13f99addc06d",
   "metadata": {},
   "source": [
    "### 1. 构造数据\n",
    "> 我们构造一个项目的相关数据，有项目名称：开发语言，收藏数，点赞数。开发者人数。"
   ]
  },
  {
   "cell_type": "markdown",
   "id": "f95169de-0c5e-4360-bb98-81c106b55bd5",
   "metadata": {},
   "source": [
    "#### 1.1 构造项目数组"
   ]
  },
  {
   "cell_type": "code",
   "execution_count": 2,
   "id": "9920d148-1c0c-4adc-b89a-3f8eb7465a1f",
   "metadata": {},
   "outputs": [],
   "source": [
    "data = []\n",
    "\n",
    "language_list = np.array([\"Python\", \"C\", \"JavaScript\", \"Golang\", \"Rust\", \"Java\"])\n",
    "for i in range(10000):\n",
    "    item = {\n",
    "        \"project\": \"project:{}\".format(i + 1),\n",
    "        \"member\": np.random.randint(3, 180),\n",
    "        \"star\": np.random.randint(0, 2000),\n",
    "        # \"language\": language_list[np.random.randint(1, len(language_list))]\n",
    "        # 根据概率来选择语言，这样画的图形好对比\n",
    "        \"language\": np.random.choice(language_list, size=1, replace=True, p=[0.5, 0.15, 0.15, 0.12, 0.05, 0.03])[0]\n",
    "    }\n",
    "    data.append(item)"
   ]
  },
  {
   "cell_type": "code",
   "execution_count": 3,
   "id": "ebedd9cb-df99-4275-893a-66bcd59a3ed4",
   "metadata": {},
   "outputs": [
    {
     "data": {
      "text/plain": [
       "10000"
      ]
     },
     "execution_count": 3,
     "metadata": {},
     "output_type": "execute_result"
    }
   ],
   "source": [
    "len(data)"
   ]
  },
  {
   "cell_type": "markdown",
   "id": "1d5920fb-f35f-4d4a-a422-8aa1414e25d8",
   "metadata": {},
   "source": [
    "#### 1.2 实例化为DataFrame"
   ]
  },
  {
   "cell_type": "code",
   "execution_count": 4,
   "id": "21ec0c8b-2f93-427c-8be9-24170fee369e",
   "metadata": {},
   "outputs": [],
   "source": [
    "frame = pd.DataFrame(data)"
   ]
  },
  {
   "cell_type": "code",
   "execution_count": 5,
   "id": "e9777d73-c15f-42fa-9767-fe7e14c0061e",
   "metadata": {},
   "outputs": [
    {
     "data": {
      "text/html": [
       "<div>\n",
       "<style scoped>\n",
       "    .dataframe tbody tr th:only-of-type {\n",
       "        vertical-align: middle;\n",
       "    }\n",
       "\n",
       "    .dataframe tbody tr th {\n",
       "        vertical-align: top;\n",
       "    }\n",
       "\n",
       "    .dataframe thead th {\n",
       "        text-align: right;\n",
       "    }\n",
       "</style>\n",
       "<table border=\"1\" class=\"dataframe\">\n",
       "  <thead>\n",
       "    <tr style=\"text-align: right;\">\n",
       "      <th></th>\n",
       "      <th>project</th>\n",
       "      <th>member</th>\n",
       "      <th>star</th>\n",
       "      <th>language</th>\n",
       "    </tr>\n",
       "  </thead>\n",
       "  <tbody>\n",
       "    <tr>\n",
       "      <th>0</th>\n",
       "      <td>project:1</td>\n",
       "      <td>10</td>\n",
       "      <td>1012</td>\n",
       "      <td>Python</td>\n",
       "    </tr>\n",
       "    <tr>\n",
       "      <th>1</th>\n",
       "      <td>project:2</td>\n",
       "      <td>149</td>\n",
       "      <td>1260</td>\n",
       "      <td>Python</td>\n",
       "    </tr>\n",
       "    <tr>\n",
       "      <th>2</th>\n",
       "      <td>project:3</td>\n",
       "      <td>125</td>\n",
       "      <td>768</td>\n",
       "      <td>Python</td>\n",
       "    </tr>\n",
       "    <tr>\n",
       "      <th>3</th>\n",
       "      <td>project:4</td>\n",
       "      <td>75</td>\n",
       "      <td>765</td>\n",
       "      <td>Golang</td>\n",
       "    </tr>\n",
       "    <tr>\n",
       "      <th>4</th>\n",
       "      <td>project:5</td>\n",
       "      <td>69</td>\n",
       "      <td>1255</td>\n",
       "      <td>Python</td>\n",
       "    </tr>\n",
       "  </tbody>\n",
       "</table>\n",
       "</div>"
      ],
      "text/plain": [
       "     project  member  star language\n",
       "0  project:1      10  1012   Python\n",
       "1  project:2     149  1260   Python\n",
       "2  project:3     125   768   Python\n",
       "3  project:4      75   765   Golang\n",
       "4  project:5      69  1255   Python"
      ]
     },
     "execution_count": 5,
     "metadata": {},
     "output_type": "execute_result"
    }
   ],
   "source": [
    "# 查看数据的前面5条\n",
    "frame.head()"
   ]
  },
  {
   "cell_type": "code",
   "execution_count": 6,
   "id": "a8dd23cb-f115-43f3-97fa-612838c4451d",
   "metadata": {},
   "outputs": [
    {
     "data": {
      "text/html": [
       "<div>\n",
       "<style scoped>\n",
       "    .dataframe tbody tr th:only-of-type {\n",
       "        vertical-align: middle;\n",
       "    }\n",
       "\n",
       "    .dataframe tbody tr th {\n",
       "        vertical-align: top;\n",
       "    }\n",
       "\n",
       "    .dataframe thead th {\n",
       "        text-align: right;\n",
       "    }\n",
       "</style>\n",
       "<table border=\"1\" class=\"dataframe\">\n",
       "  <thead>\n",
       "    <tr style=\"text-align: right;\">\n",
       "      <th></th>\n",
       "      <th>project</th>\n",
       "      <th>member</th>\n",
       "      <th>star</th>\n",
       "      <th>language</th>\n",
       "    </tr>\n",
       "  </thead>\n",
       "  <tbody>\n",
       "    <tr>\n",
       "      <th>24</th>\n",
       "      <td>project:25</td>\n",
       "      <td>79</td>\n",
       "      <td>342</td>\n",
       "      <td>Rust</td>\n",
       "    </tr>\n",
       "    <tr>\n",
       "      <th>27</th>\n",
       "      <td>project:28</td>\n",
       "      <td>4</td>\n",
       "      <td>780</td>\n",
       "      <td>Rust</td>\n",
       "    </tr>\n",
       "    <tr>\n",
       "      <th>31</th>\n",
       "      <td>project:32</td>\n",
       "      <td>167</td>\n",
       "      <td>1928</td>\n",
       "      <td>Rust</td>\n",
       "    </tr>\n",
       "    <tr>\n",
       "      <th>58</th>\n",
       "      <td>project:59</td>\n",
       "      <td>124</td>\n",
       "      <td>294</td>\n",
       "      <td>Rust</td>\n",
       "    </tr>\n",
       "    <tr>\n",
       "      <th>75</th>\n",
       "      <td>project:76</td>\n",
       "      <td>97</td>\n",
       "      <td>723</td>\n",
       "      <td>Rust</td>\n",
       "    </tr>\n",
       "    <tr>\n",
       "      <th>...</th>\n",
       "      <td>...</td>\n",
       "      <td>...</td>\n",
       "      <td>...</td>\n",
       "      <td>...</td>\n",
       "    </tr>\n",
       "    <tr>\n",
       "      <th>9902</th>\n",
       "      <td>project:9903</td>\n",
       "      <td>102</td>\n",
       "      <td>1245</td>\n",
       "      <td>Rust</td>\n",
       "    </tr>\n",
       "    <tr>\n",
       "      <th>9906</th>\n",
       "      <td>project:9907</td>\n",
       "      <td>80</td>\n",
       "      <td>313</td>\n",
       "      <td>Rust</td>\n",
       "    </tr>\n",
       "    <tr>\n",
       "      <th>9932</th>\n",
       "      <td>project:9933</td>\n",
       "      <td>72</td>\n",
       "      <td>1239</td>\n",
       "      <td>Rust</td>\n",
       "    </tr>\n",
       "    <tr>\n",
       "      <th>9950</th>\n",
       "      <td>project:9951</td>\n",
       "      <td>79</td>\n",
       "      <td>537</td>\n",
       "      <td>Rust</td>\n",
       "    </tr>\n",
       "    <tr>\n",
       "      <th>9973</th>\n",
       "      <td>project:9974</td>\n",
       "      <td>12</td>\n",
       "      <td>1500</td>\n",
       "      <td>Rust</td>\n",
       "    </tr>\n",
       "  </tbody>\n",
       "</table>\n",
       "<p>508 rows × 4 columns</p>\n",
       "</div>"
      ],
      "text/plain": [
       "           project  member  star language\n",
       "24      project:25      79   342     Rust\n",
       "27      project:28       4   780     Rust\n",
       "31      project:32     167  1928     Rust\n",
       "58      project:59     124   294     Rust\n",
       "75      project:76      97   723     Rust\n",
       "...            ...     ...   ...      ...\n",
       "9902  project:9903     102  1245     Rust\n",
       "9906  project:9907      80   313     Rust\n",
       "9932  project:9933      72  1239     Rust\n",
       "9950  project:9951      79   537     Rust\n",
       "9973  project:9974      12  1500     Rust\n",
       "\n",
       "[508 rows x 4 columns]"
      ]
     },
     "execution_count": 6,
     "metadata": {},
     "output_type": "execute_result"
    }
   ],
   "source": [
    "# 查看语言是Rust的member列\n",
    "# frame.loc[frame[\"language\"] == \"Rust\", \"member\"]\n",
    "\n",
    "# 查看语言是Rust的行\n",
    "frame.loc[frame[\"language\"] == \"Rust\"]"
   ]
  },
  {
   "cell_type": "code",
   "execution_count": 7,
   "id": "a7e5bb9e-c017-4bd1-910b-76cb484d79da",
   "metadata": {},
   "outputs": [],
   "source": [
    "# 修改数据\n",
    "\n",
    "# 把是Ruby的项目成员数量最多设置为30\n",
    "frame.loc[frame[\"language\"] == \"Rust\", \"member\"] %= 30\n",
    "\n",
    "frame.loc[frame[\"language\"] == \"Golang\", \"member\"] %= 60\n",
    "\n",
    "frame.loc[frame[\"language\"] == \"C\", \"member\"] %= 100\n",
    "\n",
    "frame.loc[frame[\"language\"] == \"Java\", \"member\"] %= 90\n",
    "\n",
    "frame.loc[frame[\"language\"] == \"JavaScript\", \"member\"] %= 60"
   ]
  },
  {
   "cell_type": "markdown",
   "id": "ef6cbfcf-ea9c-4dfd-9d1a-a8fb52ceb556",
   "metadata": {},
   "source": [
    "### 2. 根据语言查看数据的分布"
   ]
  },
  {
   "cell_type": "code",
   "execution_count": 8,
   "id": "99ee2efe-df90-430c-8777-a788485975fd",
   "metadata": {},
   "outputs": [
    {
     "data": {
      "text/plain": [
       "language\n",
       "Python        5021\n",
       "JavaScript    1531\n",
       "C             1425\n",
       "Golang        1212\n",
       "Rust           508\n",
       "Java           303\n",
       "Name: count, dtype: int64"
      ]
     },
     "execution_count": 8,
     "metadata": {},
     "output_type": "execute_result"
    }
   ],
   "source": [
    "language_value_counts = frame['language'].value_counts(ascending=False)\n",
    "language_value_counts"
   ]
  },
  {
   "cell_type": "code",
   "execution_count": 9,
   "id": "388d529f-43c2-4dff-aa6b-8a7ec89fd1f4",
   "metadata": {},
   "outputs": [
    {
     "data": {
      "text/plain": [
       "pandas.core.series.Series"
      ]
     },
     "execution_count": 9,
     "metadata": {},
     "output_type": "execute_result"
    }
   ],
   "source": [
    "type(language_value_counts)"
   ]
  },
  {
   "cell_type": "code",
   "execution_count": 10,
   "id": "6cecffc1-6a56-4fbd-9870-1065a01d9520",
   "metadata": {},
   "outputs": [
    {
     "data": {
      "image/png": "[encoded data removed]",
      "text/plain": [
       "<Figure size 640x480 with 1 Axes>"
      ]
     },
     "metadata": {},
     "output_type": "display_data"
    }
   ],
   "source": [
    "# 画出水平直方图\n",
    "language_value_counts.plot.bar()\n",
    "plt.title(\"Language\")\n",
    "# x坐标斜着45度\n",
    "plt.xticks(rotation=15)  \n",
    "plt.xlabel(\"\")  # 不要显示x的label\n",
    "plt.show()"
   ]
  },
  {
   "cell_type": "markdown",
   "id": "2b0ed273-19ef-4ef3-915a-6ec48d878d47",
   "metadata": {},
   "source": [
    "### 3. 根据语言查看成员分布情况\n",
    "> `boxplot`方法是创建箱型图(Boxplot)，这是一种展示数据分布特征的图形。   \n",
    "\n",
    "箱型图通常包括：中位数(Q2)、四分位数（Q1和Q3）、异常值（通常定义为超出四分位距1.5倍的值）等信息。"
   ]
  },
  {
   "cell_type": "code",
   "execution_count": 11,
   "id": "a0030c99-c0f9-4932-b68a-cbf46344be77",
   "metadata": {},
   "outputs": [
    {
     "data": {
      "text/html": [
       "<div>\n",
       "<style scoped>\n",
       "    .dataframe tbody tr th:only-of-type {\n",
       "        vertical-align: middle;\n",
       "    }\n",
       "\n",
       "    .dataframe tbody tr th {\n",
       "        vertical-align: top;\n",
       "    }\n",
       "\n",
       "    .dataframe thead th {\n",
       "        text-align: right;\n",
       "    }\n",
       "</style>\n",
       "<table border=\"1\" class=\"dataframe\">\n",
       "  <thead>\n",
       "    <tr style=\"text-align: right;\">\n",
       "      <th></th>\n",
       "      <th>language</th>\n",
       "      <th>member</th>\n",
       "    </tr>\n",
       "  </thead>\n",
       "  <tbody>\n",
       "    <tr>\n",
       "      <th>0</th>\n",
       "      <td>Python</td>\n",
       "      <td>10</td>\n",
       "    </tr>\n",
       "    <tr>\n",
       "      <th>1</th>\n",
       "      <td>Python</td>\n",
       "      <td>149</td>\n",
       "    </tr>\n",
       "    <tr>\n",
       "      <th>2</th>\n",
       "      <td>Python</td>\n",
       "      <td>125</td>\n",
       "    </tr>\n",
       "    <tr>\n",
       "      <th>3</th>\n",
       "      <td>Golang</td>\n",
       "      <td>15</td>\n",
       "    </tr>\n",
       "    <tr>\n",
       "      <th>4</th>\n",
       "      <td>Python</td>\n",
       "      <td>69</td>\n",
       "    </tr>\n",
       "    <tr>\n",
       "      <th>...</th>\n",
       "      <td>...</td>\n",
       "      <td>...</td>\n",
       "    </tr>\n",
       "    <tr>\n",
       "      <th>9995</th>\n",
       "      <td>Java</td>\n",
       "      <td>43</td>\n",
       "    </tr>\n",
       "    <tr>\n",
       "      <th>9996</th>\n",
       "      <td>Python</td>\n",
       "      <td>8</td>\n",
       "    </tr>\n",
       "    <tr>\n",
       "      <th>9997</th>\n",
       "      <td>Java</td>\n",
       "      <td>29</td>\n",
       "    </tr>\n",
       "    <tr>\n",
       "      <th>9998</th>\n",
       "      <td>Golang</td>\n",
       "      <td>51</td>\n",
       "    </tr>\n",
       "    <tr>\n",
       "      <th>9999</th>\n",
       "      <td>C</td>\n",
       "      <td>53</td>\n",
       "    </tr>\n",
       "  </tbody>\n",
       "</table>\n",
       "<p>10000 rows × 2 columns</p>\n",
       "</div>"
      ],
      "text/plain": [
       "     language  member\n",
       "0      Python      10\n",
       "1      Python     149\n",
       "2      Python     125\n",
       "3      Golang      15\n",
       "4      Python      69\n",
       "...       ...     ...\n",
       "9995     Java      43\n",
       "9996   Python       8\n",
       "9997     Java      29\n",
       "9998   Golang      51\n",
       "9999        C      53\n",
       "\n",
       "[10000 rows x 2 columns]"
      ]
     },
     "execution_count": 11,
     "metadata": {},
     "output_type": "execute_result"
    }
   ],
   "source": [
    "# 查看语言和成员列\n",
    "frame[[\"language\", \"member\"]]"
   ]
  },
  {
   "cell_type": "code",
   "execution_count": 12,
   "id": "e86f79b3-f1ad-40ce-99ba-adbf4a42ba34",
   "metadata": {},
   "outputs": [
    {
     "data": {
      "image/png": "[encoded data removed]",
      "text/plain": [
       "<Figure size 640x480 with 1 Axes>"
      ]
     },
     "metadata": {},
     "output_type": "display_data"
    }
   ],
   "source": [
    "# 画箱型图\n",
    "frame.boxplot(column=[\"member\"], by=\"language\", grid=False, showfliers=False, color=\"black\")\n",
    "plt.suptitle(\"\")\n",
    "plt.xlabel(\"\")\n",
    "plt.show()"
   ]
  },
  {
   "cell_type": "code",
   "execution_count": null,
   "id": "2cabe1ed-9017-4e29-9e9f-10f4ba84ee5e",
   "metadata": {},
   "outputs": [],
   "source": []
  }
 ],
 "metadata": {
  "kernelspec": {
   "display_name": "Python 3 (ipykernel)",
   "language": "python",
   "name": "python3"
  },
  "language_info": {
   "codemirror_mode": {
    "name": "ipython",
    "version": 3
   },
   "file_extension": ".py",
   "mimetype": "text/x-python",
   "name": "python",
   "nbconvert_exporter": "python",
   "pygments_lexer": "ipython3",
   "version": "3.11.5"
  }
 },
 "nbformat": 4,
 "nbformat_minor": 5
}
