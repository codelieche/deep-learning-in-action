{
 "cells": [
  {
   "cell_type": "markdown",
   "id": "e567a3bc-2af1-495d-b5e0-5cd85154b426",
   "metadata": {},
   "source": [
    "## 6. 加载数据为张量--图像"
   ]
  },
  {
   "cell_type": "code",
   "execution_count": 1,
   "id": "292adf58-5c25-44a8-8137-e9ce5fe92161",
   "metadata": {},
   "outputs": [
    {
     "name": "stdout",
     "output_type": "stream",
     "text": [
      "\n"
     ]
    }
   ],
   "source": [
    "%matplotlib inline\n",
    "import torch\n",
    "import numpy as np\n",
    "import matplotlib.pyplot as plt\n",
    "\n",
    "torch.set_printoptions(edgeitems=2)\n",
    "torch.manual_seed(123456)\n",
    "\n",
    "print(\"\")"
   ]
  },
  {
   "cell_type": "markdown",
   "id": "1a5e556e-e2da-4b90-b590-62cf033284be",
   "metadata": {},
   "source": [
    "### 6.1 加载图像文件\n",
    "我们先要准备好一张图片，可自行修改图片路径，我们这里选择了一个`32 x 32`的RGB图片。  \n",
    "可参考`02-torchvison.datasets-保存图片到文件中.ipynb`中创建相关图片。"
   ]
  },
  {
   "cell_type": "markdown",
   "id": "e48c5c96-8e0f-4d90-95b4-b7e41a76e925",
   "metadata": {},
   "source": [
    "#### 1. 采用Pillow加载图片"
   ]
  },
  {
   "cell_type": "code",
   "execution_count": 2,
   "id": "0ab67265-424f-48b0-b388-81964db03133",
   "metadata": {},
   "outputs": [],
   "source": [
    "from PIL import Image"
   ]
  },
  {
   "cell_type": "code",
   "execution_count": 3,
   "id": "b01aa5ce-79ae-49e6-a5b6-9a3076717c38",
   "metadata": {},
   "outputs": [],
   "source": [
    "image_path = \"../../data/images/CIFAR10/automobile/automobile_99.png\""
   ]
  },
  {
   "cell_type": "code",
   "execution_count": 4,
   "id": "82ef8d88-8266-413f-bc47-56c9d978aa0c",
   "metadata": {},
   "outputs": [],
   "source": [
    "img = Image.open(image_path)"
   ]
  },
  {
   "cell_type": "code",
   "execution_count": 5,
   "id": "ede70bb1-2c43-4fc0-98e2-57be02f9616e",
   "metadata": {},
   "outputs": [
    {
     "data": {
      "text/plain": [
       "(PIL.PngImagePlugin.PngImageFile, (32, 32))"
      ]
     },
     "execution_count": 5,
     "metadata": {},
     "output_type": "execute_result"
    }
   ],
   "source": [
    "type(img), img.size"
   ]
  },
  {
   "cell_type": "markdown",
   "id": "45266648-fa03-49c3-a54e-f9f6e1343cdf",
   "metadata": {},
   "source": [
    "**将PIL的Image对象转换为Numpy数组**"
   ]
  },
  {
   "cell_type": "code",
   "execution_count": 6,
   "id": "de94a5ea-dbb9-4275-984e-33de72ba6d90",
   "metadata": {},
   "outputs": [],
   "source": [
    "img_arr = np.array(img)"
   ]
  },
  {
   "cell_type": "code",
   "execution_count": 7,
   "id": "0e305f95-989c-48b0-a1c8-d500ddec4fdd",
   "metadata": {},
   "outputs": [
    {
     "data": {
      "text/plain": [
       "(numpy.ndarray, (32, 32, 3))"
      ]
     },
     "execution_count": 7,
     "metadata": {},
     "output_type": "execute_result"
    }
   ],
   "source": [
    "type(img_arr), img_arr.shape"
   ]
  },
  {
   "cell_type": "code",
   "execution_count": 8,
   "id": "ba02dbc2-7bf4-4fc9-9c59-c452632eadf7",
   "metadata": {},
   "outputs": [
    {
     "data": {
      "text/plain": [
       "array([[[ 62,  64,  44],\n",
       "        [ 50,  50,  26],\n",
       "        [ 46,  44,  19],\n",
       "        ...,\n",
       "        [167, 172,  69],\n",
       "        [183, 184,  76],\n",
       "        [137, 136,  72]],\n",
       "\n",
       "       [[ 63,  65,  37],\n",
       "        [ 55,  53,  26],\n",
       "        [ 52,  50,  27],\n",
       "        ...,\n",
       "        [163, 169,  61],\n",
       "        [171, 174,  75],\n",
       "        [145, 146,  77]],\n",
       "\n",
       "       [[ 58,  62,  36],\n",
       "        [ 64,  66,  37],\n",
       "        [ 56,  60,  37],\n",
       "        ...,\n",
       "        [153, 155,  62],\n",
       "        [150, 154,  64],\n",
       "        [123, 128,  57]],\n",
       "\n",
       "       ...,\n",
       "\n",
       "       [[172, 135,  99],\n",
       "        [143, 110,  84],\n",
       "        [130,  56,  42],\n",
       "        ...,\n",
       "        [ 94,  75,  56],\n",
       "        [141, 108,  86],\n",
       "        [139, 105,  81]],\n",
       "\n",
       "       [[183, 146, 117],\n",
       "        [150, 118,  95],\n",
       "        [ 80,  64,  44],\n",
       "        ...,\n",
       "        [ 81,  72,  60],\n",
       "        [135, 118,  98],\n",
       "        [143, 125, 110]],\n",
       "\n",
       "       [[209, 174, 144],\n",
       "        [182, 151, 123],\n",
       "        [139, 109,  83],\n",
       "        ...,\n",
       "        [ 59,  54,  47],\n",
       "        [130, 119, 111],\n",
       "        [169, 156, 160]]], dtype=uint8)"
      ]
     },
     "execution_count": 8,
     "metadata": {},
     "output_type": "execute_result"
    }
   ],
   "source": [
    "img_arr"
   ]
  },
  {
   "cell_type": "markdown",
   "id": "0bd68e5b-e606-46c6-b7e6-6c11862e6862",
   "metadata": {},
   "source": [
    "#### 2. 采用imageio加载图片\n",
    "\n",
    "安装库：`pip install imageio`. "
   ]
  },
  {
   "cell_type": "code",
   "execution_count": 9,
   "id": "a6e72665-a934-4c1e-8985-f281ad60fbe9",
   "metadata": {},
   "outputs": [],
   "source": [
    "#!pip install imageio"
   ]
  },
  {
   "cell_type": "code",
   "execution_count": 10,
   "id": "1bb795bf-2177-4067-8ea8-58bd50fcdc39",
   "metadata": {},
   "outputs": [],
   "source": [
    "import imageio.v2 as imageio"
   ]
  },
  {
   "cell_type": "code",
   "execution_count": 11,
   "id": "1a1a0c83-31f0-40a1-b3ac-e4ba618cca29",
   "metadata": {},
   "outputs": [],
   "source": [
    "img_arr2 = imageio.imread(image_path)"
   ]
  },
  {
   "cell_type": "code",
   "execution_count": 12,
   "id": "b67272be-f110-455a-8f69-37e79601bd88",
   "metadata": {},
   "outputs": [
    {
     "data": {
      "text/plain": [
       "(numpy.ndarray, (32, 32, 3))"
      ]
     },
     "execution_count": 12,
     "metadata": {},
     "output_type": "execute_result"
    }
   ],
   "source": [
    "type(img_arr2), img_arr2.shape"
   ]
  },
  {
   "cell_type": "markdown",
   "id": "c5ad2ade-67f4-46a1-9708-2347760c04c4",
   "metadata": {},
   "source": [
    "> 此时：图片`img_arr`和`img_arr2`是具有3个维度的`Numpy`数组对象，2个空间维度尺寸（宽度、高度）和一个红绿蓝颜色通道。    \n",
    "> **注意：** PyTorch张量要求排列为通道、高度和宽度(`C x H x W`) 。   \n",
    "> 那么我们可以使用`torch.permute(2, 0, 1)`把`H x W x C`格式的改为`C x H x W`。"
   ]
  },
  {
   "cell_type": "code",
   "execution_count": 13,
   "id": "17772457-ba1a-4e3e-9bb1-24380900886a",
   "metadata": {},
   "outputs": [
    {
     "data": {
      "text/plain": [
       "array([[[ 62,  64,  44],\n",
       "        [ 50,  50,  26],\n",
       "        [ 46,  44,  19],\n",
       "        ...,\n",
       "        [167, 172,  69],\n",
       "        [183, 184,  76],\n",
       "        [137, 136,  72]],\n",
       "\n",
       "       [[ 63,  65,  37],\n",
       "        [ 55,  53,  26],\n",
       "        [ 52,  50,  27],\n",
       "        ...,\n",
       "        [163, 169,  61],\n",
       "        [171, 174,  75],\n",
       "        [145, 146,  77]],\n",
       "\n",
       "       [[ 58,  62,  36],\n",
       "        [ 64,  66,  37],\n",
       "        [ 56,  60,  37],\n",
       "        ...,\n",
       "        [153, 155,  62],\n",
       "        [150, 154,  64],\n",
       "        [123, 128,  57]],\n",
       "\n",
       "       ...,\n",
       "\n",
       "       [[172, 135,  99],\n",
       "        [143, 110,  84],\n",
       "        [130,  56,  42],\n",
       "        ...,\n",
       "        [ 94,  75,  56],\n",
       "        [141, 108,  86],\n",
       "        [139, 105,  81]],\n",
       "\n",
       "       [[183, 146, 117],\n",
       "        [150, 118,  95],\n",
       "        [ 80,  64,  44],\n",
       "        ...,\n",
       "        [ 81,  72,  60],\n",
       "        [135, 118,  98],\n",
       "        [143, 125, 110]],\n",
       "\n",
       "       [[209, 174, 144],\n",
       "        [182, 151, 123],\n",
       "        [139, 109,  83],\n",
       "        ...,\n",
       "        [ 59,  54,  47],\n",
       "        [130, 119, 111],\n",
       "        [169, 156, 160]]], dtype=uint8)"
      ]
     },
     "execution_count": 13,
     "metadata": {},
     "output_type": "execute_result"
    }
   ],
   "source": [
    "img_arr2"
   ]
  },
  {
   "cell_type": "code",
   "execution_count": 14,
   "id": "bdc7af6b-c2cd-47b1-b21e-6d7c9472fbee",
   "metadata": {},
   "outputs": [
    {
     "data": {
      "text/plain": [
       "True"
      ]
     },
     "execution_count": 14,
     "metadata": {},
     "output_type": "execute_result"
    }
   ],
   "source": [
    "# 可以发现imageio加载的图片和 Pillow加载图片后再转为numpy数组，其值是一样的\n",
    "np.all(img_arr == img_arr2)"
   ]
  },
  {
   "cell_type": "markdown",
   "id": "893be242-4214-447f-b882-a5bad102d361",
   "metadata": {},
   "source": [
    "### 6.2 使用matplotlib.pyplot显示图片\n",
    "\n",
    "> 验证：imageio和Pillow加载的图片，其三维分别是：`height`、`width`、`channels`。"
   ]
  },
  {
   "cell_type": "markdown",
   "id": "56cb00b6-a20f-464e-a702-0805c1534d71",
   "metadata": {},
   "source": [
    "#### 1. 展示左半边图片"
   ]
  },
  {
   "cell_type": "code",
   "execution_count": 15,
   "id": "2a2552da-d6b1-47a7-97a4-15fc74c1865e",
   "metadata": {},
   "outputs": [
    {
     "name": "stdout",
     "output_type": "stream",
     "text": [
      "\n"
     ]
    },
    {
     "data": {
      "image/png": "[encoded data removed]",
      "text/plain": [
       "<Figure size 640x480 with 1 Axes>"
      ]
     },
     "metadata": {},
     "output_type": "display_data"
    }
   ],
   "source": [
    "# 第一维度：全部取出，第二维度：取一半，第三维：全部取出\n",
    "plt.imshow(img_arr[:,:16,:])\n",
    "print(\"\")"
   ]
  },
  {
   "cell_type": "markdown",
   "id": "b1120fa9-f884-458f-ab13-d0e897cc60f5",
   "metadata": {},
   "source": [
    "#### 2. 展示下半部分图片"
   ]
  },
  {
   "cell_type": "code",
   "execution_count": 16,
   "id": "daf1367b-1daa-4b5c-81f5-c817a4015370",
   "metadata": {},
   "outputs": [
    {
     "name": "stdout",
     "output_type": "stream",
     "text": [
      "\n"
     ]
    },
    {
     "data": {
      "image/png": "[encoded data removed]",
      "text/plain": [
       "<Figure size 640x480 with 1 Axes>"
      ]
     },
     "metadata": {},
     "output_type": "display_data"
    }
   ],
   "source": [
    "plt.imshow(img_arr[16:,:,:])\n",
    "print(\"\")"
   ]
  },
  {
   "cell_type": "markdown",
   "id": "506d3759-6fa3-4f8c-a6f9-4d2904b2ddbf",
   "metadata": {},
   "source": [
    "### 6.3 改变图片布局\n",
    "我们可以用张量的`permute()`方法使每个新的维度利用旧维度得到一个新的布局。     \n",
    "`imageio`加载的图片其布局是：`H x W x C`，我们现在把它改为：`C x H x W`布局。"
   ]
  },
  {
   "cell_type": "code",
   "execution_count": 17,
   "id": "e6a95911-a0fb-469f-9847-d8f3bef9ac87",
   "metadata": {},
   "outputs": [
    {
     "data": {
      "text/plain": [
       "(32, 32, 3)"
      ]
     },
     "execution_count": 17,
     "metadata": {},
     "output_type": "execute_result"
    }
   ],
   "source": [
    "img_arr.shape"
   ]
  },
  {
   "cell_type": "code",
   "execution_count": 18,
   "id": "09ff0380-9b3f-4061-ab2a-f6b0f62faaae",
   "metadata": {},
   "outputs": [
    {
     "data": {
      "text/plain": [
       "(torch.Tensor, torch.Size([32, 32, 3]), (96, 3, 1))"
      ]
     },
     "execution_count": 18,
     "metadata": {},
     "output_type": "execute_result"
    }
   ],
   "source": [
    "img_t = torch.from_numpy(img_arr)\n",
    "type(img_t), img_t.shape, img_t.stride()"
   ]
  },
  {
   "cell_type": "code",
   "execution_count": 19,
   "id": "fb581bc7-3935-4e8f-8a0a-1678f580aab8",
   "metadata": {},
   "outputs": [
    {
     "data": {
      "text/plain": [
       "(torch.Tensor, torch.Size([3, 32, 32]), (1, 96, 3))"
      ]
     },
     "execution_count": 19,
     "metadata": {},
     "output_type": "execute_result"
    }
   ],
   "source": [
    "img_t2 = img_t.permute(2, 0, 1)\n",
    "type(img_t2), img_t2.shape, img_t2.stride()"
   ]
  },
  {
   "cell_type": "code",
   "execution_count": 20,
   "id": "639301ed-dd34-4e94-938d-907a31ccbe4e",
   "metadata": {},
   "outputs": [
    {
     "data": {
      "text/plain": [
       "True"
      ]
     },
     "execution_count": 20,
     "metadata": {},
     "output_type": "execute_result"
    }
   ],
   "source": [
    "img_t.untyped_storage() == img_t2.untyped_storage()"
   ]
  },
  {
   "cell_type": "markdown",
   "id": "e6b37a8c-f44d-4902-9943-314c20b9c47c",
   "metadata": {},
   "source": [
    "> 可以看到`img_t2`使用与`img_t`相同的底层存储。"
   ]
  },
  {
   "cell_type": "code",
   "execution_count": 21,
   "id": "0a376ab3-fd5c-446b-919f-42fe7d4373a1",
   "metadata": {},
   "outputs": [
    {
     "data": {
      "text/plain": [
       "(torch.Size([32, 32, 3]), torch.Size([3, 32, 32]))"
      ]
     },
     "execution_count": 21,
     "metadata": {},
     "output_type": "execute_result"
    }
   ],
   "source": [
    "img_t.shape, img_t2.shape"
   ]
  },
  {
   "cell_type": "code",
   "execution_count": 22,
   "id": "6ba11067-6070-4cd7-bf97-17f485318671",
   "metadata": {},
   "outputs": [
    {
     "data": {
      "text/plain": [
       "tensor([62, 64, 44], dtype=torch.uint8)"
      ]
     },
     "execution_count": 22,
     "metadata": {},
     "output_type": "execute_result"
    }
   ],
   "source": [
    "img_t[0, 0, :]"
   ]
  },
  {
   "cell_type": "code",
   "execution_count": 23,
   "id": "a2047ac7-9472-4820-99d6-c33825168482",
   "metadata": {},
   "outputs": [
    {
     "data": {
      "text/plain": [
       "tensor([62, 64, 44], dtype=torch.uint8)"
      ]
     },
     "execution_count": 23,
     "metadata": {},
     "output_type": "execute_result"
    }
   ],
   "source": [
    "img_t2[:, 0, 0]"
   ]
  },
  {
   "cell_type": "markdown",
   "id": "30dddcaa-5073-44ef-8ad6-592ac9ebb2ab",
   "metadata": {},
   "source": [
    "### 6.4 加载多张图片"
   ]
  },
  {
   "cell_type": "code",
   "execution_count": 24,
   "id": "5985c8b3-d3fd-4a9c-b865-d1a70c3dc195",
   "metadata": {},
   "outputs": [],
   "source": [
    "image_path_dir = \"../../data/images/CIFAR10/automobile/\""
   ]
  },
  {
   "cell_type": "code",
   "execution_count": 25,
   "id": "fb0378b4-b38d-4499-aad3-91bcb54364b1",
   "metadata": {},
   "outputs": [],
   "source": [
    "import os"
   ]
  },
  {
   "cell_type": "code",
   "execution_count": 26,
   "id": "ca47514e-10b1-41a0-ad32-76c2adb187be",
   "metadata": {},
   "outputs": [
    {
     "data": {
      "text/plain": [
       "['automobile_75.png',\n",
       " 'automobile_61.png',\n",
       " 'automobile_60.png',\n",
       " 'automobile_99.png',\n",
       " 'automobile_64.png',\n",
       " 'automobile_65.png',\n",
       " 'automobile_4.png',\n",
       " 'automobile_32.png',\n",
       " 'automobile_5.png',\n",
       " 'automobile_97.png',\n",
       " 'automobile_96.png',\n",
       " 'automobile_94.png',\n",
       " 'automobile_46.png',\n",
       " 'automobile_79.png',\n",
       " 'automobile_45.png',\n",
       " 'automobile_44.png']"
      ]
     },
     "execution_count": 26,
     "metadata": {},
     "output_type": "execute_result"
    }
   ],
   "source": [
    "# 先查看一下，图片目录中的图片\n",
    "images = os.listdir(image_path_dir)\n",
    "images"
   ]
  },
  {
   "cell_type": "code",
   "execution_count": 27,
   "id": "5736ca42-77bf-4da3-81b5-8cfd230e6e72",
   "metadata": {},
   "outputs": [
    {
     "data": {
      "text/plain": [
       "16"
      ]
     },
     "execution_count": 27,
     "metadata": {},
     "output_type": "execute_result"
    }
   ],
   "source": [
    "# 查看图片长度\n",
    "len(images)"
   ]
  },
  {
   "cell_type": "code",
   "execution_count": 28,
   "id": "d33aeb6a-de68-4706-aec4-4b80b3c416f8",
   "metadata": {},
   "outputs": [],
   "source": [
    "# 创建一个: 16, 3, 32, 32维的张量存储图片\n",
    "count = len(images)\n",
    "# 图像尺寸是32 x 32，颜色通道是RGB的\n",
    "images_torch = torch.zeros(count, 3, 32, 32, dtype=torch.uint8)"
   ]
  },
  {
   "cell_type": "code",
   "execution_count": 29,
   "id": "1a27e896-5be3-4564-bff5-d92f4766c1e5",
   "metadata": {},
   "outputs": [
    {
     "data": {
      "text/plain": [
       "torch.Size([16, 3, 32, 32])"
      ]
     },
     "execution_count": 29,
     "metadata": {},
     "output_type": "execute_result"
    }
   ],
   "source": [
    "images_torch.shape"
   ]
  },
  {
   "cell_type": "code",
   "execution_count": 30,
   "id": "ae81e7c1-1ddf-4d5f-85b7-8265649d96f3",
   "metadata": {},
   "outputs": [],
   "source": [
    "# 遍历图片\n",
    "for i, filename in enumerate(images):\n",
    "    file_path = os.path.join(image_path_dir, filename)\n",
    "\n",
    "    # 不是以png,jpg结尾的，直接跳过\n",
    "    if os.path.splitext(filename)[-1] not in [\".png\", \".jpg\"]:\n",
    "        continue\n",
    "\n",
    "    # 加载图片，然后改变张量的形状\n",
    "    img_arr = imageio.imread(file_path)\n",
    "    img_t = torch.from_numpy(img_arr)\n",
    "    img_t = img_t.permute(2, 0, 1) # 改为 c h w\n",
    "    # 确保图片只保留3个通道\n",
    "    if img_t.shape[0] > 4:\n",
    "        img_t = img_t[:3]\n",
    "    # 加入到images_torch中\n",
    "    images_torch[i] = img_t"
   ]
  },
  {
   "cell_type": "code",
   "execution_count": 31,
   "id": "afa0476d-19a5-4ae9-bd82-2174e9b227b6",
   "metadata": {},
   "outputs": [
    {
     "data": {
      "text/plain": [
       "tensor([[[139, 144,  ..., 131, 129],\n",
       "         [139, 124,  ..., 108, 114],\n",
       "         ...,\n",
       "         [132, 124,  ..., 131, 132],\n",
       "         [110, 124,  ..., 128, 112]],\n",
       "\n",
       "        [[154, 160,  ..., 142, 141],\n",
       "         [148, 137,  ..., 112, 127],\n",
       "         ...,\n",
       "         [109, 105,  ..., 112, 110],\n",
       "         [108, 116,  ..., 114, 105]],\n",
       "\n",
       "        [[188, 192,  ...,  76,  70],\n",
       "         [180, 167,  ...,  76,  68],\n",
       "         ...,\n",
       "         [ 74,  69,  ...,  74,  70],\n",
       "         [ 52,  67,  ...,  75,  59]]], dtype=torch.uint8)"
      ]
     },
     "execution_count": 31,
     "metadata": {},
     "output_type": "execute_result"
    }
   ],
   "source": [
    "images_torch[-1,:,:,:]"
   ]
  },
  {
   "cell_type": "markdown",
   "id": "ea2c20f0-2474-401b-ad74-2faa98b86956",
   "metadata": {},
   "source": [
    "### 6.5 正规化数据\n",
    "\n",
    "神经网络通常使用浮点数张量作为输入，当输入的数据范围是：`0~1`或者`-1~1`时，神经网络的训练性能最佳。   \n",
    "而我们上面的图片数据类型是`torch.uint8`， 现在将这个张量转换为浮点数并对像素的值进行归一化。     \n",
    "\n",
    "将数据转换为浮点数比较简单，除以个数即可，这里我们可以除以255（`uint8`无符号二进制八位最大的标示值是255）。     \n",
    "但是归一化要复杂很多，因为这个取决于输入范围，是`0~1`还是`-1~1`。\n"
   ]
  },
  {
   "cell_type": "code",
   "execution_count": 32,
   "id": "434524b0-a82f-4eed-98ef-39411b40f0cc",
   "metadata": {},
   "outputs": [
    {
     "data": {
      "text/plain": [
       "(torch.Size([16, 3, 32, 32]), torch.uint8)"
      ]
     },
     "execution_count": 32,
     "metadata": {},
     "output_type": "execute_result"
    }
   ],
   "source": [
    "images_torch.shape, images_torch.dtype"
   ]
  },
  {
   "cell_type": "markdown",
   "id": "f8650a1d-d637-4653-a90d-ba58064566b1",
   "metadata": {},
   "source": [
    "#### 正规化方式1：\n",
    "除以255"
   ]
  },
  {
   "cell_type": "code",
   "execution_count": 33,
   "id": "591bd0da-ec75-4c3c-93dc-7c01f0c3228b",
   "metadata": {},
   "outputs": [
    {
     "data": {
      "text/plain": [
       "(torch.Size([16, 3, 32, 32]), torch.float32)"
      ]
     },
     "execution_count": 33,
     "metadata": {},
     "output_type": "execute_result"
    }
   ],
   "source": [
    "images_torch = images_torch.float()\n",
    "images_torch /= 255.0\n",
    "images_torch.shape, images_torch.dtype"
   ]
  },
  {
   "cell_type": "markdown",
   "id": "61aad8c3-e8a2-4672-bb9d-d4eea998ce98",
   "metadata": {},
   "source": [
    "#### 正规化方式2: \n",
    "计算输入数据的均值和标准差，并对其进行缩放，使每个通道的均值为0，标准差为1"
   ]
  },
  {
   "cell_type": "code",
   "execution_count": 34,
   "id": "d0257fd0-c25a-466c-9775-d28c81a93074",
   "metadata": {},
   "outputs": [],
   "source": [
    "channels_count = images_torch.shape[1]"
   ]
  },
  {
   "cell_type": "code",
   "execution_count": 35,
   "id": "3567efc7-7745-4b1f-ac00-237d2a133f00",
   "metadata": {},
   "outputs": [
    {
     "data": {
      "text/plain": [
       "3"
      ]
     },
     "execution_count": 35,
     "metadata": {},
     "output_type": "execute_result"
    }
   ],
   "source": [
    "# RGB的图像，那么其通道是3\n",
    "channels_count"
   ]
  },
  {
   "cell_type": "code",
   "execution_count": 36,
   "id": "5a53e288-41f4-47f8-8474-1e4e90677bcc",
   "metadata": {},
   "outputs": [],
   "source": [
    "for c in range(channels_count):\n",
    "    mean = torch.mean(images_torch[:, c])\n",
    "    std = torch.std(images_torch[:, c])\n",
    "    images_torch[:, c] = (images_torch[:, c] - mean) / std"
   ]
  },
  {
   "cell_type": "code",
   "execution_count": 37,
   "id": "43d99743-85ce-4141-ae43-58f756baf7e5",
   "metadata": {},
   "outputs": [
    {
     "data": {
      "text/plain": [
       "tensor([[[ 0.2926,  0.3707,  ...,  0.1677,  0.1365],\n",
       "         [ 0.2926,  0.0584,  ..., -0.1915, -0.0978],\n",
       "         ...,\n",
       "         [ 0.1833,  0.0584,  ...,  0.1677,  0.1833],\n",
       "         [-0.1602,  0.0584,  ...,  0.1208, -0.1290]],\n",
       "\n",
       "        [[ 0.7259,  0.8232,  ...,  0.5313,  0.5151],\n",
       "         [ 0.6286,  0.4502,  ...,  0.0447,  0.2880],\n",
       "         ...,\n",
       "         [-0.0040, -0.0688,  ...,  0.0447,  0.0123],\n",
       "         [-0.0202,  0.1096,  ...,  0.0771, -0.0688]],\n",
       "\n",
       "        [[ 1.2602,  1.3205,  ..., -0.4294, -0.5200],\n",
       "         [ 1.1395,  0.9434,  ..., -0.4294, -0.5501],\n",
       "         ...,\n",
       "         [-0.4596, -0.5351,  ..., -0.4596, -0.5200],\n",
       "         [-0.7915, -0.5652,  ..., -0.4445, -0.6859]]])"
      ]
     },
     "execution_count": 37,
     "metadata": {},
     "output_type": "execute_result"
    }
   ],
   "source": [
    "images_torch[-1, :, :, :]"
   ]
  },
  {
   "cell_type": "code",
   "execution_count": null,
   "id": "5f6dc2a7-62cb-4a59-8a2b-56ab96c99ce8",
   "metadata": {},
   "outputs": [],
   "source": []
  }
 ],
 "metadata": {
  "kernelspec": {
   "display_name": "Python 3 (ipykernel)",
   "language": "python",
   "name": "python3"
  },
  "language_info": {
   "codemirror_mode": {
    "name": "ipython",
    "version": 3
   },
   "file_extension": ".py",
   "mimetype": "text/x-python",
   "name": "python",
   "nbconvert_exporter": "python",
   "pygments_lexer": "ipython3",
   "version": "3.11.5"
  }
 },
 "nbformat": 4,
 "nbformat_minor": 5
}
