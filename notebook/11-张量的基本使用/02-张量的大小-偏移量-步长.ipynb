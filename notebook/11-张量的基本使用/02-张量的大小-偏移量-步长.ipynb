{
 "cells": [
  {
   "cell_type": "markdown",
   "id": "0f1f4db6-d36d-4185-9381-35b447331930",
   "metadata": {},
   "source": [
    "## 02. 张量的元数据：大小、偏移量和步长\n",
    "\n",
    "为了在存储区中建议索引，张量依赖一些元数据：大小、偏移量和步长。"
   ]
  },
  {
   "cell_type": "code",
   "execution_count": 1,
   "id": "b56281bf-6977-47e7-b7e4-dc572e7c7f55",
   "metadata": {},
   "outputs": [],
   "source": [
    "import torch"
   ]
  },
  {
   "cell_type": "code",
   "execution_count": 2,
   "id": "c1d66b07-beaf-4f8c-9fa7-6d8cab006e89",
   "metadata": {},
   "outputs": [
    {
     "data": {
      "text/plain": [
       "tensor([[1., 2., 3.],\n",
       "        [4., 5., 6.],\n",
       "        [7., 8., 9.]])"
      ]
     },
     "execution_count": 2,
     "metadata": {},
     "output_type": "execute_result"
    }
   ],
   "source": [
    "t1 = torch.tensor([\n",
    "    [1.0, 2.0, 3.0],\n",
    "    [4.0, 5.0, 6.0],\n",
    "    [7.0, 8.0, 9.0]\n",
    "])\n",
    "t1"
   ]
  },
  {
   "cell_type": "code",
   "execution_count": 3,
   "id": "4fcda2b0-eb89-4318-b05e-81efd3225252",
   "metadata": {},
   "outputs": [
    {
     "data": {
      "text/plain": [
       "tensor([4., 5., 6.])"
      ]
     },
     "execution_count": 3,
     "metadata": {},
     "output_type": "execute_result"
    }
   ],
   "source": [
    "# 从t1中获取个子张量\n",
    "t2 = t1[1]\n",
    "t2"
   ]
  },
  {
   "cell_type": "code",
   "execution_count": 4,
   "id": "14c71655-85fd-4c7b-a0ae-223298c63bae",
   "metadata": {},
   "outputs": [
    {
     "data": {
      "text/plain": [
       "True"
      ]
     },
     "execution_count": 4,
     "metadata": {},
     "output_type": "execute_result"
    }
   ],
   "source": [
    "t1.untyped_storage() == t2.untyped_storage()"
   ]
  },
  {
   "cell_type": "code",
   "execution_count": 5,
   "id": "f66edbf5-5a7d-440d-b909-8faff47311d6",
   "metadata": {},
   "outputs": [
    {
     "data": {
      "text/plain": [
       "True"
      ]
     },
     "execution_count": 5,
     "metadata": {},
     "output_type": "execute_result"
    }
   ],
   "source": [
    "id(t1.untyped_storage()) == id(t2.untyped_storage())"
   ]
  },
  {
   "cell_type": "markdown",
   "id": "a3e3b9d5-a791-4d8d-af90-71ff5abc21be",
   "metadata": {},
   "source": [
    "**可以看到`t1`和`t2`是共用一个存储区的。**"
   ]
  },
  {
   "cell_type": "code",
   "execution_count": 6,
   "id": "c696c87f-57f9-47a9-8cb7-20133285b926",
   "metadata": {},
   "outputs": [
    {
     "data": {
      "text/plain": [
       " 0\n",
       " 0\n",
       " 128\n",
       " 63\n",
       " 0\n",
       " 0\n",
       " 0\n",
       " 64\n",
       " 0\n",
       " 0\n",
       " 64\n",
       " 64\n",
       " 0\n",
       " 0\n",
       " 128\n",
       " 64\n",
       " 0\n",
       " 0\n",
       " 160\n",
       " 64\n",
       " 0\n",
       " 0\n",
       " 192\n",
       " 64\n",
       " 0\n",
       " 0\n",
       " 224\n",
       " 64\n",
       " 0\n",
       " 0\n",
       " 0\n",
       " 65\n",
       " 0\n",
       " 0\n",
       " 16\n",
       " 65\n",
       "[torch.storage.UntypedStorage(device=cpu) of size 36]"
      ]
     },
     "execution_count": 6,
     "metadata": {},
     "output_type": "execute_result"
    }
   ],
   "source": [
    "t2.untyped_storage()"
   ]
  },
  {
   "cell_type": "markdown",
   "id": "e63cefd4-f9e0-4682-91a5-e22d690f4495",
   "metadata": {},
   "source": [
    "### 2.1 张量的大小"
   ]
  },
  {
   "cell_type": "code",
   "execution_count": 7,
   "id": "d6464f94-7e12-4c1c-8c01-0003595dd1aa",
   "metadata": {},
   "outputs": [
    {
     "data": {
      "text/plain": [
       "(torch.Size([3, 3]), torch.Size([3, 3]), torch.float32)"
      ]
     },
     "execution_count": 7,
     "metadata": {},
     "output_type": "execute_result"
    }
   ],
   "source": [
    "# 查看张量的大小，shape、类型\n",
    "t1.size(), t1.shape, t1.dtype"
   ]
  },
  {
   "cell_type": "code",
   "execution_count": 8,
   "id": "0c45f20a-0ea8-4007-93e2-1dfd10b83fea",
   "metadata": {},
   "outputs": [
    {
     "data": {
      "text/plain": [
       "(torch.Size([3]), torch.Size([3]), torch.float32)"
      ]
     },
     "execution_count": 8,
     "metadata": {},
     "output_type": "execute_result"
    }
   ],
   "source": [
    "t2.size(), t2.shape, t2.dtype"
   ]
  },
  {
   "cell_type": "markdown",
   "id": "e50875b8-bb53-47a6-8b8d-25fcb217b1a6",
   "metadata": {},
   "source": [
    "**函数`size()`是`Size`类的一个实例，其所包含的信息与张量对象的`shape`属性所包含的信息是一样的。**"
   ]
  },
  {
   "cell_type": "code",
   "execution_count": 9,
   "id": "0baecd7c-7473-41b7-a550-e0e60464041e",
   "metadata": {},
   "outputs": [
    {
     "data": {
      "text/plain": [
       "True"
      ]
     },
     "execution_count": 9,
     "metadata": {},
     "output_type": "execute_result"
    }
   ],
   "source": [
    "t2.size() == t2.shape"
   ]
  },
  {
   "cell_type": "code",
   "execution_count": 10,
   "id": "814f2cc0-cb5f-489e-911d-449be516e1fb",
   "metadata": {},
   "outputs": [
    {
     "data": {
      "text/plain": [
       "True"
      ]
     },
     "execution_count": 10,
     "metadata": {},
     "output_type": "execute_result"
    }
   ],
   "source": [
    "id(t2.size()) == id(t2.shape)"
   ]
  },
  {
   "cell_type": "markdown",
   "id": "736834f3-169a-49aa-9b75-3364ba1b88d1",
   "metadata": {},
   "source": [
    "### 2.2 张量的偏移量"
   ]
  },
  {
   "cell_type": "code",
   "execution_count": 11,
   "id": "23658fb4-8617-4aa1-8c46-609787215d00",
   "metadata": {},
   "outputs": [
    {
     "data": {
      "text/plain": [
       "0"
      ]
     },
     "execution_count": 11,
     "metadata": {},
     "output_type": "execute_result"
    }
   ],
   "source": [
    "# 查看张量的偏移量\n",
    "t1.storage_offset()"
   ]
  },
  {
   "cell_type": "code",
   "execution_count": 12,
   "id": "9040d48c-9973-4d26-b0a9-e4514dec7c01",
   "metadata": {},
   "outputs": [
    {
     "data": {
      "text/plain": [
       "3"
      ]
     },
     "execution_count": 12,
     "metadata": {},
     "output_type": "execute_result"
    }
   ],
   "source": [
    "# 查看张量t2的偏移量\n",
    "t2.storage_offset()"
   ]
  },
  {
   "cell_type": "markdown",
   "id": "a6f6f3bb-cfec-49eb-83fb-6f7011c07cec",
   "metadata": {},
   "source": [
    "**得到张量`t2`的存储区域中的偏移量是`3`, 这是因为我们需要跳过`1`个点，该点有`3`个元素。**"
   ]
  },
  {
   "cell_type": "markdown",
   "id": "cacf23d7-0bf0-42da-b0ca-9de0aa803809",
   "metadata": {},
   "source": [
    "### 2.3 张量的步长"
   ]
  },
  {
   "cell_type": "code",
   "execution_count": 13,
   "id": "df2e0605-1978-485b-b53a-3dcb23ab3bc0",
   "metadata": {},
   "outputs": [
    {
     "data": {
      "text/plain": [
       "((3, 1), (1,))"
      ]
     },
     "execution_count": 13,
     "metadata": {},
     "output_type": "execute_result"
    }
   ],
   "source": [
    "t1.stride(), t2.stride()"
   ]
  },
  {
   "cell_type": "markdown",
   "id": "d8e843a9-2764-4512-ae04-402627f8c73b",
   "metadata": {},
   "source": [
    "**步长是一个元组，指示当索引在每个维度中增加1时，在存储区中必须跳过的元素数量。**   \n",
    "例如：`t1`的步长为`(3.1)`。"
   ]
  },
  {
   "cell_type": "markdown",
   "id": "85f60e38-5b07-4658-abce-e850c65e91f7",
   "metadata": {},
   "source": [
    "### 2.4 克隆新的张量"
   ]
  },
  {
   "cell_type": "markdown",
   "id": "9004554a-64a7-4aff-8a66-f4089c4194de",
   "metadata": {},
   "source": [
    "clone()之前让我们，修改t2中的某个元素，看下t1是否也修改了。"
   ]
  },
  {
   "cell_type": "code",
   "execution_count": 14,
   "id": "fa58e7cd-ae7d-4a9c-845c-7e8a8dbca877",
   "metadata": {},
   "outputs": [
    {
     "data": {
      "text/plain": [
       "tensor([4.0000, 5.2222, 6.0000])"
      ]
     },
     "execution_count": 14,
     "metadata": {},
     "output_type": "execute_result"
    }
   ],
   "source": [
    "t2[1] = 5.2222\n",
    "t2"
   ]
  },
  {
   "cell_type": "code",
   "execution_count": 15,
   "id": "2f39446c-af32-4d28-88c1-31f830afe287",
   "metadata": {},
   "outputs": [
    {
     "data": {
      "text/plain": [
       "tensor([[1.0000, 2.0000, 3.0000],\n",
       "        [4.0000, 5.2222, 6.0000],\n",
       "        [7.0000, 8.0000, 9.0000]])"
      ]
     },
     "execution_count": 15,
     "metadata": {},
     "output_type": "execute_result"
    }
   ],
   "source": [
    "t1"
   ]
  },
  {
   "cell_type": "markdown",
   "id": "5348f396-a214-4e2d-b742-6f3713f00ef7",
   "metadata": {},
   "source": [
    "**我们看到t1也修改了一个元素`t[1][1]`。** "
   ]
  },
  {
   "cell_type": "code",
   "execution_count": 16,
   "id": "f3e23ca2-a9c5-4069-841d-94684ecfc536",
   "metadata": {},
   "outputs": [
    {
     "data": {
      "text/plain": [
       "tensor([4.0000, 5.2222, 6.0000])"
      ]
     },
     "execution_count": 16,
     "metadata": {},
     "output_type": "execute_result"
    }
   ],
   "source": [
    "# 我们复制一个新的张量\n",
    "t3 = t1[1].clone()\n",
    "t3"
   ]
  },
  {
   "cell_type": "code",
   "execution_count": 17,
   "id": "3e52f133-f253-4c0c-b40d-0aae457d3122",
   "metadata": {},
   "outputs": [
    {
     "data": {
      "text/plain": [
       "(torch.Size([3]), 0, (1,))"
      ]
     },
     "execution_count": 17,
     "metadata": {},
     "output_type": "execute_result"
    }
   ],
   "source": [
    "# 查看t3的：大小、偏移量、步长\n",
    "t3.size(), t3.storage_offset(), t3.stride(),"
   ]
  },
  {
   "cell_type": "code",
   "execution_count": 18,
   "id": "c47264b9-4f6e-42f7-aa00-4942e36ef485",
   "metadata": {},
   "outputs": [
    {
     "data": {
      "text/plain": [
       "False"
      ]
     },
     "execution_count": 18,
     "metadata": {},
     "output_type": "execute_result"
    }
   ],
   "source": [
    "t3.untyped_storage() == t1.untyped_storage()"
   ]
  },
  {
   "cell_type": "markdown",
   "id": "67e70799-3f83-4b06-99a0-e31671ee5c8a",
   "metadata": {},
   "source": [
    "可以看到我们加了`.clone()`就是使用新的存储区了，而不是在`t1`原有的存储区上。  \n",
    "那么我们修改t3中的元素，对t1不会有影响。"
   ]
  },
  {
   "cell_type": "code",
   "execution_count": 19,
   "id": "5d1ed006-5275-4a4a-979d-ce3e1db6063f",
   "metadata": {},
   "outputs": [
    {
     "data": {
      "text/plain": [
       "tensor([4.0000, 5.1111, 6.0000])"
      ]
     },
     "execution_count": 19,
     "metadata": {},
     "output_type": "execute_result"
    }
   ],
   "source": [
    "t3[1] = 5.1111\n",
    "t3"
   ]
  },
  {
   "cell_type": "code",
   "execution_count": 20,
   "id": "1764988c-9df4-42d0-8789-c60aa2a18a58",
   "metadata": {},
   "outputs": [
    {
     "data": {
      "text/plain": [
       "tensor([[1.0000, 2.0000, 3.0000],\n",
       "        [4.0000, 5.2222, 6.0000],\n",
       "        [7.0000, 8.0000, 9.0000]])"
      ]
     },
     "execution_count": 20,
     "metadata": {},
     "output_type": "execute_result"
    }
   ],
   "source": [
    "t1"
   ]
  },
  {
   "cell_type": "code",
   "execution_count": null,
   "id": "8c2762ad-d4f7-4b4c-9b5e-8f2bb881d4ad",
   "metadata": {},
   "outputs": [],
   "source": []
  }
 ],
 "metadata": {
  "kernelspec": {
   "display_name": "Python 3 (ipykernel)",
   "language": "python",
   "name": "python3"
  },
  "language_info": {
   "codemirror_mode": {
    "name": "ipython",
    "version": 3
   },
   "file_extension": ".py",
   "mimetype": "text/x-python",
   "name": "python",
   "nbconvert_exporter": "python",
   "pygments_lexer": "ipython3",
   "version": "3.11.5"
  }
 },
 "nbformat": 4,
 "nbformat_minor": 5
}
