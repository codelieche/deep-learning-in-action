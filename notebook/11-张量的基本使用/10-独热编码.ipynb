{
 "cells": [
  {
   "cell_type": "markdown",
   "id": "dcdc9767-0c47-44da-8e22-f900d6221c1f",
   "metadata": {},
   "source": [
    "## One-Hot Encoding: 独热编码\n",
    "\n",
    "**独热编码**是一种在张量中表示分类数据非常有用的技术。\n",
    "\n",
    "比如：我们有一个红、绿、蓝三个分类。   \n",
    "在独热编码之前，你可能只是用文字（红、绿、蓝）来表示，但是计算机是不理解这些文字的。\n",
    "那么我们可以用三个数字来表示这个变量。比如：\n",
    "- `[1, 0, 0]`: 来表示`红`。\n",
    "- `[0, 1, 0]`: 来表示`绿`。\n",
    "- `[0, 0, 1]`: 来表示`蓝`。\n",
    "\n",
    "  这样计算机就可以通过这三个数字组合来识别不同的颜色了。\n",
    "\n",
    "另外可以用一个长度为10的张量，来分别表示数字`0 ~ 9`。"
   ]
  },
  {
   "cell_type": "code",
   "execution_count": 1,
   "id": "ef5b19cf-6c0e-4687-b745-18f2d225ccb2",
   "metadata": {},
   "outputs": [],
   "source": [
    "import torch\n",
    "import numpy as np"
   ]
  },
  {
   "cell_type": "markdown",
   "id": "2e1bb594-23de-443e-8221-008c66dad2f4",
   "metadata": {},
   "source": [
    "### 1. 独热编码示例：RGB"
   ]
  },
  {
   "cell_type": "code",
   "execution_count": 2,
   "id": "831e8de6-0378-4aa7-9ba3-0a149e9bdf48",
   "metadata": {},
   "outputs": [],
   "source": [
    "# 3个基础色\n",
    "base_color = [\"红\", \"绿\", \"蓝\"]"
   ]
  },
  {
   "cell_type": "code",
   "execution_count": 3,
   "id": "e5a6d8aa-1fec-4677-9ad7-5b6021afbc6a",
   "metadata": {},
   "outputs": [
    {
     "data": {
      "text/plain": [
       "array(['蓝', '绿', '红', '绿', '蓝', '蓝', '绿', '绿', '蓝', '绿'], dtype='<U1')"
      ]
     },
     "execution_count": 3,
     "metadata": {},
     "output_type": "execute_result"
    }
   ],
   "source": [
    "# 颜色列表\n",
    "colors = np.random.choice(base_color, 10)\n",
    "colors"
   ]
  },
  {
   "cell_type": "code",
   "execution_count": 4,
   "id": "49cda53e-0bca-4d3f-a963-a909fa8abb95",
   "metadata": {},
   "outputs": [
    {
     "data": {
      "text/plain": [
       "tensor([[0., 0., 0.],\n",
       "        [0., 0., 0.],\n",
       "        [0., 0., 0.],\n",
       "        [0., 0., 0.],\n",
       "        [0., 0., 0.],\n",
       "        [0., 0., 0.],\n",
       "        [0., 0., 0.],\n",
       "        [0., 0., 0.],\n",
       "        [0., 0., 0.],\n",
       "        [0., 0., 0.]])"
      ]
     },
     "execution_count": 4,
     "metadata": {},
     "output_type": "execute_result"
    }
   ],
   "source": [
    "# 颜色张量\n",
    "colors_t = torch.zeros(len(colors), len(base_color))\n",
    "colors_t"
   ]
  },
  {
   "cell_type": "markdown",
   "id": "9c4bae3c-9759-40c8-93d9-ea7660ded735",
   "metadata": {},
   "source": [
    "现在我们想让：\n",
    "- `[1, 0, 0]`: 来表示`红`。\n",
    "- `[0, 1, 0]`: 来表示`绿`。\n",
    "- `[0, 0, 1]`: 来表示`蓝`。"
   ]
  },
  {
   "cell_type": "code",
   "execution_count": 5,
   "id": "e5b444d8-a39f-4944-8bbf-4782b789d80d",
   "metadata": {},
   "outputs": [
    {
     "data": {
      "text/plain": [
       "(0, 1, 2)"
      ]
     },
     "execution_count": 5,
     "metadata": {},
     "output_type": "execute_result"
    }
   ],
   "source": [
    "base_color.index(\"红\"),base_color.index(\"绿\"),base_color.index(\"蓝\")"
   ]
  },
  {
   "cell_type": "code",
   "execution_count": 6,
   "id": "12c977eb-caa6-48c4-9eef-080f7965cdd5",
   "metadata": {},
   "outputs": [
    {
     "data": {
      "text/plain": [
       "tensor([[0., 0., 1.],\n",
       "        [0., 1., 0.],\n",
       "        [1., 0., 0.],\n",
       "        [0., 1., 0.],\n",
       "        [0., 0., 1.],\n",
       "        [0., 0., 1.],\n",
       "        [0., 1., 0.],\n",
       "        [0., 1., 0.],\n",
       "        [0., 0., 1.],\n",
       "        [0., 1., 0.]])"
      ]
     },
     "execution_count": 6,
     "metadata": {},
     "output_type": "execute_result"
    }
   ],
   "source": [
    "for i, color in enumerate(colors):\n",
    "    # 修改colors_t\n",
    "    color_index = base_color.index(color)\n",
    "    colors_t[i][color_index] = 1\n",
    "# 再次查看colors_t\n",
    "colors_t"
   ]
  },
  {
   "cell_type": "code",
   "execution_count": 7,
   "id": "6a2f6ff3-f8a4-40af-925b-d438555cd0e5",
   "metadata": {},
   "outputs": [
    {
     "data": {
      "text/plain": [
       "('蓝', tensor([0., 0., 1.]))"
      ]
     },
     "execution_count": 7,
     "metadata": {},
     "output_type": "execute_result"
    }
   ],
   "source": [
    "# 查看颜色，是否正确\n",
    "colors[5], colors_t[5]"
   ]
  },
  {
   "cell_type": "markdown",
   "id": "58bb455a-cb9b-41c7-b7de-5307ab3bc4ad",
   "metadata": {},
   "source": [
    "### 2. 独热编码示例：文本"
   ]
  },
  {
   "cell_type": "markdown",
   "id": "b838e8eb-9e5d-4943-906f-e497f2e0b39b",
   "metadata": {},
   "source": [
    "#### 2.1 首先准备一段文本\n"
   ]
  },
  {
   "cell_type": "code",
   "execution_count": 8,
   "id": "68830e8f-d3a7-4689-a3cf-c39eaebb7e09",
   "metadata": {},
   "outputs": [],
   "source": [
    "text = \"\"\"\n",
    "PyTorch is an optimized tensor library for deep learning using GPUs and CPUs.\n",
    "\n",
    "Features described in this documentation are classified by release status:\n",
    "\n",
    "Stable: These features will be maintained long-term and there should generally be no major performance limitations or gaps in documentation. We also expect to maintain backwards compatibility (although breaking changes can happen and notice will be given one release ahead of time).\n",
    "\n",
    "Beta: These features are tagged as Beta because the API may change based on user feedback, because the performance needs to improve, or because coverage across operators is not yet complete. For Beta features, we are committing to seeing the feature through to the Stable classification. We are not, however, committing to backwards compatibility.\n",
    "\n",
    "Prototype: These features are typically not available as part of binary distributions like PyPI or Conda, except sometimes behind run-time flags, and are at an early stage for feedback and testing.\n",
    "\"\"\""
   ]
  },
  {
   "cell_type": "code",
   "execution_count": 9,
   "id": "b2d14a38-121a-4566-abfb-453e22b490c7",
   "metadata": {},
   "outputs": [
    {
     "data": {
      "text/plain": [
       "5"
      ]
     },
     "execution_count": 9,
     "metadata": {},
     "output_type": "execute_result"
    }
   ],
   "source": [
    "lines = [line for line in text.split(\"\\n\") if line]\n",
    "len(lines)"
   ]
  },
  {
   "cell_type": "markdown",
   "id": "86ae1eb2-2450-4890-9933-afa28b8bb134",
   "metadata": {},
   "source": [
    "#### 2.2 独热编码：ASCII字符\n",
    "\n",
    "ASCII字符总共是128个字符，那么我们独热编码长度也应该是128."
   ]
  },
  {
   "cell_type": "code",
   "execution_count": 10,
   "id": "585828d1-73e2-4b75-9fb9-0f79a7633e30",
   "metadata": {},
   "outputs": [
    {
     "name": "stdout",
     "output_type": "stream",
     "text": [
      "77\n"
     ]
    },
    {
     "data": {
      "text/plain": [
       "'PyTorch is an optimized tensor library for deep learning using GPUs and CPUs.'"
      ]
     },
     "execution_count": 10,
     "metadata": {},
     "output_type": "execute_result"
    }
   ],
   "source": [
    "line = lines[0]\n",
    "# 查看第一行的长度\n",
    "print(len(line))\n",
    "line"
   ]
  },
  {
   "cell_type": "markdown",
   "id": "1679c5db-6d46-416b-90b5-0cb7134b8a80",
   "metadata": {},
   "source": [
    "**先对第一行，编码一下：**"
   ]
  },
  {
   "cell_type": "code",
   "execution_count": 11,
   "id": "9461d2ca-e8d0-4127-97f2-ab3ba5b26fd7",
   "metadata": {},
   "outputs": [],
   "source": [
    "line_letter_tensor = torch.zeros(len(line), 128)"
   ]
  },
  {
   "cell_type": "code",
   "execution_count": 12,
   "id": "c9d78281-99c3-4051-b4c8-19fd0a5e8189",
   "metadata": {},
   "outputs": [
    {
     "data": {
      "text/plain": [
       "tensor([0., 0., 0., 0., 0., 0., 0., 0., 0., 0., 0., 0., 0., 0., 0., 0., 0., 0., 0., 0., 0., 0., 0., 0.,\n",
       "        0., 0., 0., 0., 0., 0., 0., 0., 0., 0., 0., 0., 0., 0., 0., 0., 0., 0., 0., 0., 0., 0., 0., 0.,\n",
       "        0., 0., 0., 0., 0., 0., 0., 0., 0., 0., 0., 0., 0., 0., 0., 0., 0., 0., 0., 0., 0., 0., 0., 0.,\n",
       "        0., 0., 0., 0., 0., 0., 0., 0., 0., 0., 0., 0., 0., 0., 0., 0., 0., 0., 0., 0., 0., 0., 0., 0.,\n",
       "        0., 0., 0., 0., 0., 0., 0., 0., 0., 0., 0., 0., 0., 0., 0., 0., 0., 0., 0., 0., 0., 0., 0., 0.,\n",
       "        0., 0., 0., 0., 0., 0., 0., 0.])"
      ]
     },
     "execution_count": 12,
     "metadata": {},
     "output_type": "execute_result"
    }
   ],
   "source": [
    "line_letter_tensor[0]"
   ]
  },
  {
   "cell_type": "code",
   "execution_count": 13,
   "id": "5cd39d10-721d-4955-a6be-e01a7f00baea",
   "metadata": {},
   "outputs": [
    {
     "data": {
      "text/plain": [
       "torch.Size([77, 128])"
      ]
     },
     "execution_count": 13,
     "metadata": {},
     "output_type": "execute_result"
    }
   ],
   "source": [
    "line_letter_tensor.shape"
   ]
  },
  {
   "cell_type": "code",
   "execution_count": 14,
   "id": "c1bb3d88-0131-4df0-842f-460c1593e94f",
   "metadata": {},
   "outputs": [
    {
     "name": "stdout",
     "output_type": "stream",
     "text": [
      "0 P 80 80\n",
      "1 y 121 121\n",
      "2 T 84 84\n",
      "3 o 111 111\n",
      "4 r 114 114\n",
      "5 c 99 99\n"
     ]
    },
    {
     "data": {
      "text/plain": [
       "tensor([0., 0., 0., 0., 0., 0., 0., 0., 0., 0., 0., 0., 0., 0., 0., 0., 0., 0.,\n",
       "        0., 0., 0., 0., 0., 0., 0., 0., 0., 0., 0., 0., 0., 0., 0., 0., 0., 0.,\n",
       "        0., 0., 0., 0., 0., 0., 0., 0., 0., 0., 0., 0., 0., 0., 0., 0., 0., 0.,\n",
       "        0., 0., 0., 0., 0., 0., 0., 0., 0., 0., 0., 0., 0., 0., 0., 0., 0., 0.,\n",
       "        0., 0., 0., 0., 0., 0., 0., 0., 1., 0., 0., 0., 0., 0., 0., 0., 0., 0.,\n",
       "        0., 0., 0., 0., 0., 0., 0., 0., 0., 0., 0., 0., 0., 0., 0., 0., 0., 0.,\n",
       "        0., 0., 0., 0., 0., 0., 0., 0., 0., 0., 0., 0., 0., 0., 0., 0., 0., 0.,\n",
       "        0., 0.])"
      ]
     },
     "execution_count": 14,
     "metadata": {},
     "output_type": "execute_result"
    }
   ],
   "source": [
    "# 根据字符，修改一下line_letter_tensor\n",
    "for i, letter in enumerate(line.strip()):\n",
    "    # ASCII是128个字符\n",
    "    letter_index = ord(letter) if ord(letter) <= 128 else 0\n",
    "    \n",
    "    if i <= 5:\n",
    "        print(i, letter, ord(letter), letter_index)\n",
    "    \n",
    "    # 对字符所在的位置设置为1\n",
    "    line_letter_tensor[i][letter_index] = 1\n",
    "\n",
    "# 查看第一个值\n",
    "line_letter_tensor[0]"
   ]
  },
  {
   "cell_type": "markdown",
   "id": "66e03aa3-f790-4cda-b003-63e28a37fbf2",
   "metadata": {},
   "source": [
    "**注意：** 上面的文档编码是ASSII的，如果是中文，那么会超出`ord(letter)`128的, 超出范围的我们给置为`0`。"
   ]
  },
  {
   "cell_type": "code",
   "execution_count": 15,
   "id": "e521a5e7-ca4e-4a83-b555-9f1ad1f4953b",
   "metadata": {},
   "outputs": [
    {
     "data": {
      "text/plain": [
       "tensor(1.)"
      ]
     },
     "execution_count": 15,
     "metadata": {},
     "output_type": "execute_result"
    }
   ],
   "source": [
    "line_letter_tensor[0][80]"
   ]
  },
  {
   "cell_type": "markdown",
   "id": "76a1b75d-a2b8-4317-a0e7-115409b3a8f8",
   "metadata": {},
   "source": [
    "#### 2.2 独热编码：单词\n",
    "\n",
    "为了简化，我们把所有字符改为小写，然后去掉各种分隔符，然后根据空格来分割文本，把文本分割成一个一个的单词。"
   ]
  },
  {
   "cell_type": "code",
   "execution_count": 16,
   "id": "a2051aac-823d-45f1-bf97-4f31f6f2c36c",
   "metadata": {},
   "outputs": [],
   "source": [
    "# 分割单词\n",
    "def text_to_word(source):\n",
    "    # 根据空格分割了文本\n",
    "    word_list = source.lower().replace(\"\\n\", \" \").split()\n",
    "    \n",
    "    # 把标点符号去掉\n",
    "    punctuation = ',.;:!?\"_-'\n",
    "    word_list = [word.strip(punctuation) for word in word_list]\n",
    "\n",
    "    # 返回单词列表\n",
    "    return word_list"
   ]
  },
  {
   "cell_type": "code",
   "execution_count": 17,
   "id": "96e7e49b-e0ce-4db0-bfc5-eff6d762f41c",
   "metadata": {},
   "outputs": [
    {
     "name": "stdout",
     "output_type": "stream",
     "text": [
      "PyTorch is an optimized tensor library for deep learning using GPUs and CPUs.\n"
     ]
    },
    {
     "data": {
      "text/plain": [
       "['pytorch',\n",
       " 'is',\n",
       " 'an',\n",
       " 'optimized',\n",
       " 'tensor',\n",
       " 'library',\n",
       " 'for',\n",
       " 'deep',\n",
       " 'learning',\n",
       " 'using',\n",
       " 'gpus',\n",
       " 'and',\n",
       " 'cpus']"
      ]
     },
     "execution_count": 17,
     "metadata": {},
     "output_type": "execute_result"
    }
   ],
   "source": [
    "# 先验证一下第一行\n",
    "line = lines[0]\n",
    "print(line)\n",
    "\n",
    "text_to_word(line)"
   ]
  },
  {
   "cell_type": "code",
   "execution_count": 18,
   "id": "2c902218-eac3-4c06-9a1a-e59d1865edbf",
   "metadata": {},
   "outputs": [
    {
     "data": {
      "text/plain": [
       "150"
      ]
     },
     "execution_count": 18,
     "metadata": {},
     "output_type": "execute_result"
    }
   ],
   "source": [
    "# 文本的单词列表\n",
    "words_list = text_to_word(text)\n",
    "len(words_list)"
   ]
  },
  {
   "cell_type": "code",
   "execution_count": 19,
   "id": "b7b6be6d-7bcf-4ea3-8538-0ff4a777a0e4",
   "metadata": {},
   "outputs": [
    {
     "data": {
      "text/plain": [
       "100"
      ]
     },
     "execution_count": 19,
     "metadata": {},
     "output_type": "execute_result"
    }
   ],
   "source": [
    "# 获取所有的文本中的单词集合，且排序一下\n",
    "words_set = sorted(set(words_list))\n",
    "# 查看单词的长度\n",
    "len(words_set)"
   ]
  },
  {
   "cell_type": "code",
   "execution_count": 20,
   "id": "ca90e7ad-ea60-4184-9bf3-0a84f0d18559",
   "metadata": {},
   "outputs": [
    {
     "data": {
      "text/plain": [
       "31"
      ]
     },
     "execution_count": 20,
     "metadata": {},
     "output_type": "execute_result"
    }
   ],
   "source": [
    "# 给单词编一个号\n",
    "word_to_index_dict = {\n",
    "    word: i for (i, word) in enumerate(words_set)\n",
    "}\n",
    "# 查看deep的index\n",
    "word_to_index_dict[\"deep\"]"
   ]
  },
  {
   "cell_type": "code",
   "execution_count": 21,
   "id": "12132487-99eb-4ce7-9d2f-337277f52abb",
   "metadata": {},
   "outputs": [
    {
     "data": {
      "text/plain": [
       "torch.Size([150, 100])"
      ]
     },
     "execution_count": 21,
     "metadata": {},
     "output_type": "execute_result"
    }
   ],
   "source": [
    "# 单词张量\n",
    "words_tensor = torch.zeros(len(words_list), len(word_to_index_dict))\n",
    "words_tensor.shape"
   ]
  },
  {
   "cell_type": "code",
   "execution_count": 22,
   "id": "c7220ca8-dfd6-4faa-b1cb-48d28136bd93",
   "metadata": {},
   "outputs": [
    {
     "name": "stdout",
     "output_type": "stream",
     "text": [
      "  0   75 pytorch\n",
      "  1   51 is\n",
      "  2    4 an\n",
      "  3   69 optimized\n",
      "  4   85 tensor\n",
      "  5   53 library\n",
      "  6   42 for\n",
      "  7   31 deep\n",
      "  8   52 learning\n",
      "  9   96 using\n"
     ]
    }
   ],
   "source": [
    "# 修改words_tensor中每个单词的独热编码值\n",
    "for i, word in enumerate(words_list):\n",
    "    # 获取单词的索引\n",
    "    word_index = word_to_index_dict.get(word, 0)  # 防止有不在里面的单词\n",
    "    # 修改单词的独热编码\n",
    "    words_tensor[i][word_index] = 1\n",
    "    if i < 10:\n",
    "        print(\"{:3} {:4} {}\".format(i, word_index, word))"
   ]
  },
  {
   "cell_type": "code",
   "execution_count": 23,
   "id": "1e68a920-9395-4803-a422-b823c8b92836",
   "metadata": {},
   "outputs": [
    {
     "data": {
      "text/plain": [
       "tensor([0., 0., 0., 0., 0., 0., 0., 0., 0., 0., 0., 0., 0., 0., 0., 0., 0., 0.,\n",
       "        0., 0., 0., 0., 0., 0., 0., 0., 0., 0., 0., 0., 0., 0., 0., 0., 0., 0.,\n",
       "        0., 0., 0., 0., 0., 0., 0., 0., 0., 0., 0., 0., 0., 0., 0., 0., 0., 0.,\n",
       "        0., 0., 0., 0., 0., 0., 0., 0., 0., 0., 0., 0., 0., 0., 0., 0., 0., 0.,\n",
       "        0., 0., 0., 1., 0., 0., 0., 0., 0., 0., 0., 0., 0., 0., 0., 0., 0., 0.,\n",
       "        0., 0., 0., 0., 0., 0., 0., 0., 0., 0.])"
      ]
     },
     "execution_count": 23,
     "metadata": {},
     "output_type": "execute_result"
    }
   ],
   "source": [
    "# 现在查看第1个单词的独热编码\n",
    "words_tensor[0]"
   ]
  },
  {
   "cell_type": "code",
   "execution_count": 24,
   "id": "d11b9db8-978e-416c-84b5-f45d987bf815",
   "metadata": {},
   "outputs": [
    {
     "data": {
      "text/plain": [
       "torch.Size([150, 100])"
      ]
     },
     "execution_count": 24,
     "metadata": {},
     "output_type": "execute_result"
    }
   ],
   "source": [
    "words_tensor.shape"
   ]
  },
  {
   "cell_type": "markdown",
   "id": "d04dc81c-4720-4ee3-b7fa-962bf044e1aa",
   "metadata": {},
   "source": [
    "上面表示：我们有一个长度为150的句子，编码空间大小为`100`（我们单词字典中单词数量是100）。   \n",
    "**当文本很大的时候，单词的组合是可以千千万的。** 所以根据字符组合的**单词独热编码** 我们项目中也是不会用的。\n",
    "\n",
    "**独热编码**是一种在张量中表示分类数据非常有用的技术，但是当要编码的数据量很大时，独热编码就特别吃力或者无能为力了。  \n",
    "\n",
    "这个时候我们就考虑使用**文本嵌入**。"
   ]
  },
  {
   "cell_type": "code",
   "execution_count": null,
   "id": "6a728c58-4839-423a-bcde-3b68ef833631",
   "metadata": {},
   "outputs": [],
   "source": []
  }
 ],
 "metadata": {
  "kernelspec": {
   "display_name": "Python 3 (ipykernel)",
   "language": "python",
   "name": "python3"
  },
  "language_info": {
   "codemirror_mode": {
    "name": "ipython",
    "version": 3
   },
   "file_extension": ".py",
   "mimetype": "text/x-python",
   "name": "python",
   "nbconvert_exporter": "python",
   "pygments_lexer": "ipython3",
   "version": "3.11.5"
  }
 },
 "nbformat": 4,
 "nbformat_minor": 5
}
