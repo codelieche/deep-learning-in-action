{
 "cells": [
  {
   "cell_type": "markdown",
   "id": "9fb84788-3d64-4183-9ed4-53f6f4c4d4d1",
   "metadata": {},
   "source": [
    "## 张量的数学计算--2个张量不同维度"
   ]
  },
  {
   "cell_type": "code",
   "execution_count": 1,
   "id": "ebbc0fa9-f20e-4fb3-a9fe-f57af6be6e26",
   "metadata": {},
   "outputs": [
    {
     "name": "stdout",
     "output_type": "stream",
     "text": [
      "\n"
     ]
    }
   ],
   "source": [
    "import torch\n",
    "torch.manual_seed(123456)\n",
    "print(\"\")"
   ]
  },
  {
   "cell_type": "markdown",
   "id": "3ba39cc7-9236-47d1-b0c1-c2913332d6ae",
   "metadata": {},
   "source": [
    "### 1. 先生成2个不同维度的张量"
   ]
  },
  {
   "cell_type": "code",
   "execution_count": 2,
   "id": "2a4b6497-b53d-4154-ade1-b81f04778953",
   "metadata": {},
   "outputs": [
    {
     "data": {
      "text/plain": [
       "tensor([[1.],\n",
       "        [1.],\n",
       "        [1.]])"
      ]
     },
     "execution_count": 2,
     "metadata": {},
     "output_type": "execute_result"
    }
   ],
   "source": [
    "t1 = torch.ones(3, 1)\n",
    "t1"
   ]
  },
  {
   "cell_type": "code",
   "execution_count": 3,
   "id": "c801b530-8e03-42bf-8cb4-31394d055df1",
   "metadata": {},
   "outputs": [
    {
     "data": {
      "text/plain": [
       "tensor([[1.],\n",
       "        [2.],\n",
       "        [3.]])"
      ]
     },
     "execution_count": 3,
     "metadata": {},
     "output_type": "execute_result"
    }
   ],
   "source": [
    "t1 = t1 * torch.tensor([\n",
    "    [1.0],\n",
    "    [2.0],\n",
    "    [3.0]\n",
    "])\n",
    "t1"
   ]
  },
  {
   "cell_type": "code",
   "execution_count": 4,
   "id": "a5430475-d654-42af-8902-37881d4c0f8f",
   "metadata": {},
   "outputs": [
    {
     "data": {
      "text/plain": [
       "tensor([[0.9038, 0.1368, 0.2698]])"
      ]
     },
     "execution_count": 4,
     "metadata": {},
     "output_type": "execute_result"
    }
   ],
   "source": [
    "# t2 = torch.rand(1, 3)\n",
    "t2 = torch.tensor([[0.9038, 0.1368, 0.2698]])\n",
    "t2"
   ]
  },
  {
   "cell_type": "code",
   "execution_count": 5,
   "id": "c43d0a4a-f85e-43f3-b6bd-bae6b1cb5080",
   "metadata": {},
   "outputs": [
    {
     "data": {
      "text/plain": [
       "(torch.Size([3, 1]), torch.Size([1, 3]))"
      ]
     },
     "execution_count": 5,
     "metadata": {},
     "output_type": "execute_result"
    }
   ],
   "source": [
    "# 可以看到t1 和 t2 维度不一样\n",
    "t1.shape, t2.shape"
   ]
  },
  {
   "cell_type": "markdown",
   "id": "75f224fe-c643-43e4-86d0-a65860f0ac0d",
   "metadata": {},
   "source": [
    "### 2. 计算其加减乘除"
   ]
  },
  {
   "cell_type": "markdown",
   "id": "85c63301-bc6d-4890-b1e9-1bbabcfc5bee",
   "metadata": {},
   "source": [
    "#### 2.1 加"
   ]
  },
  {
   "cell_type": "code",
   "execution_count": 6,
   "id": "e8ec5cd5-c452-4d88-baf9-ebba6cce77a2",
   "metadata": {},
   "outputs": [
    {
     "data": {
      "text/plain": [
       "tensor([[1.9038, 1.1368, 1.2698],\n",
       "        [2.9038, 2.1368, 2.2698],\n",
       "        [3.9038, 3.1368, 3.2698]])"
      ]
     },
     "execution_count": 6,
     "metadata": {},
     "output_type": "execute_result"
    }
   ],
   "source": [
    "t1 + t2"
   ]
  },
  {
   "cell_type": "code",
   "execution_count": 7,
   "id": "5bfb9684-7c72-40c9-a6c3-33c60fea1e74",
   "metadata": {},
   "outputs": [
    {
     "data": {
      "text/plain": [
       "tensor([[1.9038, 1.1368, 1.2698],\n",
       "        [2.9038, 2.1368, 2.2698],\n",
       "        [3.9038, 3.1368, 3.2698]])"
      ]
     },
     "execution_count": 7,
     "metadata": {},
     "output_type": "execute_result"
    }
   ],
   "source": [
    "t2 + t1"
   ]
  },
  {
   "cell_type": "markdown",
   "id": "1820a4a1-392e-42c3-9c81-7dd91874fad4",
   "metadata": {},
   "source": [
    "#### 2.2 减"
   ]
  },
  {
   "cell_type": "code",
   "execution_count": 8,
   "id": "410e6cc8-8e06-4d0e-8588-324d41804fb7",
   "metadata": {},
   "outputs": [
    {
     "data": {
      "text/plain": [
       "tensor([[0.0962, 0.8632, 0.7302],\n",
       "        [1.0962, 1.8632, 1.7302],\n",
       "        [2.0962, 2.8632, 2.7302]])"
      ]
     },
     "execution_count": 8,
     "metadata": {},
     "output_type": "execute_result"
    }
   ],
   "source": [
    "t1 - t2"
   ]
  },
  {
   "cell_type": "code",
   "execution_count": 9,
   "id": "e2149e3b-41f1-43f5-83c1-925edfe14cdb",
   "metadata": {},
   "outputs": [
    {
     "data": {
      "text/plain": [
       "tensor([[-0.0962, -0.8632, -0.7302],\n",
       "        [-1.0962, -1.8632, -1.7302],\n",
       "        [-2.0962, -2.8632, -2.7302]])"
      ]
     },
     "execution_count": 9,
     "metadata": {},
     "output_type": "execute_result"
    }
   ],
   "source": [
    "t2 - t1"
   ]
  },
  {
   "cell_type": "markdown",
   "id": "f66263ac-3695-41c5-9503-5d518931a0e7",
   "metadata": {},
   "source": [
    "#### 2.3 乘"
   ]
  },
  {
   "cell_type": "code",
   "execution_count": 10,
   "id": "b7431b5b-581b-4f9a-a68d-a766335d60d8",
   "metadata": {},
   "outputs": [
    {
     "data": {
      "text/plain": [
       "tensor([[0.9038, 0.1368, 0.2698],\n",
       "        [1.8076, 0.2736, 0.5396],\n",
       "        [2.7114, 0.4104, 0.8094]])"
      ]
     },
     "execution_count": 10,
     "metadata": {},
     "output_type": "execute_result"
    }
   ],
   "source": [
    "t1 * t2"
   ]
  },
  {
   "cell_type": "code",
   "execution_count": 11,
   "id": "847c6c7d-1e17-4c7e-902a-eaa99036f20e",
   "metadata": {},
   "outputs": [
    {
     "data": {
      "text/plain": [
       "tensor([[0.9038, 0.1368, 0.2698],\n",
       "        [1.8076, 0.2736, 0.5396],\n",
       "        [2.7114, 0.4104, 0.8094]])"
      ]
     },
     "execution_count": 11,
     "metadata": {},
     "output_type": "execute_result"
    }
   ],
   "source": [
    "t2 * t1"
   ]
  },
  {
   "cell_type": "markdown",
   "id": "d82b133d-dce3-418e-8f3a-c26cc3fd7370",
   "metadata": {},
   "source": [
    "#### 2.4 除法"
   ]
  },
  {
   "cell_type": "code",
   "execution_count": 12,
   "id": "dc8282dd-a174-423c-b44c-fc5992f4fa7b",
   "metadata": {},
   "outputs": [
    {
     "data": {
      "text/plain": [
       "tensor([[ 1.1064,  7.3099,  3.7064],\n",
       "        [ 2.2129, 14.6199,  7.4129],\n",
       "        [ 3.3193, 21.9298, 11.1193]])"
      ]
     },
     "execution_count": 12,
     "metadata": {},
     "output_type": "execute_result"
    }
   ],
   "source": [
    "t1 / t2"
   ]
  },
  {
   "cell_type": "code",
   "execution_count": 13,
   "id": "26acbd71-7b16-4a56-8758-dc12d155538d",
   "metadata": {},
   "outputs": [
    {
     "data": {
      "text/plain": [
       "tensor([[0.9038, 0.1368, 0.2698],\n",
       "        [0.4519, 0.0684, 0.1349],\n",
       "        [0.3013, 0.0456, 0.0899]])"
      ]
     },
     "execution_count": 13,
     "metadata": {},
     "output_type": "execute_result"
    }
   ],
   "source": [
    "t2 / t1"
   ]
  },
  {
   "cell_type": "code",
   "execution_count": null,
   "id": "713f2121-46e5-4416-b316-e4f26485d702",
   "metadata": {},
   "outputs": [],
   "source": []
  }
 ],
 "metadata": {
  "kernelspec": {
   "display_name": "Python 3 (ipykernel)",
   "language": "python",
   "name": "python3"
  },
  "language_info": {
   "codemirror_mode": {
    "name": "ipython",
    "version": 3
   },
   "file_extension": ".py",
   "mimetype": "text/x-python",
   "name": "python",
   "nbconvert_exporter": "python",
   "pygments_lexer": "ipython3",
   "version": "3.11.5"
  }
 },
 "nbformat": 4,
 "nbformat_minor": 5
}
