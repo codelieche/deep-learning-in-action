{
 "cells": [
  {
   "cell_type": "markdown",
   "id": "a516d9b4-001e-419f-950e-8f275cbf6ec7",
   "metadata": {},
   "source": [
    "## 4. 张量的数学操作"
   ]
  },
  {
   "cell_type": "markdown",
   "id": "3387bee1-3d0a-4158-90ac-894a9c88e37f",
   "metadata": {},
   "source": [
    "### 4.1 张量的加法\n",
    "\n",
    "和和差计算都比较简单，只需要将2个张量的各个响应元素相加或相减即可。"
   ]
  },
  {
   "cell_type": "code",
   "execution_count": 1,
   "id": "eacfa4a7-2dee-4e42-bf60-f19655d6272c",
   "metadata": {},
   "outputs": [],
   "source": [
    "import torch"
   ]
  },
  {
   "cell_type": "code",
   "execution_count": 2,
   "id": "1fc62967-921a-4696-9aa8-d64656f2eec1",
   "metadata": {},
   "outputs": [],
   "source": [
    "t1 = torch.tensor([\n",
    "    [2.0, 2., 3.],\n",
    "    [4.0, 4.0, 6.0],\n",
    "    [3.0, 6.0, 9.0]\n",
    "])\n",
    "t2 = torch.tensor([\n",
    "    [2.0, 4.0, 6.0],\n",
    "    [8.0, 10.0, 12.0],\n",
    "    [14.0, 16.0, 18.0]\n",
    "])"
   ]
  },
  {
   "cell_type": "code",
   "execution_count": 3,
   "id": "6ad680fb-e1e3-409d-9990-6f9447849301",
   "metadata": {},
   "outputs": [
    {
     "data": {
      "text/plain": [
       "(tensor([[2., 2., 3.],\n",
       "         [4., 4., 6.],\n",
       "         [3., 6., 9.]]),\n",
       " tensor([[ 2.,  4.,  6.],\n",
       "         [ 8., 10., 12.],\n",
       "         [14., 16., 18.]]))"
      ]
     },
     "execution_count": 3,
     "metadata": {},
     "output_type": "execute_result"
    }
   ],
   "source": [
    "t1, t2"
   ]
  },
  {
   "cell_type": "code",
   "execution_count": 4,
   "id": "894e3376-8ddb-44d1-84ca-233372b922bc",
   "metadata": {},
   "outputs": [
    {
     "data": {
      "text/plain": [
       "tensor([[ 4.,  6.,  9.],\n",
       "        [12., 14., 18.],\n",
       "        [17., 22., 27.]])"
      ]
     },
     "execution_count": 4,
     "metadata": {},
     "output_type": "execute_result"
    }
   ],
   "source": [
    "# 加法\n",
    "t12 = t1 + t2\n",
    "t12"
   ]
  },
  {
   "cell_type": "code",
   "execution_count": 5,
   "id": "a975ef30-04fd-46ac-ab24-b1f9c2550fcd",
   "metadata": {},
   "outputs": [
    {
     "data": {
      "text/plain": [
       "(torch.Size([3, 3]), torch.float32, (3, 1))"
      ]
     },
     "execution_count": 5,
     "metadata": {},
     "output_type": "execute_result"
    }
   ],
   "source": [
    "t12.shape, t12.dtype, t12.stride()"
   ]
  },
  {
   "cell_type": "code",
   "execution_count": 6,
   "id": "a40c5034-ca44-4133-bdc8-0c4746430383",
   "metadata": {},
   "outputs": [
    {
     "data": {
      "text/plain": [
       "tensor([[ 4.,  6.,  9.],\n",
       "        [12., 14., 18.],\n",
       "        [17., 22., 27.]])"
      ]
     },
     "execution_count": 6,
     "metadata": {},
     "output_type": "execute_result"
    }
   ],
   "source": [
    "torch.add(t1, t2)"
   ]
  },
  {
   "cell_type": "markdown",
   "id": "8f1825fd-91f1-46f1-ba3a-3cc33c2d6dd9",
   "metadata": {},
   "source": [
    "### 4.2 张量的减法\n",
    "\n",
    "2个张量，各个响应的元素相减即可。"
   ]
  },
  {
   "cell_type": "code",
   "execution_count": 7,
   "id": "59e6e844-4d99-4b64-9861-56de4d508d2b",
   "metadata": {},
   "outputs": [
    {
     "data": {
      "text/plain": [
       "(tensor([[2., 2., 3.],\n",
       "         [4., 4., 6.],\n",
       "         [3., 6., 9.]]),\n",
       " tensor([[ 2.,  4.,  6.],\n",
       "         [ 8., 10., 12.],\n",
       "         [14., 16., 18.]]))"
      ]
     },
     "execution_count": 7,
     "metadata": {},
     "output_type": "execute_result"
    }
   ],
   "source": [
    "t1, t2"
   ]
  },
  {
   "cell_type": "code",
   "execution_count": 8,
   "id": "063a287c-931a-4c73-ada4-eb1cb8414690",
   "metadata": {},
   "outputs": [
    {
     "data": {
      "text/plain": [
       "tensor([[  0.,  -2.,  -3.],\n",
       "        [ -4.,  -6.,  -6.],\n",
       "        [-11., -10.,  -9.]])"
      ]
     },
     "execution_count": 8,
     "metadata": {},
     "output_type": "execute_result"
    }
   ],
   "source": [
    "t1 - t2"
   ]
  },
  {
   "cell_type": "code",
   "execution_count": 9,
   "id": "5cd00661-ccc1-4e5e-803a-07148161f746",
   "metadata": {},
   "outputs": [
    {
     "data": {
      "text/plain": [
       "tensor([[ 0.,  2.,  3.],\n",
       "        [ 4.,  6.,  6.],\n",
       "        [11., 10.,  9.]])"
      ]
     },
     "execution_count": 9,
     "metadata": {},
     "output_type": "execute_result"
    }
   ],
   "source": [
    "t2 - t1"
   ]
  },
  {
   "cell_type": "code",
   "execution_count": 10,
   "id": "24f1fe3f-dab6-403d-97e9-1a1e3481c985",
   "metadata": {},
   "outputs": [
    {
     "data": {
      "text/plain": [
       "tensor([[ 0.,  2.,  3.],\n",
       "        [ 4.,  6.,  6.],\n",
       "        [11., 10.,  9.]])"
      ]
     },
     "execution_count": 10,
     "metadata": {},
     "output_type": "execute_result"
    }
   ],
   "source": [
    "torch.sub(t2, t1)"
   ]
  },
  {
   "cell_type": "markdown",
   "id": "c06bff44-74ec-48b2-bc9d-7481faf690a9",
   "metadata": {},
   "source": [
    "### 4.3 张量的乘法"
   ]
  },
  {
   "cell_type": "code",
   "execution_count": 11,
   "id": "ea6c1969-ae64-4ad1-b1c8-af4be39b1a73",
   "metadata": {},
   "outputs": [
    {
     "data": {
      "text/plain": [
       "tensor([[  4.,   8.,  18.],\n",
       "        [ 32.,  40.,  72.],\n",
       "        [ 42.,  96., 162.]])"
      ]
     },
     "execution_count": 11,
     "metadata": {},
     "output_type": "execute_result"
    }
   ],
   "source": [
    "t1 * t2"
   ]
  },
  {
   "cell_type": "code",
   "execution_count": 12,
   "id": "5ae5268b-0b45-4f4b-852a-2d2ea9920fb1",
   "metadata": {},
   "outputs": [
    {
     "data": {
      "text/plain": [
       "(torch.Size([3]), torch.Size([3, 1]))"
      ]
     },
     "execution_count": 12,
     "metadata": {},
     "output_type": "execute_result"
    }
   ],
   "source": [
    "t11 = torch.tensor([4.0, 5.0, 6.0])\n",
    "t22 = torch.tensor([\n",
    "    [1.0],\n",
    "    [2.0],\n",
    "    [3.0]\n",
    "])\n",
    "t11.shape, t22.shape"
   ]
  },
  {
   "cell_type": "markdown",
   "id": "641f3ade-ea98-45ab-86ae-0384a4ef7136",
   "metadata": {},
   "source": [
    "#### 逐元素乘法"
   ]
  },
  {
   "cell_type": "code",
   "execution_count": 13,
   "id": "9751b6c7-3332-4be3-b6d3-8810715f5a72",
   "metadata": {},
   "outputs": [
    {
     "data": {
      "text/plain": [
       "tensor([[  4.,   8.,  18.],\n",
       "        [ 32.,  40.,  72.],\n",
       "        [ 42.,  96., 162.]])"
      ]
     },
     "execution_count": 13,
     "metadata": {},
     "output_type": "execute_result"
    }
   ],
   "source": [
    "t1 * t2"
   ]
  },
  {
   "cell_type": "code",
   "execution_count": 14,
   "id": "952ac575-4607-4355-9af2-49df60ab5371",
   "metadata": {},
   "outputs": [
    {
     "data": {
      "text/plain": [
       "(tensor([[ 4.,  5.,  6.],\n",
       "         [ 8., 10., 12.],\n",
       "         [12., 15., 18.]]),\n",
       " tensor([[ 4.,  5.,  6.],\n",
       "         [ 8., 10., 12.],\n",
       "         [12., 15., 18.]]))"
      ]
     },
     "execution_count": 14,
     "metadata": {},
     "output_type": "execute_result"
    }
   ],
   "source": [
    "t11 * t22, torch.mul(t11, t22)"
   ]
  },
  {
   "cell_type": "code",
   "execution_count": 15,
   "id": "4f4b4d3d-6fca-4008-898d-73f3cb50bf5a",
   "metadata": {},
   "outputs": [
    {
     "data": {
      "text/plain": [
       "(tensor([[ 4.,  5.,  6.],\n",
       "         [ 8., 10., 12.],\n",
       "         [12., 15., 18.]]),\n",
       " tensor([[ 4.,  5.,  6.],\n",
       "         [ 8., 10., 12.],\n",
       "         [12., 15., 18.]]))"
      ]
     },
     "execution_count": 15,
     "metadata": {},
     "output_type": "execute_result"
    }
   ],
   "source": [
    "t22 * t11, torch.mul(t22, t11)"
   ]
  },
  {
   "cell_type": "markdown",
   "id": "b99104f5-4ad5-462a-a022-37a3f6e970a4",
   "metadata": {},
   "source": [
    "#### 矩阵乘法\n",
    "计算矩阵的积是，需要将左侧矩阵的行和右侧矩阵的列的元素一次相乘，然后将结果相加在一起。   \n",
    "计算矩阵乘积时：左边的矩阵列数，要等于右边矩阵的行数。"
   ]
  },
  {
   "cell_type": "code",
   "execution_count": 16,
   "id": "20973314-3e51-43c0-865d-de4972d72b75",
   "metadata": {},
   "outputs": [
    {
     "data": {
      "text/plain": [
       "(tensor([[2., 2., 3.],\n",
       "         [4., 4., 6.],\n",
       "         [3., 6., 9.]]),\n",
       " tensor([[ 2.,  4.,  6.],\n",
       "         [ 8., 10., 12.],\n",
       "         [14., 16., 18.]]))"
      ]
     },
     "execution_count": 16,
     "metadata": {},
     "output_type": "execute_result"
    }
   ],
   "source": [
    "t1, t2"
   ]
  },
  {
   "cell_type": "code",
   "execution_count": 17,
   "id": "ce00aaa4-f5ca-411a-87ce-60892b8b7cdc",
   "metadata": {},
   "outputs": [
    {
     "data": {
      "text/plain": [
       "(tensor([2., 2., 3.]), tensor([ 2.,  8., 14.]))"
      ]
     },
     "execution_count": 17,
     "metadata": {},
     "output_type": "execute_result"
    }
   ],
   "source": [
    "t1[0], t2[:,0]"
   ]
  },
  {
   "cell_type": "code",
   "execution_count": 18,
   "id": "1ca0e3c2-6421-4218-b123-5b1ca9faefc5",
   "metadata": {},
   "outputs": [
    {
     "data": {
      "text/plain": [
       "tensor([[ 62.,  76.,  90.],\n",
       "        [124., 152., 180.],\n",
       "        [180., 216., 252.]])"
      ]
     },
     "execution_count": 18,
     "metadata": {},
     "output_type": "execute_result"
    }
   ],
   "source": [
    "# t1,t2的矩阵乘法：那么左侧是t1, 右侧是t2\n",
    "# 那么相乘的第0行0列，00个元素是：2 * 2 + 2 * 8 + 3 * 14 = 4 + 16 + 42 = 62\n",
    "# 那么2.1个元素是： C21 = 3 * 4 + 6 * 10 + 9 * 16 = 12 + 60 + 144 = 216\n",
    "torch.matmul(t1, t2)"
   ]
  },
  {
   "cell_type": "code",
   "execution_count": 19,
   "id": "32474cf6-61b9-4370-9f04-469838759f40",
   "metadata": {},
   "outputs": [
    {
     "data": {
      "text/plain": [
       "tensor([[ 38.,  56.,  84.],\n",
       "        [ 92., 128., 192.],\n",
       "        [146., 200., 300.]])"
      ]
     },
     "execution_count": 19,
     "metadata": {},
     "output_type": "execute_result"
    }
   ],
   "source": [
    "torch.matmul(t2, t1)"
   ]
  },
  {
   "cell_type": "code",
   "execution_count": 20,
   "id": "61f4049d-2d21-471f-a15e-bb40d8e4317d",
   "metadata": {},
   "outputs": [
    {
     "data": {
      "text/plain": [
       "(tensor([4., 5., 6.]),\n",
       " tensor([[1.],\n",
       "         [2.],\n",
       "         [3.]]))"
      ]
     },
     "execution_count": 20,
     "metadata": {},
     "output_type": "execute_result"
    }
   ],
   "source": [
    "t11, t22"
   ]
  },
  {
   "cell_type": "code",
   "execution_count": 21,
   "id": "dba78c03-1f84-43de-aab1-f3d8ef2caffb",
   "metadata": {},
   "outputs": [
    {
     "data": {
      "text/plain": [
       "tensor([32.])"
      ]
     },
     "execution_count": 21,
     "metadata": {},
     "output_type": "execute_result"
    }
   ],
   "source": [
    "# 4 * 1 + 5 * 2 + 6 * 3 = 32\n",
    "torch.matmul(t11, t22)"
   ]
  },
  {
   "cell_type": "markdown",
   "id": "f5352865-30b7-4bfe-a062-9268dc6c1421",
   "metadata": {},
   "source": [
    "### 4.4 张量的除法"
   ]
  },
  {
   "cell_type": "code",
   "execution_count": 22,
   "id": "b64a3b34-8a62-43b7-98e8-e0fc1f46ac84",
   "metadata": {},
   "outputs": [
    {
     "data": {
      "text/plain": [
       "tensor([[1.0000, 0.5000, 0.5000],\n",
       "        [0.5000, 0.4000, 0.5000],\n",
       "        [0.2143, 0.3750, 0.5000]])"
      ]
     },
     "execution_count": 22,
     "metadata": {},
     "output_type": "execute_result"
    }
   ],
   "source": [
    "t1 / t2"
   ]
  },
  {
   "cell_type": "code",
   "execution_count": 23,
   "id": "d9aa3df2-6c00-48d8-8c2a-0f7ce4443273",
   "metadata": {},
   "outputs": [
    {
     "data": {
      "text/plain": [
       "tensor([[1.0000, 0.5000, 0.5000],\n",
       "        [0.5000, 0.4000, 0.5000],\n",
       "        [0.2143, 0.3750, 0.5000]])"
      ]
     },
     "execution_count": 23,
     "metadata": {},
     "output_type": "execute_result"
    }
   ],
   "source": [
    "torch.div(t1, t2)"
   ]
  },
  {
   "cell_type": "code",
   "execution_count": null,
   "id": "764cd6e0-7d16-493c-99f4-8a71e8446686",
   "metadata": {},
   "outputs": [],
   "source": []
  }
 ],
 "metadata": {
  "kernelspec": {
   "display_name": "Python 3 (ipykernel)",
   "language": "python",
   "name": "python3"
  },
  "language_info": {
   "codemirror_mode": {
    "name": "ipython",
    "version": 3
   },
   "file_extension": ".py",
   "mimetype": "text/x-python",
   "name": "python",
   "nbconvert_exporter": "python",
   "pygments_lexer": "ipython3",
   "version": "3.11.5"
  }
 },
 "nbformat": 4,
 "nbformat_minor": 5
}
