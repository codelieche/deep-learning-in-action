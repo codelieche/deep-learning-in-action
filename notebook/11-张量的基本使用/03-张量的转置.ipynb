{
 "cells": [
  {
   "cell_type": "markdown",
   "id": "704d3ec5-4872-4595-a698-f9654ad7a4d3",
   "metadata": {},
   "source": [
    "## 03. 张量的转置"
   ]
  },
  {
   "cell_type": "code",
   "execution_count": 15,
   "id": "7abf12ca-d5aa-42a1-9e73-96abf70e75e9",
   "metadata": {},
   "outputs": [],
   "source": [
    "import torch\n",
    "import numpy as np"
   ]
  },
  {
   "cell_type": "markdown",
   "id": "057894ee-aea7-4cfe-a649-975963b84220",
   "metadata": {},
   "source": [
    "### 3.1 无复制转置"
   ]
  },
  {
   "cell_type": "code",
   "execution_count": 35,
   "id": "c7b733d7-d7b6-4257-812b-7af72ebc9fbc",
   "metadata": {},
   "outputs": [
    {
     "data": {
      "text/plain": [
       "tensor([[1., 2.],\n",
       "        [3., 4.],\n",
       "        [5., 6.],\n",
       "        [7., 8.]])"
      ]
     },
     "execution_count": 35,
     "metadata": {},
     "output_type": "execute_result"
    }
   ],
   "source": [
    "t1 = torch.tensor([\n",
    "    [1.0, 2.0],\n",
    "    [3.0, 4.0],\n",
    "    [5.0, 6.0],\n",
    "    [7.0, 8.0]\n",
    "])\n",
    "t1"
   ]
  },
  {
   "cell_type": "markdown",
   "id": "6413f399-7d95-47b6-9ead-83b78098f6de",
   "metadata": {},
   "source": [
    "我们现在有一个张量`t1`，它在行中有单独的点，在列中有2列。   \n",
    "现在我们想对其转置，使各个点都在列中，行变成了列。   \n",
    "我们可以用PyTorch的`transpose()`方法，其简写方法是`t()`。"
   ]
  },
  {
   "cell_type": "code",
   "execution_count": 36,
   "id": "e88ef5ce-89db-4fb9-8d37-e97dfb30fdec",
   "metadata": {},
   "outputs": [],
   "source": [
    "t1_t = t1.t()"
   ]
  },
  {
   "cell_type": "code",
   "execution_count": 37,
   "id": "c86785cb-20b1-45f0-917a-5c41f15bd341",
   "metadata": {},
   "outputs": [
    {
     "data": {
      "text/plain": [
       "tensor([[1., 3., 5., 7.],\n",
       "        [2., 4., 6., 8.]])"
      ]
     },
     "execution_count": 37,
     "metadata": {},
     "output_type": "execute_result"
    }
   ],
   "source": [
    "t1_t"
   ]
  },
  {
   "cell_type": "code",
   "execution_count": 38,
   "id": "f1e5b6f4-f12b-42ef-9673-09f0b0cc0812",
   "metadata": {},
   "outputs": [
    {
     "data": {
      "text/plain": [
       "True"
      ]
     },
     "execution_count": 38,
     "metadata": {},
     "output_type": "execute_result"
    }
   ],
   "source": [
    "# 我们看下其存储区是否相等\n",
    "id(t1.untyped_storage()) == id(t1_t.untyped_storage())"
   ]
  },
  {
   "cell_type": "code",
   "execution_count": 39,
   "id": "e8331374-9f52-441c-896b-407d7204040f",
   "metadata": {},
   "outputs": [
    {
     "data": {
      "text/plain": [
       "(torch.Size([4, 2]), torch.Size([2, 4]))"
      ]
     },
     "execution_count": 39,
     "metadata": {},
     "output_type": "execute_result"
    }
   ],
   "source": [
    "t1.shape, t1_t.shape"
   ]
  },
  {
   "cell_type": "code",
   "execution_count": 40,
   "id": "0c1b3f99-4cda-4024-834f-765da81d314a",
   "metadata": {},
   "outputs": [
    {
     "data": {
      "text/plain": [
       "(0, (1, 2))"
      ]
     },
     "execution_count": 40,
     "metadata": {},
     "output_type": "execute_result"
    }
   ],
   "source": [
    "t1_t.storage_offset(), t1_t.stride()"
   ]
  },
  {
   "cell_type": "markdown",
   "id": "bc39a475-06b5-4519-b0da-02e0306d5e27",
   "metadata": {},
   "source": [
    "t1,t1_t对应存储区中存储数据是：`storage = [1.0, 2.0, 3.0, 4.0, 5.0, 6.0, 7.0, 8.0]`。   \n",
    "访问一个二维张量的位置`(i, j)`的元素。其在存储区中的位置计算方式是：  \n",
    "```bash\n",
    "storage_offset() + stride()[0] * i + stride()[1]*j\n",
    "```\n",
    "那么我们现在计算`t1_t[1][1]`的存储位置:那应该就是`0 + 1 * 1 + 2 * 1 = 3`. 那对应在storage中就是4.0。   \n",
    "现在我们用代码验证一下："
   ]
  },
  {
   "cell_type": "code",
   "execution_count": 42,
   "id": "ad68988a-5dc5-49dd-9f15-556ed867db61",
   "metadata": {},
   "outputs": [
    {
     "data": {
      "text/plain": [
       "tensor(4.)"
      ]
     },
     "execution_count": 42,
     "metadata": {},
     "output_type": "execute_result"
    }
   ],
   "source": [
    "t1_t[1][1]"
   ]
  },
  {
   "cell_type": "markdown",
   "id": "4066fa71-6a97-4bb7-95ba-4cfffc364e01",
   "metadata": {},
   "source": [
    "### 3.2 高维转置\n",
    "\n",
    "`PyTorch`中的转置不限于矩阵。   \n",
    "我们可以通过给`transpose`方法指定2个维度，即翻转形状和步长，来转置一个多维的数组。"
   ]
  },
  {
   "cell_type": "code",
   "execution_count": 26,
   "id": "d486cfab-dc38-4e44-beb3-c0f06227b337",
   "metadata": {},
   "outputs": [],
   "source": [
    "data = np.random.randn(3, 4, 5)"
   ]
  },
  {
   "cell_type": "code",
   "execution_count": 27,
   "id": "ddd4ec59-8ee1-4822-bb89-0f94b0d5760b",
   "metadata": {},
   "outputs": [
    {
     "data": {
      "text/plain": [
       "tensor([[[-0.9637, -0.0494, -1.0926, -0.1722,  0.3644],\n",
       "         [ 2.3729, -0.2983,  0.1500,  0.0080, -0.8597],\n",
       "         [ 1.4903, -0.8529,  1.4636, -1.8240,  1.2810],\n",
       "         [ 0.4113, -1.1085, -1.4265, -0.8645,  0.0948]],\n",
       "\n",
       "        [[ 0.6882, -0.2303, -1.8118,  0.4577, -0.4630],\n",
       "         [-1.2043, -1.0640, -2.0392,  0.1612, -0.7351],\n",
       "         [ 1.2898,  0.7702,  0.9587, -2.2740,  0.3213],\n",
       "         [-0.5870, -0.5845,  0.1563, -0.4830,  1.4455]],\n",
       "\n",
       "        [[-1.0441,  0.0051,  0.7348,  1.4635, -0.0647],\n",
       "         [ 0.8071, -0.4299, -1.4428, -1.0870, -1.9582],\n",
       "         [-0.2964,  0.8078,  0.4513,  1.4347,  0.1227],\n",
       "         [-0.9368,  1.6107, -0.5897, -1.5009, -1.5033]]])"
      ]
     },
     "execution_count": 27,
     "metadata": {},
     "output_type": "execute_result"
    }
   ],
   "source": [
    "t2 = torch.from_numpy(data).to(torch.float32)\n",
    "t2"
   ]
  },
  {
   "cell_type": "code",
   "execution_count": 28,
   "id": "e301c96a-f49d-4957-a4dc-f25dc03d3ae3",
   "metadata": {},
   "outputs": [
    {
     "data": {
      "text/plain": [
       "(torch.Size([3, 4, 5]), (20, 5, 1))"
      ]
     },
     "execution_count": 28,
     "metadata": {},
     "output_type": "execute_result"
    }
   ],
   "source": [
    "# 查看张量的形状、步长\n",
    "t2.shape, t2.stride()"
   ]
  },
  {
   "cell_type": "code",
   "execution_count": 29,
   "id": "75a8ca87-c8b2-47f2-8664-733d30b945ab",
   "metadata": {},
   "outputs": [
    {
     "data": {
      "text/plain": [
       "tensor([[[-0.9637,  0.6882, -1.0441],\n",
       "         [ 2.3729, -1.2043,  0.8071],\n",
       "         [ 1.4903,  1.2898, -0.2964],\n",
       "         [ 0.4113, -0.5870, -0.9368]],\n",
       "\n",
       "        [[-0.0494, -0.2303,  0.0051],\n",
       "         [-0.2983, -1.0640, -0.4299],\n",
       "         [-0.8529,  0.7702,  0.8078],\n",
       "         [-1.1085, -0.5845,  1.6107]],\n",
       "\n",
       "        [[-1.0926, -1.8118,  0.7348],\n",
       "         [ 0.1500, -2.0392, -1.4428],\n",
       "         [ 1.4636,  0.9587,  0.4513],\n",
       "         [-1.4265,  0.1563, -0.5897]],\n",
       "\n",
       "        [[-0.1722,  0.4577,  1.4635],\n",
       "         [ 0.0080,  0.1612, -1.0870],\n",
       "         [-1.8240, -2.2740,  1.4347],\n",
       "         [-0.8645, -0.4830, -1.5009]],\n",
       "\n",
       "        [[ 0.3644, -0.4630, -0.0647],\n",
       "         [-0.8597, -0.7351, -1.9582],\n",
       "         [ 1.2810,  0.3213,  0.1227],\n",
       "         [ 0.0948,  1.4455, -1.5033]]])"
      ]
     },
     "execution_count": 29,
     "metadata": {},
     "output_type": "execute_result"
    }
   ],
   "source": [
    "t2_t = t2.transpose(0, 2)\n",
    "t2_t"
   ]
  },
  {
   "cell_type": "code",
   "execution_count": 30,
   "id": "a0e5c2e5-1abb-41aa-9fb4-9b8e4e66ca22",
   "metadata": {},
   "outputs": [
    {
     "data": {
      "text/plain": [
       "(torch.Size([5, 4, 3]), (1, 5, 20))"
      ]
     },
     "execution_count": 30,
     "metadata": {},
     "output_type": "execute_result"
    }
   ],
   "source": [
    "t2_t.shape, t2_t.stride()"
   ]
  },
  {
   "cell_type": "code",
   "execution_count": 31,
   "id": "1dbd31b9-3b1c-475a-9337-31bc10cbdc60",
   "metadata": {},
   "outputs": [
    {
     "data": {
      "text/plain": [
       "(True, False)"
      ]
     },
     "execution_count": 31,
     "metadata": {},
     "output_type": "execute_result"
    }
   ],
   "source": [
    "# 查看是否是连续的\n",
    "t2.is_contiguous(), t2_t.is_contiguous()"
   ]
  },
  {
   "cell_type": "code",
   "execution_count": 32,
   "id": "742d074b-13d4-44dd-b31c-347b777167e0",
   "metadata": {},
   "outputs": [
    {
     "data": {
      "text/plain": [
       "True"
      ]
     },
     "execution_count": 32,
     "metadata": {},
     "output_type": "execute_result"
    }
   ],
   "source": [
    "# 查看是否是同一个存储区\n",
    "id(t2.untyped_storage()) == id(t2_t.untyped_storage())"
   ]
  },
  {
   "cell_type": "code",
   "execution_count": null,
   "id": "9fb12382-f2a0-4783-afdc-5428f72c894e",
   "metadata": {},
   "outputs": [],
   "source": []
  }
 ],
 "metadata": {
  "kernelspec": {
   "display_name": "Python 3 (ipykernel)",
   "language": "python",
   "name": "python3"
  },
  "language_info": {
   "codemirror_mode": {
    "name": "ipython",
    "version": 3
   },
   "file_extension": ".py",
   "mimetype": "text/x-python",
   "name": "python",
   "nbconvert_exporter": "python",
   "pygments_lexer": "ipython3",
   "version": "3.11.5"
  }
 },
 "nbformat": 4,
 "nbformat_minor": 5
}
