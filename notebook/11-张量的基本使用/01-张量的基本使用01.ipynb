{
 "cells": [
  {
   "cell_type": "markdown",
   "id": "3ffbbce8-a02b-4f4f-9db4-f2d9514d5bdc",
   "metadata": {},
   "source": [
    "## 01-张量的基本使用"
   ]
  },
  {
   "cell_type": "code",
   "execution_count": 1,
   "id": "c4a7ae39-b18c-4ef6-a40d-4286104d5832",
   "metadata": {},
   "outputs": [],
   "source": [
    "import torch"
   ]
  },
  {
   "cell_type": "markdown",
   "id": "3d457ca1-ae32-4bca-bd57-527ded1ce73d",
   "metadata": {},
   "source": [
    "### 1.1 从Python列表到PyTorch张量"
   ]
  },
  {
   "cell_type": "code",
   "execution_count": 2,
   "id": "54682664-355d-42c9-8f29-c3bfae095b08",
   "metadata": {},
   "outputs": [],
   "source": [
    "a = [1.1, 2.2, 3.3, 4.4,  5.5]"
   ]
  },
  {
   "cell_type": "code",
   "execution_count": 3,
   "id": "a51b4824-67a8-4718-9fa8-bebb0e27cfec",
   "metadata": {},
   "outputs": [
    {
     "data": {
      "text/plain": [
       "(1.1, 3.3, 4.4)"
      ]
     },
     "execution_count": 3,
     "metadata": {},
     "output_type": "execute_result"
    }
   ],
   "source": [
    "a[0], a[2], a[3]"
   ]
  },
  {
   "cell_type": "code",
   "execution_count": 4,
   "id": "2f4d84aa-67fd-4989-a6a4-574634a05b59",
   "metadata": {},
   "outputs": [],
   "source": [
    "t1 = torch.tensor([1.1, 2.2, 3.3, 4.4,  5.5])"
   ]
  },
  {
   "cell_type": "code",
   "execution_count": 5,
   "id": "288e1d83-8ef1-4b6b-aa05-46ec2970fa45",
   "metadata": {},
   "outputs": [
    {
     "data": {
      "text/plain": [
       "torch.Tensor"
      ]
     },
     "execution_count": 5,
     "metadata": {},
     "output_type": "execute_result"
    }
   ],
   "source": [
    "type(t1)"
   ]
  },
  {
   "cell_type": "code",
   "execution_count": 6,
   "id": "4b07777a-ec79-493f-b41b-66ed8cc37d0f",
   "metadata": {},
   "outputs": [
    {
     "data": {
      "text/plain": [
       "tensor([1.1000, 2.2000, 3.3000, 4.4000, 5.5000])"
      ]
     },
     "execution_count": 6,
     "metadata": {},
     "output_type": "execute_result"
    }
   ],
   "source": [
    "t1"
   ]
  },
  {
   "cell_type": "code",
   "execution_count": 7,
   "id": "88a0e567-7636-4526-bba9-cb92ad78a885",
   "metadata": {},
   "outputs": [
    {
     "data": {
      "text/plain": [
       "tensor([1.6000, 2.6000, 3.6000, 4.6000, 5.5000])"
      ]
     },
     "execution_count": 7,
     "metadata": {},
     "output_type": "execute_result"
    }
   ],
   "source": [
    "t1[0] = 1.6\n",
    "t1[1] = 2.6\n",
    "t1[2] = 3.6\n",
    "t1[3] = 4.6\n",
    "t1"
   ]
  },
  {
   "cell_type": "code",
   "execution_count": 8,
   "id": "253aec05-4362-40c8-b182-b16c3658ffd9",
   "metadata": {},
   "outputs": [
    {
     "name": "stdout",
     "output_type": "stream",
     "text": [
      "tensor(1.6000) tensor(4.6000)\n",
      "tensor([1.6000, 2.6000])\n",
      "tensor([4.6000, 5.5000])\n",
      "tensor([1.6000, 3.6000, 5.5000])\n",
      "tensor([4.6000, 5.5000])\n"
     ]
    }
   ],
   "source": [
    "print(t1[0], t1[3])\n",
    "print(t1[:2])\n",
    "print(t1[-2:])\n",
    "print(t1[::2])\n",
    "print(t1[3:])"
   ]
  },
  {
   "cell_type": "code",
   "execution_count": 9,
   "id": "55526d10-35ac-4142-b08f-3788c189a8a8",
   "metadata": {},
   "outputs": [
    {
     "data": {
      "text/plain": [
       "(torch.Size([5]), torch.float32)"
      ]
     },
     "execution_count": 9,
     "metadata": {},
     "output_type": "execute_result"
    }
   ],
   "source": [
    "# 查看t1的形状和类型\n",
    "t1.shape, t1.dtype"
   ]
  },
  {
   "cell_type": "markdown",
   "id": "973ec6ac-f023-4f6f-85b5-e489b81b7cb8",
   "metadata": {},
   "source": [
    "虽然表面上上面的`a`和`t1`，张量和number类型的list没有太大区别，但是它们实际上是完全不同的东西。\n",
    "\n",
    "> Python列表或者数字元组是在内存中单独分配的Python对象的集合(里面的数字都是对象)。  \n",
    "> 而PyTorch张量和Numpy数组通常是连续的内存块视图，这些内存块包含未装箱的`C`数字类型，而不是`Python`对象。\n",
    ">\n",
    "> 如：10000个浮点数的一维张量，只需要40000个连续字节，再加上元数据的小量开销。"
   ]
  },
  {
   "cell_type": "markdown",
   "id": "e06e4624-5738-4517-823f-cdf3ed76e3c1",
   "metadata": {},
   "source": [
    "### 1.2 zeros和ones"
   ]
  },
  {
   "cell_type": "code",
   "execution_count": 10,
   "id": "b18c8301-34c9-4b78-b74c-7fb2e47eb237",
   "metadata": {},
   "outputs": [
    {
     "data": {
      "text/plain": [
       "tensor([0., 0., 0., 0., 0.])"
      ]
     },
     "execution_count": 10,
     "metadata": {},
     "output_type": "execute_result"
    }
   ],
   "source": [
    "b = torch.zeros(5)\n",
    "b"
   ]
  },
  {
   "cell_type": "code",
   "execution_count": 11,
   "id": "2e4e2eac-a048-471e-81c2-55386510b35b",
   "metadata": {},
   "outputs": [
    {
     "data": {
      "text/plain": [
       "(torch.Size([5]), torch.float32)"
      ]
     },
     "execution_count": 11,
     "metadata": {},
     "output_type": "execute_result"
    }
   ],
   "source": [
    "b.shape, b.dtype"
   ]
  },
  {
   "cell_type": "code",
   "execution_count": 12,
   "id": "92367340-78ea-42df-9e3c-ef3879ce2fb8",
   "metadata": {},
   "outputs": [
    {
     "data": {
      "text/plain": [
       "tensor([1., 1., 1., 1., 1., 1.])"
      ]
     },
     "execution_count": 12,
     "metadata": {},
     "output_type": "execute_result"
    }
   ],
   "source": [
    "c = torch.ones(6)\n",
    "c"
   ]
  },
  {
   "cell_type": "code",
   "execution_count": 13,
   "id": "94f36606-d701-4cd3-aac0-48067b896619",
   "metadata": {},
   "outputs": [
    {
     "data": {
      "text/plain": [
       "(torch.Size([6]), torch.float32)"
      ]
     },
     "execution_count": 13,
     "metadata": {},
     "output_type": "execute_result"
    }
   ],
   "source": [
    "c.shape, c.dtype"
   ]
  },
  {
   "cell_type": "markdown",
   "id": "b97da413-7720-401f-82ae-0e793da3dac9",
   "metadata": {},
   "source": [
    "### 1.3 修改dtype"
   ]
  },
  {
   "cell_type": "code",
   "execution_count": 14,
   "id": "05be66d5-bf2c-4120-934b-7533b3e48b5b",
   "metadata": {},
   "outputs": [
    {
     "data": {
      "text/plain": [
       "tensor([1., 2., 3.])"
      ]
     },
     "execution_count": 14,
     "metadata": {},
     "output_type": "execute_result"
    }
   ],
   "source": [
    "a1 = torch.tensor([1.0, 2.0, 3.0], dtype=torch.float)\n",
    "a1"
   ]
  },
  {
   "cell_type": "code",
   "execution_count": 15,
   "id": "48113e78-a64a-46fb-8ca4-b78deec6a6d2",
   "metadata": {},
   "outputs": [
    {
     "data": {
      "text/plain": [
       "(torch.Size([3]), torch.float32)"
      ]
     },
     "execution_count": 15,
     "metadata": {},
     "output_type": "execute_result"
    }
   ],
   "source": [
    "a1.shape, a1.dtype"
   ]
  },
  {
   "cell_type": "code",
   "execution_count": 16,
   "id": "c2a66d75-0e53-4bf3-960d-9036ccde34b3",
   "metadata": {},
   "outputs": [
    {
     "data": {
      "text/plain": [
       "tensor([1., 2., 3.], dtype=torch.float64)"
      ]
     },
     "execution_count": 16,
     "metadata": {},
     "output_type": "execute_result"
    }
   ],
   "source": [
    "# 修改为double，float64\n",
    "a1.to(torch.double)"
   ]
  },
  {
   "cell_type": "code",
   "execution_count": 17,
   "id": "779a6f10-3a01-4d57-a914-95c2e4ebfc95",
   "metadata": {},
   "outputs": [
    {
     "data": {
      "text/plain": [
       "torch.float32"
      ]
     },
     "execution_count": 17,
     "metadata": {},
     "output_type": "execute_result"
    }
   ],
   "source": [
    "a1.dtype"
   ]
  },
  {
   "cell_type": "code",
   "execution_count": 18,
   "id": "c5db590f-1aa0-43c7-854b-563ef7bd894b",
   "metadata": {},
   "outputs": [
    {
     "data": {
      "text/plain": [
       "tensor([1, 2, 3], dtype=torch.int16)"
      ]
     },
     "execution_count": 18,
     "metadata": {},
     "output_type": "execute_result"
    }
   ],
   "source": [
    "a2 = torch.tensor([1, 2, 3], dtype=torch.int16)\n",
    "a2"
   ]
  },
  {
   "cell_type": "code",
   "execution_count": 19,
   "id": "081484d9-72d5-4ab8-b8c2-ebb852d3311a",
   "metadata": {},
   "outputs": [
    {
     "data": {
      "text/plain": [
       "(torch.Size([3]), torch.int16)"
      ]
     },
     "execution_count": 19,
     "metadata": {},
     "output_type": "execute_result"
    }
   ],
   "source": [
    "a2.shape, a2.dtype"
   ]
  },
  {
   "cell_type": "code",
   "execution_count": 20,
   "id": "6cf86099-de44-4d8c-95b0-1bcf496a1fb5",
   "metadata": {},
   "outputs": [
    {
     "data": {
      "text/plain": [
       "tensor([1, 2, 3], dtype=torch.int32)"
      ]
     },
     "execution_count": 20,
     "metadata": {},
     "output_type": "execute_result"
    }
   ],
   "source": [
    "# 调整dtype为int32\n",
    "a2.to(torch.int32)"
   ]
  },
  {
   "cell_type": "code",
   "execution_count": 21,
   "id": "55ffd914-d8e7-42a6-9360-8f1c883f3e6e",
   "metadata": {},
   "outputs": [
    {
     "data": {
      "text/plain": [
       "(torch.Size([3]), torch.int16)"
      ]
     },
     "execution_count": 21,
     "metadata": {},
     "output_type": "execute_result"
    }
   ],
   "source": [
    "a2.shape, a2.dtype"
   ]
  },
  {
   "cell_type": "markdown",
   "id": "a5019752-6884-4d58-bfe1-97d3ccd32cd5",
   "metadata": {},
   "source": [
    "### 1.4 索引张量"
   ]
  },
  {
   "cell_type": "code",
   "execution_count": 22,
   "id": "182eee13-e110-4af3-9b3b-573f1f597591",
   "metadata": {},
   "outputs": [],
   "source": [
    "list_01 = [\n",
    "    [1.0, 2.0, 3.0],\n",
    "    [4.0, 5.0, 6.0],\n",
    "    [7.0, 8.0, 9.0]\n",
    "]"
   ]
  },
  {
   "cell_type": "code",
   "execution_count": 23,
   "id": "781dac7b-579f-4230-947b-6b861422ea1a",
   "metadata": {},
   "outputs": [
    {
     "data": {
      "text/plain": [
       "tensor([[1., 2., 3.],\n",
       "        [4., 5., 6.],\n",
       "        [7., 8., 9.]])"
      ]
     },
     "execution_count": 23,
     "metadata": {},
     "output_type": "execute_result"
    }
   ],
   "source": [
    "t = torch.tensor(list_01)\n",
    "t"
   ]
  },
  {
   "cell_type": "code",
   "execution_count": 24,
   "id": "79a56901-1e21-4f27-a22c-9b133031f557",
   "metadata": {},
   "outputs": [
    {
     "data": {
      "text/plain": [
       "(torch.Size([3, 3]), torch.float32)"
      ]
     },
     "execution_count": 24,
     "metadata": {},
     "output_type": "execute_result"
    }
   ],
   "source": [
    "t.shape, t.dtype"
   ]
  },
  {
   "cell_type": "code",
   "execution_count": 25,
   "id": "1511260a-1a18-4668-af24-308cfec0dcb9",
   "metadata": {},
   "outputs": [
    {
     "data": {
      "text/plain": [
       "tensor([4., 5., 6.])"
      ]
     },
     "execution_count": 25,
     "metadata": {},
     "output_type": "execute_result"
    }
   ],
   "source": [
    "# 获取第2行\n",
    "t[1]"
   ]
  },
  {
   "cell_type": "code",
   "execution_count": 26,
   "id": "48b1cde4-5f99-400b-b895-e9d59e885088",
   "metadata": {},
   "outputs": [
    {
     "data": {
      "text/plain": [
       "tensor([4., 5., 6.])"
      ]
     },
     "execution_count": 26,
     "metadata": {},
     "output_type": "execute_result"
    }
   ],
   "source": [
    "# 获取第2行，方式2\n",
    "t[1,:]"
   ]
  },
  {
   "cell_type": "code",
   "execution_count": 27,
   "id": "473da7d0-9aeb-428c-9f7f-78e62989de12",
   "metadata": {},
   "outputs": [
    {
     "data": {
      "text/plain": [
       "tensor([[1.0000, 2.0000, 3.0000],\n",
       "        [4.0000, 5.5000, 6.0000],\n",
       "        [7.0000, 8.0000, 9.0000]])"
      ]
     },
     "execution_count": 27,
     "metadata": {},
     "output_type": "execute_result"
    }
   ],
   "source": [
    "# 修改第2行的第2个数字\n",
    "t[1][1] = 5.5\n",
    "t"
   ]
  },
  {
   "cell_type": "code",
   "execution_count": 28,
   "id": "f25b30cd-f4bf-4173-96f9-0edc615bb3c6",
   "metadata": {},
   "outputs": [
    {
     "data": {
      "text/plain": [
       "tensor([[4.0000, 5.5000, 6.0000],\n",
       "        [7.0000, 8.0000, 9.0000]])"
      ]
     },
     "execution_count": 28,
     "metadata": {},
     "output_type": "execute_result"
    }
   ],
   "source": [
    "t[1:]"
   ]
  },
  {
   "cell_type": "code",
   "execution_count": 29,
   "id": "e74fcc66-e29d-470a-85e8-915308cb73d8",
   "metadata": {},
   "outputs": [
    {
     "data": {
      "text/plain": [
       "tensor([1., 4., 7.])"
      ]
     },
     "execution_count": 29,
     "metadata": {},
     "output_type": "execute_result"
    }
   ],
   "source": [
    "t[:,0]"
   ]
  },
  {
   "cell_type": "code",
   "execution_count": 30,
   "id": "fd6de41a-4b59-4287-a22e-ae5bf3ca7b2c",
   "metadata": {},
   "outputs": [
    {
     "data": {
      "text/plain": [
       "tensor([[1.0000, 2.0000],\n",
       "        [4.0000, 5.5000],\n",
       "        [7.0000, 8.0000]])"
      ]
     },
     "execution_count": 30,
     "metadata": {},
     "output_type": "execute_result"
    }
   ],
   "source": [
    "t[:,:2]"
   ]
  },
  {
   "cell_type": "markdown",
   "id": "1b2d25fc-f5bb-47cc-b9ff-ab5bf493b0f8",
   "metadata": {},
   "source": [
    "### 1.5 张量的存储视图\n",
    "\n",
    "张量中的值被分配到由`torch.Storage`实例所管理的连续内存块中。  \n",
    "存储区是由数字数组组成的一维数组，即包含给定类型的数字的连续块，例如`float32`或`int16`。\n",
    "\n",
    "新的设计将迁移向无存储类型(`UntypedStorage`)，意味着底层存储将不再于特定类型直接关联，从而允许更灵活的数据操作。"
   ]
  },
  {
   "cell_type": "code",
   "execution_count": 31,
   "id": "649fba10-df72-4a2e-9870-93aeafad914b",
   "metadata": {},
   "outputs": [],
   "source": [
    "t = torch.tensor([1.0, 2.0, 3.0])"
   ]
  },
  {
   "cell_type": "code",
   "execution_count": 32,
   "id": "20041814-2734-415c-b511-eaaff92f0bbf",
   "metadata": {},
   "outputs": [
    {
     "data": {
      "text/plain": [
       "(tensor([1., 2., 3.]), torch.float32)"
      ]
     },
     "execution_count": 32,
     "metadata": {},
     "output_type": "execute_result"
    }
   ],
   "source": [
    "t, t.dtype"
   ]
  },
  {
   "cell_type": "code",
   "execution_count": 33,
   "id": "6b0e6f52-b971-4eb2-b603-7aba2a8a990c",
   "metadata": {},
   "outputs": [
    {
     "data": {
      "text/plain": [
       "True"
      ]
     },
     "execution_count": 33,
     "metadata": {},
     "output_type": "execute_result"
    }
   ],
   "source": [
    "# isinstance(t.storage(), torch.Storage) # 会有警告storage方法已经不推荐\n",
    "isinstance(t.untyped_storage(), torch.UntypedStorage)"
   ]
  },
  {
   "cell_type": "code",
   "execution_count": 34,
   "id": "4e66845b-5565-4e36-8647-78f1b3c84fa6",
   "metadata": {},
   "outputs": [
    {
     "data": {
      "text/plain": [
       " 0\n",
       " 0\n",
       " 128\n",
       " 63\n",
       " 0\n",
       " 0\n",
       " 0\n",
       " 64\n",
       " 0\n",
       " 0\n",
       " 64\n",
       " 64\n",
       "[torch.storage.UntypedStorage(device=cpu) of size 12]"
      ]
     },
     "execution_count": 34,
     "metadata": {},
     "output_type": "execute_result"
    }
   ],
   "source": [
    "t.untyped_storage()"
   ]
  },
  {
   "cell_type": "code",
   "execution_count": 35,
   "id": "4ffeaf87-ded7-4f64-98c2-5ebe8b5235d3",
   "metadata": {},
   "outputs": [],
   "source": [
    "t = t.to(torch.float64)"
   ]
  },
  {
   "cell_type": "code",
   "execution_count": 36,
   "id": "edfdf83d-676a-429c-b391-3b7eddc7fd66",
   "metadata": {},
   "outputs": [
    {
     "data": {
      "text/plain": [
       "tensor([1., 2., 3.], dtype=torch.float64)"
      ]
     },
     "execution_count": 36,
     "metadata": {},
     "output_type": "execute_result"
    }
   ],
   "source": [
    "t"
   ]
  },
  {
   "cell_type": "code",
   "execution_count": 37,
   "id": "eddc1cd2-883b-4d87-9d32-5bfd5a85e0bf",
   "metadata": {},
   "outputs": [
    {
     "data": {
      "text/plain": [
       " 0\n",
       " 0\n",
       " 0\n",
       " 0\n",
       " 0\n",
       " 0\n",
       " 240\n",
       " 63\n",
       " 0\n",
       " 0\n",
       " 0\n",
       " 0\n",
       " 0\n",
       " 0\n",
       " 0\n",
       " 64\n",
       " 0\n",
       " 0\n",
       " 0\n",
       " 0\n",
       " 0\n",
       " 0\n",
       " 8\n",
       " 64\n",
       "[torch.storage.UntypedStorage(device=cpu) of size 24]"
      ]
     },
     "execution_count": 37,
     "metadata": {},
     "output_type": "execute_result"
    }
   ],
   "source": [
    "t.untyped_storage()"
   ]
  },
  {
   "cell_type": "code",
   "execution_count": null,
   "id": "bf514250-69e2-4a6e-ba50-5e42f44d6fc0",
   "metadata": {},
   "outputs": [],
   "source": []
  }
 ],
 "metadata": {
  "kernelspec": {
   "display_name": "Python 3 (ipykernel)",
   "language": "python",
   "name": "python3"
  },
  "language_info": {
   "codemirror_mode": {
    "name": "ipython",
    "version": 3
   },
   "file_extension": ".py",
   "mimetype": "text/x-python",
   "name": "python",
   "nbconvert_exporter": "python",
   "pygments_lexer": "ipython3",
   "version": "3.11.5"
  }
 },
 "nbformat": 4,
 "nbformat_minor": 5
}
