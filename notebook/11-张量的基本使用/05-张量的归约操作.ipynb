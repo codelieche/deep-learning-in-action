{
 "cells": [
  {
   "cell_type": "markdown",
   "id": "13496618-b3db-4f6b-a062-6fccec8ba053",
   "metadata": {},
   "source": [
    "## 5. 张量的归约操作\n",
    "\n",
    "在PyTorch中，Tensor的归约操作是指：对Tensor(张量)的一个或多个维度进行聚合，从而得到一个具有较小维度的新张量。"
   ]
  },
  {
   "cell_type": "code",
   "execution_count": 1,
   "id": "ab3037c8-18d1-4a01-ae31-00c54598aae2",
   "metadata": {},
   "outputs": [],
   "source": [
    "import torch"
   ]
  },
  {
   "cell_type": "code",
   "execution_count": 2,
   "id": "4a8def6d-6781-46e8-b921-9e845882c749",
   "metadata": {},
   "outputs": [],
   "source": [
    "t1 = torch.tensor([\n",
    "    [1.0, 2.0],\n",
    "    [3.0, 4.0]\n",
    "])\n",
    "\n",
    "t2 = torch.tensor([\n",
    "    [1.0, 2.0, 3.0],\n",
    "    [4.0, 5.0, 6.0]\n",
    "])"
   ]
  },
  {
   "cell_type": "code",
   "execution_count": 3,
   "id": "feb44fde-607d-443f-9878-49fa34a02eb5",
   "metadata": {},
   "outputs": [
    {
     "data": {
      "text/plain": [
       "(tensor([[1., 2.],\n",
       "         [3., 4.]]),\n",
       " torch.Size([2, 2]))"
      ]
     },
     "execution_count": 3,
     "metadata": {},
     "output_type": "execute_result"
    }
   ],
   "source": [
    "t1, t1.shape"
   ]
  },
  {
   "cell_type": "code",
   "execution_count": 4,
   "id": "7a96ddf8-9fd2-4d75-8262-b2838c048bc7",
   "metadata": {},
   "outputs": [
    {
     "data": {
      "text/plain": [
       "(tensor([[1., 2., 3.],\n",
       "         [4., 5., 6.]]),\n",
       " torch.Size([2, 3]))"
      ]
     },
     "execution_count": 4,
     "metadata": {},
     "output_type": "execute_result"
    }
   ],
   "source": [
    "t2, t2.shape"
   ]
  },
  {
   "cell_type": "markdown",
   "id": "bf385178-2fc7-42f6-99c9-25256d5ec4b6",
   "metadata": {},
   "source": [
    "### 5.1 torch.sum()\n",
    "\n",
    "计算张量中所有元素的和，可以指定一个或多个维度来计算部分和。"
   ]
  },
  {
   "cell_type": "code",
   "execution_count": 5,
   "id": "7fdf0c3f-e6e7-4517-99d1-2b4192375488",
   "metadata": {},
   "outputs": [
    {
     "data": {
      "text/plain": [
       "tensor(21.)"
      ]
     },
     "execution_count": 5,
     "metadata": {},
     "output_type": "execute_result"
    }
   ],
   "source": [
    "torch.sum(t2)"
   ]
  },
  {
   "cell_type": "code",
   "execution_count": 6,
   "id": "17ca7314-a02d-4794-bbce-3b791bc4dfeb",
   "metadata": {},
   "outputs": [
    {
     "data": {
      "text/plain": [
       "(tensor([1., 4.]), tensor([2., 5.]), tensor([3., 6.]))"
      ]
     },
     "execution_count": 6,
     "metadata": {},
     "output_type": "execute_result"
    }
   ],
   "source": [
    "# dim=0,那么就是取出第0维行中的所有数据\n",
    "t2[:, 0], t2[:, 1], t2[:, 2]"
   ]
  },
  {
   "cell_type": "code",
   "execution_count": 7,
   "id": "1899d2f3-6dc1-4b53-9897-d47cf3535d3c",
   "metadata": {},
   "outputs": [
    {
     "data": {
      "text/plain": [
       "tensor([5., 7., 9.])"
      ]
     },
     "execution_count": 7,
     "metadata": {},
     "output_type": "execute_result"
    }
   ],
   "source": [
    "torch.sum(t2, dim=0)"
   ]
  },
  {
   "cell_type": "code",
   "execution_count": 8,
   "id": "e28bee4b-226b-4dea-abd5-d8af07d86f14",
   "metadata": {},
   "outputs": [
    {
     "data": {
      "text/plain": [
       "(tensor([1., 2., 3.]), tensor([4., 5., 6.]))"
      ]
     },
     "execution_count": 8,
     "metadata": {},
     "output_type": "execute_result"
    }
   ],
   "source": [
    "# dim=1，那么就是取出第1维，列中的所有数据\n",
    "t2[0,:], t2[1,:]"
   ]
  },
  {
   "cell_type": "code",
   "execution_count": 9,
   "id": "365b7b70-532a-4612-be16-300343cc933c",
   "metadata": {},
   "outputs": [
    {
     "data": {
      "text/plain": [
       "tensor([ 6., 15.])"
      ]
     },
     "execution_count": 9,
     "metadata": {},
     "output_type": "execute_result"
    }
   ],
   "source": [
    "torch.sum(t2, dim=1)"
   ]
  },
  {
   "cell_type": "markdown",
   "id": "a4c95ed2-3ba9-4739-8e48-b394dc609e67",
   "metadata": {},
   "source": [
    "### 5.2 torch.mean()\n",
    "\n",
    "计算张量中所有元素的平均值，可以通过`dim`指定维度"
   ]
  },
  {
   "cell_type": "code",
   "execution_count": 10,
   "id": "e7c7e9a8-13f3-4ec0-ab37-a25acd7d3e1f",
   "metadata": {},
   "outputs": [
    {
     "data": {
      "text/plain": [
       "tensor([[1., 2.],\n",
       "        [3., 4.]])"
      ]
     },
     "execution_count": 10,
     "metadata": {},
     "output_type": "execute_result"
    }
   ],
   "source": [
    "t1"
   ]
  },
  {
   "cell_type": "code",
   "execution_count": 11,
   "id": "2fa62ebb-fee5-4a6b-89f4-3f7866dfeec2",
   "metadata": {},
   "outputs": [
    {
     "data": {
      "text/plain": [
       "tensor(2.5000)"
      ]
     },
     "execution_count": 11,
     "metadata": {},
     "output_type": "execute_result"
    }
   ],
   "source": [
    "t1.mean()"
   ]
  },
  {
   "cell_type": "code",
   "execution_count": 12,
   "id": "6090a4a8-6e37-4a22-b8eb-719c5c88aff5",
   "metadata": {},
   "outputs": [
    {
     "data": {
      "text/plain": [
       "tensor([2., 3.])"
      ]
     },
     "execution_count": 12,
     "metadata": {},
     "output_type": "execute_result"
    }
   ],
   "source": [
    "# 沿着第0维的平均值\n",
    "t1.mean(dim=0)"
   ]
  },
  {
   "cell_type": "code",
   "execution_count": 13,
   "id": "4aa4628f-e2c1-4eb5-9cc4-9db1b16c4914",
   "metadata": {},
   "outputs": [
    {
     "data": {
      "text/plain": [
       "tensor([1.5000, 3.5000])"
      ]
     },
     "execution_count": 13,
     "metadata": {},
     "output_type": "execute_result"
    }
   ],
   "source": [
    "# 沿着第1维的平均值\n",
    "t1.mean(dim=1)"
   ]
  },
  {
   "cell_type": "code",
   "execution_count": 14,
   "id": "78ab4bab-15a7-446e-89df-3fb3dd21f531",
   "metadata": {},
   "outputs": [
    {
     "data": {
      "text/plain": [
       "(tensor([1., 2.]), tensor([3., 4.]))"
      ]
     },
     "execution_count": 14,
     "metadata": {},
     "output_type": "execute_result"
    }
   ],
   "source": [
    "# dim=1全部取出\n",
    "t1[0, :], t1[1,:]"
   ]
  },
  {
   "cell_type": "code",
   "execution_count": 15,
   "id": "0d497f20-0bef-4c2d-ade8-0c3d012482af",
   "metadata": {},
   "outputs": [
    {
     "data": {
      "text/plain": [
       "tensor([1.5000, 3.5000])"
      ]
     },
     "execution_count": 15,
     "metadata": {},
     "output_type": "execute_result"
    }
   ],
   "source": [
    "t1.sum(dim=1) / t1.shape[1]"
   ]
  },
  {
   "cell_type": "markdown",
   "id": "a6041b80-4f1e-4c60-9242-5065b1488315",
   "metadata": {},
   "source": [
    "### 5.3 torch.min()和torch.max()\n",
    "\n",
    "计算张量的最小值和最大值，传入dim的时候，这2个函数返回2个值，最小/最大值和它们的位置(索引)。"
   ]
  },
  {
   "cell_type": "code",
   "execution_count": 16,
   "id": "649f33c1-8c79-48ad-a470-aa2bd3f68f84",
   "metadata": {},
   "outputs": [
    {
     "data": {
      "text/plain": [
       "tensor([[1., 2., 3.],\n",
       "        [4., 5., 6.]])"
      ]
     },
     "execution_count": 16,
     "metadata": {},
     "output_type": "execute_result"
    }
   ],
   "source": [
    "t2"
   ]
  },
  {
   "cell_type": "code",
   "execution_count": 17,
   "id": "dd005270-7b4b-44c3-91ca-6778551d69a3",
   "metadata": {},
   "outputs": [
    {
     "data": {
      "text/plain": [
       "(tensor(1.), tensor(6.))"
      ]
     },
     "execution_count": 17,
     "metadata": {},
     "output_type": "execute_result"
    }
   ],
   "source": [
    "t2.min(), t2.max()"
   ]
  },
  {
   "cell_type": "code",
   "execution_count": 18,
   "id": "6542fafc-c5ce-4b94-9346-d704ef90a1ec",
   "metadata": {},
   "outputs": [
    {
     "data": {
      "text/plain": [
       "tensor(6.)"
      ]
     },
     "execution_count": 18,
     "metadata": {},
     "output_type": "execute_result"
    }
   ],
   "source": [
    "torch.max(t2)"
   ]
  },
  {
   "cell_type": "code",
   "execution_count": 19,
   "id": "60a4dc07-4266-44f0-b049-900169e1ff4b",
   "metadata": {},
   "outputs": [
    {
     "data": {
      "text/plain": [
       "torch.return_types.min(\n",
       "values=tensor([1., 2., 3.]),\n",
       "indices=tensor([0, 0, 0]))"
      ]
     },
     "execution_count": 19,
     "metadata": {},
     "output_type": "execute_result"
    }
   ],
   "source": [
    "# 第0维的最小\n",
    "t2.min(dim=0)"
   ]
  },
  {
   "cell_type": "code",
   "execution_count": 20,
   "id": "b8ac47ac-3831-4e81-8cbe-abbeebdb5325",
   "metadata": {},
   "outputs": [
    {
     "data": {
      "text/plain": [
       "(tensor([4., 5., 6.]), tensor([1, 1, 1]))"
      ]
     },
     "execution_count": 20,
     "metadata": {},
     "output_type": "execute_result"
    }
   ],
   "source": [
    "# 第0维的最大值\n",
    "value, index = t2.max(dim=0)\n",
    "value, index"
   ]
  },
  {
   "cell_type": "code",
   "execution_count": 21,
   "id": "56695b46-70f6-4840-a03d-0ba6b8835f73",
   "metadata": {},
   "outputs": [
    {
     "data": {
      "text/plain": [
       "torch.return_types.max(\n",
       "values=tensor([3., 6.]),\n",
       "indices=tensor([2, 2]))"
      ]
     },
     "execution_count": 21,
     "metadata": {},
     "output_type": "execute_result"
    }
   ],
   "source": [
    "# 第1维的最大值\n",
    "t2.max(dim=1)"
   ]
  },
  {
   "cell_type": "markdown",
   "id": "47571feb-4d8e-40c4-80b2-1821ac03ebd7",
   "metadata": {},
   "source": [
    "### 5.4 torch.std()和torch.var()\n",
    "\n",
    "计算张量的标准差和方差"
   ]
  },
  {
   "cell_type": "code",
   "execution_count": 22,
   "id": "410d9349-4ac3-47a2-810c-cc3ebe18a48b",
   "metadata": {},
   "outputs": [
    {
     "data": {
      "text/plain": [
       "tensor([[1., 2., 3.],\n",
       "        [4., 5., 6.]])"
      ]
     },
     "execution_count": 22,
     "metadata": {},
     "output_type": "execute_result"
    }
   ],
   "source": [
    "t2"
   ]
  },
  {
   "cell_type": "code",
   "execution_count": 23,
   "id": "07f4c62d-436f-40a0-8ad8-367f7393c04e",
   "metadata": {},
   "outputs": [
    {
     "data": {
      "text/plain": [
       "(tensor(1.8708), tensor(3.5000))"
      ]
     },
     "execution_count": 23,
     "metadata": {},
     "output_type": "execute_result"
    }
   ],
   "source": [
    "t2.std(), t2.var()"
   ]
  },
  {
   "cell_type": "code",
   "execution_count": 24,
   "id": "9c552a40-409c-42e8-906d-c5d8a47a0938",
   "metadata": {},
   "outputs": [
    {
     "data": {
      "text/plain": [
       "(tensor([2.1213, 2.1213, 2.1213]), tensor([4.5000, 4.5000, 4.5000]))"
      ]
     },
     "execution_count": 24,
     "metadata": {},
     "output_type": "execute_result"
    }
   ],
   "source": [
    "t2.std(dim=0), t2.var(dim=0)"
   ]
  },
  {
   "cell_type": "code",
   "execution_count": 25,
   "id": "8119b1bd-6c84-46f9-8712-162d93ee0be1",
   "metadata": {},
   "outputs": [
    {
     "data": {
      "text/plain": [
       "(tensor([1., 1.]), tensor([1., 1.]))"
      ]
     },
     "execution_count": 25,
     "metadata": {},
     "output_type": "execute_result"
    }
   ],
   "source": [
    "t2.std(dim=1), t2.var(dim=1)"
   ]
  },
  {
   "cell_type": "markdown",
   "id": "5b32ec11-2859-414c-8d64-f95447d287fb",
   "metadata": {},
   "source": [
    "### 5.5 torch.norm()\n",
    "\n",
    "计算张量的范数。可以计算L1、L2范数"
   ]
  },
  {
   "cell_type": "code",
   "execution_count": 26,
   "id": "eda9f8ac-3a9c-4921-b399-48a1d79d6bd8",
   "metadata": {},
   "outputs": [
    {
     "data": {
      "text/plain": [
       "tensor([[1., 2., 3.],\n",
       "        [4., 5., 6.]])"
      ]
     },
     "execution_count": 26,
     "metadata": {},
     "output_type": "execute_result"
    }
   ],
   "source": [
    "t2"
   ]
  },
  {
   "cell_type": "code",
   "execution_count": 27,
   "id": "4da14af5-1f32-4bac-9b02-2d254169f381",
   "metadata": {},
   "outputs": [
    {
     "data": {
      "text/plain": [
       "tensor(9.5394)"
      ]
     },
     "execution_count": 27,
     "metadata": {},
     "output_type": "execute_result"
    }
   ],
   "source": [
    "# 默认是L2范数\n",
    "t2.norm()"
   ]
  },
  {
   "cell_type": "code",
   "execution_count": 28,
   "id": "705eaa15-ba61-476a-aa13-37b4760d470f",
   "metadata": {},
   "outputs": [
    {
     "data": {
      "text/plain": [
       "tensor(21.)"
      ]
     },
     "execution_count": 28,
     "metadata": {},
     "output_type": "execute_result"
    }
   ],
   "source": [
    "# 计算L1范数（绝对值和）\n",
    "t2.norm(p=1)"
   ]
  },
  {
   "cell_type": "code",
   "execution_count": 29,
   "id": "79eb4422-da35-4b10-b81e-bc410b54b6c5",
   "metadata": {},
   "outputs": [
    {
     "data": {
      "text/plain": [
       "tensor(9.5394)"
      ]
     },
     "execution_count": 29,
     "metadata": {},
     "output_type": "execute_result"
    }
   ],
   "source": [
    "# 计算L2范数（欧几里得范数）\n",
    "t2.norm(p=2)"
   ]
  },
  {
   "cell_type": "markdown",
   "id": "4421d795-157a-47e0-a994-6a2193c4f4bd",
   "metadata": {},
   "source": [
    "### 5.6 torch.prod()\n",
    "\n",
    "计算输入张量中所有元素的乘积"
   ]
  },
  {
   "cell_type": "code",
   "execution_count": 30,
   "id": "55072788-08ee-4db1-8f20-e1ef0aeeb80e",
   "metadata": {},
   "outputs": [
    {
     "data": {
      "text/plain": [
       "tensor([[1., 2., 3.],\n",
       "        [4., 5., 6.]])"
      ]
     },
     "execution_count": 30,
     "metadata": {},
     "output_type": "execute_result"
    }
   ],
   "source": [
    "t2"
   ]
  },
  {
   "cell_type": "code",
   "execution_count": 31,
   "id": "70c83529-7645-4b65-a4ca-114263c33fb9",
   "metadata": {},
   "outputs": [
    {
     "data": {
      "text/plain": [
       "tensor(720.)"
      ]
     },
     "execution_count": 31,
     "metadata": {},
     "output_type": "execute_result"
    }
   ],
   "source": [
    "torch.prod(t2)"
   ]
  },
  {
   "cell_type": "code",
   "execution_count": 32,
   "id": "252cfb61-0af0-4972-91c2-1501f9ad6874",
   "metadata": {},
   "outputs": [
    {
     "data": {
      "text/plain": [
       "tensor([ 4., 10., 18.])"
      ]
     },
     "execution_count": 32,
     "metadata": {},
     "output_type": "execute_result"
    }
   ],
   "source": [
    "torch.prod(t2, dim=0)"
   ]
  },
  {
   "cell_type": "code",
   "execution_count": 33,
   "id": "c261437a-d91d-4008-a3bb-70b03a31e733",
   "metadata": {},
   "outputs": [
    {
     "data": {
      "text/plain": [
       "tensor([  6., 120.])"
      ]
     },
     "execution_count": 33,
     "metadata": {},
     "output_type": "execute_result"
    }
   ],
   "source": [
    "torch.prod(t2, dim=1)"
   ]
  },
  {
   "cell_type": "markdown",
   "id": "32dabffb-f347-48ca-9ea6-1f33e127de1a",
   "metadata": {},
   "source": [
    "### 5.7 torch.all()和torch.any()\n",
    "分别检查张量中是否所有元素都为True（非零），或者是否有一个元素为True(非零)。    \n",
    "这些操作常用于布尔张量。"
   ]
  },
  {
   "cell_type": "code",
   "execution_count": 34,
   "id": "997ee55b-1ced-44ed-9f8a-05efacb80675",
   "metadata": {},
   "outputs": [],
   "source": [
    "t3 = torch.tensor([\n",
    "    [True, True, False],\n",
    "    [True, True, True],\n",
    "    [False, False, False]\n",
    "])"
   ]
  },
  {
   "cell_type": "code",
   "execution_count": 35,
   "id": "f5d30cca-4faf-4c84-93cb-905cf38fbc66",
   "metadata": {},
   "outputs": [
    {
     "data": {
      "text/plain": [
       "(torch.Size([3, 3]), torch.bool)"
      ]
     },
     "execution_count": 35,
     "metadata": {},
     "output_type": "execute_result"
    }
   ],
   "source": [
    "t3.shape, t3.dtype"
   ]
  },
  {
   "cell_type": "code",
   "execution_count": 36,
   "id": "a85e83ad-6b4e-418e-a24d-bbc26f2909dc",
   "metadata": {},
   "outputs": [
    {
     "data": {
      "text/plain": [
       "tensor(False)"
      ]
     },
     "execution_count": 36,
     "metadata": {},
     "output_type": "execute_result"
    }
   ],
   "source": [
    "torch.all(t3)"
   ]
  },
  {
   "cell_type": "code",
   "execution_count": 37,
   "id": "b1f85f86-d62d-4961-b28a-622b0be91df1",
   "metadata": {},
   "outputs": [
    {
     "data": {
      "text/plain": [
       "tensor(True)"
      ]
     },
     "execution_count": 37,
     "metadata": {},
     "output_type": "execute_result"
    }
   ],
   "source": [
    "torch.any(t3)"
   ]
  },
  {
   "cell_type": "code",
   "execution_count": 38,
   "id": "c9e9b502-9cae-43c6-800b-b7a76107a395",
   "metadata": {},
   "outputs": [
    {
     "data": {
      "text/plain": [
       "(tensor([False,  True, False]), tensor([False, False, False]))"
      ]
     },
     "execution_count": 38,
     "metadata": {},
     "output_type": "execute_result"
    }
   ],
   "source": [
    "torch.all(t3, dim=1), torch.all(t3, dim=0)"
   ]
  },
  {
   "cell_type": "code",
   "execution_count": 39,
   "id": "050039b0-0058-4142-8bb2-4bae239c1ef0",
   "metadata": {},
   "outputs": [
    {
     "data": {
      "text/plain": [
       "(tensor([ True,  True, False]), tensor([True, True, True]))"
      ]
     },
     "execution_count": 39,
     "metadata": {},
     "output_type": "execute_result"
    }
   ],
   "source": [
    "torch.any(t3, dim=1), torch.any(t3, dim=0)"
   ]
  },
  {
   "cell_type": "code",
   "execution_count": null,
   "id": "55bb0e0a-3384-4f78-82fa-3985d86e3aac",
   "metadata": {},
   "outputs": [],
   "source": []
  }
 ],
 "metadata": {
  "kernelspec": {
   "display_name": "Python 3 (ipykernel)",
   "language": "python",
   "name": "python3"
  },
  "language_info": {
   "codemirror_mode": {
    "name": "ipython",
    "version": 3
   },
   "file_extension": ".py",
   "mimetype": "text/x-python",
   "name": "python",
   "nbconvert_exporter": "python",
   "pygments_lexer": "ipython3",
   "version": "3.11.5"
  }
 },
 "nbformat": 4,
 "nbformat_minor": 5
}
